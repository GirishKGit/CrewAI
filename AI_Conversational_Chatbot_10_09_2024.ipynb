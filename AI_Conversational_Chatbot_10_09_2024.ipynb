{
  "cells": [
    {
      "cell_type": "markdown",
      "metadata": {
        "id": "view-in-github",
        "colab_type": "text"
      },
      "source": [
        "<a href=\"https://colab.research.google.com/github/GirishKGit/CrewAI/blob/main/AI_Conversational_Chatbot_10_09_2024.ipynb\" target=\"_parent\"><img src=\"https://colab.research.google.com/assets/colab-badge.svg\" alt=\"Open In Colab\"/></a>"
      ]
    },
    {
      "cell_type": "code",
      "execution_count": 73,
      "metadata": {
        "id": "4vtvbamlyndo"
      },
      "outputs": [],
      "source": [
        "# This Python 3 environment comes with many helpful analytics libraries installed\n",
        "# It is defined by the kaggle/python Docker image: https://github.com/kaggle/docker-python\n",
        "# For example, here's several helpful packages to load\n",
        "\n",
        "import numpy as np # linear algebra\n",
        "import pandas as pd # data processing, CSV file I/O (e.g. pd.read_csv)\n",
        "\n",
        "# Input data files are available in the read-only \"../input/\" directory\n",
        "# For example, running this (by clicking run or pressing Shift+Enter) will list all files under the input directory\n",
        "\n",
        "import os\n",
        "\n",
        "\n",
        "# You can write up to 20GB to the current directory (/kaggle/working/) that gets preserved as output when you create a version using \"Save & Run All\"\n",
        "# You can also write temporary files to /kaggle/temp/, but they won't be saved outside of the current session"
      ]
    },
    {
      "cell_type": "code",
      "execution_count": 74,
      "metadata": {
        "colab": {
          "base_uri": "https://localhost:8080/"
        },
        "id": "UTks-plsyndq",
        "outputId": "f7190961-64a2-467f-a144-996795ae67d1"
      },
      "outputs": [
        {
          "output_type": "stream",
          "name": "stdout",
          "text": [
            "Requirement already satisfied: datasets in /usr/local/lib/python3.10/dist-packages (2.21.0)\n",
            "Requirement already satisfied: filelock in /usr/local/lib/python3.10/dist-packages (from datasets) (3.15.4)\n",
            "Requirement already satisfied: numpy>=1.17 in /usr/local/lib/python3.10/dist-packages (from datasets) (1.26.4)\n",
            "Requirement already satisfied: pyarrow>=15.0.0 in /usr/local/lib/python3.10/dist-packages (from datasets) (17.0.0)\n",
            "Requirement already satisfied: dill<0.3.9,>=0.3.0 in /usr/local/lib/python3.10/dist-packages (from datasets) (0.3.8)\n",
            "Requirement already satisfied: pandas in /usr/local/lib/python3.10/dist-packages (from datasets) (2.1.4)\n",
            "Requirement already satisfied: requests>=2.32.2 in /usr/local/lib/python3.10/dist-packages (from datasets) (2.32.3)\n",
            "Requirement already satisfied: tqdm>=4.66.3 in /usr/local/lib/python3.10/dist-packages (from datasets) (4.66.5)\n",
            "Requirement already satisfied: xxhash in /usr/local/lib/python3.10/dist-packages (from datasets) (3.5.0)\n",
            "Requirement already satisfied: multiprocess in /usr/local/lib/python3.10/dist-packages (from datasets) (0.70.16)\n",
            "Requirement already satisfied: fsspec<=2024.6.1,>=2023.1.0 in /usr/local/lib/python3.10/dist-packages (from fsspec[http]<=2024.6.1,>=2023.1.0->datasets) (2024.6.1)\n",
            "Requirement already satisfied: aiohttp in /usr/local/lib/python3.10/dist-packages (from datasets) (3.10.5)\n",
            "Requirement already satisfied: huggingface-hub>=0.21.2 in /usr/local/lib/python3.10/dist-packages (from datasets) (0.24.6)\n",
            "Requirement already satisfied: packaging in /usr/local/lib/python3.10/dist-packages (from datasets) (24.1)\n",
            "Requirement already satisfied: pyyaml>=5.1 in /usr/local/lib/python3.10/dist-packages (from datasets) (6.0.2)\n",
            "Requirement already satisfied: aiohappyeyeballs>=2.3.0 in /usr/local/lib/python3.10/dist-packages (from aiohttp->datasets) (2.4.0)\n",
            "Requirement already satisfied: aiosignal>=1.1.2 in /usr/local/lib/python3.10/dist-packages (from aiohttp->datasets) (1.3.1)\n",
            "Requirement already satisfied: attrs>=17.3.0 in /usr/local/lib/python3.10/dist-packages (from aiohttp->datasets) (24.2.0)\n",
            "Requirement already satisfied: frozenlist>=1.1.1 in /usr/local/lib/python3.10/dist-packages (from aiohttp->datasets) (1.4.1)\n",
            "Requirement already satisfied: multidict<7.0,>=4.5 in /usr/local/lib/python3.10/dist-packages (from aiohttp->datasets) (6.0.5)\n",
            "Requirement already satisfied: yarl<2.0,>=1.0 in /usr/local/lib/python3.10/dist-packages (from aiohttp->datasets) (1.9.4)\n",
            "Requirement already satisfied: async-timeout<5.0,>=4.0 in /usr/local/lib/python3.10/dist-packages (from aiohttp->datasets) (4.0.3)\n",
            "Requirement already satisfied: typing-extensions>=3.7.4.3 in /usr/local/lib/python3.10/dist-packages (from huggingface-hub>=0.21.2->datasets) (4.12.2)\n",
            "Requirement already satisfied: charset-normalizer<4,>=2 in /usr/local/lib/python3.10/dist-packages (from requests>=2.32.2->datasets) (3.3.2)\n",
            "Requirement already satisfied: idna<4,>=2.5 in /usr/local/lib/python3.10/dist-packages (from requests>=2.32.2->datasets) (3.8)\n",
            "Requirement already satisfied: urllib3<3,>=1.21.1 in /usr/local/lib/python3.10/dist-packages (from requests>=2.32.2->datasets) (2.0.7)\n",
            "Requirement already satisfied: certifi>=2017.4.17 in /usr/local/lib/python3.10/dist-packages (from requests>=2.32.2->datasets) (2024.8.30)\n",
            "Requirement already satisfied: python-dateutil>=2.8.2 in /usr/local/lib/python3.10/dist-packages (from pandas->datasets) (2.8.2)\n",
            "Requirement already satisfied: pytz>=2020.1 in /usr/local/lib/python3.10/dist-packages (from pandas->datasets) (2024.1)\n",
            "Requirement already satisfied: tzdata>=2022.1 in /usr/local/lib/python3.10/dist-packages (from pandas->datasets) (2024.1)\n",
            "Requirement already satisfied: six>=1.5 in /usr/local/lib/python3.10/dist-packages (from python-dateutil>=2.8.2->pandas->datasets) (1.16.0)\n"
          ]
        }
      ],
      "source": [
        "!pip install datasets\n"
      ]
    },
    {
      "cell_type": "code",
      "execution_count": 75,
      "metadata": {
        "colab": {
          "base_uri": "https://localhost:8080/"
        },
        "id": "5J03aXT6mOUy",
        "outputId": "9a6a501c-31dd-461d-fe79-b85e9f2ad346"
      },
      "outputs": [
        {
          "output_type": "stream",
          "name": "stdout",
          "text": [
            "Requirement already satisfied: convokit in /usr/local/lib/python3.10/dist-packages (3.0.0)\n",
            "Requirement already satisfied: matplotlib>=3.0.0 in /usr/local/lib/python3.10/dist-packages (from convokit) (3.7.1)\n",
            "Requirement already satisfied: pandas>=0.23.4 in /usr/local/lib/python3.10/dist-packages (from convokit) (2.1.4)\n",
            "Requirement already satisfied: msgpack-numpy>=0.4.3.2 in /usr/local/lib/python3.10/dist-packages (from convokit) (0.4.8)\n",
            "Requirement already satisfied: spacy>=2.3.5 in /usr/local/lib/python3.10/dist-packages (from convokit) (3.7.6)\n",
            "Requirement already satisfied: scipy>=1.1.0 in /usr/local/lib/python3.10/dist-packages (from convokit) (1.13.1)\n",
            "Requirement already satisfied: scikit-learn>=0.20.0 in /usr/local/lib/python3.10/dist-packages (from convokit) (1.3.2)\n",
            "Requirement already satisfied: nltk>=3.4 in /usr/local/lib/python3.10/dist-packages (from convokit) (3.8.1)\n",
            "Requirement already satisfied: dill>=0.2.9 in /usr/local/lib/python3.10/dist-packages (from convokit) (0.3.8)\n",
            "Requirement already satisfied: joblib>=0.13.2 in /usr/local/lib/python3.10/dist-packages (from convokit) (1.4.2)\n",
            "Requirement already satisfied: clean-text>=0.6.0 in /usr/local/lib/python3.10/dist-packages (from convokit) (0.6.0)\n",
            "Requirement already satisfied: unidecode>=1.1.1 in /usr/local/lib/python3.10/dist-packages (from convokit) (1.3.8)\n",
            "Requirement already satisfied: tqdm>=4.64.0 in /usr/local/lib/python3.10/dist-packages (from convokit) (4.66.5)\n",
            "Requirement already satisfied: pymongo>=4.0 in /usr/local/lib/python3.10/dist-packages (from convokit) (4.8.0)\n",
            "Requirement already satisfied: pyyaml>=5.4.1 in /usr/local/lib/python3.10/dist-packages (from convokit) (6.0.2)\n",
            "Requirement already satisfied: dnspython>=1.16.0 in /usr/local/lib/python3.10/dist-packages (from convokit) (2.6.1)\n",
            "Requirement already satisfied: emoji<2.0.0,>=1.0.0 in /usr/local/lib/python3.10/dist-packages (from clean-text>=0.6.0->convokit) (1.7.0)\n",
            "Requirement already satisfied: ftfy<7.0,>=6.0 in /usr/local/lib/python3.10/dist-packages (from clean-text>=0.6.0->convokit) (6.2.3)\n",
            "Requirement already satisfied: contourpy>=1.0.1 in /usr/local/lib/python3.10/dist-packages (from matplotlib>=3.0.0->convokit) (1.3.0)\n",
            "Requirement already satisfied: cycler>=0.10 in /usr/local/lib/python3.10/dist-packages (from matplotlib>=3.0.0->convokit) (0.12.1)\n",
            "Requirement already satisfied: fonttools>=4.22.0 in /usr/local/lib/python3.10/dist-packages (from matplotlib>=3.0.0->convokit) (4.53.1)\n",
            "Requirement already satisfied: kiwisolver>=1.0.1 in /usr/local/lib/python3.10/dist-packages (from matplotlib>=3.0.0->convokit) (1.4.5)\n",
            "Requirement already satisfied: numpy>=1.20 in /usr/local/lib/python3.10/dist-packages (from matplotlib>=3.0.0->convokit) (1.26.4)\n",
            "Requirement already satisfied: packaging>=20.0 in /usr/local/lib/python3.10/dist-packages (from matplotlib>=3.0.0->convokit) (24.1)\n",
            "Requirement already satisfied: pillow>=6.2.0 in /usr/local/lib/python3.10/dist-packages (from matplotlib>=3.0.0->convokit) (9.4.0)\n",
            "Requirement already satisfied: pyparsing>=2.3.1 in /usr/local/lib/python3.10/dist-packages (from matplotlib>=3.0.0->convokit) (3.1.4)\n",
            "Requirement already satisfied: python-dateutil>=2.7 in /usr/local/lib/python3.10/dist-packages (from matplotlib>=3.0.0->convokit) (2.8.2)\n",
            "Requirement already satisfied: msgpack>=0.5.2 in /usr/local/lib/python3.10/dist-packages (from msgpack-numpy>=0.4.3.2->convokit) (1.0.8)\n",
            "Requirement already satisfied: click in /usr/local/lib/python3.10/dist-packages (from nltk>=3.4->convokit) (8.1.7)\n",
            "Requirement already satisfied: regex>=2021.8.3 in /usr/local/lib/python3.10/dist-packages (from nltk>=3.4->convokit) (2024.5.15)\n",
            "Requirement already satisfied: pytz>=2020.1 in /usr/local/lib/python3.10/dist-packages (from pandas>=0.23.4->convokit) (2024.1)\n",
            "Requirement already satisfied: tzdata>=2022.1 in /usr/local/lib/python3.10/dist-packages (from pandas>=0.23.4->convokit) (2024.1)\n",
            "Requirement already satisfied: threadpoolctl>=2.0.0 in /usr/local/lib/python3.10/dist-packages (from scikit-learn>=0.20.0->convokit) (3.5.0)\n",
            "Requirement already satisfied: spacy-legacy<3.1.0,>=3.0.11 in /usr/local/lib/python3.10/dist-packages (from spacy>=2.3.5->convokit) (3.0.12)\n",
            "Requirement already satisfied: spacy-loggers<2.0.0,>=1.0.0 in /usr/local/lib/python3.10/dist-packages (from spacy>=2.3.5->convokit) (1.0.5)\n",
            "Requirement already satisfied: murmurhash<1.1.0,>=0.28.0 in /usr/local/lib/python3.10/dist-packages (from spacy>=2.3.5->convokit) (1.0.10)\n",
            "Requirement already satisfied: cymem<2.1.0,>=2.0.2 in /usr/local/lib/python3.10/dist-packages (from spacy>=2.3.5->convokit) (2.0.8)\n",
            "Requirement already satisfied: preshed<3.1.0,>=3.0.2 in /usr/local/lib/python3.10/dist-packages (from spacy>=2.3.5->convokit) (3.0.9)\n",
            "Requirement already satisfied: thinc<8.3.0,>=8.2.2 in /usr/local/lib/python3.10/dist-packages (from spacy>=2.3.5->convokit) (8.2.5)\n",
            "Requirement already satisfied: wasabi<1.2.0,>=0.9.1 in /usr/local/lib/python3.10/dist-packages (from spacy>=2.3.5->convokit) (1.1.3)\n",
            "Requirement already satisfied: srsly<3.0.0,>=2.4.3 in /usr/local/lib/python3.10/dist-packages (from spacy>=2.3.5->convokit) (2.4.8)\n",
            "Requirement already satisfied: catalogue<2.1.0,>=2.0.6 in /usr/local/lib/python3.10/dist-packages (from spacy>=2.3.5->convokit) (2.0.10)\n",
            "Requirement already satisfied: weasel<0.5.0,>=0.1.0 in /usr/local/lib/python3.10/dist-packages (from spacy>=2.3.5->convokit) (0.4.1)\n",
            "Requirement already satisfied: typer<1.0.0,>=0.3.0 in /usr/local/lib/python3.10/dist-packages (from spacy>=2.3.5->convokit) (0.12.5)\n",
            "Requirement already satisfied: requests<3.0.0,>=2.13.0 in /usr/local/lib/python3.10/dist-packages (from spacy>=2.3.5->convokit) (2.32.3)\n",
            "Requirement already satisfied: pydantic!=1.8,!=1.8.1,<3.0.0,>=1.7.4 in /usr/local/lib/python3.10/dist-packages (from spacy>=2.3.5->convokit) (2.8.2)\n",
            "Requirement already satisfied: jinja2 in /usr/local/lib/python3.10/dist-packages (from spacy>=2.3.5->convokit) (3.1.4)\n",
            "Requirement already satisfied: setuptools in /usr/local/lib/python3.10/dist-packages (from spacy>=2.3.5->convokit) (71.0.4)\n",
            "Requirement already satisfied: langcodes<4.0.0,>=3.2.0 in /usr/local/lib/python3.10/dist-packages (from spacy>=2.3.5->convokit) (3.4.0)\n",
            "Requirement already satisfied: wcwidth<0.3.0,>=0.2.12 in /usr/local/lib/python3.10/dist-packages (from ftfy<7.0,>=6.0->clean-text>=0.6.0->convokit) (0.2.13)\n",
            "Requirement already satisfied: language-data>=1.2 in /usr/local/lib/python3.10/dist-packages (from langcodes<4.0.0,>=3.2.0->spacy>=2.3.5->convokit) (1.2.0)\n",
            "Requirement already satisfied: annotated-types>=0.4.0 in /usr/local/lib/python3.10/dist-packages (from pydantic!=1.8,!=1.8.1,<3.0.0,>=1.7.4->spacy>=2.3.5->convokit) (0.7.0)\n",
            "Requirement already satisfied: pydantic-core==2.20.1 in /usr/local/lib/python3.10/dist-packages (from pydantic!=1.8,!=1.8.1,<3.0.0,>=1.7.4->spacy>=2.3.5->convokit) (2.20.1)\n",
            "Requirement already satisfied: typing-extensions>=4.6.1 in /usr/local/lib/python3.10/dist-packages (from pydantic!=1.8,!=1.8.1,<3.0.0,>=1.7.4->spacy>=2.3.5->convokit) (4.12.2)\n",
            "Requirement already satisfied: six>=1.5 in /usr/local/lib/python3.10/dist-packages (from python-dateutil>=2.7->matplotlib>=3.0.0->convokit) (1.16.0)\n",
            "Requirement already satisfied: charset-normalizer<4,>=2 in /usr/local/lib/python3.10/dist-packages (from requests<3.0.0,>=2.13.0->spacy>=2.3.5->convokit) (3.3.2)\n",
            "Requirement already satisfied: idna<4,>=2.5 in /usr/local/lib/python3.10/dist-packages (from requests<3.0.0,>=2.13.0->spacy>=2.3.5->convokit) (3.8)\n",
            "Requirement already satisfied: urllib3<3,>=1.21.1 in /usr/local/lib/python3.10/dist-packages (from requests<3.0.0,>=2.13.0->spacy>=2.3.5->convokit) (2.0.7)\n",
            "Requirement already satisfied: certifi>=2017.4.17 in /usr/local/lib/python3.10/dist-packages (from requests<3.0.0,>=2.13.0->spacy>=2.3.5->convokit) (2024.8.30)\n",
            "Requirement already satisfied: blis<0.8.0,>=0.7.8 in /usr/local/lib/python3.10/dist-packages (from thinc<8.3.0,>=8.2.2->spacy>=2.3.5->convokit) (0.7.11)\n",
            "Requirement already satisfied: confection<1.0.0,>=0.0.1 in /usr/local/lib/python3.10/dist-packages (from thinc<8.3.0,>=8.2.2->spacy>=2.3.5->convokit) (0.1.5)\n",
            "Requirement already satisfied: shellingham>=1.3.0 in /usr/local/lib/python3.10/dist-packages (from typer<1.0.0,>=0.3.0->spacy>=2.3.5->convokit) (1.5.4)\n",
            "Requirement already satisfied: rich>=10.11.0 in /usr/local/lib/python3.10/dist-packages (from typer<1.0.0,>=0.3.0->spacy>=2.3.5->convokit) (13.8.0)\n",
            "Requirement already satisfied: cloudpathlib<1.0.0,>=0.7.0 in /usr/local/lib/python3.10/dist-packages (from weasel<0.5.0,>=0.1.0->spacy>=2.3.5->convokit) (0.19.0)\n",
            "Requirement already satisfied: smart-open<8.0.0,>=5.2.1 in /usr/local/lib/python3.10/dist-packages (from weasel<0.5.0,>=0.1.0->spacy>=2.3.5->convokit) (7.0.4)\n",
            "Requirement already satisfied: MarkupSafe>=2.0 in /usr/local/lib/python3.10/dist-packages (from jinja2->spacy>=2.3.5->convokit) (2.1.5)\n",
            "Requirement already satisfied: marisa-trie>=0.7.7 in /usr/local/lib/python3.10/dist-packages (from language-data>=1.2->langcodes<4.0.0,>=3.2.0->spacy>=2.3.5->convokit) (1.2.0)\n",
            "Requirement already satisfied: markdown-it-py>=2.2.0 in /usr/local/lib/python3.10/dist-packages (from rich>=10.11.0->typer<1.0.0,>=0.3.0->spacy>=2.3.5->convokit) (3.0.0)\n",
            "Requirement already satisfied: pygments<3.0.0,>=2.13.0 in /usr/local/lib/python3.10/dist-packages (from rich>=10.11.0->typer<1.0.0,>=0.3.0->spacy>=2.3.5->convokit) (2.16.1)\n",
            "Requirement already satisfied: wrapt in /usr/local/lib/python3.10/dist-packages (from smart-open<8.0.0,>=5.2.1->weasel<0.5.0,>=0.1.0->spacy>=2.3.5->convokit) (1.16.0)\n",
            "Requirement already satisfied: mdurl~=0.1 in /usr/local/lib/python3.10/dist-packages (from markdown-it-py>=2.2.0->rich>=10.11.0->typer<1.0.0,>=0.3.0->spacy>=2.3.5->convokit) (0.1.2)\n"
          ]
        }
      ],
      "source": [
        "!pip install convokit"
      ]
    },
    {
      "cell_type": "code",
      "execution_count": 76,
      "metadata": {
        "colab": {
          "base_uri": "https://localhost:8080/"
        },
        "id": "KthLD7xA1I9o",
        "outputId": "60cea899-290c-48d9-8ed9-fe8bebb5fb6e"
      },
      "outputs": [
        {
          "output_type": "stream",
          "name": "stdout",
          "text": [
            "Corpus already exists in /content/reddit-corpus-small.\n",
            "  utterance_id     speaker_id conversation_id  \\\n",
            "0       9c716m  AutoModerator          9c716m   \n",
            "1       9c8amk         rt2236          9c8amk   \n",
            "2       9ca0yk    Im_Tsuikyit          9ca0yk   \n",
            "3       9cfz10  AutoModerator          9cfz10   \n",
            "4       9crqp2  mamypokopants          9crqp2   \n",
            "\n",
            "                                                text   timestamp  reply_to  \n",
            "0  Talk about your day. Anything goes, but subred...  1535839576  No reply  \n",
            "1  I went to visit a few days ago and Ioved it. I...  1535850650  No reply  \n",
            "2  One time, my family and I had just returned fr...  1535868569  No reply  \n",
            "3  Talk about your day. Anything goes, but subred...  1535925965  No reply  \n",
            "4                                                     1536029129  No reply  \n"
          ]
        }
      ],
      "source": [
        "import os\n",
        "import pandas as pd\n",
        "from convokit import Corpus, download\n",
        "\n",
        "def load_reddit_corpus(data_dir='/content', corpus_name='reddit-corpus-small'):\n",
        "    \"\"\"\n",
        "    Downloads and loads the Reddit corpus. Re-usable function to download and load corpus.\n",
        "    Args:\n",
        "        data_dir (str): Directory where data will be saved.\n",
        "        corpus_name (str): Name of the corpus to download.\n",
        "    Returns:\n",
        "        Corpus: The loaded Convokit corpus.\n",
        "    \"\"\"\n",
        "    corpus_path = os.path.join(data_dir, corpus_name)\n",
        "\n",
        "    # Check if corpus exists, download if not\n",
        "    if not os.path.exists(corpus_path):\n",
        "        print(f\"Downloading {corpus_name} to {data_dir}...\")\n",
        "        corpus_path = download(corpus_name, data_dir=data_dir)\n",
        "    else:\n",
        "        print(f\"Corpus already exists in {corpus_path}.\")\n",
        "\n",
        "    # Load the corpus\n",
        "    corpus = Corpus(filename=corpus_path)\n",
        "    return corpus\n",
        "\n",
        "def extract_utterances(corpus):\n",
        "    \"\"\"\n",
        "    Extracts relevant utterance data from a given corpus and returns it as a pandas DataFrame.\n",
        "    Args:\n",
        "        corpus (Corpus): A Convokit corpus.\n",
        "    Returns:\n",
        "        pd.DataFrame: DataFrame with utterance_id, speaker_id, conversation_id, text, timestamp, reply_to.\n",
        "    \"\"\"\n",
        "    utterances_data = []\n",
        "\n",
        "    # Extract utterances and relevant information\n",
        "    for utterance in corpus.iter_utterances():\n",
        "        utterances_data.append({\n",
        "            'utterance_id': utterance.id,\n",
        "            'speaker_id': utterance.speaker.id,\n",
        "            'conversation_id': utterance.conversation_id,\n",
        "            'text': utterance.text,\n",
        "            'timestamp': utterance.timestamp,\n",
        "            'reply_to': utterance.reply_to if utterance.reply_to else 'No reply'\n",
        "        })\n",
        "\n",
        "    # Convert to a DataFrame\n",
        "    utterances_df = pd.DataFrame(utterances_data)\n",
        "    return utterances_df\n",
        "\n",
        "# Example usage:\n",
        "corpus = load_reddit_corpus()  # Load the Reddit corpus\n",
        "utterances_df = extract_utterances(corpus)  # Extract utterance data\n",
        "print(utterances_df.head())  # Display the first few rows of the DataFrame\n"
      ]
    },
    {
      "cell_type": "code",
      "execution_count": 77,
      "metadata": {
        "colab": {
          "base_uri": "https://localhost:8080/"
        },
        "id": "7dNr4gBQ4GOV",
        "outputId": "cfdca777-b70d-42c2-d2d7-4a63c0f4a3a1"
      },
      "outputs": [
        {
          "output_type": "stream",
          "name": "stdout",
          "text": [
            "       utterance_id     speaker_id conversation_id text   timestamp  reply_to\n",
            "4            9crqp2  mamypokopants          9crqp2       1536029129  No reply\n",
            "10           9drpte    RzrRainMnky          9drpte       1536302928  No reply\n",
            "11           9dsufk   Garlicvideos          9dsufk       1536314439  No reply\n",
            "13           9e35l8        dudez77          9e35l8       1536399829  No reply\n",
            "18           9ehwa7   drewiepoodle          9ehwa7       1536538437  No reply\n",
            "...             ...            ...             ...  ...         ...       ...\n",
            "294120       9jwmgy       TheKleen          9jwmgy       1538227291  No reply\n",
            "294121       9k0bpn          xFaro          9k0bpn       1538253478  No reply\n",
            "294122       9k0usd     farway2000          9k0usd       1538257670  No reply\n",
            "294123       9k1c5a       mattywoo          9k1c5a       1538261785  No reply\n",
            "294124       9k4nb6    Dudehitscar          9k4nb6       1538294820  No reply\n",
            "\n",
            "[4524 rows x 6 columns]\n"
          ]
        }
      ],
      "source": [
        "# Find rows with empty or missing text\n",
        "empty_texts = utterances_df[utterances_df['text'].isnull() | (utterances_df['text'] == '')]\n",
        "print(empty_texts)\n"
      ]
    },
    {
      "cell_type": "code",
      "execution_count": 78,
      "metadata": {
        "id": "s07dEWbz4N2u"
      },
      "outputs": [],
      "source": [
        "utterances_df = utterances_df[utterances_df['text'].notnull() & (utterances_df['text'] != '')]\n"
      ]
    },
    {
      "cell_type": "code",
      "execution_count": 79,
      "metadata": {
        "id": "YX1d2eG34P37"
      },
      "outputs": [],
      "source": [
        "utterances_df['text'].fillna(\"No text provided\", inplace=True)\n",
        "utterances_df['text'].replace('', \"No text provided\", inplace=True)\n"
      ]
    },
    {
      "cell_type": "code",
      "execution_count": 80,
      "metadata": {
        "colab": {
          "base_uri": "https://localhost:8080/"
        },
        "id": "9u7sDuxZ4dMB",
        "outputId": "2568db2e-0de0-43f2-a5cd-25742261cb41"
      },
      "outputs": [
        {
          "output_type": "stream",
          "name": "stdout",
          "text": [
            "Empty DataFrame\n",
            "Columns: [utterance_id, speaker_id, conversation_id, text, timestamp, reply_to]\n",
            "Index: []\n"
          ]
        }
      ],
      "source": [
        "# Check if there are any rows with missing or empty text fields after cleaning\n",
        "empty_texts_after_cleaning = utterances_df[utterances_df['text'].isnull() | (utterances_df['text'] == '')]\n",
        "print(empty_texts_after_cleaning)\n"
      ]
    },
    {
      "cell_type": "code",
      "execution_count": 81,
      "metadata": {
        "colab": {
          "base_uri": "https://localhost:8080/"
        },
        "id": "XrMg6MML4iIV",
        "outputId": "f1514b23-b459-421e-9672-d13ce7b36c81"
      },
      "outputs": [
        {
          "output_type": "stream",
          "name": "stdout",
          "text": [
            "utterance_id       0\n",
            "speaker_id         0\n",
            "conversation_id    0\n",
            "text               0\n",
            "timestamp          0\n",
            "reply_to           0\n",
            "dtype: int64\n"
          ]
        }
      ],
      "source": [
        "# Check for missing values in other important columns\n",
        "print(utterances_df.isnull().sum())\n"
      ]
    },
    {
      "cell_type": "code",
      "execution_count": 82,
      "metadata": {
        "id": "7mwCguwQ4wI_"
      },
      "outputs": [],
      "source": [
        "utterances_df['reply_to'].fillna(\"No reply\", inplace=True)\n"
      ]
    },
    {
      "cell_type": "code",
      "execution_count": 83,
      "metadata": {
        "colab": {
          "base_uri": "https://localhost:8080/",
          "height": 206
        },
        "id": "oLo2Q85I41xP",
        "outputId": "dc1bb212-4c33-4e66-cf75-c3c44fe8509c"
      },
      "outputs": [
        {
          "output_type": "execute_result",
          "data": {
            "text/plain": [
              "  utterance_id     speaker_id conversation_id  \\\n",
              "0       9c716m  AutoModerator          9c716m   \n",
              "1       9c8amk         rt2236          9c8amk   \n",
              "2       9ca0yk    Im_Tsuikyit          9ca0yk   \n",
              "3       9cfz10  AutoModerator          9cfz10   \n",
              "5       9d07z8  AutoModerator          9d07z8   \n",
              "\n",
              "                                                text   timestamp  reply_to  \n",
              "0  Talk about your day. Anything goes, but subred...  1535839576  No reply  \n",
              "1  I went to visit a few days ago and Ioved it. I...  1535850650  No reply  \n",
              "2  One time, my family and I had just returned fr...  1535868569  No reply  \n",
              "3  Talk about your day. Anything goes, but subred...  1535925965  No reply  \n",
              "5  Talk about your day. Anything goes, but subred...  1536098767  No reply  "
            ],
            "text/html": [
              "\n",
              "  <div id=\"df-b35126d5-f76f-4bcc-86df-a674a26ddf81\" class=\"colab-df-container\">\n",
              "    <div>\n",
              "<style scoped>\n",
              "    .dataframe tbody tr th:only-of-type {\n",
              "        vertical-align: middle;\n",
              "    }\n",
              "\n",
              "    .dataframe tbody tr th {\n",
              "        vertical-align: top;\n",
              "    }\n",
              "\n",
              "    .dataframe thead th {\n",
              "        text-align: right;\n",
              "    }\n",
              "</style>\n",
              "<table border=\"1\" class=\"dataframe\">\n",
              "  <thead>\n",
              "    <tr style=\"text-align: right;\">\n",
              "      <th></th>\n",
              "      <th>utterance_id</th>\n",
              "      <th>speaker_id</th>\n",
              "      <th>conversation_id</th>\n",
              "      <th>text</th>\n",
              "      <th>timestamp</th>\n",
              "      <th>reply_to</th>\n",
              "    </tr>\n",
              "  </thead>\n",
              "  <tbody>\n",
              "    <tr>\n",
              "      <th>0</th>\n",
              "      <td>9c716m</td>\n",
              "      <td>AutoModerator</td>\n",
              "      <td>9c716m</td>\n",
              "      <td>Talk about your day. Anything goes, but subred...</td>\n",
              "      <td>1535839576</td>\n",
              "      <td>No reply</td>\n",
              "    </tr>\n",
              "    <tr>\n",
              "      <th>1</th>\n",
              "      <td>9c8amk</td>\n",
              "      <td>rt2236</td>\n",
              "      <td>9c8amk</td>\n",
              "      <td>I went to visit a few days ago and Ioved it. I...</td>\n",
              "      <td>1535850650</td>\n",
              "      <td>No reply</td>\n",
              "    </tr>\n",
              "    <tr>\n",
              "      <th>2</th>\n",
              "      <td>9ca0yk</td>\n",
              "      <td>Im_Tsuikyit</td>\n",
              "      <td>9ca0yk</td>\n",
              "      <td>One time, my family and I had just returned fr...</td>\n",
              "      <td>1535868569</td>\n",
              "      <td>No reply</td>\n",
              "    </tr>\n",
              "    <tr>\n",
              "      <th>3</th>\n",
              "      <td>9cfz10</td>\n",
              "      <td>AutoModerator</td>\n",
              "      <td>9cfz10</td>\n",
              "      <td>Talk about your day. Anything goes, but subred...</td>\n",
              "      <td>1535925965</td>\n",
              "      <td>No reply</td>\n",
              "    </tr>\n",
              "    <tr>\n",
              "      <th>5</th>\n",
              "      <td>9d07z8</td>\n",
              "      <td>AutoModerator</td>\n",
              "      <td>9d07z8</td>\n",
              "      <td>Talk about your day. Anything goes, but subred...</td>\n",
              "      <td>1536098767</td>\n",
              "      <td>No reply</td>\n",
              "    </tr>\n",
              "  </tbody>\n",
              "</table>\n",
              "</div>\n",
              "    <div class=\"colab-df-buttons\">\n",
              "\n",
              "  <div class=\"colab-df-container\">\n",
              "    <button class=\"colab-df-convert\" onclick=\"convertToInteractive('df-b35126d5-f76f-4bcc-86df-a674a26ddf81')\"\n",
              "            title=\"Convert this dataframe to an interactive table.\"\n",
              "            style=\"display:none;\">\n",
              "\n",
              "  <svg xmlns=\"http://www.w3.org/2000/svg\" height=\"24px\" viewBox=\"0 -960 960 960\">\n",
              "    <path d=\"M120-120v-720h720v720H120Zm60-500h600v-160H180v160Zm220 220h160v-160H400v160Zm0 220h160v-160H400v160ZM180-400h160v-160H180v160Zm440 0h160v-160H620v160ZM180-180h160v-160H180v160Zm440 0h160v-160H620v160Z\"/>\n",
              "  </svg>\n",
              "    </button>\n",
              "\n",
              "  <style>\n",
              "    .colab-df-container {\n",
              "      display:flex;\n",
              "      gap: 12px;\n",
              "    }\n",
              "\n",
              "    .colab-df-convert {\n",
              "      background-color: #E8F0FE;\n",
              "      border: none;\n",
              "      border-radius: 50%;\n",
              "      cursor: pointer;\n",
              "      display: none;\n",
              "      fill: #1967D2;\n",
              "      height: 32px;\n",
              "      padding: 0 0 0 0;\n",
              "      width: 32px;\n",
              "    }\n",
              "\n",
              "    .colab-df-convert:hover {\n",
              "      background-color: #E2EBFA;\n",
              "      box-shadow: 0px 1px 2px rgba(60, 64, 67, 0.3), 0px 1px 3px 1px rgba(60, 64, 67, 0.15);\n",
              "      fill: #174EA6;\n",
              "    }\n",
              "\n",
              "    .colab-df-buttons div {\n",
              "      margin-bottom: 4px;\n",
              "    }\n",
              "\n",
              "    [theme=dark] .colab-df-convert {\n",
              "      background-color: #3B4455;\n",
              "      fill: #D2E3FC;\n",
              "    }\n",
              "\n",
              "    [theme=dark] .colab-df-convert:hover {\n",
              "      background-color: #434B5C;\n",
              "      box-shadow: 0px 1px 3px 1px rgba(0, 0, 0, 0.15);\n",
              "      filter: drop-shadow(0px 1px 2px rgba(0, 0, 0, 0.3));\n",
              "      fill: #FFFFFF;\n",
              "    }\n",
              "  </style>\n",
              "\n",
              "    <script>\n",
              "      const buttonEl =\n",
              "        document.querySelector('#df-b35126d5-f76f-4bcc-86df-a674a26ddf81 button.colab-df-convert');\n",
              "      buttonEl.style.display =\n",
              "        google.colab.kernel.accessAllowed ? 'block' : 'none';\n",
              "\n",
              "      async function convertToInteractive(key) {\n",
              "        const element = document.querySelector('#df-b35126d5-f76f-4bcc-86df-a674a26ddf81');\n",
              "        const dataTable =\n",
              "          await google.colab.kernel.invokeFunction('convertToInteractive',\n",
              "                                                    [key], {});\n",
              "        if (!dataTable) return;\n",
              "\n",
              "        const docLinkHtml = 'Like what you see? Visit the ' +\n",
              "          '<a target=\"_blank\" href=https://colab.research.google.com/notebooks/data_table.ipynb>data table notebook</a>'\n",
              "          + ' to learn more about interactive tables.';\n",
              "        element.innerHTML = '';\n",
              "        dataTable['output_type'] = 'display_data';\n",
              "        await google.colab.output.renderOutput(dataTable, element);\n",
              "        const docLink = document.createElement('div');\n",
              "        docLink.innerHTML = docLinkHtml;\n",
              "        element.appendChild(docLink);\n",
              "      }\n",
              "    </script>\n",
              "  </div>\n",
              "\n",
              "\n",
              "<div id=\"df-a34674c8-c811-45e4-9628-74694424ffbc\">\n",
              "  <button class=\"colab-df-quickchart\" onclick=\"quickchart('df-a34674c8-c811-45e4-9628-74694424ffbc')\"\n",
              "            title=\"Suggest charts\"\n",
              "            style=\"display:none;\">\n",
              "\n",
              "<svg xmlns=\"http://www.w3.org/2000/svg\" height=\"24px\"viewBox=\"0 0 24 24\"\n",
              "     width=\"24px\">\n",
              "    <g>\n",
              "        <path d=\"M19 3H5c-1.1 0-2 .9-2 2v14c0 1.1.9 2 2 2h14c1.1 0 2-.9 2-2V5c0-1.1-.9-2-2-2zM9 17H7v-7h2v7zm4 0h-2V7h2v10zm4 0h-2v-4h2v4z\"/>\n",
              "    </g>\n",
              "</svg>\n",
              "  </button>\n",
              "\n",
              "<style>\n",
              "  .colab-df-quickchart {\n",
              "      --bg-color: #E8F0FE;\n",
              "      --fill-color: #1967D2;\n",
              "      --hover-bg-color: #E2EBFA;\n",
              "      --hover-fill-color: #174EA6;\n",
              "      --disabled-fill-color: #AAA;\n",
              "      --disabled-bg-color: #DDD;\n",
              "  }\n",
              "\n",
              "  [theme=dark] .colab-df-quickchart {\n",
              "      --bg-color: #3B4455;\n",
              "      --fill-color: #D2E3FC;\n",
              "      --hover-bg-color: #434B5C;\n",
              "      --hover-fill-color: #FFFFFF;\n",
              "      --disabled-bg-color: #3B4455;\n",
              "      --disabled-fill-color: #666;\n",
              "  }\n",
              "\n",
              "  .colab-df-quickchart {\n",
              "    background-color: var(--bg-color);\n",
              "    border: none;\n",
              "    border-radius: 50%;\n",
              "    cursor: pointer;\n",
              "    display: none;\n",
              "    fill: var(--fill-color);\n",
              "    height: 32px;\n",
              "    padding: 0;\n",
              "    width: 32px;\n",
              "  }\n",
              "\n",
              "  .colab-df-quickchart:hover {\n",
              "    background-color: var(--hover-bg-color);\n",
              "    box-shadow: 0 1px 2px rgba(60, 64, 67, 0.3), 0 1px 3px 1px rgba(60, 64, 67, 0.15);\n",
              "    fill: var(--button-hover-fill-color);\n",
              "  }\n",
              "\n",
              "  .colab-df-quickchart-complete:disabled,\n",
              "  .colab-df-quickchart-complete:disabled:hover {\n",
              "    background-color: var(--disabled-bg-color);\n",
              "    fill: var(--disabled-fill-color);\n",
              "    box-shadow: none;\n",
              "  }\n",
              "\n",
              "  .colab-df-spinner {\n",
              "    border: 2px solid var(--fill-color);\n",
              "    border-color: transparent;\n",
              "    border-bottom-color: var(--fill-color);\n",
              "    animation:\n",
              "      spin 1s steps(1) infinite;\n",
              "  }\n",
              "\n",
              "  @keyframes spin {\n",
              "    0% {\n",
              "      border-color: transparent;\n",
              "      border-bottom-color: var(--fill-color);\n",
              "      border-left-color: var(--fill-color);\n",
              "    }\n",
              "    20% {\n",
              "      border-color: transparent;\n",
              "      border-left-color: var(--fill-color);\n",
              "      border-top-color: var(--fill-color);\n",
              "    }\n",
              "    30% {\n",
              "      border-color: transparent;\n",
              "      border-left-color: var(--fill-color);\n",
              "      border-top-color: var(--fill-color);\n",
              "      border-right-color: var(--fill-color);\n",
              "    }\n",
              "    40% {\n",
              "      border-color: transparent;\n",
              "      border-right-color: var(--fill-color);\n",
              "      border-top-color: var(--fill-color);\n",
              "    }\n",
              "    60% {\n",
              "      border-color: transparent;\n",
              "      border-right-color: var(--fill-color);\n",
              "    }\n",
              "    80% {\n",
              "      border-color: transparent;\n",
              "      border-right-color: var(--fill-color);\n",
              "      border-bottom-color: var(--fill-color);\n",
              "    }\n",
              "    90% {\n",
              "      border-color: transparent;\n",
              "      border-bottom-color: var(--fill-color);\n",
              "    }\n",
              "  }\n",
              "</style>\n",
              "\n",
              "  <script>\n",
              "    async function quickchart(key) {\n",
              "      const quickchartButtonEl =\n",
              "        document.querySelector('#' + key + ' button');\n",
              "      quickchartButtonEl.disabled = true;  // To prevent multiple clicks.\n",
              "      quickchartButtonEl.classList.add('colab-df-spinner');\n",
              "      try {\n",
              "        const charts = await google.colab.kernel.invokeFunction(\n",
              "            'suggestCharts', [key], {});\n",
              "      } catch (error) {\n",
              "        console.error('Error during call to suggestCharts:', error);\n",
              "      }\n",
              "      quickchartButtonEl.classList.remove('colab-df-spinner');\n",
              "      quickchartButtonEl.classList.add('colab-df-quickchart-complete');\n",
              "    }\n",
              "    (() => {\n",
              "      let quickchartButtonEl =\n",
              "        document.querySelector('#df-a34674c8-c811-45e4-9628-74694424ffbc button');\n",
              "      quickchartButtonEl.style.display =\n",
              "        google.colab.kernel.accessAllowed ? 'block' : 'none';\n",
              "    })();\n",
              "  </script>\n",
              "</div>\n",
              "\n",
              "    </div>\n",
              "  </div>\n"
            ],
            "application/vnd.google.colaboratory.intrinsic+json": {
              "type": "dataframe",
              "variable_name": "utterances_df"
            }
          },
          "metadata": {},
          "execution_count": 83
        }
      ],
      "source": [
        "utterances_df.head()"
      ]
    },
    {
      "cell_type": "code",
      "execution_count": 84,
      "metadata": {
        "colab": {
          "base_uri": "https://localhost:8080/"
        },
        "id": "x3QzEnzd5Sr5",
        "outputId": "3aad8c18-aff2-4848-d667-3c8cdb769723"
      },
      "outputs": [
        {
          "output_type": "stream",
          "name": "stdout",
          "text": [
            "  conversation_id  utterance_count\n",
            "0          9bypg3               20\n",
            "1          9byqyq               11\n",
            "2          9byrus               15\n",
            "3          9bytc6               45\n",
            "4          9byu1v               10\n"
          ]
        }
      ],
      "source": [
        "# Count the number of utterances in each conversation\n",
        "conversation_summary = utterances_df.groupby('conversation_id').size().reset_index(name='utterance_count')\n",
        "print(conversation_summary.head())\n"
      ]
    },
    {
      "cell_type": "code",
      "execution_count": 85,
      "metadata": {
        "colab": {
          "base_uri": "https://localhost:8080/"
        },
        "id": "7xd_In6N5Yfo",
        "outputId": "fc648f55-b792-4eba-e645-3f2974cc5a3b"
      },
      "outputs": [
        {
          "output_type": "stream",
          "name": "stdout",
          "text": [
            "  utterance_id     speaker_id conversation_id  \\\n",
            "0       9c716m  AutoModerator          9c716m   \n",
            "1       9c8amk         rt2236          9c8amk   \n",
            "2       9ca0yk    Im_Tsuikyit          9ca0yk   \n",
            "3       9cfz10  AutoModerator          9cfz10   \n",
            "5       9d07z8  AutoModerator          9d07z8   \n",
            "\n",
            "                                                text   timestamp  reply_to  \n",
            "0  Talk about your day. Anything goes, but subred...  1535839576  No reply  \n",
            "1  I went to visit a few days ago and Ioved it. I...  1535850650  No reply  \n",
            "2  One time, my family and I had just returned fr...  1535868569  No reply  \n",
            "3  Talk about your day. Anything goes, but subred...  1535925965  No reply  \n",
            "5  Talk about your day. Anything goes, but subred...  1536098767  No reply  \n"
          ]
        }
      ],
      "source": [
        "# Find conversation starters\n",
        "conversation_starters = utterances_df[utterances_df['reply_to'] == \"No reply\"]\n",
        "print(conversation_starters.head())\n"
      ]
    },
    {
      "cell_type": "code",
      "execution_count": 86,
      "metadata": {
        "colab": {
          "base_uri": "https://localhost:8080/"
        },
        "id": "5Iv4AS3K5YZT",
        "outputId": "04c546b2-fc62-4e28-8102-600c27840e2f"
      },
      "outputs": [
        {
          "output_type": "stream",
          "name": "stdout",
          "text": [
            "  utterance_id  reply_count\n",
            "0     No reply         3763\n",
            "1      e5k5np8          472\n",
            "2      e5ibybt          239\n",
            "3      e5bp7cl          177\n",
            "4      e5871fa          165\n"
          ]
        }
      ],
      "source": [
        "# Count replies to each utterance\n",
        "reply_count = utterances_df['reply_to'].value_counts().reset_index(name='reply_count')\n",
        "reply_count.columns = ['utterance_id', 'reply_count']\n",
        "print(reply_count.head())\n"
      ]
    },
    {
      "cell_type": "code",
      "execution_count": 87,
      "metadata": {
        "colab": {
          "base_uri": "https://localhost:8080/"
        },
        "id": "NfXAhk865YPh",
        "outputId": "4eb299ff-b5fd-4bf0-e758-b29b36110797"
      },
      "outputs": [
        {
          "output_type": "stream",
          "name": "stdout",
          "text": [
            "  conversation_id  utterance_count\n",
            "0          9bypg3                1\n",
            "1          9byrus                1\n",
            "2          9bz3xn                1\n",
            "3          9bz6r0                1\n",
            "4          9bz763                1\n",
            "      utterance_id            speaker_id conversation_id  \\\n",
            "55590       9bypg3          metalic_acid          9bypg3   \n",
            "55665      e56qunv            spaceghoti          9bypg3   \n",
            "55666      e56vt3t             Take_Beer          9bypg3   \n",
            "55667      e56vwto            spaceghoti          9bypg3   \n",
            "55668      e56x4f2             Take_Beer          9bypg3   \n",
            "55669      e56x966            spaceghoti          9bypg3   \n",
            "55670      e56xizr             Take_Beer          9bypg3   \n",
            "55671      e56xorc            spaceghoti          9bypg3   \n",
            "55672      e56xugz  midwesternphotograph          9bypg3   \n",
            "55673      e56y86b             Take_Beer          9bypg3   \n",
            "55674      e56yf18            spaceghoti          9bypg3   \n",
            "55675      e56z3o2             Take_Beer          9bypg3   \n",
            "55676      e56zbfa            spaceghoti          9bypg3   \n",
            "55677      e56zk5k             Take_Beer          9bypg3   \n",
            "55678      e56zqkg            spaceghoti          9bypg3   \n",
            "55679      e5713j0             Take_Beer          9bypg3   \n",
            "55680      e571bzj            spaceghoti          9bypg3   \n",
            "55681      e57296j             Take_Beer          9bypg3   \n",
            "55682      e572h5g            spaceghoti          9bypg3   \n",
            "55683      e58qdio               NFossil          9bypg3   \n",
            "\n",
            "                                                    text   timestamp  reply_to  \n",
            "55590  I often see in debates people flaired \"Jewish ...  1535760078  No reply  \n",
            "55665  I've been told that \"Jewish\" is a term that ge...  1535760836    9bypg3  \n",
            "55666  That doesn't make any sense. It doesn't answer...  1535766429   e56qunv  \n",
            "55667  Everybody gets to decide how they want to iden...  1535766546   e56vt3t  \n",
            "55668  So you wouldn't see a problem with someone ide...  1535767926   e56vwto  \n",
            "55669  I would consider that person a deeply broken i...  1535768076   e56x4f2  \n",
            "55670  Hang on, this is an amazing double standard th...  1535768381   e56x966  \n",
            "55671  In the last two thousand years, I haven't seen...  1535768559   e56xizr  \n",
            "55672  Jewish isn’t a race. It is an ethnic backgroun...  1535768739   e56vt3t  \n",
            "55673  &gt; In the last two thousand years, I haven't...  1535769158   e56xorc  \n",
            "55674  &gt; That's a joke, isn't it? You're not aware...  1535769378   e56y86b  \n",
            "55675  &gt; And my understanding is that the tensions...  1535770215   e56yf18  \n",
            "55676  Okay, if you like. Nevertheless the Jews I've ...  1535770484   e56z3o2  \n",
            "55677  &gt; So I have far less of a problem with self...  1535770777   e56zbfa  \n",
            "55678  Here's something that ought to blow your mind:...  1535770996   e56zk5k  \n",
            "55679  Less bigotry towards you and your race. How do...  1535772694   e56zqkg  \n",
            "55680  If anything, *more* bigotry against me because...  1535772989   e5713j0  \n",
            "55681  &gt; I know you think otherwise, and I don't c...  1535774167   e571bzj  \n",
            "55682                      Okay.\\n\\nHave a good evening.  1535774463   e57296j  \n",
            "55683  &gt; identifying as a \"Nazi atheist\" (because ...  1535848940   e56x4f2  \n"
          ]
        }
      ],
      "source": [
        "# Filter conversations where there is at least one \"No reply\" utterance\n",
        "no_reply_conversations = utterances_df[utterances_df['reply_to'] == \"No reply\"]\n",
        "\n",
        "# Group by conversation ID and count utterances per conversation\n",
        "conversation_summary_no_reply = no_reply_conversations.groupby('conversation_id').size().reset_index(name='utterance_count')\n",
        "print(conversation_summary_no_reply.head())\n",
        "\n",
        "# View an example conversation with \"No reply\"\n",
        "example_conversation_id = conversation_summary_no_reply.iloc[0]['conversation_id']\n",
        "example_conversation = utterances_df[utterances_df['conversation_id'] == example_conversation_id]\n",
        "print(example_conversation)\n"
      ]
    },
    {
      "cell_type": "code",
      "execution_count": 88,
      "metadata": {
        "colab": {
          "base_uri": "https://localhost:8080/"
        },
        "id": "9ekxoeq66KI0",
        "outputId": "47afd4a9-3769-40c3-d04d-f8329c528aaa"
      },
      "outputs": [
        {
          "output_type": "stream",
          "name": "stdout",
          "text": [
            "Requirement already satisfied: detoxify in /usr/local/lib/python3.10/dist-packages (0.5.2)\n",
            "Requirement already satisfied: transformers in /usr/local/lib/python3.10/dist-packages (from detoxify) (4.44.2)\n",
            "Requirement already satisfied: torch>=1.7.0 in /usr/local/lib/python3.10/dist-packages (from detoxify) (2.4.0+cu121)\n",
            "Requirement already satisfied: sentencepiece>=0.1.94 in /usr/local/lib/python3.10/dist-packages (from detoxify) (0.1.99)\n",
            "Requirement already satisfied: filelock in /usr/local/lib/python3.10/dist-packages (from torch>=1.7.0->detoxify) (3.15.4)\n",
            "Requirement already satisfied: typing-extensions>=4.8.0 in /usr/local/lib/python3.10/dist-packages (from torch>=1.7.0->detoxify) (4.12.2)\n",
            "Requirement already satisfied: sympy in /usr/local/lib/python3.10/dist-packages (from torch>=1.7.0->detoxify) (1.13.2)\n",
            "Requirement already satisfied: networkx in /usr/local/lib/python3.10/dist-packages (from torch>=1.7.0->detoxify) (3.3)\n",
            "Requirement already satisfied: jinja2 in /usr/local/lib/python3.10/dist-packages (from torch>=1.7.0->detoxify) (3.1.4)\n",
            "Requirement already satisfied: fsspec in /usr/local/lib/python3.10/dist-packages (from torch>=1.7.0->detoxify) (2024.6.1)\n",
            "Requirement already satisfied: huggingface-hub<1.0,>=0.23.2 in /usr/local/lib/python3.10/dist-packages (from transformers->detoxify) (0.24.6)\n",
            "Requirement already satisfied: numpy>=1.17 in /usr/local/lib/python3.10/dist-packages (from transformers->detoxify) (1.26.4)\n",
            "Requirement already satisfied: packaging>=20.0 in /usr/local/lib/python3.10/dist-packages (from transformers->detoxify) (24.1)\n",
            "Requirement already satisfied: pyyaml>=5.1 in /usr/local/lib/python3.10/dist-packages (from transformers->detoxify) (6.0.2)\n",
            "Requirement already satisfied: regex!=2019.12.17 in /usr/local/lib/python3.10/dist-packages (from transformers->detoxify) (2024.5.15)\n",
            "Requirement already satisfied: requests in /usr/local/lib/python3.10/dist-packages (from transformers->detoxify) (2.32.3)\n",
            "Requirement already satisfied: safetensors>=0.4.1 in /usr/local/lib/python3.10/dist-packages (from transformers->detoxify) (0.4.4)\n",
            "Requirement already satisfied: tokenizers<0.20,>=0.19 in /usr/local/lib/python3.10/dist-packages (from transformers->detoxify) (0.19.1)\n",
            "Requirement already satisfied: tqdm>=4.27 in /usr/local/lib/python3.10/dist-packages (from transformers->detoxify) (4.66.5)\n",
            "Requirement already satisfied: MarkupSafe>=2.0 in /usr/local/lib/python3.10/dist-packages (from jinja2->torch>=1.7.0->detoxify) (2.1.5)\n",
            "Requirement already satisfied: charset-normalizer<4,>=2 in /usr/local/lib/python3.10/dist-packages (from requests->transformers->detoxify) (3.3.2)\n",
            "Requirement already satisfied: idna<4,>=2.5 in /usr/local/lib/python3.10/dist-packages (from requests->transformers->detoxify) (3.8)\n",
            "Requirement already satisfied: urllib3<3,>=1.21.1 in /usr/local/lib/python3.10/dist-packages (from requests->transformers->detoxify) (2.0.7)\n",
            "Requirement already satisfied: certifi>=2017.4.17 in /usr/local/lib/python3.10/dist-packages (from requests->transformers->detoxify) (2024.8.30)\n",
            "Requirement already satisfied: mpmath<1.4,>=1.1.0 in /usr/local/lib/python3.10/dist-packages (from sympy->torch>=1.7.0->detoxify) (1.3.0)\n"
          ]
        }
      ],
      "source": [
        "!pip install detoxify\n"
      ]
    },
    {
      "cell_type": "code",
      "execution_count": 89,
      "metadata": {
        "id": "nucWg7j16J-K"
      },
      "outputs": [],
      "source": [
        "from detoxify import Detoxify\n",
        "\n",
        "# Function to detect toxicity in user input\n",
        "def detect_bias_or_toxicity(user_input):\n",
        "    # Use Detoxify model to predict toxicity\n",
        "    toxicity = Detoxify('original').predict(user_input)['toxicity']\n",
        "    return toxicity > 0.7  # Threshold for toxicity detection\n",
        "\n",
        "# Example chatbot function with bias detection\n",
        "def chatbot(user_input):\n",
        "    if detect_bias_or_toxicity(user_input):\n",
        "        return \"I can't comment on that.\"\n",
        "    else:\n",
        "        # Normal response generation (Cohere API or other)\n",
        "        return generate_response(user_input)\n"
      ]
    },
    {
      "cell_type": "code",
      "execution_count": 90,
      "metadata": {
        "colab": {
          "base_uri": "https://localhost:8080/"
        },
        "id": "y7mi-lP_6J3C",
        "outputId": "eaeaf994-d63e-423d-a41d-e8024690229e"
      },
      "outputs": [
        {
          "output_type": "stream",
          "name": "stdout",
          "text": [
            "Requirement already satisfied: cohere in /usr/local/lib/python3.10/dist-packages (5.9.1)\n",
            "Requirement already satisfied: boto3<2.0.0,>=1.34.0 in /usr/local/lib/python3.10/dist-packages (from cohere) (1.35.15)\n",
            "Requirement already satisfied: fastavro<2.0.0,>=1.9.4 in /usr/local/lib/python3.10/dist-packages (from cohere) (1.9.7)\n",
            "Requirement already satisfied: httpx>=0.21.2 in /usr/local/lib/python3.10/dist-packages (from cohere) (0.27.2)\n",
            "Requirement already satisfied: httpx-sse==0.4.0 in /usr/local/lib/python3.10/dist-packages (from cohere) (0.4.0)\n",
            "Requirement already satisfied: parameterized<0.10.0,>=0.9.0 in /usr/local/lib/python3.10/dist-packages (from cohere) (0.9.0)\n",
            "Requirement already satisfied: pydantic>=1.9.2 in /usr/local/lib/python3.10/dist-packages (from cohere) (2.8.2)\n",
            "Requirement already satisfied: pydantic-core<3.0.0,>=2.18.2 in /usr/local/lib/python3.10/dist-packages (from cohere) (2.20.1)\n",
            "Requirement already satisfied: requests<3.0.0,>=2.0.0 in /usr/local/lib/python3.10/dist-packages (from cohere) (2.32.3)\n",
            "Requirement already satisfied: tokenizers<1,>=0.15 in /usr/local/lib/python3.10/dist-packages (from cohere) (0.19.1)\n",
            "Requirement already satisfied: types-requests<3.0.0,>=2.0.0 in /usr/local/lib/python3.10/dist-packages (from cohere) (2.32.0.20240907)\n",
            "Requirement already satisfied: typing_extensions>=4.0.0 in /usr/local/lib/python3.10/dist-packages (from cohere) (4.12.2)\n",
            "Requirement already satisfied: botocore<1.36.0,>=1.35.15 in /usr/local/lib/python3.10/dist-packages (from boto3<2.0.0,>=1.34.0->cohere) (1.35.15)\n",
            "Requirement already satisfied: jmespath<2.0.0,>=0.7.1 in /usr/local/lib/python3.10/dist-packages (from boto3<2.0.0,>=1.34.0->cohere) (1.0.1)\n",
            "Requirement already satisfied: s3transfer<0.11.0,>=0.10.0 in /usr/local/lib/python3.10/dist-packages (from boto3<2.0.0,>=1.34.0->cohere) (0.10.2)\n",
            "Requirement already satisfied: anyio in /usr/local/lib/python3.10/dist-packages (from httpx>=0.21.2->cohere) (3.7.1)\n",
            "Requirement already satisfied: certifi in /usr/local/lib/python3.10/dist-packages (from httpx>=0.21.2->cohere) (2024.8.30)\n",
            "Requirement already satisfied: httpcore==1.* in /usr/local/lib/python3.10/dist-packages (from httpx>=0.21.2->cohere) (1.0.5)\n",
            "Requirement already satisfied: idna in /usr/local/lib/python3.10/dist-packages (from httpx>=0.21.2->cohere) (3.8)\n",
            "Requirement already satisfied: sniffio in /usr/local/lib/python3.10/dist-packages (from httpx>=0.21.2->cohere) (1.3.1)\n",
            "Requirement already satisfied: h11<0.15,>=0.13 in /usr/local/lib/python3.10/dist-packages (from httpcore==1.*->httpx>=0.21.2->cohere) (0.14.0)\n",
            "Requirement already satisfied: annotated-types>=0.4.0 in /usr/local/lib/python3.10/dist-packages (from pydantic>=1.9.2->cohere) (0.7.0)\n",
            "Requirement already satisfied: charset-normalizer<4,>=2 in /usr/local/lib/python3.10/dist-packages (from requests<3.0.0,>=2.0.0->cohere) (3.3.2)\n",
            "Requirement already satisfied: urllib3<3,>=1.21.1 in /usr/local/lib/python3.10/dist-packages (from requests<3.0.0,>=2.0.0->cohere) (2.0.7)\n",
            "Requirement already satisfied: huggingface-hub<1.0,>=0.16.4 in /usr/local/lib/python3.10/dist-packages (from tokenizers<1,>=0.15->cohere) (0.24.6)\n",
            "Requirement already satisfied: python-dateutil<3.0.0,>=2.1 in /usr/local/lib/python3.10/dist-packages (from botocore<1.36.0,>=1.35.15->boto3<2.0.0,>=1.34.0->cohere) (2.8.2)\n",
            "Requirement already satisfied: filelock in /usr/local/lib/python3.10/dist-packages (from huggingface-hub<1.0,>=0.16.4->tokenizers<1,>=0.15->cohere) (3.15.4)\n",
            "Requirement already satisfied: fsspec>=2023.5.0 in /usr/local/lib/python3.10/dist-packages (from huggingface-hub<1.0,>=0.16.4->tokenizers<1,>=0.15->cohere) (2024.6.1)\n",
            "Requirement already satisfied: packaging>=20.9 in /usr/local/lib/python3.10/dist-packages (from huggingface-hub<1.0,>=0.16.4->tokenizers<1,>=0.15->cohere) (24.1)\n",
            "Requirement already satisfied: pyyaml>=5.1 in /usr/local/lib/python3.10/dist-packages (from huggingface-hub<1.0,>=0.16.4->tokenizers<1,>=0.15->cohere) (6.0.2)\n",
            "Requirement already satisfied: tqdm>=4.42.1 in /usr/local/lib/python3.10/dist-packages (from huggingface-hub<1.0,>=0.16.4->tokenizers<1,>=0.15->cohere) (4.66.5)\n",
            "Requirement already satisfied: exceptiongroup in /usr/local/lib/python3.10/dist-packages (from anyio->httpx>=0.21.2->cohere) (1.2.2)\n",
            "Requirement already satisfied: six>=1.5 in /usr/local/lib/python3.10/dist-packages (from python-dateutil<3.0.0,>=2.1->botocore<1.36.0,>=1.35.15->boto3<2.0.0,>=1.34.0->cohere) (1.16.0)\n"
          ]
        }
      ],
      "source": [
        "!pip install cohere"
      ]
    },
    {
      "cell_type": "code",
      "execution_count": 90,
      "metadata": {
        "id": "ceqkIfv56Jqe"
      },
      "outputs": [],
      "source": []
    },
    {
      "cell_type": "code",
      "execution_count": 90,
      "metadata": {
        "id": "Dbq-9He66JgX"
      },
      "outputs": [],
      "source": []
    },
    {
      "cell_type": "code",
      "execution_count": 90,
      "metadata": {
        "id": "WG9Lhz8L6JZE"
      },
      "outputs": [],
      "source": []
    },
    {
      "cell_type": "code",
      "execution_count": 91,
      "metadata": {
        "id": "mE_8JVIQyndt"
      },
      "outputs": [],
      "source": [
        "import os\n",
        "import cohere\n",
        "\n",
        "# Set your Cohere API key as an environment variable\n",
        "os.environ['COHERE_API_KEY'] = '74CedFbLCqLL4EK6R4onapiBrTUXJoknx59VrsKQ'\n",
        "\n",
        "# Initialize the Cohere API with the key\n",
        "co = cohere.Client(os.getenv(\"COHERE_API_KEY\"))\n"
      ]
    },
    {
      "cell_type": "code",
      "execution_count": 92,
      "metadata": {
        "colab": {
          "base_uri": "https://localhost:8080/"
        },
        "id": "ToxUD7HbUotG",
        "outputId": "fb708e49-9d92-4b65-8533-882192e8c4a6"
      },
      "outputs": [
        {
          "output_type": "stream",
          "name": "stdout",
          "text": [
            "Requirement already satisfied: sentence-transformers in /usr/local/lib/python3.10/dist-packages (3.0.1)\n",
            "Requirement already satisfied: faiss-cpu in /usr/local/lib/python3.10/dist-packages (1.8.0.post1)\n",
            "Requirement already satisfied: transformers<5.0.0,>=4.34.0 in /usr/local/lib/python3.10/dist-packages (from sentence-transformers) (4.44.2)\n",
            "Requirement already satisfied: tqdm in /usr/local/lib/python3.10/dist-packages (from sentence-transformers) (4.66.5)\n",
            "Requirement already satisfied: torch>=1.11.0 in /usr/local/lib/python3.10/dist-packages (from sentence-transformers) (2.4.0+cu121)\n",
            "Requirement already satisfied: numpy in /usr/local/lib/python3.10/dist-packages (from sentence-transformers) (1.26.4)\n",
            "Requirement already satisfied: scikit-learn in /usr/local/lib/python3.10/dist-packages (from sentence-transformers) (1.3.2)\n",
            "Requirement already satisfied: scipy in /usr/local/lib/python3.10/dist-packages (from sentence-transformers) (1.13.1)\n",
            "Requirement already satisfied: huggingface-hub>=0.15.1 in /usr/local/lib/python3.10/dist-packages (from sentence-transformers) (0.24.6)\n",
            "Requirement already satisfied: Pillow in /usr/local/lib/python3.10/dist-packages (from sentence-transformers) (9.4.0)\n",
            "Requirement already satisfied: packaging in /usr/local/lib/python3.10/dist-packages (from faiss-cpu) (24.1)\n",
            "Requirement already satisfied: filelock in /usr/local/lib/python3.10/dist-packages (from huggingface-hub>=0.15.1->sentence-transformers) (3.15.4)\n",
            "Requirement already satisfied: fsspec>=2023.5.0 in /usr/local/lib/python3.10/dist-packages (from huggingface-hub>=0.15.1->sentence-transformers) (2024.6.1)\n",
            "Requirement already satisfied: pyyaml>=5.1 in /usr/local/lib/python3.10/dist-packages (from huggingface-hub>=0.15.1->sentence-transformers) (6.0.2)\n",
            "Requirement already satisfied: requests in /usr/local/lib/python3.10/dist-packages (from huggingface-hub>=0.15.1->sentence-transformers) (2.32.3)\n",
            "Requirement already satisfied: typing-extensions>=3.7.4.3 in /usr/local/lib/python3.10/dist-packages (from huggingface-hub>=0.15.1->sentence-transformers) (4.12.2)\n",
            "Requirement already satisfied: sympy in /usr/local/lib/python3.10/dist-packages (from torch>=1.11.0->sentence-transformers) (1.13.2)\n",
            "Requirement already satisfied: networkx in /usr/local/lib/python3.10/dist-packages (from torch>=1.11.0->sentence-transformers) (3.3)\n",
            "Requirement already satisfied: jinja2 in /usr/local/lib/python3.10/dist-packages (from torch>=1.11.0->sentence-transformers) (3.1.4)\n",
            "Requirement already satisfied: regex!=2019.12.17 in /usr/local/lib/python3.10/dist-packages (from transformers<5.0.0,>=4.34.0->sentence-transformers) (2024.5.15)\n",
            "Requirement already satisfied: safetensors>=0.4.1 in /usr/local/lib/python3.10/dist-packages (from transformers<5.0.0,>=4.34.0->sentence-transformers) (0.4.4)\n",
            "Requirement already satisfied: tokenizers<0.20,>=0.19 in /usr/local/lib/python3.10/dist-packages (from transformers<5.0.0,>=4.34.0->sentence-transformers) (0.19.1)\n",
            "Requirement already satisfied: joblib>=1.1.1 in /usr/local/lib/python3.10/dist-packages (from scikit-learn->sentence-transformers) (1.4.2)\n",
            "Requirement already satisfied: threadpoolctl>=2.0.0 in /usr/local/lib/python3.10/dist-packages (from scikit-learn->sentence-transformers) (3.5.0)\n",
            "Requirement already satisfied: MarkupSafe>=2.0 in /usr/local/lib/python3.10/dist-packages (from jinja2->torch>=1.11.0->sentence-transformers) (2.1.5)\n",
            "Requirement already satisfied: charset-normalizer<4,>=2 in /usr/local/lib/python3.10/dist-packages (from requests->huggingface-hub>=0.15.1->sentence-transformers) (3.3.2)\n",
            "Requirement already satisfied: idna<4,>=2.5 in /usr/local/lib/python3.10/dist-packages (from requests->huggingface-hub>=0.15.1->sentence-transformers) (3.8)\n",
            "Requirement already satisfied: urllib3<3,>=1.21.1 in /usr/local/lib/python3.10/dist-packages (from requests->huggingface-hub>=0.15.1->sentence-transformers) (2.0.7)\n",
            "Requirement already satisfied: certifi>=2017.4.17 in /usr/local/lib/python3.10/dist-packages (from requests->huggingface-hub>=0.15.1->sentence-transformers) (2024.8.30)\n",
            "Requirement already satisfied: mpmath<1.4,>=1.1.0 in /usr/local/lib/python3.10/dist-packages (from sympy->torch>=1.11.0->sentence-transformers) (1.3.0)\n"
          ]
        }
      ],
      "source": [
        "!pip install sentence-transformers faiss-cpu\n"
      ]
    },
    {
      "cell_type": "code",
      "execution_count": 93,
      "metadata": {
        "colab": {
          "base_uri": "https://localhost:8080/"
        },
        "id": "LA2jov8edxWD",
        "outputId": "d6cff204-4d0d-499d-a86b-95e19d00d21f"
      },
      "outputs": [
        {
          "output_type": "stream",
          "name": "stdout",
          "text": [
            "Requirement already satisfied: sentence-transformers in /usr/local/lib/python3.10/dist-packages (3.0.1)\n",
            "Requirement already satisfied: faiss-cpu in /usr/local/lib/python3.10/dist-packages (1.8.0.post1)\n",
            "Requirement already satisfied: transformers<5.0.0,>=4.34.0 in /usr/local/lib/python3.10/dist-packages (from sentence-transformers) (4.44.2)\n",
            "Requirement already satisfied: tqdm in /usr/local/lib/python3.10/dist-packages (from sentence-transformers) (4.66.5)\n",
            "Requirement already satisfied: torch>=1.11.0 in /usr/local/lib/python3.10/dist-packages (from sentence-transformers) (2.4.0+cu121)\n",
            "Requirement already satisfied: numpy in /usr/local/lib/python3.10/dist-packages (from sentence-transformers) (1.26.4)\n",
            "Requirement already satisfied: scikit-learn in /usr/local/lib/python3.10/dist-packages (from sentence-transformers) (1.3.2)\n",
            "Requirement already satisfied: scipy in /usr/local/lib/python3.10/dist-packages (from sentence-transformers) (1.13.1)\n",
            "Requirement already satisfied: huggingface-hub>=0.15.1 in /usr/local/lib/python3.10/dist-packages (from sentence-transformers) (0.24.6)\n",
            "Requirement already satisfied: Pillow in /usr/local/lib/python3.10/dist-packages (from sentence-transformers) (9.4.0)\n",
            "Requirement already satisfied: packaging in /usr/local/lib/python3.10/dist-packages (from faiss-cpu) (24.1)\n",
            "Requirement already satisfied: filelock in /usr/local/lib/python3.10/dist-packages (from huggingface-hub>=0.15.1->sentence-transformers) (3.15.4)\n",
            "Requirement already satisfied: fsspec>=2023.5.0 in /usr/local/lib/python3.10/dist-packages (from huggingface-hub>=0.15.1->sentence-transformers) (2024.6.1)\n",
            "Requirement already satisfied: pyyaml>=5.1 in /usr/local/lib/python3.10/dist-packages (from huggingface-hub>=0.15.1->sentence-transformers) (6.0.2)\n",
            "Requirement already satisfied: requests in /usr/local/lib/python3.10/dist-packages (from huggingface-hub>=0.15.1->sentence-transformers) (2.32.3)\n",
            "Requirement already satisfied: typing-extensions>=3.7.4.3 in /usr/local/lib/python3.10/dist-packages (from huggingface-hub>=0.15.1->sentence-transformers) (4.12.2)\n",
            "Requirement already satisfied: sympy in /usr/local/lib/python3.10/dist-packages (from torch>=1.11.0->sentence-transformers) (1.13.2)\n",
            "Requirement already satisfied: networkx in /usr/local/lib/python3.10/dist-packages (from torch>=1.11.0->sentence-transformers) (3.3)\n",
            "Requirement already satisfied: jinja2 in /usr/local/lib/python3.10/dist-packages (from torch>=1.11.0->sentence-transformers) (3.1.4)\n",
            "Requirement already satisfied: regex!=2019.12.17 in /usr/local/lib/python3.10/dist-packages (from transformers<5.0.0,>=4.34.0->sentence-transformers) (2024.5.15)\n",
            "Requirement already satisfied: safetensors>=0.4.1 in /usr/local/lib/python3.10/dist-packages (from transformers<5.0.0,>=4.34.0->sentence-transformers) (0.4.4)\n",
            "Requirement already satisfied: tokenizers<0.20,>=0.19 in /usr/local/lib/python3.10/dist-packages (from transformers<5.0.0,>=4.34.0->sentence-transformers) (0.19.1)\n",
            "Requirement already satisfied: joblib>=1.1.1 in /usr/local/lib/python3.10/dist-packages (from scikit-learn->sentence-transformers) (1.4.2)\n",
            "Requirement already satisfied: threadpoolctl>=2.0.0 in /usr/local/lib/python3.10/dist-packages (from scikit-learn->sentence-transformers) (3.5.0)\n",
            "Requirement already satisfied: MarkupSafe>=2.0 in /usr/local/lib/python3.10/dist-packages (from jinja2->torch>=1.11.0->sentence-transformers) (2.1.5)\n",
            "Requirement already satisfied: charset-normalizer<4,>=2 in /usr/local/lib/python3.10/dist-packages (from requests->huggingface-hub>=0.15.1->sentence-transformers) (3.3.2)\n",
            "Requirement already satisfied: idna<4,>=2.5 in /usr/local/lib/python3.10/dist-packages (from requests->huggingface-hub>=0.15.1->sentence-transformers) (3.8)\n",
            "Requirement already satisfied: urllib3<3,>=1.21.1 in /usr/local/lib/python3.10/dist-packages (from requests->huggingface-hub>=0.15.1->sentence-transformers) (2.0.7)\n",
            "Requirement already satisfied: certifi>=2017.4.17 in /usr/local/lib/python3.10/dist-packages (from requests->huggingface-hub>=0.15.1->sentence-transformers) (2024.8.30)\n",
            "Requirement already satisfied: mpmath<1.4,>=1.1.0 in /usr/local/lib/python3.10/dist-packages (from sympy->torch>=1.11.0->sentence-transformers) (1.3.0)\n"
          ]
        }
      ],
      "source": [
        "!pip install sentence-transformers faiss-cpu"
      ]
    },
    {
      "cell_type": "code",
      "execution_count": 94,
      "metadata": {
        "colab": {
          "base_uri": "https://localhost:8080/"
        },
        "id": "F9Wm5__kUoik",
        "outputId": "663d8d4b-1042-40d1-b6cc-375d049bd069"
      },
      "outputs": [
        {
          "output_type": "stream",
          "name": "stderr",
          "text": [
            "/usr/local/lib/python3.10/dist-packages/transformers/tokenization_utils_base.py:1601: FutureWarning: `clean_up_tokenization_spaces` was not set. It will be set to `True` by default. This behavior will be depracted in transformers v4.45, and will be then set to `False` by default. For more details check this issue: https://github.com/huggingface/transformers/issues/31884\n",
            "  warnings.warn(\n"
          ]
        },
        {
          "output_type": "stream",
          "name": "stdout",
          "text": [
            "Embeddings generated and FAISS index created.\n"
          ]
        }
      ],
      "source": [
        "# Embed Reddit Conversations Using Hugging Face Sentence Transformers\n",
        "from sentence_transformers import SentenceTransformer\n",
        "import numpy as np\n",
        "import faiss\n",
        "\n",
        "# Load the Hugging Face sentence transformer model\n",
        "model = SentenceTransformer('sentence-transformers/all-MiniLM-L6-v2')\n",
        "\n",
        "# Sample data (Reddit conversation 'text' field from your dataset)\n",
        "texts = [\n",
        "    \"Talk about your day. Anything goes, but subreddit rules still apply.\",\n",
        "    \"I went to visit a few days ago and loved it.\",\n",
        "    \"One time, my family and I had just returned from the beach.\"\n",
        "]\n",
        "\n",
        "# Generate embeddings\n",
        "embeddings = model.encode(texts)\n",
        "\n",
        "# Create a FAISS index to store embeddings\n",
        "embedding_dim = embeddings.shape[1]\n",
        "index = faiss.IndexFlatL2(embedding_dim)\n",
        "\n",
        "# Add embeddings to the index\n",
        "index.add(embeddings)\n",
        "\n",
        "# Save embeddings and FAISS index for retrieval later\n",
        "np.save('reddit_embeddings.npy', embeddings)\n",
        "\n",
        "print(\"Embeddings generated and FAISS index created.\")\n"
      ]
    },
    {
      "cell_type": "code",
      "execution_count": 95,
      "metadata": {
        "id": "K3h2EUSfUoYR",
        "colab": {
          "base_uri": "https://localhost:8080/"
        },
        "outputId": "84465664-1346-4c14-d3e9-85672ba55388"
      },
      "outputs": [
        {
          "output_type": "execute_result",
          "data": {
            "text/plain": [
              "array([[-0.04613591, -0.0034425 ,  0.03919309, ...,  0.02243084,\n",
              "        -0.00262925, -0.00871499],\n",
              "       [ 0.04835767, -0.00784416,  0.06136188, ...,  0.01608643,\n",
              "        -0.05029471,  0.01860338],\n",
              "       [ 0.01496075,  0.03046594,  0.09300791, ...,  0.00111784,\n",
              "        -0.11325203,  0.02372815]], dtype=float32)"
            ]
          },
          "metadata": {},
          "execution_count": 95
        }
      ],
      "source": [
        "embeddings"
      ]
    },
    {
      "cell_type": "code",
      "execution_count": 96,
      "metadata": {
        "id": "svBseU7qUoN8",
        "colab": {
          "base_uri": "https://localhost:8080/"
        },
        "outputId": "ba5d859e-f6cb-4fb6-e140-21776a50db97"
      },
      "outputs": [
        {
          "output_type": "stream",
          "name": "stdout",
          "text": [
            "User: Tell me something interesting about space.\n",
            "Bot: Did you know that the Milky Way and Andromeda galaxies are on a collision course? In about 4-5 billion years, the two galaxies will merge to form a giant elliptical galaxy. This event will likely have a profound impact on the structure of the universe and the evolution of life within it.\n"
          ]
        }
      ],
      "source": [
        "from transformers import AutoTokenizer, AutoModel\n",
        "import torch\n",
        "import faiss\n",
        "import numpy as np\n",
        "import cohere\n",
        "\n",
        "# Load Hugging Face model and tokenizer\n",
        "model_name = \"sentence-transformers/all-MiniLM-L6-v2\"\n",
        "tokenizer = AutoTokenizer.from_pretrained(model_name)\n",
        "model = AutoModel.from_pretrained(model_name)\n",
        "\n",
        "# Move model to GPU if available\n",
        "device = torch.device('cuda' if torch.cuda.is_available() else 'cpu')\n",
        "model.to(device)\n",
        "\n",
        "# Example conversation prompts (ensure these are properly defined)\n",
        "prompts = [\n",
        "    \"You can't handle the truth!\",\n",
        "    \"May the Force be with you.\",\n",
        "    \"I'll be back.\",\n",
        "    \"Here's looking at you, kid.\",\n",
        "    \"Houston, we have a problem.\"\n",
        "]\n",
        "\n",
        "# Step 1: Generate embeddings for the prompts (this is necessary to create the FAISS index)\n",
        "def embed_texts(texts):\n",
        "    embeddings = []\n",
        "    for text in texts:\n",
        "        inputs = tokenizer(text, return_tensors='pt', padding=True, truncation=True)\n",
        "        inputs = {k: v.to(device) for k, v in inputs.items()}\n",
        "\n",
        "        with torch.no_grad():\n",
        "            outputs = model(**inputs)\n",
        "            cls_embedding = outputs.last_hidden_state[:, 0, :].cpu().numpy()\n",
        "            embeddings.append(cls_embedding)\n",
        "\n",
        "    return embeddings\n",
        "\n",
        "# Embed the prompts\n",
        "embeddings = embed_texts(prompts)\n",
        "\n",
        "# Step 2: Create FAISS index and add embeddings\n",
        "embedding_dim = embeddings[0].shape[1]\n",
        "index = faiss.IndexFlatL2(embedding_dim)\n",
        "\n",
        "# Flatten embeddings for FAISS\n",
        "embeddings = np.vstack(embeddings)\n",
        "index.add(embeddings)\n",
        "\n",
        "# Initialize Cohere client (ensure API key is set)\n",
        "cohere_client = cohere.Client(os.getenv('COHERE_API_KEY'))\n",
        "\n",
        "# Step 3: Function to embed user query\n",
        "def embed_user_query(query, tokenizer, model, device):\n",
        "    inputs = tokenizer(query, return_tensors='pt', padding=True, truncation=True)\n",
        "    inputs = {k: v.to(device) for k, v in inputs.items()}\n",
        "\n",
        "    with torch.no_grad():\n",
        "        outputs = model(**inputs)\n",
        "        query_embedding = outputs.last_hidden_state[:, 0, :].cpu().numpy()\n",
        "\n",
        "    return query_embedding\n",
        "\n",
        "# Step 4: Function to retrieve the closest conversation using FAISS\n",
        "def retrieve_conversation(query, tokenizer, model, index, prompts, device):\n",
        "    query_embedding = embed_user_query(query, tokenizer, model, device)\n",
        "\n",
        "    # Perform FAISS search to get the closest match\n",
        "    D, I = index.search(query_embedding, k=1)\n",
        "    closest_conversation = prompts[I[0][0]]\n",
        "\n",
        "    return closest_conversation\n",
        "\n",
        "# Step 5: Function to generate a response using Cohere API\n",
        "def generate_response(closest_conversation, user_query, cohere_client):\n",
        "    prompt = f\"Previous conversation: {closest_conversation}\\nUser: {user_query}\\nBot:\"\n",
        "\n",
        "    response = cohere_client.generate(\n",
        "        model='command-r-plus-04-2024',\n",
        "        prompt=prompt,\n",
        "        max_tokens=100\n",
        "    )\n",
        "\n",
        "    return response.generations[0].text.strip()\n",
        "\n",
        "# Example Usage:\n",
        "user_input = \"Tell me something interesting about space.\"\n",
        "closest_conversation = retrieve_conversation(user_input, tokenizer, model, index, prompts, device)\n",
        "bot_response = generate_response(closest_conversation, user_input, cohere_client)\n",
        "\n",
        "print(f\"User: {user_input}\")\n",
        "print(f\"Bot: {bot_response}\")\n"
      ]
    },
    {
      "cell_type": "code",
      "execution_count": 97,
      "metadata": {
        "id": "3l4SDByhUoG2",
        "colab": {
          "base_uri": "https://localhost:8080/",
          "height": 34
        },
        "outputId": "c8d086c7-f625-4dad-ddaa-2bf711b7145b"
      },
      "outputs": [
        {
          "output_type": "stream",
          "name": "stdout",
          "text": [
            "Chatbot state saved successfully at /content/chatbot_state_v1.pkl.\n"
          ]
        },
        {
          "output_type": "display_data",
          "data": {
            "text/plain": [
              "<IPython.core.display.Javascript object>"
            ],
            "application/javascript": [
              "\n",
              "    async function download(id, filename, size) {\n",
              "      if (!google.colab.kernel.accessAllowed) {\n",
              "        return;\n",
              "      }\n",
              "      const div = document.createElement('div');\n",
              "      const label = document.createElement('label');\n",
              "      label.textContent = `Downloading \"${filename}\": `;\n",
              "      div.appendChild(label);\n",
              "      const progress = document.createElement('progress');\n",
              "      progress.max = size;\n",
              "      div.appendChild(progress);\n",
              "      document.body.appendChild(div);\n",
              "\n",
              "      const buffers = [];\n",
              "      let downloaded = 0;\n",
              "\n",
              "      const channel = await google.colab.kernel.comms.open(id);\n",
              "      // Send a message to notify the kernel that we're ready.\n",
              "      channel.send({})\n",
              "\n",
              "      for await (const message of channel.messages) {\n",
              "        // Send a message to notify the kernel that we're ready.\n",
              "        channel.send({})\n",
              "        if (message.buffers) {\n",
              "          for (const buffer of message.buffers) {\n",
              "            buffers.push(buffer);\n",
              "            downloaded += buffer.byteLength;\n",
              "            progress.value = downloaded;\n",
              "          }\n",
              "        }\n",
              "      }\n",
              "      const blob = new Blob(buffers, {type: 'application/binary'});\n",
              "      const a = document.createElement('a');\n",
              "      a.href = window.URL.createObjectURL(blob);\n",
              "      a.download = filename;\n",
              "      div.appendChild(a);\n",
              "      a.click();\n",
              "      div.remove();\n",
              "    }\n",
              "  "
            ]
          },
          "metadata": {}
        },
        {
          "output_type": "display_data",
          "data": {
            "text/plain": [
              "<IPython.core.display.Javascript object>"
            ],
            "application/javascript": [
              "download(\"download_07ff0e27-a490-4187-b48b-f3536a4fb4c7\", \"chatbot_state_v1.pkl\", 91397812)"
            ]
          },
          "metadata": {}
        }
      ],
      "source": [
        "import pickle\n",
        "import faiss\n",
        "import numpy as np\n",
        "from transformers import AutoTokenizer, AutoModel\n",
        "import torch\n",
        "\n",
        "# Load or define your model, tokenizer, and embedding\n",
        "model_name = \"sentence-transformers/all-MiniLM-L6-v2\"\n",
        "tokenizer = AutoTokenizer.from_pretrained(model_name)\n",
        "model = AutoModel.from_pretrained(model_name)\n",
        "\n",
        "# Your text prompts and embeddings (make sure embeddings are already created)\n",
        "prompts = [\"example prompt 1\", \"example prompt 2\", \"example prompt 3\"]\n",
        "embeddings = np.random.rand(len(prompts), 384)  # Replace with your actual embeddings\n",
        "\n",
        "# FAISS index creation (assuming embedding dimension is 384)\n",
        "index = faiss.IndexFlatL2(384)\n",
        "index.add(embeddings)\n",
        "\n",
        "# Save the tokenizer, model, embeddings, FAISS index, and prompts to a pickle file in Colab\n",
        "save_path = '/content/chatbot_state_v1.pkl'  # The file will be saved in Colab's local storage\n",
        "with open(save_path, 'wb') as f:\n",
        "    pickle.dump({\n",
        "        'tokenizer': tokenizer,\n",
        "        'model': model,\n",
        "        'embeddings': embeddings,\n",
        "        'faiss_index': index,\n",
        "        'prompts': prompts\n",
        "    }, f)\n",
        "\n",
        "print(f\"Chatbot state saved successfully at {save_path}.\")\n",
        "\n",
        "# Download the pickle file to your local system from Colab\n",
        "from google.colab import files\n",
        "files.download(save_path)\n"
      ]
    },
    {
      "cell_type": "code",
      "execution_count": 98,
      "metadata": {
        "colab": {
          "base_uri": "https://localhost:8080/"
        },
        "id": "OVgwuVDVauTz",
        "outputId": "770ab7ca-5dd0-4a4e-c6dd-17444501176f"
      },
      "outputs": [
        {
          "output_type": "stream",
          "name": "stdout",
          "text": [
            "Requirement already satisfied: gradio in /usr/local/lib/python3.10/dist-packages (4.43.0)\n",
            "Requirement already satisfied: aiofiles<24.0,>=22.0 in /usr/local/lib/python3.10/dist-packages (from gradio) (23.2.1)\n",
            "Requirement already satisfied: anyio<5.0,>=3.0 in /usr/local/lib/python3.10/dist-packages (from gradio) (3.7.1)\n",
            "Requirement already satisfied: fastapi<0.113.0 in /usr/local/lib/python3.10/dist-packages (from gradio) (0.112.4)\n",
            "Requirement already satisfied: ffmpy in /usr/local/lib/python3.10/dist-packages (from gradio) (0.4.0)\n",
            "Requirement already satisfied: gradio-client==1.3.0 in /usr/local/lib/python3.10/dist-packages (from gradio) (1.3.0)\n",
            "Requirement already satisfied: httpx>=0.24.1 in /usr/local/lib/python3.10/dist-packages (from gradio) (0.27.2)\n",
            "Requirement already satisfied: huggingface-hub>=0.19.3 in /usr/local/lib/python3.10/dist-packages (from gradio) (0.24.6)\n",
            "Requirement already satisfied: importlib-resources<7.0,>=1.3 in /usr/local/lib/python3.10/dist-packages (from gradio) (6.4.4)\n",
            "Requirement already satisfied: jinja2<4.0 in /usr/local/lib/python3.10/dist-packages (from gradio) (3.1.4)\n",
            "Requirement already satisfied: markupsafe~=2.0 in /usr/local/lib/python3.10/dist-packages (from gradio) (2.1.5)\n",
            "Requirement already satisfied: matplotlib~=3.0 in /usr/local/lib/python3.10/dist-packages (from gradio) (3.7.1)\n",
            "Requirement already satisfied: numpy<3.0,>=1.0 in /usr/local/lib/python3.10/dist-packages (from gradio) (1.26.4)\n",
            "Requirement already satisfied: orjson~=3.0 in /usr/local/lib/python3.10/dist-packages (from gradio) (3.10.7)\n",
            "Requirement already satisfied: packaging in /usr/local/lib/python3.10/dist-packages (from gradio) (24.1)\n",
            "Requirement already satisfied: pandas<3.0,>=1.0 in /usr/local/lib/python3.10/dist-packages (from gradio) (2.1.4)\n",
            "Requirement already satisfied: pillow<11.0,>=8.0 in /usr/local/lib/python3.10/dist-packages (from gradio) (9.4.0)\n",
            "Requirement already satisfied: pydantic>=2.0 in /usr/local/lib/python3.10/dist-packages (from gradio) (2.8.2)\n",
            "Requirement already satisfied: pydub in /usr/local/lib/python3.10/dist-packages (from gradio) (0.25.1)\n",
            "Requirement already satisfied: python-multipart>=0.0.9 in /usr/local/lib/python3.10/dist-packages (from gradio) (0.0.9)\n",
            "Requirement already satisfied: pyyaml<7.0,>=5.0 in /usr/local/lib/python3.10/dist-packages (from gradio) (6.0.2)\n",
            "Requirement already satisfied: ruff>=0.2.2 in /usr/local/lib/python3.10/dist-packages (from gradio) (0.6.4)\n",
            "Requirement already satisfied: semantic-version~=2.0 in /usr/local/lib/python3.10/dist-packages (from gradio) (2.10.0)\n",
            "Requirement already satisfied: tomlkit==0.12.0 in /usr/local/lib/python3.10/dist-packages (from gradio) (0.12.0)\n",
            "Requirement already satisfied: typer<1.0,>=0.12 in /usr/local/lib/python3.10/dist-packages (from gradio) (0.12.5)\n",
            "Requirement already satisfied: typing-extensions~=4.0 in /usr/local/lib/python3.10/dist-packages (from gradio) (4.12.2)\n",
            "Requirement already satisfied: urllib3~=2.0 in /usr/local/lib/python3.10/dist-packages (from gradio) (2.0.7)\n",
            "Requirement already satisfied: uvicorn>=0.14.0 in /usr/local/lib/python3.10/dist-packages (from gradio) (0.30.6)\n",
            "Requirement already satisfied: fsspec in /usr/local/lib/python3.10/dist-packages (from gradio-client==1.3.0->gradio) (2024.6.1)\n",
            "Requirement already satisfied: websockets<13.0,>=10.0 in /usr/local/lib/python3.10/dist-packages (from gradio-client==1.3.0->gradio) (12.0)\n",
            "Requirement already satisfied: idna>=2.8 in /usr/local/lib/python3.10/dist-packages (from anyio<5.0,>=3.0->gradio) (3.8)\n",
            "Requirement already satisfied: sniffio>=1.1 in /usr/local/lib/python3.10/dist-packages (from anyio<5.0,>=3.0->gradio) (1.3.1)\n",
            "Requirement already satisfied: exceptiongroup in /usr/local/lib/python3.10/dist-packages (from anyio<5.0,>=3.0->gradio) (1.2.2)\n",
            "Requirement already satisfied: starlette<0.39.0,>=0.37.2 in /usr/local/lib/python3.10/dist-packages (from fastapi<0.113.0->gradio) (0.38.5)\n",
            "Requirement already satisfied: certifi in /usr/local/lib/python3.10/dist-packages (from httpx>=0.24.1->gradio) (2024.8.30)\n",
            "Requirement already satisfied: httpcore==1.* in /usr/local/lib/python3.10/dist-packages (from httpx>=0.24.1->gradio) (1.0.5)\n",
            "Requirement already satisfied: h11<0.15,>=0.13 in /usr/local/lib/python3.10/dist-packages (from httpcore==1.*->httpx>=0.24.1->gradio) (0.14.0)\n",
            "Requirement already satisfied: filelock in /usr/local/lib/python3.10/dist-packages (from huggingface-hub>=0.19.3->gradio) (3.15.4)\n",
            "Requirement already satisfied: requests in /usr/local/lib/python3.10/dist-packages (from huggingface-hub>=0.19.3->gradio) (2.32.3)\n",
            "Requirement already satisfied: tqdm>=4.42.1 in /usr/local/lib/python3.10/dist-packages (from huggingface-hub>=0.19.3->gradio) (4.66.5)\n",
            "Requirement already satisfied: contourpy>=1.0.1 in /usr/local/lib/python3.10/dist-packages (from matplotlib~=3.0->gradio) (1.3.0)\n",
            "Requirement already satisfied: cycler>=0.10 in /usr/local/lib/python3.10/dist-packages (from matplotlib~=3.0->gradio) (0.12.1)\n",
            "Requirement already satisfied: fonttools>=4.22.0 in /usr/local/lib/python3.10/dist-packages (from matplotlib~=3.0->gradio) (4.53.1)\n",
            "Requirement already satisfied: kiwisolver>=1.0.1 in /usr/local/lib/python3.10/dist-packages (from matplotlib~=3.0->gradio) (1.4.5)\n",
            "Requirement already satisfied: pyparsing>=2.3.1 in /usr/local/lib/python3.10/dist-packages (from matplotlib~=3.0->gradio) (3.1.4)\n",
            "Requirement already satisfied: python-dateutil>=2.7 in /usr/local/lib/python3.10/dist-packages (from matplotlib~=3.0->gradio) (2.8.2)\n",
            "Requirement already satisfied: pytz>=2020.1 in /usr/local/lib/python3.10/dist-packages (from pandas<3.0,>=1.0->gradio) (2024.1)\n",
            "Requirement already satisfied: tzdata>=2022.1 in /usr/local/lib/python3.10/dist-packages (from pandas<3.0,>=1.0->gradio) (2024.1)\n",
            "Requirement already satisfied: annotated-types>=0.4.0 in /usr/local/lib/python3.10/dist-packages (from pydantic>=2.0->gradio) (0.7.0)\n",
            "Requirement already satisfied: pydantic-core==2.20.1 in /usr/local/lib/python3.10/dist-packages (from pydantic>=2.0->gradio) (2.20.1)\n",
            "Requirement already satisfied: click>=8.0.0 in /usr/local/lib/python3.10/dist-packages (from typer<1.0,>=0.12->gradio) (8.1.7)\n",
            "Requirement already satisfied: shellingham>=1.3.0 in /usr/local/lib/python3.10/dist-packages (from typer<1.0,>=0.12->gradio) (1.5.4)\n",
            "Requirement already satisfied: rich>=10.11.0 in /usr/local/lib/python3.10/dist-packages (from typer<1.0,>=0.12->gradio) (13.8.0)\n",
            "Requirement already satisfied: six>=1.5 in /usr/local/lib/python3.10/dist-packages (from python-dateutil>=2.7->matplotlib~=3.0->gradio) (1.16.0)\n",
            "Requirement already satisfied: markdown-it-py>=2.2.0 in /usr/local/lib/python3.10/dist-packages (from rich>=10.11.0->typer<1.0,>=0.12->gradio) (3.0.0)\n",
            "Requirement already satisfied: pygments<3.0.0,>=2.13.0 in /usr/local/lib/python3.10/dist-packages (from rich>=10.11.0->typer<1.0,>=0.12->gradio) (2.16.1)\n",
            "Requirement already satisfied: charset-normalizer<4,>=2 in /usr/local/lib/python3.10/dist-packages (from requests->huggingface-hub>=0.19.3->gradio) (3.3.2)\n",
            "Requirement already satisfied: mdurl~=0.1 in /usr/local/lib/python3.10/dist-packages (from markdown-it-py>=2.2.0->rich>=10.11.0->typer<1.0,>=0.12->gradio) (0.1.2)\n"
          ]
        }
      ],
      "source": [
        "!pip install gradio"
      ]
    },
    {
      "cell_type": "code",
      "execution_count": 99,
      "metadata": {
        "colab": {
          "base_uri": "https://localhost:8080/"
        },
        "id": "pqwSMwWdUnxP",
        "outputId": "26c117b6-6367-4569-f0af-b4bf090f175c"
      },
      "outputs": [
        {
          "output_type": "stream",
          "name": "stdout",
          "text": [
            "Requirement already satisfied: requests in /usr/local/lib/python3.10/dist-packages (2.32.3)\n",
            "Requirement already satisfied: charset-normalizer<4,>=2 in /usr/local/lib/python3.10/dist-packages (from requests) (3.3.2)\n",
            "Requirement already satisfied: idna<4,>=2.5 in /usr/local/lib/python3.10/dist-packages (from requests) (3.8)\n",
            "Requirement already satisfied: urllib3<3,>=1.21.1 in /usr/local/lib/python3.10/dist-packages (from requests) (2.0.7)\n",
            "Requirement already satisfied: certifi>=2017.4.17 in /usr/local/lib/python3.10/dist-packages (from requests) (2024.8.30)\n"
          ]
        }
      ],
      "source": [
        "!pip install requests\n"
      ]
    },
    {
      "cell_type": "code",
      "execution_count": 100,
      "metadata": {
        "colab": {
          "base_uri": "https://localhost:8080/"
        },
        "id": "3uzS-vfGUnmb",
        "outputId": "bacff7b7-dc9c-45a2-9ae5-ff6e2c5f04ea"
      },
      "outputs": [
        {
          "output_type": "stream",
          "name": "stdout",
          "text": [
            "Title: How AI Is Deciphering Lost Scrolls From the Roman Empire\n",
            "Source: Gizmodo.com\n",
            "Description: Scrolls found in the shadow of Vesuvius and libraries of ancient texts besides are being illuminated by machine learning and computer vision.\n",
            "\n",
            "Title: Marvel’s Vision Series Is Bringing Back James Spader as Ultron\n",
            "Source: Gizmodo.com\n",
            "Description: The as-yet-untitled Vision series—a follow-up to WandaVision—stars Paul Bettany and is coming soon to Disney+.\n",
            "\n",
            "Title: Marvel’s Vision Series Is Bringing Back James Spader as Ultron\n",
            "Source: Gizmodo.com\n",
            "Description: The as-yet-untitled Vision series—a follow-up to WandaVision—stars Paul Bettany and is coming to Disney+.\n",
            "\n",
            "Title: The iPhone is getting a ‘glow’ up. What to expect from Apple’s Monday event\n",
            "Source: CNN\n",
            "Description: Apple excited fans with its vision for its “Apple Intelligence” AI artificial intelligence system“Apple Intelligence” artificial intelligence system earlier ...\n",
            "\n",
            "Title: Crop loss is a huge problem for sustainability and food security. I'm using AI and computer vision to help fix it.\n",
            "Source: Business Insider\n",
            "Description: Fermata's AI tech helps transform agriculture by detecting early signs of pests and diseases, reducing labor needs, and promoting sustainable farming.\n",
            "\n"
          ]
        }
      ],
      "source": [
        "import requests\n",
        "\n",
        "# Your API key from NewsAPI\n",
        "api_key = \"6aaa6fe75c11492384c603cddab771ca\"\n",
        "\n",
        "# Define the endpoint and parameters for AI-related news\n",
        "url = \"https://newsapi.org/v2/everything\"\n",
        "parameters = {\n",
        "    'q': 'artificial intelligence OR NLP OR computer vision',  # Query to search for AI, NLP, or Computer Vision news\n",
        "    'sortBy': 'relevancy',  # Sort news by relevancy\n",
        "    'apiKey': api_key  # Your API key\n",
        "}\n",
        "\n",
        "# Make the request\n",
        "response = requests.get(url, params=parameters)\n",
        "\n",
        "# Check if the request was successful\n",
        "if response.status_code == 200:\n",
        "    data = response.json()\n",
        "    articles = data['articles']\n",
        "\n",
        "    # Display a summary of the articles\n",
        "    for article in articles[:5]:  # Get the first 5 articles\n",
        "        print(f\"Title: {article['title']}\")\n",
        "        print(f\"Source: {article['source']['name']}\")\n",
        "        print(f\"Description: {article['description']}\\n\")\n",
        "else:\n",
        "    print(\"Error:\", response.status_code)\n"
      ]
    },
    {
      "cell_type": "code",
      "execution_count": 101,
      "metadata": {
        "id": "6_tLztYSUnbw"
      },
      "outputs": [],
      "source": [
        "os.environ['NEWS_API_KEY'] = '6aaa6fe75c11492384c603cddab771ca'\n"
      ]
    },
    {
      "cell_type": "code",
      "execution_count": 102,
      "metadata": {
        "id": "tAmBiT1yBocF",
        "colab": {
          "base_uri": "https://localhost:8080/",
          "height": 645
        },
        "outputId": "00ff10eb-8d44-43bf-e2f8-4b0756d9a849"
      },
      "outputs": [
        {
          "output_type": "stream",
          "name": "stdout",
          "text": [
            "Setting queue=True in a Colab notebook requires sharing enabled. Setting `share=True` (you can turn this off by setting `share=False` in `launch()` explicitly).\n",
            "\n",
            "Colab notebook detected. To show errors in colab notebook, set debug=True in launch()\n",
            "Running on public URL: https://e28f213fbeeffbd3b8.gradio.live\n",
            "\n",
            "This share link expires in 72 hours. For free permanent hosting and GPU upgrades, run `gradio deploy` from Terminal to deploy to Spaces (https://huggingface.co/spaces)\n"
          ]
        },
        {
          "output_type": "display_data",
          "data": {
            "text/plain": [
              "<IPython.core.display.HTML object>"
            ],
            "text/html": [
              "<div><iframe src=\"https://e28f213fbeeffbd3b8.gradio.live\" width=\"100%\" height=\"500\" allow=\"autoplay; camera; microphone; clipboard-read; clipboard-write;\" frameborder=\"0\" allowfullscreen></iframe></div>"
            ]
          },
          "metadata": {}
        },
        {
          "output_type": "execute_result",
          "data": {
            "text/plain": []
          },
          "metadata": {},
          "execution_count": 102
        }
      ],
      "source": [
        "import requests\n",
        "import gradio as gr\n",
        "import cohere\n",
        "import pickle\n",
        "import os\n",
        "\n",
        "# Fetch the API keys from environment variables\n",
        "cohere_api_key = os.getenv('COHERE_API_KEY')\n",
        "news_api_key = os.getenv('NEWS_API_KEY')\n",
        "\n",
        "# Initialize Cohere client\n",
        "cohere_client = cohere.Client(cohere_api_key)\n",
        "\n",
        "# Initialize a list to store the conversation history (up to 20 conversations)\n",
        "conversation_history = []\n",
        "\n",
        "# Function to fetch AI news using NewsAPI\n",
        "def fetch_ai_news():\n",
        "    url = \"https://newsapi.org/v2/everything\"\n",
        "    parameters = {\n",
        "        'q': 'artificial intelligence OR NLP OR computer vision',\n",
        "        'sortBy': 'relevancy',\n",
        "        'apiKey': news_api_key  # Securely use the API key from environment variables\n",
        "    }\n",
        "\n",
        "    response = requests.get(url, params=parameters)\n",
        "    if response.status_code == 200:\n",
        "        data = response.json()\n",
        "        articles = data['articles']\n",
        "\n",
        "        # Get the top 5 articles and format their titles\n",
        "        news_summary = \"\\n\".join([f\"{i+1}. {article['title']} - {article['source']['name']}\" for i, article in enumerate(articles[:5])])\n",
        "        return f\"Here are the top 5 AI news articles:\\n{news_summary}\"\n",
        "    else:\n",
        "        return \"Sorry, I couldn't fetch the latest AI news at the moment.\"\n",
        "\n",
        "# Function to generate a response using Cohere\n",
        "def generate_response(conversation_history, user_input, cohere_client):\n",
        "    # Limit the history to the last 20 exchanges (10 user-bot pairs)\n",
        "    if len(conversation_history) > 40:  # Each user-bot pair counts as 2 entries\n",
        "        conversation_history = conversation_history[-40:]\n",
        "\n",
        "    # Build the conversation history prompt\n",
        "    conversation_prompt = \"\\n\".join(conversation_history)\n",
        "\n",
        "    prompt = f\"Previous conversation:\\n{conversation_prompt}\\n\\nUser's question: {user_input}\\n\\nYour response:\"\n",
        "\n",
        "    response = cohere_client.generate(\n",
        "        model='command-r-plus-04-2024',\n",
        "        prompt=prompt,\n",
        "        max_tokens=300,  # Increase the max_tokens to give a more complete response\n",
        "        temperature=0.7\n",
        "    )\n",
        "\n",
        "    return response.generations[0].text.strip()\n",
        "\n",
        "# Function to handle the chatbot conversation and include news\n",
        "def chatbot(user_input):\n",
        "    global conversation_history\n",
        "\n",
        "    # Check if the user is asking for news\n",
        "    if 'news' in user_input.lower() or 'trends' in user_input.lower():\n",
        "        return fetch_ai_news()  # Fetch and return AI news\n",
        "\n",
        "    # Retrieve the closest conversation based on the user's input\n",
        "    closest_conversation = retrieve_closest_dialog(user_input, tokenizer, model, index, prompts, device)\n",
        "\n",
        "    # Generate a response using Cohere\n",
        "    bot_response = generate_response(conversation_history, user_input, cohere_client)\n",
        "\n",
        "    # Append the current user input and bot response to the conversation history\n",
        "    conversation_history.append(f\"User: {user_input}\")\n",
        "    conversation_history.append(f\"Bot: {bot_response}\")\n",
        "\n",
        "    return bot_response  # Return only the bot response (no need for a second output)\n",
        "\n",
        "# Gradio Interface\n",
        "def gradio_interface(user_input):\n",
        "    return chatbot(user_input)\n",
        "\n",
        "# Set up Gradio interface\n",
        "interface = gr.Interface(\n",
        "    fn=gradio_interface,\n",
        "    inputs=gr.Textbox(lines=2, placeholder=\"Ask me anything...\"),\n",
        "    outputs=\"text\",  # Single output for the bot's response\n",
        "    title=\"AI Conversational Chatbot\"\n",
        ")\n",
        "\n",
        "# Launch the Gradio app\n",
        "interface.launch()\n"
      ]
    },
    {
      "cell_type": "code",
      "execution_count": 103,
      "metadata": {
        "id": "V3x3HIoMTRfA",
        "colab": {
          "base_uri": "https://localhost:8080/"
        },
        "outputId": "77216251-089f-400a-c2eb-19e6990ebe8c"
      },
      "outputs": [
        {
          "output_type": "stream",
          "name": "stderr",
          "text": [
            "/usr/local/lib/python3.10/dist-packages/torch/storage.py:414: FutureWarning: You are using `torch.load` with `weights_only=False` (the current default value), which uses the default pickle module implicitly. It is possible to construct malicious pickle data which will execute arbitrary code during unpickling (See https://github.com/pytorch/pytorch/blob/main/SECURITY.md#untrusted-models for more details). In a future release, the default value for `weights_only` will be flipped to `True`. This limits the functions that could be executed during unpickling. Arbitrary objects will no longer be allowed to be loaded via this mode unless they are explicitly allowlisted by the user via `torch.serialization.add_safe_globals`. We recommend you start setting `weights_only=True` for any use case where you don't have full control of the loaded file. Please open an issue on GitHub for any issues related to this experimental feature.\n",
            "  return torch.load(io.BytesIO(b))\n"
          ]
        },
        {
          "output_type": "stream",
          "name": "stdout",
          "text": [
            "FAISS index size: 3\n"
          ]
        }
      ],
      "source": [
        "import pickle\n",
        "import faiss\n",
        "import numpy as np\n",
        "\n",
        "# Load the FAISS index and necessary components from the saved .pkl file\n",
        "with open('chatbot_state_v1.pkl', 'rb') as f:\n",
        "    data = pickle.load(f)\n",
        "\n",
        "tokenizer = data['tokenizer']\n",
        "model = data['model']\n",
        "embeddings = data['embeddings']\n",
        "faiss_index = data['faiss_index']\n",
        "prompts = data['prompts']\n",
        "\n",
        "# Verify the FAISS index is loaded\n",
        "print(f\"FAISS index size: {faiss_index.ntotal}\")  # Should return the number of entries\n"
      ]
    },
    {
      "cell_type": "code",
      "execution_count": 104,
      "metadata": {
        "id": "lIrQOIwGiluZ",
        "colab": {
          "base_uri": "https://localhost:8080/"
        },
        "outputId": "8ec1e0c6-893b-4a76-ef19-282984efdd65"
      },
      "outputs": [
        {
          "output_type": "stream",
          "name": "stdout",
          "text": [
            "FAISS index size: 3\n"
          ]
        }
      ],
      "source": [
        "import pickle\n",
        "import faiss\n",
        "import numpy as np\n",
        "import torch\n",
        "\n",
        "# Load the FAISS index and other components from the saved .pkl file\n",
        "with open('chatbot_state_v1.pkl', 'rb') as f:\n",
        "    data = pickle.load(f)\n",
        "\n",
        "tokenizer = data['tokenizer']\n",
        "model = data['model']\n",
        "embeddings = data['embeddings']\n",
        "faiss_index = data['faiss_index']\n",
        "prompts = data['prompts']\n",
        "\n",
        "# Verify FAISS index size\n",
        "print(f\"FAISS index size: {faiss_index.ntotal}\")  # Should return the number of entries\n"
      ]
    },
    {
      "cell_type": "code",
      "execution_count": 105,
      "metadata": {
        "id": "s-D0TD9vilOm",
        "colab": {
          "base_uri": "https://localhost:8080/",
          "height": 645
        },
        "outputId": "0b220bb0-e40a-4c62-b1fe-34d4e6883d87"
      },
      "outputs": [
        {
          "output_type": "stream",
          "name": "stdout",
          "text": [
            "Setting queue=True in a Colab notebook requires sharing enabled. Setting `share=True` (you can turn this off by setting `share=False` in `launch()` explicitly).\n",
            "\n",
            "Colab notebook detected. To show errors in colab notebook, set debug=True in launch()\n",
            "Running on public URL: https://b46abbf3ae4a947809.gradio.live\n",
            "\n",
            "This share link expires in 72 hours. For free permanent hosting and GPU upgrades, run `gradio deploy` from Terminal to deploy to Spaces (https://huggingface.co/spaces)\n"
          ]
        },
        {
          "output_type": "display_data",
          "data": {
            "text/plain": [
              "<IPython.core.display.HTML object>"
            ],
            "text/html": [
              "<div><iframe src=\"https://b46abbf3ae4a947809.gradio.live\" width=\"100%\" height=\"500\" allow=\"autoplay; camera; microphone; clipboard-read; clipboard-write;\" frameborder=\"0\" allowfullscreen></iframe></div>"
            ]
          },
          "metadata": {}
        },
        {
          "output_type": "execute_result",
          "data": {
            "text/plain": []
          },
          "metadata": {},
          "execution_count": 105
        }
      ],
      "source": [
        "import requests\n",
        "import gradio as gr\n",
        "import cohere\n",
        "import pickle\n",
        "import os\n",
        "\n",
        "# Fetch the API keys from environment variables\n",
        "cohere_api_key = os.getenv('COHERE_API_KEY')\n",
        "news_api_key = os.getenv('NEWS_API_KEY')\n",
        "\n",
        "# Initialize Cohere client\n",
        "cohere_client = cohere.Client(cohere_api_key)\n",
        "\n",
        "# Initialize a list to store the conversation history (up to 20 conversations)\n",
        "conversation_history = []\n",
        "\n",
        "# Function to fetch AI news using NewsAPI\n",
        "def fetch_ai_news(user_query):\n",
        "    url = \"https://newsapi.org/v2/everything\"\n",
        "    parameters = {\n",
        "        'q': 'artificial intelligence OR NLP OR computer vision ' + user_query,\n",
        "        'sortBy': 'relevancy',\n",
        "        'apiKey': news_api_key\n",
        "    }\n",
        "\n",
        "    response = requests.get(url, params=parameters)\n",
        "    if response.status_code == 200:\n",
        "        data = response.json()\n",
        "        articles = data['articles']\n",
        "\n",
        "        # Get the top 5 articles and format their titles\n",
        "        news_summary = \"\\n\".join([f\"{i+1}. {article['title']} - {article['source']['name']}\" for i, article in enumerate(articles[:5])])\n",
        "        return news_summary, articles[0]['description']  # Returning the top article's description for Cohere\n",
        "    else:\n",
        "        return \"Sorry, I couldn't fetch the latest AI news at the moment.\", \"\"\n",
        "\n",
        "# Function to generate a response using Cohere\n",
        "def generate_response(conversation_history, user_input, relevant_news, cohere_client):\n",
        "    # Limit the history to the last 20 exchanges (10 user-bot pairs)\n",
        "    if len(conversation_history) > 40:  # Each user-bot pair counts as 2 entries\n",
        "        conversation_history = conversation_history[-40:]\n",
        "\n",
        "    # Build the conversation history prompt\n",
        "    conversation_prompt = \"\\n\".join(conversation_history)\n",
        "\n",
        "    # Include the relevant news in the prompt\n",
        "    prompt = f\"Previous conversation:\\n{conversation_prompt}\\n\\nRelevant News: {relevant_news}\\n\\nUser's question: {user_input}\\n\\nYour response:\"\n",
        "\n",
        "    response = cohere_client.generate(\n",
        "        model='command-r-plus-04-2024',\n",
        "        prompt=prompt,\n",
        "        max_tokens=300,  # Increase the max_tokens to give a more complete response\n",
        "        temperature=0.7\n",
        "    )\n",
        "\n",
        "    return response.generations[0].text.strip()\n",
        "\n",
        "# Function to handle the chatbot conversation and include news\n",
        "def chatbot(user_input):\n",
        "    global conversation_history\n",
        "\n",
        "    # Fetch news based on the user query\n",
        "    news_summary, relevant_news = fetch_ai_news(user_input)\n",
        "\n",
        "    if relevant_news:\n",
        "        # Generate a response using Cohere by including the news information\n",
        "        bot_response = generate_response(conversation_history, user_input, relevant_news, cohere_client)\n",
        "    else:\n",
        "        bot_response = \"I'm sorry, I couldn't fetch the relevant news.\"\n",
        "\n",
        "    # Append the current user input and bot response to the conversation history\n",
        "    conversation_history.append(f\"User: {user_input}\")\n",
        "    conversation_history.append(f\"Bot: {bot_response}\")\n",
        "\n",
        "    return bot_response\n",
        "\n",
        "# Gradio Interface\n",
        "def gradio_interface(user_input):\n",
        "    return chatbot(user_input)\n",
        "\n",
        "# Set up Gradio interface\n",
        "interface = gr.Interface(\n",
        "    fn=gradio_interface,\n",
        "    inputs=gr.Textbox(lines=2, placeholder=\"Ask me anything...\"),\n",
        "    outputs=\"text\",  # Single output for the bot's response\n",
        "    title=\"AI Conversational Chatbot with NewsAPI\"\n",
        ")\n",
        "\n",
        "# Launch the Gradio app\n",
        "interface.launch()\n"
      ]
    },
    {
      "cell_type": "code",
      "execution_count": 106,
      "metadata": {
        "id": "nCBhZFS5ik2h",
        "colab": {
          "base_uri": "https://localhost:8080/",
          "height": 645
        },
        "outputId": "2eeb9e32-ddb4-43b0-a333-37ef0ceea65f"
      },
      "outputs": [
        {
          "output_type": "stream",
          "name": "stdout",
          "text": [
            "Setting queue=True in a Colab notebook requires sharing enabled. Setting `share=True` (you can turn this off by setting `share=False` in `launch()` explicitly).\n",
            "\n",
            "Colab notebook detected. To show errors in colab notebook, set debug=True in launch()\n",
            "Running on public URL: https://742b625a8919349db8.gradio.live\n",
            "\n",
            "This share link expires in 72 hours. For free permanent hosting and GPU upgrades, run `gradio deploy` from Terminal to deploy to Spaces (https://huggingface.co/spaces)\n"
          ]
        },
        {
          "output_type": "display_data",
          "data": {
            "text/plain": [
              "<IPython.core.display.HTML object>"
            ],
            "text/html": [
              "<div><iframe src=\"https://742b625a8919349db8.gradio.live\" width=\"100%\" height=\"500\" allow=\"autoplay; camera; microphone; clipboard-read; clipboard-write;\" frameborder=\"0\" allowfullscreen></iframe></div>"
            ]
          },
          "metadata": {}
        },
        {
          "output_type": "execute_result",
          "data": {
            "text/plain": []
          },
          "metadata": {},
          "execution_count": 106
        }
      ],
      "source": [
        "import requests\n",
        "import gradio as gr\n",
        "import cohere\n",
        "import os\n",
        "import csv\n",
        "import datetime\n",
        "\n",
        "# Log the message to a CSV file\n",
        "def log_to_csv(log_message):\n",
        "    with open('log.csv', mode='a', newline='') as file:\n",
        "        writer = csv.writer(file)\n",
        "        timestamp = datetime.datetime.now().strftime(\"%Y-%m-%d %H:%M:%S\")\n",
        "        writer.writerow([timestamp, log_message])\n",
        "\n",
        "# Fetch the API keys from environment variables\n",
        "cohere_api_key = os.getenv('COHERE_API_KEY')\n",
        "news_api_key = os.getenv('NEWS_API_KEY')\n",
        "\n",
        "# Log the keys fetched\n",
        "log_to_csv(f\"Cohere API Key: {cohere_api_key}, NewsAPI Key: {news_api_key}\")\n",
        "\n",
        "# Initialize Cohere client\n",
        "cohere_client = cohere.Client(cohere_api_key)\n",
        "\n",
        "# Initialize a list to store the conversation history (up to 20 conversations)\n",
        "conversation_history = []\n",
        "\n",
        "# Function to fetch AI news using NewsAPI\n",
        "def fetch_ai_news():\n",
        "    url = \"https://newsapi.org/v2/everything\"\n",
        "    parameters = {\n",
        "        'q': 'artificial intelligence OR NLP OR computer vision',  # You can adjust the query here\n",
        "        'sortBy': 'relevancy',\n",
        "        'apiKey': news_api_key  # Securely use the API key from environment variables\n",
        "    }\n",
        "\n",
        "    log_to_csv(f\"Fetching news from: {url} with parameters: {parameters}\")\n",
        "\n",
        "    response = requests.get(url, params=parameters)\n",
        "    log_to_csv(f\"NewsAPI response code: {response.status_code}\")\n",
        "\n",
        "    if response.status_code == 200:\n",
        "        data = response.json()\n",
        "        articles = data['articles']\n",
        "\n",
        "        log_to_csv(f\"Fetched {len(articles)} articles from NewsAPI.\")\n",
        "\n",
        "        # Get the top 5 articles and format their titles\n",
        "        news_summary = \"\\n\".join([f\"{i+1}. {article['title']} - {article['source']['name']}\" for i, article in enumerate(articles[:5])])\n",
        "        log_to_csv(f\"Formatted news summary: {news_summary}\")\n",
        "        return f\"Here are the top 5 AI news articles:\\n{news_summary}\"\n",
        "    else:\n",
        "        log_to_csv(f\"Error fetching AI news: {response.status_code}\")\n",
        "        return \"Sorry, I couldn't fetch the latest AI news at the moment.\"\n",
        "\n",
        "# Function to generate a response using Cohere\n",
        "def generate_response(conversation_history, user_input, cohere_client):\n",
        "    log_to_csv(\"Generating a response using Cohere...\")\n",
        "\n",
        "    # Limit the history to the last 20 exchanges (10 user-bot pairs)\n",
        "    if len(conversation_history) > 40:  # Each user-bot pair counts as 2 entries\n",
        "        log_to_csv(\"Trimming conversation history to the last 40 entries.\")\n",
        "        conversation_history = conversation_history[-40:]\n",
        "\n",
        "    # Build the conversation history prompt\n",
        "    conversation_prompt = \"\\n\".join(conversation_history)\n",
        "    log_to_csv(f\"Conversation history prompt: {conversation_prompt}\")\n",
        "\n",
        "    prompt = f\"Previous conversation:\\n{conversation_prompt}\\n\\nUser's question: {user_input}\\n\\nYour response:\"\n",
        "    log_to_csv(f\"Complete prompt for Cohere: {prompt}\")\n",
        "\n",
        "    response = cohere_client.generate(\n",
        "        model='command-r-plus-04-2024',\n",
        "        prompt=prompt,\n",
        "        max_tokens=300,  # Increase the max_tokens to give a more complete response\n",
        "        temperature=0.7\n",
        "    )\n",
        "\n",
        "    log_to_csv(f\"Cohere response: {response.generations[0].text.strip()}\")\n",
        "    return response.generations[0].text.strip()\n",
        "\n",
        "# Function to classify queries for news or general response\n",
        "def is_news_query(user_input):\n",
        "    log_to_csv(f\"Checking if the query is related to news: {user_input}\")\n",
        "\n",
        "    # Check for keywords related to news or trends\n",
        "    news_keywords = ['news', 'trends', 'recent developments', 'latest', 'updates']\n",
        "    is_news = any(keyword in user_input.lower() for keyword in news_keywords)\n",
        "\n",
        "    log_to_csv(f\"Is news query: {is_news}\")\n",
        "    return is_news\n",
        "\n",
        "# Main chatbot function\n",
        "def chatbot(user_input):\n",
        "    global conversation_history\n",
        "    log_to_csv(f\"User input: {user_input}\")\n",
        "\n",
        "    # Check if the user is asking for news or trends\n",
        "    if is_news_query(user_input):\n",
        "        log_to_csv(\"Fetching news based on user input.\")\n",
        "        return fetch_ai_news()  # Fetch and return AI news\n",
        "\n",
        "    # If not a news query, continue with normal conversation using Cohere\n",
        "    bot_response = generate_response(conversation_history, user_input, cohere_client)\n",
        "\n",
        "    # Append the current user input and bot response to the conversation history\n",
        "    conversation_history.append(f\"User: {user_input}\")\n",
        "    conversation_history.append(f\"Bot: {bot_response}\")\n",
        "\n",
        "    log_to_csv(f\"Updated conversation history: {conversation_history}\")\n",
        "    return bot_response  # Return only the bot response (no need for a second output)\n",
        "\n",
        "# Gradio Interface\n",
        "def gradio_interface(user_input):\n",
        "    return chatbot(user_input)\n",
        "\n",
        "# Set up Gradio interface\n",
        "interface = gr.Interface(\n",
        "    fn=gradio_interface,\n",
        "    inputs=gr.Textbox(lines=2, placeholder=\"Ask me anything...\"),\n",
        "    outputs=\"text\",  # Single output for the bot's response\n",
        "    title=\"AI Conversational Chatbot with NewsAPI\"\n",
        ")\n",
        "\n",
        "# Launch the Gradio app\n",
        "interface.launch()\n",
        "\n"
      ]
    },
    {
      "cell_type": "code",
      "execution_count": 108,
      "metadata": {
        "colab": {
          "base_uri": "https://localhost:8080/"
        },
        "id": "tlpJZyT6ijZO",
        "outputId": "ae342bfe-4d4f-4e0e-ade4-32c746dc3daa"
      },
      "outputs": [
        {
          "output_type": "stream",
          "name": "stdout",
          "text": [
            "[{'source': {'id': None, 'name': 'Gizmodo.com'}, 'author': 'Isaac Schultz', 'title': 'How AI Is Deciphering Lost Scrolls From the Roman Empire', 'description': 'Scrolls found in the shadow of Vesuvius and libraries of ancient texts besides are being illuminated by machine learning and computer vision.', 'url': 'https://gizmodo.com/ai-herculaneum-scrolls-computer-vision-transformers-2000481322', 'urlToImage': 'https://gizmodo.com/app/uploads/2024/08/text-herculaneum-papyrus-AI-1.jpg', 'publishedAt': '2024-08-28T14:00:43Z', 'content': 'Researchers are using cutting-edge AI models to “read” ancient scrolls superheated by the eruption of Mount Vesuvius in 79, which covered much of the Bay of Naples in ashincluding the now-famous town… [+12022 chars]'}, {'source': {'id': None, 'name': 'Gizmodo.com'}, 'author': 'Cheryl Eddy', 'title': 'Marvel’s Vision Series Is Bringing Back James Spader as Ultron', 'description': 'The as-yet-untitled Vision series—a follow-up to WandaVision—stars Paul Bettany and is coming soon to Disney+.', 'url': 'https://gizmodo.com/marvels-vision-series-is-bringing-back-james-spader-as-ultron-2000490411', 'urlToImage': 'https://gizmodo.com/app/uploads/2024/08/avengers-age-of-ultron-vision-ultron.jpg', 'publishedAt': '2024-08-23T17:24:47Z', 'content': 'Star Trek: Picard‘s Terry Matalas is ramping up work on his next series, the as-yet-untitled Disney+ series centering on Marvel’s Vision. With Paul Bettany back as the emotionally evolved title andro… [+447 chars]'}, {'source': {'id': None, 'name': 'Gizmodo.com'}, 'author': 'Cheryl Eddy', 'title': 'Marvel’s Vision Series Is Bringing Back James Spader as Ultron', 'description': 'The as-yet-untitled Vision series—a follow-up to WandaVision—stars Paul Bettany and is coming to Disney+.', 'url': 'https://gizmodo.com/marvel-vision-tv-series-james-spader-ultron-disney-plus-2000490411', 'urlToImage': 'https://gizmodo.com/app/uploads/2024/08/avengers-age-of-ultron-vision-ultron.jpg', 'publishedAt': '2024-08-23T17:24:47Z', 'content': 'Star Trek: Picard‘s Terry Matalas is ramping up work on his next series, the as-yet-untitled Disney+ show centering on Marvel’s Vision. With Paul Bettany back as the emotionally evolved title android… [+2421 chars]'}, {'source': {'id': 'cnn', 'name': 'CNN'}, 'author': 'Clare Duffy, CNN', 'title': 'The iPhone is getting a ‘glow’ up. What to expect from Apple’s Monday event', 'description': 'Apple excited fans with its vision for its “Apple Intelligence” AI artificial intelligence system“Apple Intelligence” artificial intelligence system earlier ...', 'url': 'https://www.cnn.com/2024/09/07/business/apple-september-next-fall-event?cid=external-feeds_iluminar_yahoo', 'urlToImage': 'https://media.zenfs.com/en/cnn_business_articles_218/61e17430ae13f76e3dd7546cc7b5ea48', 'publishedAt': '2024-09-07T17:00:19Z', 'content': 'Apple excited fans with its vision for its Apple Intelligence artificial intelligence system earlier this year. Now, its time for the company to prove it really works.\\r\\nThe company is set to introduc… [+5241 chars]'}, {'source': {'id': 'business-insider', 'name': 'Business Insider'}, 'author': 'Erin Greenawald', 'title': \"Crop loss is a huge problem for sustainability and food security. I'm using AI and computer vision to help fix it.\", 'description': \"Fermata's AI tech helps transform agriculture by detecting early signs of pests and diseases, reducing labor needs, and promoting sustainable farming.\", 'url': 'https://www.businessinsider.com/fermata-artificial-intelligence-technology-for-agriculture-plant-crop-health-2024-9', 'urlToImage': 'https://i.insider.com/66d74af41d8d2deb96b843d8?width=1200&format=jpeg', 'publishedAt': '2024-09-03T19:05:12Z', 'content': 'Aron Süveg; Getty Images; Alyssa Powell/BI\\r\\n<ul><li>Valeria Kogan is the CEO of Fermata, a software-development company specializing in agriculture.</li><li>Her team develops AI tools to reduce crop… [+6082 chars]'}, {'source': {'id': None, 'name': 'Convergemedia.org'}, 'author': 'Sam Hindmarsh', 'title': 'Artificial Intelligence Cheapens the Artistic Imagination', 'description': 'Artist Jingna Zhang predicts that “60-80%\\xa0of the artist workforce will lose their jobs in the next 2-5 years. Not to prompters—just to company bottom lines.” As with businesses and workplaces, the …', 'url': 'https://www.convergemedia.org/artificial-intelligence-cheapens-the-imagination/', 'urlToImage': 'https://www.convergemedia.org/wp-content/uploads/2023/11/milad-fakurian-58Z17lnVS4U-unsplash-scaled-e1701235485479.jpg', 'publishedAt': '2024-09-02T00:09:39Z', 'content': 'Artist Jingna Zhang predicts that 60-80%\\xa0of the artist workforce will lose their jobs in the next 2-5 years. Not to promptersjust to company bottom lines. As with businesses and workplaces, the visua… [+8987 chars]'}, {'source': {'id': 'hacker-news', 'name': 'Hacker News'}, 'author': None, 'title': 'Roboflow (YC S20) is hiring an ML Engineer to democratize computer vision', 'description': 'Who We Are\\nOur mission is to make the world programmable. Sight is one of the key ways we understand the world, and soon this will be true for the software we use, too.\\nAt Roboflow, we’re building the tools, community, and resources needed to make the world p…', 'url': 'https://www.ycombinator.com/companies/roboflow/jobs/Hz7YcFa-full-stack-machine-learning-engineer', 'urlToImage': 'https://www.ycombinator.com/images/original/missing.png', 'publishedAt': '2024-08-23T17:01:15Z', 'content': 'Who We Are\\r\\nOur mission is to make the world programmable. Sight is one of the key ways we understand the world, and soon this will be true for the software we use, too.\\r\\nAt Roboflow, were building t… [+8300 chars]'}, {'source': {'id': 'business-insider', 'name': 'Business Insider'}, 'author': 'Chris Panella', 'title': \"A 'robot dog' armed with an AI-enabled rifle for shooting down drones was tested at a US Army exercise\", 'description': 'The four-legged, remote-controlled unmanned ground vehicle is designed to locate and fight drones.', 'url': 'https://www.businessinsider.com/army-looks-into-robot-dog-armed-ai-rifle-shoot-drones-2024-8', 'urlToImage': 'https://i.insider.com/66b4fe0a5da406397bf43e1d?width=1200&format=jpeg', 'publishedAt': '2024-08-08T19:45:29Z', 'content': 'Sgt. Jaidon Novinska, a Mass Communication NCO with the 27th Public Affairs Detachment hailing from Green Bay, Wisconsin, provides video support of a four-legged unmanned ground vehicle (UGVs) armed … [+3721 chars]'}, {'source': {'id': 'fox-news', 'name': 'Fox News'}, 'author': 'Fox News Staff', 'title': \"Fox News AI Newsletter: Movie star on what AI can't do\", 'description': 'Stay up to date on the latest AI technology advancements and learn about the challenges and opportunities AI presents now and for the future.', 'url': 'https://www.foxnews.com/tech/fox-news-ai-newsletter-movie-star-what-ai-cant-do', 'urlToImage': 'https://static.foxnews.com/foxnews.com/content/uploads/2024/08/GettyImages-2169011567-scaled.jpg', 'publishedAt': '2024-08-31T12:30:09Z', 'content': 'Welcome to Fox News Artificial Intelligence newsletter with the latest AI technology advancements.\\r\\nIN TODAYS NEWSLETTER:\\r\\n- Beetlejuice Beetlejuice star says AI cant duplicate Hollywood director Tim… [+1911 chars]'}, {'source': {'id': 'fox-news', 'name': 'Fox News'}, 'author': 'Kurt Knutsson, CyberGuy Report', 'title': \"Google's AI power play: Is Apple feeling the heat?\", 'description': 'Google aims to dominate the competitive landscape of artificial intelligence, seizing the spotlight by unveiling various new innovations.', 'url': 'https://www.foxnews.com/tech/googles-ai-power-play-apple-feeling-heat', 'urlToImage': 'https://static.foxnews.com/foxnews.com/content/uploads/2024/08/5-Googles-AI-power-play_-Is-Apple-feeling-the-heat.jpg', 'publishedAt': '2024-08-18T14:00:26Z', 'content': \"Google has its eye on the prize artificial intelligence and it's making a bold power play in the tech arena. The company's recent Made by Google event was more than just showcasing new technology. It… [+9459 chars]\"}, {'source': {'id': 'fox-news', 'name': 'Fox News'}, 'author': 'Kurt Knutsson, CyberGuy Report', 'title': 'AI technology can help you win the battle over mosquitoes', 'description': 'The Bzigo Iris is a high-tech mosquito hunter for your home that utilizes artificial intelligence, works in the dark and weighs less than one pound.', 'url': 'https://www.foxnews.com/tech/ai-technology-can-help-you-win-battle-over-mosquitoes', 'urlToImage': 'https://static.foxnews.com/foxnews.com/content/uploads/2024/08/2-How-AI-technology-can-help-you-win-the-battle-over-mosquitoes.jpg', 'publishedAt': '2024-08-18T10:00:02Z', 'content': \"We've all experienced those frustrating moments when you're trying to catch a mosquito, only to have it vanish into thin air.\\xa0\\r\\nWell, those days might soon be over, thanks to the Bzigo Iris, a smart … [+4037 chars]\"}, {'source': {'id': None, 'name': 'Digital Trends'}, 'author': 'Dan Girolamo', 'title': 'This Avengers villain is returning for Marvel’s Vision TV Series', 'description': \"One of Marvel's biggest villains is returning for Marvel's Vision TV series. See which character will star alongside Paul Bettany's Vision.\", 'url': 'https://www.digitaltrends.com/movies/marvel-vision-tv-series-ultron-james-spader-disney-plus/', 'urlToImage': 'https://www.digitaltrends.com/wp-content/uploads/2024/08/Ultron-James-Spader.jpg?resize=1200%2C630&p=1', 'publishedAt': '2024-08-23T19:29:22Z', 'content': 'Marvel Studios\\r\\nOne of Marvel’s biggest villains is returning for Marvel’s Vision series. Per The Hollywood Reporter, James Spader will reprise his role as Ultron for Marvel Studios’ untitled Vision … [+1838 chars]'}, {'source': {'id': None, 'name': 'Hipertextual'}, 'author': 'Luis Miranda', 'title': 'Microsoft lanzaría su propio Apple Vision Pro con ayuda de Samsung', 'description': 'Microsoft podría revivir su división de realidad mixta con un nuevo dispositivo que haría frente al Apple Vision Pro. El gigante tecnológico habría cerrado un acuerdo con Samsung para fabricar unas gafas de próxima generación. El sucesor del HoloLens llegaría…', 'url': 'http://hipertextual.com/2024/08/microsoft-lanzaria-su-propio-apple-vision-pro-con-ayuda-de-samsung', 'urlToImage': 'https://i0.wp.com/imgs.hipertextual.com/wp-content/uploads/2017/06/hololens.jpg?fit=2000%2C1125&quality=55&strip=all&ssl=1', 'publishedAt': '2024-08-09T19:40:00Z', 'content': 'Microsoft podría revivir su división de realidad mixta con un nuevo dispositivo que haría frente al Apple Vision Pro. El gigante tecnológico habría cerrado un acuerdo con Samsung para fabricar unas g… [+2123 chars]'}, {'source': {'id': None, 'name': 'Hipertextual'}, 'author': 'Luis Miranda', 'title': 'Se filtra el precio y fecha de lanzamiento del robot inteligente de Apple', 'description': 'Apple estaría trabajando en un nuevo robot con pantalla y Apple Intelligence. Tras conocerse que la tecnológica desarrolla un proyecto para el hogar inteligente, un nuevo reporte ofrece más detalles y su posible precio. Según las fuentes, el robot de Apple co…', 'url': 'http://hipertextual.com/2024/08/robot-inteligente-apple-siri-caracteristicas-precio', 'urlToImage': 'https://i0.wp.com/imgs.hipertextual.com/wp-content/uploads/2024/08/apple-irobot.jpg?fit=1920%2C1080&quality=55&strip=all&ssl=1', 'publishedAt': '2024-08-14T21:00:00Z', 'content': 'Apple estaría trabajando en un nuevo robot con pantalla y Apple Intelligence. Tras conocerse que la tecnológica desarrolla un proyecto para el hogar inteligente, un nuevo reporte ofrece más detalles … [+2254 chars]'}, {'source': {'id': None, 'name': 'DIYphotography'}, 'author': 'John Aldred', 'title': 'Seeed Studio reCamera is a modular AI-powered “smart” camera', 'description': 'Electronics company Seeed Studio has launched reCamera. It’s a modular AI camera platform that promises to be the most advanced of its kind. It uses...\\nThe post Seeed Studio reCamera is a modular AI-powered “smart” camera appeared first on DIY Photography.', 'url': 'https://www.diyphotography.net/seeed-studio-recamera-is-a-modular-ai-powered-smart-camera/', 'urlToImage': 'https://www.diyphotography.net/wp-content/uploads/2024/08/recamera-01.jpg', 'publishedAt': '2024-08-26T13:28:04Z', 'content': 'Electronics company Seeed Studio has launched reCamera. Its a modular AI camera platform that promises to be the most advanced of its kind. It uses computer vision (CV) and artificial intelligence (A… [+2314 chars]'}, {'source': {'id': None, 'name': 'Hipertextual'}, 'author': 'Gabriel Erard', 'title': 'Apple prepara una inversión millonaria en OpenAI', 'description': 'La alianza entre Apple y OpenAI podría expandirse más allá de la integración de ChatGPT en Siri. Según un nuevo reporte de The Wall Street Journal, los de Cupertino están en tratativas con la startup de inteligencia artificial para sumarse como inversores en …', 'url': 'http://hipertextual.com/2024/08/apple-prepara-una-inversion-millonaria-en-openai', 'urlToImage': 'https://imgs.hipertextual.com/wp-content/uploads/2024/08/Apple-ChatGPT-1-scaled.jpg', 'publishedAt': '2024-08-29T18:29:41Z', 'content': 'La alianza entre Apple y OpenAI podría expandirse más allá de la integración de ChatGPT en Siri. Según un nuevo reporte de The Wall Street Journal, los de Cupertino están en tratativas con la startup… [+1606 chars]'}, {'source': {'id': 'business-insider', 'name': 'Business Insider'}, 'author': 'Lakshmi Varanasi,Lloyd Lee', 'title': 'What OpenAI must do to stay on top', 'description': 'Investors are getting antsy as OpenAI spends billions with little promise of a return on investment and top talent heads elsewhere.', 'url': 'https://www.businessinsider.com/openai-competition-investor-anxiety-talent-retention-microsoft-meta-google-2024-8', 'urlToImage': 'https://i.insider.com/66abe39e393cd3c8629ab74a?width=1200&format=jpeg', 'publishedAt': '2024-08-26T09:31:02Z', 'content': 'Adobe Firefly, Wavebreakmedia/Getty, Tyler Le/BI\\r\\n<ul><li>OpenAI has an edge over its competitors through its talent pool and advanced AI model.</li><li>But the company is not infallible, as it bleed… [+7872 chars]'}, {'source': {'id': 'business-insider', 'name': 'Business Insider'}, 'author': 'Matthew Loh', 'title': \"One of China's hottest new EV makers says it lost $9,200 for each $30,000 smart car it delivered\", 'description': \"Xiaomi's first EV, the  $30,000 Speed Ultra 7, sold out within a day of its March launch, but isn't expected to break even for a while.\", 'url': 'https://www.businessinsider.com/xiaomi-loses-speed-ultra-7-electric-vehicles-9200-per-car-2024-8', 'urlToImage': 'https://i.insider.com/66c6c394b4912df3ae1da0aa?width=1200&format=jpeg', 'publishedAt': '2024-08-22T06:04:00Z', 'content': \"Xiaomi's SU7 sold out on the first day of its launch, but the smartphone maker's early losses show it will take time for the new EV player to turn a profit.Costfoto/NurPhoto via Getty Images\\r\\n<ul><li… [+3362 chars]\"}, {'source': {'id': 'fox-news', 'name': 'Fox News'}, 'author': 'Kurt Knutsson, CyberGuy Report', 'title': 'The next-gen humanoid robot is knocking at your door', 'description': 'Figure of California has introduced its Figure 02, its second-generation humanoid robot designed for production lines at commercial sites.', 'url': 'https://www.foxnews.com/tech/next-gen-humanoid-robot-knocking-your-door', 'urlToImage': 'https://static.foxnews.com/foxnews.com/content/uploads/2024/08/1-The-next-gen-humanoid-robot-is-knocking-at-your-door.jpg', 'publishedAt': '2024-08-21T10:00:33Z', 'content': 'California-based company Figure has unveiled its second-generation humanoid robot, Figure 02.\\xa0\\r\\nThis innovative creation is initially targeted at production lines in commercial settings, where it aim… [+4128 chars]'}, {'source': {'id': 'business-insider', 'name': 'Business Insider'}, 'author': 'Julia Hood', 'title': \"AI can enhance human expertise and worker well-being, Clear Capital's EVP of strategy and growth says\", 'description': 'The executive vice president of strategy and growth at Clear Capital shares how innovative technology can drive a better work experience.', 'url': 'https://www.businessinsider.com/how-real-estate-industry-can-use-ai-enhance-human-expertise-2024-8', 'urlToImage': 'https://i.insider.com/66be3ddbb4912df3ae1c08ec?width=1200&format=jpeg', 'publishedAt': '2024-08-15T18:55:52Z', 'content': \"Kenon Chen.Clear Capital\\r\\n<ul><li>Kenon Chen, a member of BI's Workforce Innovation board, is Clear Capital's strategy and growth EVP.</li><li>He views AI as a chance to improve workplace processes a… [+7672 chars]\"}, {'source': {'id': None, 'name': 'Hipertextual'}, 'author': 'Luis Miranda', 'title': 'Qualcomm trabaja en unas gafas de realidad mixta con ayuda de Google y Samsung', 'description': 'Qualcomm ha hecho equipo con Samsung y Google para desarrollar unas gafas de realidad mixta. Tras anunciar un nuevo procesador a comienzos de 2024, el fabricante de chips reveló sus planes para producir un dispositivo capaz de brindar una experiencia de reali…', 'url': 'http://hipertextual.com/2024/09/qualcomm-google-samsung-gafas-realidad-mixta-vision-pro', 'urlToImage': 'https://imgs.hipertextual.com/wp-content/uploads/2024/09/gafas-realidad-mixta-qualcomm.jpg', 'publishedAt': '2024-09-06T00:03:11Z', 'content': 'Qualcomm ha hecho equipo con Samsung y Google para desarrollar unas gafas de realidad mixta. Tras anunciar un nuevo procesador a comienzos de 2024, el fabricante de chips reveló sus planes para produ… [+1860 chars]'}, {'source': {'id': None, 'name': 'Android Central'}, 'author': 'Nicholas Sutrich', 'title': 'Exclusive: Honor is using AI to try to reverse your nearsightedness', 'description': \"Myopia is a huge problem and only getting worse. Honor's AI defocus tech aims to fix the problem by starting at the root of the problem: our eyes.\", 'url': 'https://www.androidcentral.com/phones/honor-magicpad-2-honor-magic-v3-ai-defocus-display', 'urlToImage': 'https://cdn.mos.cms.futurecdn.net/ruCgppDYs3B85jEttfgkfh-1200-80.jpg', 'publishedAt': '2024-09-05T13:01:07Z', 'content': 'Until last year, I was a person who never needed to wear glasses. But life eventually caught up to me, and a combination of age and the unique strains of modern life caused me to finally visit an opt… [+11336 chars]'}, {'source': {'id': 'business-insider', 'name': 'Business Insider'}, 'author': 'Eugene Kim', 'title': 'In a leaked recording, Amazon cloud chief tells employees that most developers could stop coding soon as AI takes over', 'description': 'Matt Garman sees a shift in software development as AI automates coding, telling staff to enhance product-management skills to stay competitive.', 'url': 'https://www.businessinsider.com/aws-ceo-developers-stop-coding-ai-takes-over-2024-8', 'urlToImage': 'https://i.insider.com/66c4d97d1aa2ac29ee329769?width=1200&format=jpeg', 'publishedAt': '2024-08-20T19:38:23Z', 'content': 'Amazon Web Services CEO Matt GarmanAmazon\\r\\n<ul><li>AWS CEO Matt Garman shared his thoughts during an internal fireside chat held in June.</li><li>Business Insider obtained a recording of the meeting.… [+3915 chars]'}, {'source': {'id': None, 'name': 'Scientific American'}, 'author': 'Phil Plait', 'title': 'No, You Can’t See the Great Wall of China from Space', 'description': 'Reports of Earth-orbiting astronauts glimpsing the Great Wall of China and many other artificial structures are wildly exaggerated, but humanity’s planetary influence isn’t entirely invisible from afar', 'url': 'https://www.scientificamerican.com/article/no-you-cant-see-the-great-wall-of-china-from-space/', 'urlToImage': 'https://static.scientificamerican.com/dam/m/13a530a6a6811eca/original/GettyImages-1165562681_WEB.jpg?w=1200', 'publishedAt': '2024-08-09T10:45:00Z', 'content': 'When I was a mere lad, probably in middle school, I remember a friend telling me that the Apollo astronauts could see the Great Wall of China from the moon.\\r\\nIf someone told me that now, I’d know alm… [+7311 chars]'}, {'source': {'id': None, 'name': 'Forbes'}, 'author': 'Josipa Majic Predin, Contributor, \\n Josipa Majic Predin, Contributor\\n https://www.forbes.com/sites/josipamajic/', 'title': '60 AI Upstarts Reshaping Tech: A VC’s Insider Guide To The Next Wave Of Innovation', 'description': \"Buckle up, because we're about to take a deep dive into the AI ecosystem that's reshaping our world, one algorithm at a time.\", 'url': 'https://www.forbes.com/sites/josipamajic/2024/08/28/60-ai-upstarts-reshaping-tech-a-vcs-insider-guide-to-the-next-wave-of-innovation/', 'urlToImage': 'https://imageio.forbes.com/specials-images/imageserve/66cf0a95a66bd313d0848084/0x0.jpg?format=jpg&height=900&width=1600&fit=bounds', 'publishedAt': '2024-08-28T11:31:49Z', 'content': \"A photo taken on March 31, 2023 in Manta, near Turin, shows a computer screen with the home page of ... [+] the artificial intelligence OpenAI web site, displaying its chatGPT robot. Italy's privacy … [+10229 chars]\"}, {'source': {'id': None, 'name': 'Theregister.com'}, 'author': 'Laura Dobberstein', 'title': 'LG Electronics aims to become a datacenter cooling player, with aircon and immersion tech', 'description': '2030 vision also calls for its appliances and televisions to turn you into a subscription cash cow\\nLG Electronics plans to expand its datacenter cooling business, to cash in on demand for AI.…', 'url': 'https://www.theregister.com/2024/08/22/lg_electronics_datacenter_cooling_2030_vision/', 'urlToImage': 'https://regmedia.co.uk/2021/09/22/shutterstock_cool_dc.jpg', 'publishedAt': '2024-08-22T00:59:08Z', 'content': 'LG Electronics plans to expand its datacenter cooling business, to cash in on demand for AI.\\r\\nThe Korean giant already operates a substantial heating, ventilation and air-conditioning (HVAC) business… [+2937 chars]'}, {'source': {'id': None, 'name': 'Forbes'}, 'author': 'David Joosten, Forbes Councils Member, \\n David Joosten, Forbes Councils Member\\n https://www.forbes.com/councils/forbestechcouncil/people/davidjoosten/', 'title': 'Real Artificial Intelligence Can’t Exist Without Human Collaboration: Here’s Why', 'description': 'Navigating the complexities of an AI endeavor requires a diverse array of perspectives, voices and expertise.', 'url': 'https://www.forbes.com/councils/forbestechcouncil/2024/08/14/real-artificial-intelligence-cant-exist-without-human-collaboration-heres-why/', 'urlToImage': 'https://imageio.forbes.com/specials-images/imageserve/628d2f56e84cf834d459856e/0x0.jpg?format=jpg&height=900&width=1600&fit=bounds', 'publishedAt': '2024-08-14T10:30:00Z', 'content': 'David Joosten is President and CEO of Vodafone US Inc., leading Vodafone Business commercial operations throughout North America.\\r\\ngetty\\r\\nThese are exciting times: AI has moved from a hot topic on TE… [+6417 chars]'}, {'source': {'id': None, 'name': 'CNET'}, 'author': 'Kacie Goff', 'title': '6 Common Eye Conditions to Watch for as You Age', 'description': 'As we age, our vision naturally changes. Here are six common eye conditions you may face throughout your life.', 'url': 'https://www.cnet.com/health/personal-care/6-common-eye-conditions-to-watch-for-as-you-age/', 'urlToImage': 'https://www.cnet.com/a/img/resize/7689d913806a7f8ecabd8a9982fd89a5f4b34147/hub/2023/08/09/5bb274f7-0f73-4fe7-ab0b-dc8e9cc82ca1/gettyimages-1147724019.jpg?auto=webp&fit=crop&height=675&width=1200', 'publishedAt': '2024-09-08T18:00:03Z', 'content': \"Your eyes are aging. Whether it's\\xa0staring at a screen for work or spending the summer under the sun, your daily activities take a toll on your vision and eye health.\\r\\nAging eyes means changes in your… [+5526 chars]\"}, {'source': {'id': None, 'name': 'Autoblog'}, 'author': 'Associated Press', 'title': \"Experts say Tesla's 'Full Self-Driving' system is dangerous\", 'description': \"Filed under:\\n Government/Legal,Tesla,Driving,Safety,Technology,Autonomous Vehicles\\n Continue reading Experts say Tesla's 'Full Self-Driving' system is dangerous\\nExperts say Tesla's 'Full Self-Driving' system is dangerous originally appeared on Autoblog on Sat…\", 'url': 'https://www.autoblog.com/2024/08/31/experts-tesla-full-self-driving-dangerous/', 'urlToImage': 'https://edgecast-img.yahoo.net/mysterio/api/47B3DA24609BF40B5202ED6058069EA9120167ABC9C6C9FD216C89AE11E73687/autoblog/resizefill_w1200_h675;quality_85;format_webp;cc_31536000;/https://s.aolcdn.com/images/dims3/GLOB/legacy_thumbnail/1200x675/format/jpg/quality/100/https://s.aolcdn.com/os/ab/_cms/2020/07/22104208/Tesla-Model_31.jpg', 'publishedAt': '2024-08-31T15:00:00Z', 'content': 'DETROIT Three times in the past four months, William Stein, a technology analyst at Truist Securities, has taken Elon Musk up on his invitation to try the latest versions of Teslas vaunted Full Self-… [+8409 chars]'}, {'source': {'id': 'business-insider', 'name': 'Business Insider'}, 'author': 'Julia Hood,Rebecca Knight,Tim Paradis', 'title': 'AI and worker well-being are top of mind for business leaders, according to execs from Accenture, Mastercard, Ancestry, and more', 'description': \"Participants in Business Insider's first Workforce Innovation virtual roundtable discuss the top focus areas at their companies.\", 'url': 'https://www.businessinsider.com/top-business-execs-trending-insights-ai-worker-well-being-roundtable-2024-9', 'urlToImage': 'https://i.insider.com/66d1e1941d8d2deb96b7b660?width=1200&format=jpeg', 'publishedAt': '2024-09-03T19:03:55Z', 'content': 'Getty Images; Andrius Banelis for BI\\r\\nExecutives from 10 companies who are participants in our first-ever Workforce Innovation Board convened for a virtual roundtable on August 21.The group was asked… [+13747 chars]'}, {'source': {'id': None, 'name': 'CNET'}, 'author': 'Kacie Goff', 'title': 'Aging Eyes? 6 Common Eye Conditions and How to Protect Your Vision as You Age', 'description': 'Our vision naturally changes as we age. In addition to protecting your eyes, you should know about these six common eye conditions that you may face.', 'url': 'https://www.cnet.com/health/personal-care/6-common-eye-conditions-and-how-to-protect-your-vision-as-you-age/', 'urlToImage': 'https://www.cnet.com/a/img/resize/7689d913806a7f8ecabd8a9982fd89a5f4b34147/hub/2023/08/09/5bb274f7-0f73-4fe7-ab0b-dc8e9cc82ca1/gettyimages-1147724019.jpg?auto=webp&fit=crop&height=675&width=1200', 'publishedAt': '2024-08-30T19:00:03Z', 'content': \"Your eyes are aging. Whether it's\\xa0staring at a screen for work or spending the summer under the sun, your daily activities take a toll on your vision and eye health.\\r\\nAging vision means changes in yo… [+5390 chars]\"}, {'source': {'id': None, 'name': 'Forbes'}, 'author': 'Jennifer Kite-Powell, Senior Contributor, \\n Jennifer Kite-Powell, Senior Contributor\\n https://www.forbes.com/sites/jenniferkitepowell/', 'title': 'How Spatial Intelligence Models Will Become More Versatile And Reliable', 'description': 'Spatial intelligence will help us interpret physical spaces in a digital world. How will AI play a role and what will it change for us?', 'url': 'https://www.forbes.com/sites/jenniferkitepowell/2024/08/29/how-spatial-intelligence-models-will-become-more-versatile-and-reliable/', 'urlToImage': 'https://imageio.forbes.com/specials-images/imageserve/66ce519a6d729ffac32d72be/0x0.jpg?format=jpg&height=900&width=1600&fit=bounds', 'publishedAt': '2024-08-29T05:40:52Z', 'content': 'Emily Chang, host of The Circuit with Emily Chang, left, and Fei-Fei Li, co-director of the ... [+] Human-Centered AI Institute at Stanford University, during the Bloomberg Technology Summit in San F… [+6939 chars]'}, {'source': {'id': 'business-insider', 'name': 'Business Insider'}, 'author': 'Ben Bergman,Sri Muppidi,Vishal Persaud,Darius Rafieyan,Leena Rao,Melia Russell,Samantha Stokes,Rebecca Torrence', 'title': '44 of the most promising AI startups of 2024, according to top VCs', 'description': 'Top venture capitalists reveal the most promising AI startups of 2024, highlighting companies in fintech, health, and logistics..', 'url': 'https://www.businessinsider.com/ai-startups-most-promising-2024-9', 'urlToImage': 'https://i.insider.com/66db2c8ea0ff598b266553c8?width=1200&format=jpeg', 'publishedAt': '2024-09-09T09:00:02Z', 'content': 'From left, S. Somasegar of Madrona; Lan Xuezhao of Basis Set Ventures; Alex Morgan of Khosla Ventures; and Renata Quintini of Renegade PartnersMadrona, Basis Set Ventures, Khosla Ventures, Renegade P… [+38057 chars]'}, {'source': {'id': 'fox-news', 'name': 'Fox News'}, 'author': 'Kurt Knutsson, CyberGuy Report', 'title': 'Your next takeout burger could arrive at your doorstep via robot delivery', 'description': 'Shake Shack has teamed up with a technology company and has begun delivering food orders using autonomous delivery robots in Los Angeles.', 'url': 'https://www.foxnews.com/tech/your-next-takeout-burger-could-arrive-your-doorstep-via-robot-delivery', 'urlToImage': 'https://static.foxnews.com/foxnews.com/content/uploads/2024/08/1-Your-next-burger-could-arrive-at-your-doorstep-via-robot-delivery.jpg', 'publishedAt': '2024-08-28T10:00:33Z', 'content': \"So, you're hit with a craving for a mouthwatering Shake Shack burger. Instead of jumping in your car and braving the traffic, you simply grab your phone and place an order through an app. But here's … [+6101 chars]\"}, {'source': {'id': None, 'name': 'Github.com'}, 'author': 'taichi-dev', 'title': 'Taichi: Productive, portable, and performant GPU programming in Python', 'description': 'Productive, portable, and performant GPU programming in Python. - taichi-dev/taichi', 'url': 'https://github.com/taichi-dev/taichi', 'urlToImage': 'https://opengraph.githubassets.com/dda4e09b1159890334d58fb029d8337f8cd9ffc47a4d4ee2879042bfc9ef5b2c/taichi-dev/taichi', 'publishedAt': '2024-08-20T21:36:12Z', 'content': 'pip install taichi # Install Taichi Lang\\r\\nti gallery # Launch demo gallery\\r\\nTaichi Lang is an open-source, imperative, parallel programming language for high-performance numerical computation. It is … [+3650 chars]'}, {'source': {'id': None, 'name': 'Forbes'}, 'author': 'Amir Husain, Contributor, \\n Amir Husain, Contributor\\n https://www.forbes.com/sites/amirhusain/', 'title': 'The Military Applications Of Artificial Intelligence In Space', 'description': 'Space has long been a critical domain of military strategy and operations and artificial intelligence (AI) is rapidly emerging as a game-changing force.', 'url': 'https://www.forbes.com/sites/amirhusain/2024/08/19/the-military-applications-of-artificial-intelligence-in-space/', 'urlToImage': 'https://imageio.forbes.com/specials-images/imageserve/66b3eda1304c67848ad24ea5/0x0.jpg?format=jpg&height=900&width=1600&fit=bounds', 'publishedAt': '2024-08-19T13:00:00Z', 'content': \"China's Tiangong Space Station\\r\\nPeople's Daily\\r\\nSpace has long been a critical domain of military operations. But its importance is about to be amplified as artificial intelligence (AI) enables a spe… [+8420 chars]\"}, {'source': {'id': 'time', 'name': 'Time'}, 'author': 'Silvia Bellezza', 'title': 'How Busyness Became the New Status Symbol', 'description': 'Historically, working long hours didn\\'t generate admiration. So what gives? And are we nearing a \"leisure renaissance\"?', 'url': 'https://time.com/7016463/busyness-status-symbol/', 'urlToImage': 'https://api.time.com/wp-content/uploads/2024/08/GettyImages-1362745578.jpg?quality=85&w=1200&h=628&crop=1', 'publishedAt': '2024-08-31T11:00:00Z', 'content': 'Whom do you hold in higher regard: Jimmy Carter and Barack Obama, politicians known for often working from early morning until late at night; or Keir Starmer, the new U.K. Prime Minister, who declare… [+5096 chars]'}, {'source': {'id': None, 'name': 'Singularity Hub'}, 'author': 'Singularity Hub Staff', 'title': 'This Week’s Awesome Tech Stories From Around the Web (Through August 31)', 'description': 'ARTIFICIAL INTELLIGENCE Generative AI Creates Playable Version of Doom Game With No Code Matthew Sparkes | New Scientist “An AI-generated re-creation of the classic computer game Doom\\xa0can be played normally despite having no computer code or graphics. Researc…', 'url': 'https://singularityhub.com/2024/08/31/this-weeks-awesome-tech-stories-from-around-the-web-through-august-31-2/', 'urlToImage': 'https://singularityhub.com/uploads/2024/08/wind-turbine-at-night-stars.jpeg', 'publishedAt': '2024-08-31T14:00:22Z', 'content': 'Generative AI Creates Playable Version of Doom Game With No CodeMatthew Sparkes | New Scientist“An AI-generated re-creation of the classic computer game Doom\\xa0can be played normally despite having no … [+4777 chars]'}, {'source': {'id': None, 'name': 'Vox'}, 'author': 'Sigal Samuel, Kelsey Piper, Dylan Matthews', 'title': 'California’s governor has the chance to make AI history', 'description': 'Advocates say it is a modest law setting “clear, predictable, common-sense safety standards” for artificial intelligence. Opponents say it is a dangerous and arrogant step that will “stifle innovation.” In any event, SB 1047 — California state Sen. Scott Wien…', 'url': 'https://www.vox.com/future-perfect/369628/ai-safety-bill-sb-1047-gavin-newsom-california', 'urlToImage': 'https://platform.vox.com/wp-content/uploads/sites/2/2024/07/gettyimages-2161013764_474f9c.jpg?quality=90&strip=all&crop=0%2C10.752616398754%2C100%2C78.494767202492&w=1200', 'publishedAt': '2024-08-30T19:22:48Z', 'content': 'Advocates say it is a modest law setting clear, predictable, common-sense safety standards for artificial intelligence. Opponents say it is a dangerous and arrogant step that will stifle innovation.\\r… [+10124 chars]'}, {'source': {'id': None, 'name': 'Autoblog'}, 'author': 'Insider', 'title': 'Xiaomi says it lost $9,200 for each $30,000 Speed Ultra 7 it delivered', 'description': 'Filed under:\\n Earnings/Financials,Green,Electric\\n Continue reading Xiaomi says it lost $9,200 for each $30,000 Speed Ultra 7 it delivered\\nXiaomi says it lost $9,200 for each $30,000 Speed Ultra 7 it delivered originally appeared on Autoblog on Thu, 22 Aug 202…', 'url': 'https://www.autoblog.com/2024/08/22/xiaomi-says-it-lost-9200-for-each-30000-speed-ultra-7-it-delivered/', 'urlToImage': 'https://edgecast-img.yahoo.net/mysterio/api/A183D3AB41D727562375DC065900E580F4D11F712C222A2B7B7FAB9556E5A37D/autoblog/resizefill_w1200_h675;quality_85;format_webp;cc_31536000;/https://s.aolcdn.com/images/dims3/GLOB/legacy_thumbnail/1200x675/format/jpg/quality/100/https://s.aolcdn.com/os/ab/_cms/2024/05/03151540/Xiaomi-SU71.jpg', 'publishedAt': '2024-08-22T13:40:00Z', 'content': 'Chinese tech giant Xiaomi, known for making smartphones, turned heads in March when its maiden electric vehicle sold out with almost 90,000 preorders within a day of launch.\\r\\nIts new auto branch post… [+2832 chars]'}, {'source': {'id': None, 'name': 'Mckinsey.com'}, 'author': None, 'title': 'Prudential embraces customer centricity: An interview with Priscilla Ng', 'description': 'Prudential plc’s shift to customer-centric insurance hinges on digital transformation, with data and artificial intelligence as key enablers and humans still playing a crucial role.', 'url': 'https://www.mckinsey.com/featured-insights/asia-pacific/prudential-embraces-customer-centricity-an-interview-with-priscilla-ng', 'urlToImage': 'https://www.mckinsey.com/~/media/mckinsey/featured%20insights/asia%20pacific/prudential%20embraces%20customer%20centricity%20an%20interview%20with%20priscilla%20ng/prudential-video-interview-thumb-1536x1536.jpg', 'publishedAt': '2024-08-14T00:00:00Z', 'content': 'As Prudential plc embraces digital transformation, the 176-year-old insurance company finds itself navigating a delicate balancing act: harmonizing the power of AI with a human touch, essential to de… [+13154 chars]'}, {'source': {'id': None, 'name': 'Neowin'}, 'author': 'Martin Hodás', 'title': 'The hypocrisy of Elon Musk and his vision of an AI doomsday', 'description': 'Elon should be concerned with his own actions regarding Grok AI. For years, he has been warning us about the threat of artificial intelligence. Today, it seems like he was warning us about himself. Read more...', 'url': 'https://www.neowin.net/editorials/the-hypocrisy-of-elon-musk-and-his-vision-of-an-ai-doomsday/', 'urlToImage': 'https://cdn.neowin.com/news/images/uploaded/2023/03/1678434744_elon-musk-gdab7774b8_1920_story.jpg', 'publishedAt': '2024-08-25T11:00:01Z', 'content': 'In a distant (or not-so-distant) future, artificial intelligence could become an immortal dictator we can never escape from. If we stay in AIs ultimate goalwhatever that might beit can simply destroy… [+3117 chars]'}, {'source': {'id': None, 'name': 'TechSpot'}, 'author': 'Zo Ahmed', 'title': 'Robots can now train themselves with new \"practice makes perfect\" algorithm', 'description': 'The new \"Estimate, Extrapolate, and Situate\" (EES) algorithm, developed by the MIT Computer Science and Artificial Intelligence Lab (CSAIL) and The AI Institute, was recently presented at the Robotics: Science and Systems conference. Here\\'s how it works:Read …', 'url': 'https://www.techspot.com/news/104193-robots-can-now-train-themselves-new-practice-makes.html', 'urlToImage': 'https://www.techspot.com/images2/news/bigimage/2024/08/2024-08-09-image-12.jpg', 'publishedAt': '2024-08-09T15:08:00Z', 'content': \"What just happened? Researchers have developed an algorithm that allows robots to autonomously identify weaknesses in their skills and then systematically practice to improve them. It's akin to givin… [+2537 chars]\"}, {'source': {'id': None, 'name': 'Forbes'}, 'author': 'Sarah Elk, Contributor, \\n Sarah Elk, Contributor\\n https://www.forbes.com/sites/selk/', 'title': 'Why Strategic Workforce Planning Is More Valuable Than Ever', 'description': 'Operational headcount planning isn’t holding up in an age of digital transformation and artificial intelligence integration.', 'url': 'https://www.forbes.com/sites/selk/2024/08/27/why-strategic-workforce-planning-is-more-valuable-than-ever/', 'urlToImage': 'https://imageio.forbes.com/specials-images/imageserve/66cdd1743121e8d22b076618/0x0.jpg?format=jpg&height=900&width=1600&fit=bounds', 'publishedAt': '2024-08-27T13:33:10Z', 'content': 'Operational headcount planning isnt holding up in an age of digital transformation and AI ... [+] integration.\\r\\ngetty\\r\\nThe leaves havent turned quite yet, and your coffee may not taste like pumpkin s… [+4016 chars]'}, {'source': {'id': None, 'name': '/FILM'}, 'author': 'staff@slashfilm.com (Witney Seibold)', 'title': \"The MCU's Ultron Returns In A Non-Canon Story, But He's Not Played By James Spader\", 'description': \"James Spader isn't the only actor to voice the MCU's Ultron, with the super-robot having previously appeared in a non-canon story.\", 'url': 'https://www.slashfilm.com/1651744/james-spader-ultron-mcu-avengers-quantum-encounter-replacement-actor/', 'urlToImage': 'https://www.slashfilm.com/img/gallery/the-mcus-ultron-returns-in-a-non-canon-story-but-hes-not-played-by-james-spader/l-intro-1724787166.jpg', 'publishedAt': '2024-08-31T17:45:32Z', 'content': 'Joss Whedon\\'s large-scale action picture \"Avengers: Age of Ultron\" was released in theaters in the spring of 2015, and it featured a gaggle of Marvel superheroes teaming up to fight the eponymous evi… [+1785 chars]'}, {'source': {'id': None, 'name': 'Forbes'}, 'author': 'Jamie Carter, Senior Contributor, \\n Jamie Carter, Senior Contributor\\n https://www.forbes.com/sites/jamiecartereurope/', 'title': 'NASA’s New Chief Artificial Intelligence Officer Is A Man On A Mission', 'description': \"NASA's new AI officer aims to advance AI in space exploration and climate modeling, setting an example for responsible use of the technology across the U.S. government.\", 'url': 'https://www.forbes.com/sites/jamiecartereurope/2024/08/17/nasas-new-chief-artificial-intelligence-officer-is-a-man-on-a-mission/', 'urlToImage': 'https://imageio.forbes.com/specials-images/imageserve/66bf7f90d8a68adb82d10f09/0x0.jpg?format=jpg&crop=2047,1151,x0,y27,safe&height=900&width=1600&fit=bounds', 'publishedAt': '2024-08-17T10:00:00Z', 'content': 'NASA Chief Artificial Intelligence Officer David Salvagnini participates in a NASA employee town ... [+] hall on how the agency is using and developing Artificial Intelligence (AI) tools to advance m… [+7337 chars]'}, {'source': {'id': None, 'name': 'Forbes'}, 'author': 'C.M. Rubin, Contributor, \\n C.M. Rubin, Contributor\\n https://www.forbes.com/sites/cathyrubin/', 'title': 'How To Balance AI Innovation And Human Creativity In Hollywood Storytelling', 'description': 'As artificial intelligence technology rapidly advances, Hollywood faces a pivotal challenge: integrating AI into the filmmaking process without overshadowing the human.', 'url': 'https://www.forbes.com/sites/cathyrubin/2024/08/20/how-to-balance-ai-innovation-and-human-creativity-in-hollywood-storytelling/', 'urlToImage': 'https://imageio.forbes.com/specials-images/imageserve/66c3d4ac761abb68391b2679/0x0.jpg?format=jpg&height=900&width=1600&fit=bounds', 'publishedAt': '2024-08-20T07:00:00Z', 'content': 'a robotic intelligence works as a cameraman (3d rendering)\\r\\ngetty\\r\\nFeaturing Insights from: Nick Bostrom, David Hanson, Sophia, Thomas McGrath, Chris Deering, Bob Shaye,Donald Zuckerman, Jane Rosenth… [+8015 chars]'}, {'source': {'id': None, 'name': 'AndroidGuys'}, 'author': 'Scott Webster', 'title': 'TECNO Unveils Practical AI Innovations at IFA Berlin 2024', 'description': 'TECNO has made a splash at IFA Berlin 2024, showcasing its latest innovations in the AIoT (Artificial Intelligence of Things) space. With the theme “Innovate for the Future,” the brand is hinting at a fascinating future for connected devices, catching the att…', 'url': 'https://androidguys.com/news/tecno-unveils-practical-ai-innovations-at-ifa-berlin-2024/', 'urlToImage': 'https://i0.wp.com/androidguys.com/wp-content/uploads/2024/09/tecno_minipc.webp?resize=1200%2C1200&ssl=1', 'publishedAt': '2024-09-06T17:50:19Z', 'content': 'TECNO has made a splash at IFA Berlin 2024, showcasing its latest innovations in the AIoT (Artificial Intelligence of Things) space. With the theme “Innovate for the Future,” the brand is hinting at … [+2844 chars]'}, {'source': {'id': None, 'name': 'Forbes'}, 'author': 'Hamilton Mann, Contributor, \\n Hamilton Mann, Contributor\\n https://www.forbes.com/sites/hamiltonmann/', 'title': 'Hype And Hope Don’t Hide AI’s Hurdles', 'description': 'Six down-to-earth watch-outs about GenAI that leaders should keep on their radar to avoid two traps—mistaking hope for potential or hype for vision.', 'url': 'https://www.forbes.com/sites/hamiltonmann/2024/08/23/hype-and-hope-dont-hide-ais-hurdles/', 'urlToImage': 'https://imageio.forbes.com/specials-images/imageserve/66c8833d37130ed6f11b279b/0x0.jpg?format=jpg&height=900&width=1600&fit=bounds', 'publishedAt': '2024-08-23T16:04:39Z', 'content': 'Illustration of human head and cog gears\\r\\nGetty\\r\\nThe deployment of Generative AI (GenAI) is often highlighted in current discussions as a means to achieve significant productivity gains in business. … [+5757 chars]'}, {'source': {'id': None, 'name': 'Deadline'}, 'author': 'Jesse Whittock', 'title': '‘Hunt: We Need To Talk About James’ Producer Deep Fusion Films Hires AI & Visual Effects Expert Christian Darkin', 'description': 'EXCLUSIVE: Deep Fusion Films, the UK doc maker behind upcoming doc Hunt: We Need to Talk About James, has hired AI and visual effects guru Christian Darkin. He is joining the Cardiff-based producer as Head of Creative AI, leading on the development and creati…', 'url': 'http://deadline.com/2024/09/deep-fusion-hires-ai-expert-christian-darkin-1236078018/', 'urlToImage': 'https://deadline.com/wp-content/uploads/2024/09/Christian-Darkin.jpg?w=1024', 'publishedAt': '2024-09-05T14:00:00Z', 'content': 'EXCLUSIVE:Deep Fusion Films, the UK doc maker behind upcoming doc Hunt: We Need to Talk About James, has hired AI and visual effects guru Christian Darkin.\\r\\nHe is joining the Cardiff-based producer a… [+2272 chars]'}, {'source': {'id': None, 'name': 'Deadline'}, 'author': 'Katie Campione', 'title': 'SAG-AFTRA Announces Agreement With AI Company Narrativ Allowing Actors To License Digital Voice Replicas For Ads', 'description': 'SAG-AFTRA has announced a deal with the artificial intelligence company Narrativ that will allow members to license their digital voice replica for use in audio ads. Narrativ is an online marketplace where brands can use AI to create audio ads. According to t…', 'url': 'http://deadline.com/2024/08/sag-aftra-agreement-narrativ-ai-voice-ads-1236040192/', 'urlToImage': 'https://deadline.com/wp-content/uploads/2023/07/Sag-3.jpg?w=1024', 'publishedAt': '2024-08-14T15:26:26Z', 'content': 'SAG-AFTRA has announced a deal with the artificial intelligence company Narrativ that will allow members to license their digital voice replica for use in audio ads.\\r\\nNarrativ is an online marketplac… [+3126 chars]'}, {'source': {'id': None, 'name': 'Wwwhatsnew.com'}, 'author': 'Juan Diego Polo', 'title': 'Realme GT 6 incluye grandes novedades con Inteligencia Artificial', 'description': 'Como ya os hemos dicho varias veces, el realme GT 6 se presenta como el «flagship killer» del 2024, destacando por sus funciones avanzadas de inteligencia artificial (IA) diseñadas para mejorar la experiencia del usuario en múltiples aspectos, desde la fotogr…', 'url': 'https://wwwhatsnew.com/2024/09/04/realme-gt-6-incluye-grandes-novedades-con-inteligencia-artificial/', 'urlToImage': 'https://wwwhatsnew.com/wp-content/uploads/2024/09/realme-gt6.jpg', 'publishedAt': '2024-09-04T08:23:49Z', 'content': 'Como ya os hemos dicho varias veces, el realme GT 6 se presenta como el «flagship killer» del 2024, destacando por sus funciones avanzadas de inteligencia artificial (IA) diseñadas para mejorar la ex… [+4059 chars]'}, {'source': {'id': None, 'name': 'Idownloadblog.com'}, 'author': 'Christian Zibreg', 'title': 'Apple’s tabletop robot could cost $1000', 'description': \"Apple's rumored tabletop robotic device with a FaceTime camera and a display could launch as soon as 2026, priced around $1000.\", 'url': 'https://www.idownloadblog.com/2024/08/15/apple-tabletop-robot-2026-price-point-rumor/', 'urlToImage': 'https://media.idownloadblog.com/wp-content/uploads/2022/08/Apple-Park-headquarters-main-entrance-aerial-view.jpg', 'publishedAt': '2024-08-15T13:30:23Z', 'content': 'Apples rumored tabletop robotic device with a FaceTime camera and a display could launch as soon as 2026, priced around $1000.\\r\\nApple is rumored to have considered an iPad-like smart display with a c… [+2013 chars]'}, {'source': {'id': None, 'name': 'BBC News'}, 'author': None, 'title': 'AI cameras spot toddlers not wearing seat belts', 'description': 'Police are carrying out safeguarding checks in Devon and Cornwall after the \"alarming\" discovery.', 'url': 'https://www.bbc.com/news/articles/c5y3pdp099zo', 'urlToImage': 'https://ichef.bbci.co.uk/news/1024/branded_news/b362/live/2f64d5f0-66c6-11ef-8c32-f3c2bc7494c6.jpg', 'publishedAt': '2024-08-30T13:28:44Z', 'content': \"More than 100 children featured in seat belt offences captured by the AI cameras, police said\\r\\nAn unrestrained toddler sitting on a woman's lap in the front passenger seat was among thousands of peop… [+4798 chars]\"}, {'source': {'id': None, 'name': 'Forbes'}, 'author': 'Expert Panel®, Forbes Councils Member, \\n Expert Panel®, Forbes Councils Member\\n https://www.forbes.com/councils/forbesagencycouncil/people/expertpanel/', 'title': 'How 16 Agencies Are Using AI To Optimize Ad Campaigns', 'description': 'Artificial intelligence can provide invaluable assistance in addressing the wide-ranging challenges in tracking and adjusting ad campaigns that marketers face today.', 'url': 'https://www.forbes.com/councils/forbesagencycouncil/2024/08/15/how-16-agencies-are-using-ai-to-optimize-ad-campaigns/', 'urlToImage': 'https://imageio.forbes.com/specials-images/imageserve/666b5d5b4d30e8ec9074ac03/0x0.jpg?format=jpg&height=900&width=1600&fit=bounds', 'publishedAt': '2024-08-15T17:15:06Z', 'content': 'getty\\r\\nMarketers face a complex array of variables at play when trying to optimize ad campaigns, from audience demographics to platform algorithms. With the media landscape in a constant state of evo… [+7268 chars]'}, {'source': {'id': None, 'name': 'Forbes'}, 'author': 'Expert Panel®, Forbes Councils Member, \\n Expert Panel®, Forbes Councils Member\\n https://www.forbes.com/sites/forbestechcouncil/people/expertpanel/', 'title': '20 Top Challenges For Tech Leaders (And How They’re Tackling Them)', 'description': 'While artificial intelligence is top of mind for many tech leaders, there are other compelling trends and evergreen issues that must also be addressed.', 'url': 'https://www.forbes.com/sites/forbestechcouncil/2024/08/08/20-top-challenges-for-tech-leaders-and-how-theyre-tackling-them/', 'urlToImage': 'https://imageio.forbes.com/specials-images/imageserve/66b4d8101f13db4f0abfc61d/0x0.jpg?format=jpg&height=900&width=1600&fit=bounds', 'publishedAt': '2024-08-08T17:15:35Z', 'content': 'getty\\r\\nIts a cliché by now, but nonetheless true: Technology changes fast. That means that the issues tech leaders have to tackle evolve and are added to just as quickly. Further, there are always ev… [+9800 chars]'}, {'source': {'id': None, 'name': 'Sakana.ai'}, 'author': 'Sakana AI', 'title': 'The AI Scientist: Towards Automated Open-Ended Scientific Discovery', 'description': 'The AI Scientist: Towards Fully Automated Open-Ended Scientific Discovery', 'url': 'https://sakana.ai/ai-scientist/', 'urlToImage': 'https://sakana.ai/assets/home/sakana_rect.png', 'publishedAt': '2024-08-13T02:10:58Z', 'content': 'August 13, 2024\\r\\nAt Sakana AI, we have pioneered the use of nature-inspired methods to advance cutting-edge foundation models. Earlier this year, we developed methods to automatically merge the knowl… [+15179 chars]'}, {'source': {'id': None, 'name': 'Scientific American'}, 'author': 'Zane Wolf', 'title': 'How the Search for Aliens Is Redefining Life in the Golden Age of Astrobiology', 'description': 'The search for extraterrestrial life has profound physical, mental and spiritual implications, says Nathalie Cabrol in The Secret Life of the Universe—and it belongs to everyone', 'url': 'https://www.scientificamerican.com/article/how-the-search-for-aliens-is-redefining-life-in-the-golden-age-of/', 'urlToImage': 'https://static.scientificamerican.com/dam/m/1d7467860ed60d45/original/GettyImages-1359393314_WEB.jpg?w=1200', 'publishedAt': '2024-08-22T12:00:00Z', 'content': 'What does it mean to be “alive”? Astrobiologists such as Nathalie Cabrol must contend with the lack of a concrete answer as they explore the universe looking for something out there that can properly… [+8781 chars]'}, {'source': {'id': None, 'name': 'New Atlas'}, 'author': 'David Szondy', 'title': 'Review: Seemor 200 combines infrared with full-color night vision', 'description': \"Akaso's Seemor 200 night-vision scope uses AI to blur the dividing line between color day imaging and infrared black-and-white night imaging. We waited for sundown and put one through its paces. Here's what we found.Continue ReadingCategory: TechnologyTags: R…\", 'url': 'https://newatlas.com/technology/review-seemor-200/', 'urlToImage': 'https://assets.newatlas.com/dims4/default/9636208/2147483647/strip/true/crop/695x365+0+48/resize/1200x630!/quality/90/?url=http%3A%2F%2Fnewatlas-brightspot.s3.amazonaws.com%2F46%2Fc1%2F3917ca7a44d3b55460e709750d96%2Fzzyyxhmzduu8bmux0pcy.jpg&na.image_optimisation=0', 'publishedAt': '2024-09-08T15:00:00Z', 'content': \"Akaso's Seemor 200 night-vision scope uses AI to blur the dividing line between color day imaging and infrared black-and-white night imaging. We waited for sundown and put one through its paces. Here… [+7564 chars]\"}, {'source': {'id': None, 'name': 'Xatakamovil.com'}, 'author': 'Eduardo Marín', 'title': 'El iPhone 16 está muy cerca. Apple confirma cuándo será la Keynote, y esperamos ver mucha IA', 'description': 'Ya tenemos fecha para la presentación de la nueva generación del iPhone. Apple presentará los nuevos iPhone 16 el próximo 9 de septiembre en el Teatro Steve Jobs, en el campus de Apple en Cupertino, California. Los nuevos iPhone están muy cerca.\\n<!-- BREAK 1 …', 'url': 'https://www.xatakamovil.com/apple/iphone-16-esta-muy-cerca-apple-confirma-cuando-sera-keynote-esperamos-ver-mucha-ia', 'urlToImage': 'https://i.blogs.es/7a3eea/evento-iphone-16/840_560.jpeg', 'publishedAt': '2024-08-26T16:38:16Z', 'content': 'Ya tenemos fecha para la presentación de la nueva generación del iPhone. Apple presentará los nuevos iPhone 16el próximo 9 de septiembre a las 19:00 (hora peninsular de España) en el Teatro Steve Job… [+2252 chars]'}, {'source': {'id': None, 'name': 'Yahoo Entertainment'}, 'author': 'Dave Sebastian and Min Jeong Lee', 'title': 'SoftBank Is Picking Stock Winners in India’s Red-Hot IPO Market', 'description': '(Bloomberg) -- India’s hot market for share sales is delivering wins for Japanese technology investor SoftBank Group Corp., whose own stock has taken a hit...', 'url': 'https://finance.yahoo.com/news/softbank-picking-stock-winners-india-052446324.html', 'urlToImage': 'https://media.zenfs.com/en/bloomberg_technology_68/abe8d0ced2e9d703f7c303d122469538', 'publishedAt': '2024-08-16T05:24:46Z', 'content': '(Bloomberg) -- Indias hot market for share sales is delivering wins for Japanese technology investor SoftBank Group Corp., whose own stock has taken a hit from disappointing earnings and a reality ch… [+2905 chars]'}, {'source': {'id': None, 'name': 'Forbes'}, 'author': 'Angela Chan-Danisi, Contributor, \\n Angela Chan-Danisi, Contributor\\n https://www.forbes.com/sites/angelachan/', 'title': 'Game Changer: How SportAI Is Revolutionizing The Sports Industry', 'description': 'Its mission is to democratize access to advanced coaching tools, providing real-time, high-quality performance feedback to players of all levels.', 'url': 'https://www.forbes.com/sites/angelachan/2024/09/03/game-changer-how-sportai-is-revolutionizing-the-sports-industry/', 'urlToImage': 'https://imageio.forbes.com/specials-images/imageserve/66d74dc8fe98eeba08cfafeb/0x0.jpg?format=jpg&height=900&width=1600&fit=bounds', 'publishedAt': '2024-09-03T18:07:59Z', 'content': 'SportAI Swing Demo \\r\\nSportAI\\r\\nHow would you like to refine your tennis swing alongside the titans of the court, such as Novak Djokovic or emerging star Coco Gauff? With SportAI, you can analyze and e… [+5035 chars]'}, {'source': {'id': None, 'name': 'Project Syndicate'}, 'author': 'Michael Spence', 'title': 'Europe Needs a New Economic Vision', 'description': 'With its current course leading only to economic stagnation, the EU must establish a vision for a more dynamic, productive future. Above all, Europeans must answer a simple but critical question: What should the EU look like – in terms of innovation, the econ…', 'url': 'https://www.project-syndicate.org/commentary/eu-needs-clear-vision-for-productivity-innovation-defense-economic-growth-by-michael-spence-2024-08', 'urlToImage': 'https://webapi.project-syndicate.org/library/87d31dd5628d46ec3957f69440b0a753.2-1-super.1.jpg', 'publishedAt': '2024-08-21T12:30:47Z', 'content': 'With its current course leading only to economic stagnation, the EU must establish a vision for a more dynamic, productive future. Above all, Europeans must answer a simple but critical question: Wha… [+6471 chars]'}, {'source': {'id': None, 'name': 'CNET'}, 'author': 'Lisa Lacy', 'title': 'OpenAI: Everything You Need to Know About the Company That Started a Generative AI Revolution', 'description': 'Its ChatGPT chatbot quickly set the tone for what we can expect from Big Tech in the coming years.', 'url': 'https://www.cnet.com/tech/services-and-software/openai-everything-you-need-to-know-about-the-company-that-started-a-generative-ai-revolution/', 'urlToImage': 'https://www.cnet.com/a/img/resize/fdbaf407035a45dd318d59b68e41f511e4e5886d/hub/2024/08/29/02f00d69-28e8-4fff-b1fe-5056b39a8298/openai-and-ceo-sam-altman.jpg?auto=webp&fit=crop&height=675&width=1200', 'publishedAt': '2024-08-30T00:06:23Z', 'content': 'In less than two years, the generative AI chatbot ChatGPT has become a household name alongside products like the iPhone, Windows and Google Search.\\r\\nOpenAI is the company behind the chatbot, which h… [+12196 chars]'}, {'source': {'id': None, 'name': 'Xatakamovil.com'}, 'author': 'Eduardo Marín', 'title': 'iOS 18 está a punto de llegar. Apple ha liberado la última beta del sistema operativo, su lanzamiento oficial es inminente', 'description': 'Durante los últimos meses hemos podido probar la versión en desarrollo, o beta, de iOS 18, la próxima actualización mayor que recibirá el iPhone, considerada una de las mayores evoluciones en la historia del sistema operativo. Ahora, la versión definitiva y e…', 'url': 'https://www.xatakamovil.com/apple/ios-18-esta-a-punto-llegar-apple-ha-liberado-ultima-beta-sistema-operativo-su-lanzamiento-oficial-inminente', 'urlToImage': 'https://i.blogs.es/47e374/ios-18-beta/840_560.jpeg', 'publishedAt': '2024-08-29T03:04:46Z', 'content': 'Durante los últimos meses hemos podido probar la versión en desarrollo, o beta, de iOS 18, la próxima actualización mayor que recibirá el iPhone, considerada una de las mayores evoluciones en la hist… [+2624 chars]'}, {'source': {'id': None, 'name': 'Geeky Gadgets'}, 'author': 'Roland Hutchinson', 'title': 'What’s New in Artificial Intelligence This Week', 'description': 'This week in the world of artificial intelligence has been marked by significant advancements, intriguing developments, and thought-provoking discussions across various platforms and companies. The AI landscape continues to evolve at a rapid pace, with key hi…', 'url': 'https://www.geeky-gadgets.com/whats-new-in-artificial-intelligence-this-week/', 'urlToImage': 'https://www.geeky-gadgets.com/wp-content/uploads/2024/08/AI.jpg', 'publishedAt': '2024-08-12T05:39:06Z', 'content': 'This week in the world of artificial intelligence has been marked by significant advancements, intriguing developments, and thought-provoking discussions across various platforms and companies. The A… [+9678 chars]'}, {'source': {'id': None, 'name': 'Utexas.edu'}, 'author': None, 'title': 'The cruelty of teaching computing science (1988)', 'description': 'Comments', 'url': 'https://www.cs.utexas.edu/~EWD/transcriptions/EWD10xx/EWD1036.html', 'urlToImage': None, 'publishedAt': '2024-08-19T23:35:01Z', 'content': 'On the cruelty of really teaching computing science\\r\\nThe second part of this talk pursues some of the scientific and educational consequences of the assumption that computers represent a radical nove… [+36750 chars]'}, {'source': {'id': None, 'name': 'Geeky Gadgets'}, 'author': 'Roland Hutchinson', 'title': 'Everything New With Artificial Intelligence This Week', 'description': 'This week has seen significant advancements in Artificial Intelligence search, with OpenAI introducing its Search GPT to select users. This innovative tool aims to provide more accurate and context-aware search results, transforming the way you interact with …', 'url': 'https://www.geeky-gadgets.com/?p=435944', 'urlToImage': 'https://www.geeky-gadgets.com/wp-content/uploads/2024/08/AI-2.jpg', 'publishedAt': '2024-08-25T12:37:30Z', 'content': 'This week has seen significant advancements in Artificial Intelligence search, with OpenAI introducing its Search GPT to select users. This innovative tool aims to provide more accurate and context-a… [+7556 chars]'}, {'source': {'id': None, 'name': 'heise online'}, 'author': 'Isabel Grünewald', 'title': 'KI-Update kompakt: AI Safety Institute, Klett-Chatbot, Proton, Midjourney', 'description': 'Das \"KI-Update\" liefert werktäglich eine Zusammenfassung der wichtigsten KI-Entwicklungen.', 'url': 'https://www.heise.de/news/KI-Update-kompakt-AI-Safety-Institute-Klett-Chatbot-Proton-Midjourney-9855641.html', 'urlToImage': 'https://heise.cloudimg.io/bound/1200x1200/q85.png-lossy-85.webp-lossy-85.foil1/_www-heise-de_/imgs/18/4/6/6/2/6/1/7/KIupdate_Titel_122023-4cd1ddee68e292c6.png', 'publishedAt': '2024-09-03T13:00:00Z', 'content': 'Inhaltsverzeichnis\\r\\nDas U.S. Artificial Intelligence Safety Institute am National Institute of Standards and Technology (NIST) hat Kooperationsvereinbarungen mit den KI-Unternehmen Anthropic und Open… [+8289 chars]'}, {'source': {'id': None, 'name': 'MIT Technology Review'}, 'author': 'Tiffany Ng', 'title': 'Escaping Spotify’s algorithm', 'description': 'Since the heyday of radio, records, cassette tapes, and MP3 players, the branding of sound has evolved from broad genres like rock and hip-hop to “paranormal dark cabaret afternoon” and “synth space,” and streaming has become the default. Radio DJs have been …', 'url': 'https://www.technologyreview.com/2024/08/16/1096276/spotify-algorithms-music-discovery-ux/', 'urlToImage': 'https://wp.technologyreview.com/wp-content/uploads/2024/08/EscapingSpotifyAlgorithm_web.jpg?resize=1200,600', 'publishedAt': '2024-08-16T11:00:00Z', 'content': 'Spotifys music database has a very rich set of various parameters, markup, and categories to classify music in a very detailed way. This is simply not exposed in the official app, he says. He believe… [+3795 chars]'}, {'source': {'id': None, 'name': 'Xataka.com'}, 'author': 'Juan Carlos López', 'title': 'LG QNED87, análisis: este es el camino que deberían seguir todos los televisores de gama media/alta', 'description': 'Este televisor pertenece a una categoría un tanto atípica en nuestros análisis. Buena parte de los modelos que probamos en Xataka es claramente de gama alta, como, por ejemplo, el OLED C3 de LG, o prémium, como el Neo QLED QN900C 8K de Samsung. Algunos, sin e…', 'url': 'https://www.xataka.com/analisis/lg-qned87-analisis-caracteristicas-precio-especificaciones', 'urlToImage': 'https://i.blogs.es/f7f48e/lg-ap/840_560.jpeg', 'publishedAt': '2024-08-10T14:00:57Z', 'content': 'Este televisor pertenece a una categoría un tanto atípica en nuestros análisis. Buena parte de los modelos que probamos en Xataka es claramente de gama alta, como, por ejemplo, el OLED C3 de LG, o pr… [+14580 chars]'}, {'source': {'id': None, 'name': 'PCWorld'}, 'author': 'Michael Crider', 'title': 'MSI goes hard on AI with a thicc desktop PC that chats with you', 'description': 'MSI is hoping that you aren’t yet tired of hearing about “AI” in consumer PCs, as the company’s lineup of high-end laptops and monitors at the German trade show IFA is jam-packed with artificial alleged-intelligence.\\r\\n\\n\\n\\n\\nMost of it includes the usual bumps u…', 'url': 'https://www.pcworld.com/article/2446258/msi-goes-hard-on-ai-with-a-thicc-desktop-pc-that-chats-with-you.html', 'urlToImage': 'https://www.pcworld.com/wp-content/uploads/2024/09/MSI-MEG-Vision-X-AI.jpg?quality=50&strip=all&w=1024', 'publishedAt': '2024-09-03T18:00:00Z', 'content': \"Skip to contentType your search and hit enter\\r\\nWhen you purchase through links in our articles, we may earn a small commission. This doesn't affect our editorial independence\\r\\n.\\r\\nMSI is hoping that y… [+5520 chars]\"}, {'source': {'id': None, 'name': 'SamMobile'}, 'author': 'Mihai Matei', 'title': 'Samsung Food update lets you scan ingredients using your phone', 'description': \"Ahead of the IFA 2024 trade show, which kicks off in Berlin on September 6, Samsung has announced a new update to its Food platform. Unsurprisingly, given the company's focus on AI (artificial intelligence) throughout the year, the latest update to Samsung Fo…\", 'url': 'https://www.sammobile.com/news/samsung-food-update-scan-ingredients-using-phone/', 'urlToImage': 'https://www.sammobile.com/wp-content/uploads/2024/08/Bespoke-Fridge-AI_1-720x360.jpg', 'publishedAt': '2024-08-28T13:39:12Z', 'content': \"Ahead of the IFA 2024 trade show, which kicks off in Berlin on September 6, Samsung has announced a new update to its Food platform. Unsurprisingly, given the company's focus on AI (artificial intell… [+2454 chars]\"}, {'source': {'id': None, 'name': 'Phys.Org'}, 'author': 'Science X', 'title': 'AI and remote sensing data sets advance sustainable mining and Earth observation', 'description': 'Three studies conducted with the collaboration of the Helmholtz Institute Freiberg for Resource Technology, an institute of the Helmholtz-Zentrum Dresden-Rossendorf (HZDR), show significant progress in monitoring mining areas.', 'url': 'https://phys.org/news/2024-08-ai-remote-advance-sustainable-earth.html', 'urlToImage': 'https://scx2.b-cdn.net/gfx/news/hires/2024/mining-monitoring-40-g.jpg', 'publishedAt': '2024-08-29T16:31:04Z', 'content': 'Three studies conducted with the collaboration of the Helmholtz Institute Freiberg for Resource Technology, an institute of the Helmholtz-Zentrum Dresden-Rossendorf (HZDR), show significant progress … [+7138 chars]'}, {'source': {'id': None, 'name': 'Forbes'}, 'author': 'Gamini Hewawasam, PhD, Forbes Councils Member, \\n Gamini Hewawasam, PhD, Forbes Councils Member\\n https://www.forbes.com/councils/forbescoachescouncil/people/gaminihewawasam/', 'title': 'Embracing Mindfulness In Leadership In The Age Of AI And Corporate Complexity', 'description': 'A mindful leader can bridge the gap by using AI as a tool while maintaining a balanced and ethical perspective grounded in emotional intelligence.', 'url': 'https://www.forbes.com/councils/forbescoachescouncil/2024/08/19/embracing-mindfulness-in-leadership-in-the-age-of-ai-and-corporate-complexity/', 'urlToImage': 'https://imageio.forbes.com/specials-images/imageserve/66bf9f6003910b50a1799afe/0x0.jpg?format=jpg&height=900&width=1600&fit=bounds', 'publishedAt': '2024-08-19T11:15:00Z', 'content': 'Dr. Gamini Hewawasam, founder of ManoLead, is a scholar-practitioner specializing in the intersection of mindfulness and leadership theory.\\r\\ngetty\\r\\nIn the fast-paced, high-stakes environment of the c… [+6869 chars]'}, {'source': {'id': None, 'name': 'Phys.Org'}, 'author': 'Therésa Jones, Nikolas Willmott', 'title': \"City light pollution is shrinking spiders' brains, new study finds\", 'description': 'As darkness falls, the nocturnal half of the animal kingdom starts its day. Nocturnal species are perfectly adapted to navigate and survive the dark of night that has existed for countless millions of years.', 'url': 'https://phys.org/news/2024-09-city-pollution-spiders-brains.html', 'urlToImage': 'https://scx2.b-cdn.net/gfx/news/hires/2024/garden-orb-weaving-spi.jpg', 'publishedAt': '2024-09-04T21:12:04Z', 'content': 'As darkness falls, the nocturnal half of the animal kingdom starts its day. Nocturnal species are perfectly adapted to navigate and survive the dark of night that has existed for countless millions o… [+5536 chars]'}, {'source': {'id': None, 'name': 'Javacodegeeks.com'}, 'author': 'Yatin Batra', 'title': 'Spring AI Image Generation from Text Example', 'description': 'In today’s rapidly evolving technological landscape, integrating artificial intelligence (AI) into applications has become a key driver for innovation and efficiency. Spring AI Project is a powerful extension of the Spring framework designed to facilitate the…', 'url': 'https://www.javacodegeeks.com/spring-ai-image-generation-from-text-example.html', 'urlToImage': 'https://www.javacodegeeks.com/wp-content/uploads/2012/10/spring-logo.jpg', 'publishedAt': '2024-08-27T07:26:52Z', 'content': 'In today’s rapidly evolving technological landscape, integrating artificial intelligence (AI) into applications has become a key driver for innovation and efficiency. Spring AI Project is a powerful … [+11015 chars]'}, {'source': {'id': None, 'name': 'Geeky Gadgets'}, 'author': 'Julian Horsey', 'title': 'Most Advanced Humanoid Robot Ever Created', 'description': 'The Figure 02 humanoid robot, developed by the innovative company Figure, represents a significant advancement in the fields of artificial intelligence, computer vision, and robotics. This innovative robot is designed to perform complex tasks through natural …', 'url': 'https://www.geeky-gadgets.com/?p=435790', 'urlToImage': 'https://www.geeky-gadgets.com/wp-content/uploads/2024/08/Figure-02-humanoid-robot-1.jpg', 'publishedAt': '2024-08-22T10:07:57Z', 'content': 'The Figure 02 humanoid robot, developed by the innovative company Figure, represents a significant advancement in the fields of artificial intelligence, computer vision, and robotics. This innovative… [+4646 chars]'}, {'source': {'id': None, 'name': 'Science Daily'}, 'author': None, 'title': 'New AI hair analysis method holds promise for improved health research', 'description': 'An application that uses artificial intelligence may revolutionize the way scientists study hair and could lead to the development of health diagnostics based solely on hair.', 'url': 'https://www.sciencedaily.com/releases/2024/09/240905120925.htm', 'urlToImage': 'https://www.sciencedaily.com/images/scidaily-icon.png', 'publishedAt': '2024-09-05T16:09:25Z', 'content': 'A new application that uses artificial intelligence may revolutionize the way scientists study hair and could lead to the development of health diagnostics based solely on hair.The AI model speeds up… [+3426 chars]'}, {'source': {'id': None, 'name': 'Grist'}, 'author': 'Fred Pearce, Yale Environment 360', 'title': 'As ‘doomsday’ glacier melts, can an artificial barrier save it?', 'description': 'Relatively warm ocean currents are weakening the base of Antarctica’s enormous Thwaites Glacier, whose demise could raise sea levels by as much as 7 feet. To separate the ice from those warmer ocean waters, scientists have put forward an audacious plan to ere…', 'url': 'http://grist.org/science/as-doomsday-glacier-melts-can-an-artificial-barrier-save-it/', 'urlToImage': 'https://grist.org/wp-content/uploads/2024/08/Thwaites-Glacier-Header_Mazur.jpg?quality=75&strip=all', 'publishedAt': '2024-09-02T13:00:00Z', 'content': 'This story was originally published by Yale E360 and is reproduced here as part of the\\xa0Climate Desk\\xa0collaboration.\\r\\nThey call it the Doomsday Glacier. A chunk of Antarctic ice as big as Florida and t… [+12957 chars]'}, {'source': {'id': 'fox-news', 'name': 'Fox News'}, 'author': 'Kurt Knutsson, CyberGuy Report', 'title': '11 Android tips, tricks for getting most from your phone', 'description': 'Kurt \"CyberGuy\" Knutsson shares some tips and tricks to help you get the most out of your Android phone, including some gems you may not know about.', 'url': 'https://www.foxnews.com/tech/11-android-tips-tricks-getting-most-from-your-phone', 'urlToImage': 'https://static.foxnews.com/foxnews.com/content/uploads/2024/09/1-11-Android-tips-and-tricks-for-getting-the-most-from-your-phone.jpg', 'publishedAt': '2024-09-05T14:00:36Z', 'content': 'Android phones are packed with features and customization options, making them incredibly versatile and user-friendly.\\xa0\\r\\nEven seasoned Android users might not be aware of all the cool tricks their de… [+8814 chars]'}, {'source': {'id': None, 'name': '/FILM'}, 'author': 'staff@slashfilm.com (Witney Seibold)', 'title': 'James Cameron Has One Very Specific Goal With His Avatar Movies', 'description': 'The Avatar movies are gorgeous to look at, but creating a beautiful world is only a secondary concern for James Cameron.', 'url': 'https://www.slashfilm.com/1644525/james-cameron-avatar-movies-goal-cry/', 'urlToImage': 'https://www.slashfilm.com/img/gallery/james-cameron-has-one-very-specific-goal-with-his-avatar-movies/l-intro-1723818769.jpg', 'publishedAt': '2024-08-17T22:45:45Z', 'content': 'James Cameron\\'s third \"Avatar\" film, \"Avatar: Fire and Ash,\" is due in theaters in December of 2025. When it is released, only three years will have passed since \"Avatar: The Way of Water,\" the secon… [+1534 chars]'}, {'source': {'id': None, 'name': '/FILM'}, 'author': 'staff@slashfilm.com (Witney Seibold)', 'title': \"The Deadpool & Wolverine Character Who Almost Picked Up Thor's Hammer Mjölnir\", 'description': \"Deadpool & Wolverine nearly introduced another MCU character worthy of wielding Thor's magical hammer Mjölnir.\", 'url': 'https://www.slashfilm.com/1639958/deadpool-and-wolverine-character-peter-picked-up-thor-hammer-mjolnir/', 'urlToImage': 'https://www.slashfilm.com/img/gallery/the-deadpool-wolverine-character-who-almost-picked-up-thors-hammer-mjlnir/l-intro-1723226562.jpg', 'publishedAt': '2024-08-09T18:42:01Z', 'content': 'In Kenneth Branagh\\'s 2011 fantasy clunker \"Thor,\" it was explained that the title demigod (Chris Hemsworth) could only lift his magical hammer weapon\\xa0 called Mjölnir if he was \"worthy.\" It\\'s never qu… [+1631 chars]'}, {'source': {'id': None, 'name': 'Wwwhatsnew.com'}, 'author': 'Juan Diego Polo', 'title': 'Midjourney se mete en el terreno del hardware: ¿qué podemos esperar?', 'description': 'Midjourney, conocida por su exitosa plataforma de generación de imágenes con inteligencia artificial, está dando un paso inesperado: lanzarse al mundo del hardware. Y no estamos hablando de un rumor, la compañía lo confirmó en una publicación en X (antes Twit…', 'url': 'https://wwwhatsnew.com/2024/08/30/midjourney-se-mete-en-el-terreno-del-hardware-que-podemos-esperar/', 'urlToImage': 'https://wwwhatsnew.com/wp-content/uploads/2024/08/midjoutrney.webp', 'publishedAt': '2024-08-30T02:00:37Z', 'content': 'Midjourney, conocida por su exitosa plataforma de generación de imágenes con inteligencia artificial, está dando un paso inesperado: lanzarse al mundo del hardware. Y no estamos hablando de un rumor,… [+2812 chars]'}, {'source': {'id': None, 'name': 'Forbes'}, 'author': 'Ewan Spence, Senior Contributor, \\n Ewan Spence, Senior Contributor\\n https://www.forbes.com/sites/ewanspence/', 'title': 'How Apple’s iPhone 16 Pro Could Change Smartphones Forever', 'description': \"Is the launch of Apple's iPhone 16 family the last moment Silicon Valley can stop and consider the impact of generative AI?\", 'url': 'https://www.forbes.com/sites/ewanspence/2024/09/01/apple-iphone-16-pro-generative-ai-dangers-apple-intelligence-new-iphone/', 'urlToImage': 'https://imageio.forbes.com/specials-images/imageserve/6470e48fe2490b1a1cb845f0/0x0.jpg?format=jpg&crop=3546,1994,x298,y200,safe&height=900&width=1600&fit=bounds', 'publishedAt': '2024-09-01T22:41:13Z', 'content': 'Updated September 1 with new details on the impact of Californias proposed Artificial Intelligence Safety Bill.\\r\\nApple CEO Tim Cook looks at a new iPhone Pro (Photo by Justin Sullivan/Getty Images)\\r\\n… [+7439 chars]'}, {'source': {'id': None, 'name': 'La Vanguardia'}, 'author': 'JuanMi Guirado', 'title': 'Fantástica televisión OLED de 55 pulgadas con 120 Hz, Dolby Vision y 600 euros de descuento', 'description': '¿Quieres mejorar la imagen y el sonido de tu televisión? Me temo que te toca renovarla por completo. En un solo dispositivo tendrás una imagen fantástica y un sonido que, aunque no sea la panacea, está a un gran nivel. Se trata de la smart TV LG OLED B4 de 55…', 'url': 'https://www.lavanguardia.com/andro4all/ofertas/fantastica-television-oled-de-55-pulgadas-con-120-hz-dolby-vision-y-600-euros-de-descuento', 'urlToImage': 'https://www.lavanguardia.com/andro4all/hero/2024/09/lg-oled-b4-sonido.jpg?width=1200', 'publishedAt': '2024-09-04T16:30:12Z', 'content': 'Su diseño delgado la hace poder colocarse en cualquier espacio sin ocupar apenas volumen en la pared\\r\\n¿Quieres mejorar la imagen y el sonido de tu televisión? Me temo que te toca renovarla por comple… [+3725 chars]'}, {'source': {'id': None, 'name': 'Jeffbullas.com'}, 'author': 'Jeff Bullas', 'title': '20 Quotes on the Future of AI That Will Make You Think', 'description': 'Here is a compilation of dystopian and utopian quotes about AI from notable individuals.\\nThe post 20 Quotes on the Future of AI That Will Make You Think appeared first on jeffbullas.com.', 'url': 'https://www.jeffbullas.com/quotes-on-future-of-ai/', 'urlToImage': 'https://www.jeffbullas.com/wp-content/uploads/2024/08/DALL·E-2024-08-09-15.44.53-A-landscape-feature-image-for-an-article-titled-20-Quotes-on-the-Future-of-AI-that-will-make-you-Think.-The-image-should-have-a-futuristic-theme-sh.webp', 'publishedAt': '2024-08-09T10:19:21Z', 'content': 'Academia and Hollywood can often be seen as two worlds. \\r\\nEntertainment vs intelligence.Superficial and shallow vs deep thinking. They may not sit in the same restaurant or bar. But they can both off… [+7005 chars]'}, {'source': {'id': None, 'name': 'Ubergizmo'}, 'author': 'Paulo Montenegro', 'title': 'LG Unveils Next-Gen AI-Powered Gram Laptop With Intel Core Ultra Series 2 Processor', 'description': 'LG Electronics has announced the integration of the latest Intel Core Ultra processor (Series 2) into its LG gram laptop lineup, marking a significant advancement in personal computing. The new LG gram 16 Pro, set to be unveiled at the Intel Core Ultra Global…', 'url': 'https://www.ubergizmo.com/2024/09/lg-gram-core-ultra-series-2/', 'urlToImage': 'https://i0.wp.com/cdnssl.ubergizmo.com/wp-content/uploads/2024/09/LG-gram-x-Intel-Lunar-Lake_1.jpg', 'publishedAt': '2024-09-04T13:54:37Z', 'content': 'LG Electronics has announced the integration of the latest Intel Core Ultra processor (Series 2) into its LG gram laptop lineup, marking a significant advancement in personal computing. The new LG gr… [+1893 chars]'}, {'source': {'id': None, 'name': 'Ubergizmo'}, 'author': 'Paulo Montenegro', 'title': 'LG Unveils ThinQ ON AI Home Hub At IFA 2024', 'description': 'At IFA 2024, LG Electronics introduced the LG ThinQ ON AI home hub, designed to be the centerpiece of a connected smart home ecosystem. Powered by LG’s Affectionate Intelligence, this innovative hub offers easy connectivity and personalized experiences by lea…', 'url': 'https://www.ubergizmo.com/2024/09/lg-thinq-on-ai-home-hub/', 'urlToImage': 'https://i0.wp.com/cdnssl.ubergizmo.com/wp-content/uploads/2024/09/ThinQ-ON_01.jpg', 'publishedAt': '2024-09-04T20:27:31Z', 'content': 'At IFA 2024, LG Electronicsintroduced the LG ThinQ ON AI home hub, designed to be the centerpiece of a connected smart home ecosystem. Powered by LG’s Affectionate Intelligence, this innovative hub o… [+1851 chars]'}, {'source': {'id': None, 'name': 'BetaNews'}, 'author': 'Richard Godfrey', 'title': \"Why AI isn't just hype -- but a pragmatic approach is required\", 'description': \"After all the headlines we have read about how amazing Artificial Intelligence (AI) is and how businesses would literally stagnate if they didn't have it, it was interesting to read this article in Forbes, who suggest that AI stock is showing 'bubble-like' te…\", 'url': 'https://betanews.com/2024/08/19/why-ai-isnt-just-hype-but-a-pragmatic-approach-is-required/', 'urlToImage': 'https://betanews.com/wp-content/uploads/2023/11/Artificial-intelligence-AI-business-50x50.jpg', 'publishedAt': '2024-08-19T14:17:22Z', 'content': \"After all the headlines we have read about how amazing Artificial Intelligence (AI) is and how businesses would literally stagnate if they didn't have it, it was interesting to read this article in F… [+5196 chars]\"}, {'source': {'id': None, 'name': 'CleanTechnica'}, 'author': 'Steve Hanley', 'title': 'How “Move 37” Revealed The Perils Of AI — Yuval Noah Harari', 'description': 'AI is not artificial intelligence but rather alien intelligence, according to Yuval Noah Harari, author of the book Sapiens. \\nThe post How “Move 37” Revealed The Perils Of AI — Yuval Noah Harari appeared first on CleanTechnica.', 'url': 'https://cleantechnica.com/2024/08/27/how-move-37-revealed-the-perils-of-ai-yuval-noah-harari/', 'urlToImage': 'https://cleantechnica.com/wp-content/uploads/2024/06/data-center.jpg', 'publishedAt': '2024-08-27T20:48:06Z', 'content': 'Sign up for daily news updates from CleanTechnica on email. Or follow us on Google News!\\r\\nYuval Noah Harari is the author of Sapiens — A Brief History Of Humankind. Harari says, “Homo sapiens rules t… [+12126 chars]'}, {'source': {'id': None, 'name': 'Forbes'}, 'author': 'Ewan Spence, Senior Contributor, \\n Ewan Spence, Senior Contributor\\n https://www.forbes.com/sites/ewanspence/', 'title': 'How Apple’s iPhone 16 Pro Could Change Smartphones Forever', 'description': \"Is the launch of Apple's iPhone 16 family the last moment Silicon Valley can stop and consider the impact of generative AI?\", 'url': 'https://www.forbes.com/sites/ewanspence/2024/08/31/apple-iphone-16-pro-generative-ai-dangers-apple-intelligence-new-iphone/', 'urlToImage': 'https://imageio.forbes.com/specials-images/imageserve/6470e48fe2490b1a1cb845f0/0x0.jpg?format=jpg&crop=3546,1994,x298,y200,safe&height=900&width=1600&fit=bounds', 'publishedAt': '2024-08-31T22:31:00Z', 'content': 'Apple CEO Tim Cook looks at a new iPhone Pro (Photo by Justin Sullivan/Getty Images)\\r\\nGetty Images\\r\\nAt Apples Glowtime event scheduled for Monday, September 9, Tim Cook and his team will launch the n… [+5313 chars]'}, {'source': {'id': None, 'name': 'Ubergizmo'}, 'author': 'Paulo Montenegro', 'title': 'Unitree Unveils Mass-Production G1 Humanoid Robot With Advanced Flexibility', 'description': 'Unitree has introduced the updated version of its G1 humanoid robot, now ready for mass production. The G1 robot is highly flexible, capable of performing complex movements like dancing, jumping, twisting, and even landing stunts without losing balance. It ca…', 'url': 'https://www.ubergizmo.com/2024/08/unitree-g1-humanoid-robot/', 'urlToImage': 'https://i0.wp.com/cdnssl.ubergizmo.com/wp-content/uploads/2024/08/unitree-G1-humanoid-robot-mass-production-designboom-05.jpg', 'publishedAt': '2024-08-27T14:01:40Z', 'content': 'Unitree has introduced the updated version of its G1 humanoid robot, now ready for mass production. The G1 robot is highly flexible, capable of performing complex movements like dancing, jumping, twi… [+1134 chars]'}, {'source': {'id': None, 'name': 'Forbes'}, 'author': 'Karthik T S, Forbes Councils Member, \\n Karthik T S, Forbes Councils Member\\n https://www.forbes.com/councils/forbestechcouncil/people/karthikts/', 'title': 'Beyond ChatGPT: How Generative AI Is Shaping The Future Of Businesses', 'description': 'Business agility will be paramount in driving adoption and shaping the future of innovation, as the full potential of GenAI is yet to be realized.', 'url': 'https://www.forbes.com/councils/forbestechcouncil/2024/08/22/beyond-chatgpt-how-generative-ai-is-shaping-the-future-of-businesses/', 'urlToImage': 'https://imageio.forbes.com/specials-images/imageserve/66b25df0c54b2bade8909758/0x0.jpg?format=jpg&height=900&width=1600&fit=bounds', 'publishedAt': '2024-08-22T10:45:00Z', 'content': 'Karthik T S heads the COE team at Torry Harris (THIS). Assisting telcos, banks and large enterprises define integration strategies.\\r\\ngetty\\r\\nThe launch of ChatGPT-3, followed by the more advanced vers… [+6738 chars]'}, {'source': {'id': None, 'name': 'Phys.Org'}, 'author': 'Science X', 'title': 'A visionary approach: How a team developed accessible maps for colorblind scientists', 'description': 'Imagine having to do your job, but not being able to visually process the data right in front of you. Nearly 8% of genetic males and 0.5% of genetic females have some form of Color Vision Deficiency (CVD), or the decreased ability to discern between particula…', 'url': 'https://phys.org/news/2024-08-visionary-approach-team-accessible-colorblind.html', 'urlToImage': 'https://scx2.b-cdn.net/gfx/news/2024/a-visionary-approach-h-1.jpg', 'publishedAt': '2024-08-16T14:33:57Z', 'content': 'Imagine having to do your job, but not being able to visually process the data right in front of you. Nearly 8% of genetic males and 0.5% of genetic females have some form of Color Vision Deficiency … [+5946 chars]'}, {'source': {'id': None, 'name': 'Gizmodo.com'}, 'author': 'Lucas H.', 'title': 'La serie de Vision de Marvel trae de vuelta a James Spader como Ultron', 'description': 'La serie de Vision, cuyo título aún no se ha revelado, es una continuación de WandaVision, protagonizada por Paul Bettany y llegará a Disney+.', 'url': 'https://es.gizmodo.com/la-serie-de-vision-de-marvel-trae-de-vuelta-a-james-spader-como-ultron-2000126689', 'urlToImage': 'https://es.gizmodo.com/app/uploads/2024/08/Diseno-sin-titulo-64-2.jpg', 'publishedAt': '2024-08-23T19:17:45Z', 'content': 'Terry Matalas, de Star Trek: Picard, está intensificando su trabajo en su próxima serie, el show de Disney+ aún sin título que se centrará en Vision de Marvel. Con Paul Bettany de vuelta como el andr… [+2501 chars]'}, {'source': {'id': None, 'name': 'ArchDaily'}, 'author': 'Hadir Al Koshta', 'title': 'Aguas Claras Hotel Restaurant and Yoga Pavilion / Studio Saxe', 'description': 'Overview - Studio Saxe was commissioned to design a restaurant and yoga pavilion for Hotel Aguas Claras, an eclectic retreat nestled along the serene shores of Puerto Viejo, Costa Rica. The project enhances the hotel’s distinctive character, which embodies bo…', 'url': 'https://www.archdaily.com/1020792/aguas-claras-hotel-restaurant-and-yoga-pavilion-studio-saxe', 'urlToImage': 'https://images.adsttc.com/media/images/66d7/30f4/5030/bc01/7a38/f268/large_jpg/aguas-claras-hotel-restaurant-and-yoga-studio-studio-saxe_23.jpg?1725378828', 'publishedAt': '2024-09-04T03:00:00Z', 'content': '© Studio Saxe\\r\\n+ 55\\r\\n<ul><li>Project Team:\\xa0Studio Saxe\\r\\n</li><li>Client:\\xa0Hotel Aguas Claras\\r\\n</li><li>City:\\xa0Puerto Viejo de Talamanca\\r\\n</li><li></li></ul>\\r\\nMore SpecsLess Specs\\r\\n© Studio Saxe\\r\\nText d… [+4712 chars]'}, {'source': {'id': None, 'name': 'Quartz India'}, 'author': 'William Gavin', 'title': 'Tesla has finally released an upgraded version of its troublesome summoning feature', 'description': 'Almost two years after CEO Elon Musk acknowledged that Tesla’s Smart Summon function wasn’t performing as well as hoped, the automaker has unveiled a new — and seemingly upgraded — version.Read more...', 'url': 'https://qz.com/tesla-elon-musk-actually-smart-summon-evs-robotaxis-ai-1851638194', 'urlToImage': 'https://i.kinja-img.com/image/upload/c_fill,h_675,pg_1,q_80,w_1200/b9b371ceb9263abecc5b5b8e7f0b59c2.jpg', 'publishedAt': '2024-09-03T13:05:00Z', 'content': 'In This Story\\r\\nAlmost two years after CEO Elon Musk acknowledged that Teslas TSLA Smart Summon function wasnt performing as well as hoped, the automaker has unveiled a new and seemingly upgraded vers… [+2582 chars]'}, {'source': {'id': None, 'name': 'Forbes'}, 'author': 'Robert B. Tucker, Contributor, \\n Robert B. Tucker, Contributor\\n https://www.forbes.com/sites/robertbtucker/', 'title': 'The Singularity Is Coming Soon. Here’s What It May Mean.', 'description': 'In 2005, futurist Ray Kurzweil predicted that by 2045, machines would become smarter than humans. That moment is arriving faster than even he predicted.', 'url': 'https://www.forbes.com/sites/robertbtucker/2024/08/22/the-singularity-is-coming-soon-heres-what-it-may-mean/', 'urlToImage': 'https://imageio.forbes.com/specials-images/imageserve/66c6454fb89a55a4d3f61136/0x0.jpg?format=jpg&height=900&width=1600&fit=bounds', 'publishedAt': '2024-08-22T16:29:38Z', 'content': 'Futurist Ray Kurzweil speaking in New Delhi in 2012 (Photo by Kaushik Roy/The India Today Group via ... [+] Getty Images)\\r\\nThe India Today Group via Getty Images\\r\\nIn 2005, the futurist Ray Kurzweil p… [+4381 chars]'}, {'source': {'id': None, 'name': 'Substack.com'}, 'author': 'Zvi Mowshowitz', 'title': 'Danger, AI Scientist, Danger', 'description': 'While I finish up the weekly for tomorrow morning after my trip, here’s a section I expect to want to link back to every so often in the future.', 'url': 'https://thezvi.substack.com/p/danger-ai-scientist-danger', 'urlToImage': 'https://substackcdn.com/image/fetch/w_1200,h_600,c_fill,f_jpg,q_auto:good,fl_progressive:steep,g_auto/https%3A%2F%2Fsubstack-post-media.s3.amazonaws.com%2Fpublic%2Fimages%2F78cdcec4-f6ce-411a-b42c-f31c6168263f_2016x1694.jpeg', 'publishedAt': '2024-08-17T07:39:29Z', 'content': 'While I finish up the weekly for tomorrow morning after my trip, heres a section I expect to want to link back to every so often in the future. Its too good.\\r\\nDanger, AI Scientist, Danger\\r\\nAs in, the… [+12757 chars]'}]\n"
          ]
        }
      ],
      "source": [
        "print(articles)  # Debug print for articles\n"
      ]
    },
    {
      "cell_type": "code",
      "execution_count": 109,
      "metadata": {
        "id": "unqiL5ljijA2",
        "colab": {
          "base_uri": "https://localhost:8080/"
        },
        "outputId": "fe2752d7-6c14-4bce-f8b9-9f091b907d1b"
      },
      "outputs": [
        {
          "output_type": "stream",
          "name": "stdout",
          "text": [
            "Calling Cohere API...\n",
            "Response from Cohere: Did you know that the Milky Way and Andromeda galaxies are on a collision course? In about 4-5 billion years, the two galaxies will merge to form a giant elliptical galaxy. This event will likely have a profound impact on the structure of the universe and the evolution of life within it.\n",
            "Conversation history: []\n"
          ]
        }
      ],
      "source": [
        "print(\"Calling Cohere API...\")\n",
        "print(\"Response from Cohere:\", bot_response)\n",
        "print(\"Conversation history:\", conversation_history)\n"
      ]
    },
    {
      "cell_type": "code",
      "execution_count": 110,
      "metadata": {
        "id": "o2rR6FmTiibB"
      },
      "outputs": [],
      "source": [
        "def chatbot(user_input):\n",
        "    global conversation_history\n",
        "    try:\n",
        "        # Check if the user is asking for news\n",
        "        if 'news' in user_input.lower() or 'trends' in user_input.lower():\n",
        "            news = fetch_ai_news()\n",
        "            print(\"News Fetched:\", news)  # Debug Print\n",
        "            return news\n",
        "\n",
        "        # Retrieve the closest conversation based on the user's input\n",
        "        print(\"Generating response for input:\", user_input)  # Debug Print\n",
        "        bot_response = generate_response(conversation_history, user_input, cohere_client)\n",
        "\n",
        "        # Append the current user input and bot response to the conversation history\n",
        "        conversation_history.append(f\"User: {user_input}\")\n",
        "        conversation_history.append(f\"Bot: {bot_response}\")\n",
        "        print(\"Bot Response:\", bot_response)  # Debug Print\n",
        "\n",
        "        return bot_response\n",
        "\n",
        "    except Exception as e:\n",
        "        print(\"Error occurred:\", str(e))\n",
        "        return f\"An error occurred: {str(e)}\"\n"
      ]
    },
    {
      "cell_type": "code",
      "execution_count": 111,
      "metadata": {
        "id": "MpwbU515iiA-",
        "colab": {
          "base_uri": "https://localhost:8080/",
          "height": 124
        },
        "outputId": "08fad67f-bfae-4aac-9931-1c1af25dde4e"
      },
      "outputs": [
        {
          "output_type": "stream",
          "name": "stdout",
          "text": [
            "NewsAPI Response: {\"status\":\"ok\",\"totalResults\":1387,\"articles\":[{\"source\":{\"id\":null,\"name\":\"Gizmodo.com\"},\"author\":\"Isaac Schultz\",\"title\":\"How AI Is Deciphering Lost Scrolls From the Roman Empire\",\"description\":\"Scrolls found in the shadow of Vesuvius and libraries of ancient texts besides are being illuminated by machine learning and computer vision.\",\"url\":\"https://gizmodo.com/ai-herculaneum-scrolls-computer-vision-transformers-2000481322\",\"urlToImage\":\"https://gizmodo.com/app/uploads/2024/08/text-herculaneum-papyrus-AI-1.jpg\",\"publishedAt\":\"2024-08-28T14:00:43Z\",\"content\":\"Researchers are using cutting-edge AI models to “read” ancient scrolls superheated by the eruption of Mount Vesuvius in 79, which covered much of the Bay of Naples in ashincluding the now-famous town… [+12022 chars]\"},{\"source\":{\"id\":null,\"name\":\"Gizmodo.com\"},\"author\":\"Cheryl Eddy\",\"title\":\"Marvel’s Vision Series Is Bringing Back James Spader as Ultron\",\"description\":\"The as-yet-untitled Vision series—a follow-up to WandaVision—stars Paul Bettany and is coming soon to Disney+.\",\"url\":\"https://gizmodo.com/marvels-vision-series-is-bringing-back-james-spader-as-ultron-2000490411\",\"urlToImage\":\"https://gizmodo.com/app/uploads/2024/08/avengers-age-of-ultron-vision-ultron.jpg\",\"publishedAt\":\"2024-08-23T17:24:47Z\",\"content\":\"Star Trek: Picard‘s Terry Matalas is ramping up work on his next series, the as-yet-untitled Disney+ series centering on Marvel’s Vision. With Paul Bettany back as the emotionally evolved title andro… [+447 chars]\"},{\"source\":{\"id\":null,\"name\":\"Gizmodo.com\"},\"author\":\"Cheryl Eddy\",\"title\":\"Marvel’s Vision Series Is Bringing Back James Spader as Ultron\",\"description\":\"The as-yet-untitled Vision series—a follow-up to WandaVision—stars Paul Bettany and is coming to Disney+.\",\"url\":\"https://gizmodo.com/marvel-vision-tv-series-james-spader-ultron-disney-plus-2000490411\",\"urlToImage\":\"https://gizmodo.com/app/uploads/2024/08/avengers-age-of-ultron-vision-ultron.jpg\",\"publishedAt\":\"2024-08-23T17:24:47Z\",\"content\":\"Star Trek: Picard‘s Terry Matalas is ramping up work on his next series, the as-yet-untitled Disney+ show centering on Marvel’s Vision. With Paul Bettany back as the emotionally evolved title android… [+2421 chars]\"},{\"source\":{\"id\":\"cnn\",\"name\":\"CNN\"},\"author\":\"Clare Duffy, CNN\",\"title\":\"The iPhone is getting a ‘glow’ up. What to expect from Apple’s Monday event\",\"description\":\"Apple excited fans with its vision for its “Apple Intelligence” AI artificial intelligence system“Apple Intelligence” artificial intelligence system earlier ...\",\"url\":\"https://www.cnn.com/2024/09/07/business/apple-september-next-fall-event?cid=external-feeds_iluminar_yahoo\",\"urlToImage\":\"https://media.zenfs.com/en/cnn_business_articles_218/61e17430ae13f76e3dd7546cc7b5ea48\",\"publishedAt\":\"2024-09-07T17:00:19Z\",\"content\":\"Apple excited fans with its vision for its Apple Intelligence artificial intelligence system earlier this year. Now, its time for the company to prove it really works.\\r\\nThe company is set to introduc… [+5241 chars]\"},{\"source\":{\"id\":\"business-insider\",\"name\":\"Business Insider\"},\"author\":\"Erin Greenawald\",\"title\":\"Crop loss is a huge problem for sustainability and food security. I'm using AI and computer vision to help fix it.\",\"description\":\"Fermata's AI tech helps transform agriculture by detecting early signs of pests and diseases, reducing labor needs, and promoting sustainable farming.\",\"url\":\"https://www.businessinsider.com/fermata-artificial-intelligence-technology-for-agriculture-plant-crop-health-2024-9\",\"urlToImage\":\"https://i.insider.com/66d74af41d8d2deb96b843d8?width=1200&format=jpeg\",\"publishedAt\":\"2024-09-03T19:05:12Z\",\"content\":\"Aron Süveg; Getty Images; Alyssa Powell/BI\\r\\n<ul><li>Valeria Kogan is the CEO of Fermata, a software-development company specializing in agriculture.</li><li>Her team develops AI tools to reduce crop… [+6082 chars]\"},{\"source\":{\"id\":null,\"name\":\"Convergemedia.org\"},\"author\":\"Sam Hindmarsh\",\"title\":\"Artificial Intelligence Cheapens the Artistic Imagination\",\"description\":\"Artist Jingna Zhang predicts that “60-80% of the artist workforce will lose their jobs in the next 2-5 years. Not to prompters—just to company bottom lines.” As with businesses and workplaces, the …\",\"url\":\"https://www.convergemedia.org/artificial-intelligence-cheapens-the-imagination/\",\"urlToImage\":\"https://www.convergemedia.org/wp-content/uploads/2023/11/milad-fakurian-58Z17lnVS4U-unsplash-scaled-e1701235485479.jpg\",\"publishedAt\":\"2024-09-02T00:09:39Z\",\"content\":\"Artist Jingna Zhang predicts that 60-80% of the artist workforce will lose their jobs in the next 2-5 years. Not to promptersjust to company bottom lines. As with businesses and workplaces, the visua… [+8987 chars]\"},{\"source\":{\"id\":\"hacker-news\",\"name\":\"Hacker News\"},\"author\":null,\"title\":\"Roboflow (YC S20) is hiring an ML Engineer to democratize computer vision\",\"description\":\"Who We Are\\nOur mission is to make the world programmable. Sight is one of the key ways we understand the world, and soon this will be true for the software we use, too.\\nAt Roboflow, we’re building the tools, community, and resources needed to make the world p…\",\"url\":\"https://www.ycombinator.com/companies/roboflow/jobs/Hz7YcFa-full-stack-machine-learning-engineer\",\"urlToImage\":\"https://www.ycombinator.com/images/original/missing.png\",\"publishedAt\":\"2024-08-23T17:01:15Z\",\"content\":\"Who We Are\\r\\nOur mission is to make the world programmable. Sight is one of the key ways we understand the world, and soon this will be true for the software we use, too.\\r\\nAt Roboflow, were building t… [+8300 chars]\"},{\"source\":{\"id\":\"business-insider\",\"name\":\"Business Insider\"},\"author\":\"Chris Panella\",\"title\":\"A 'robot dog' armed with an AI-enabled rifle for shooting down drones was tested at a US Army exercise\",\"description\":\"The four-legged, remote-controlled unmanned ground vehicle is designed to locate and fight drones.\",\"url\":\"https://www.businessinsider.com/army-looks-into-robot-dog-armed-ai-rifle-shoot-drones-2024-8\",\"urlToImage\":\"https://i.insider.com/66b4fe0a5da406397bf43e1d?width=1200&format=jpeg\",\"publishedAt\":\"2024-08-08T19:45:29Z\",\"content\":\"Sgt. Jaidon Novinska, a Mass Communication NCO with the 27th Public Affairs Detachment hailing from Green Bay, Wisconsin, provides video support of a four-legged unmanned ground vehicle (UGVs) armed … [+3721 chars]\"},{\"source\":{\"id\":\"fox-news\",\"name\":\"Fox News\"},\"author\":\"Fox News Staff\",\"title\":\"Fox News AI Newsletter: Movie star on what AI can't do\",\"description\":\"Stay up to date on the latest AI technology advancements and learn about the challenges and opportunities AI presents now and for the future.\",\"url\":\"https://www.foxnews.com/tech/fox-news-ai-newsletter-movie-star-what-ai-cant-do\",\"urlToImage\":\"https://static.foxnews.com/foxnews.com/content/uploads/2024/08/GettyImages-2169011567-scaled.jpg\",\"publishedAt\":\"2024-08-31T12:30:09Z\",\"content\":\"Welcome to Fox News Artificial Intelligence newsletter with the latest AI technology advancements.\\r\\nIN TODAYS NEWSLETTER:\\r\\n- Beetlejuice Beetlejuice star says AI cant duplicate Hollywood director Tim… [+1911 chars]\"},{\"source\":{\"id\":\"fox-news\",\"name\":\"Fox News\"},\"author\":\"Kurt Knutsson, CyberGuy Report\",\"title\":\"Google's AI power play: Is Apple feeling the heat?\",\"description\":\"Google aims to dominate the competitive landscape of artificial intelligence, seizing the spotlight by unveiling various new innovations.\",\"url\":\"https://www.foxnews.com/tech/googles-ai-power-play-apple-feeling-heat\",\"urlToImage\":\"https://static.foxnews.com/foxnews.com/content/uploads/2024/08/5-Googles-AI-power-play_-Is-Apple-feeling-the-heat.jpg\",\"publishedAt\":\"2024-08-18T14:00:26Z\",\"content\":\"Google has its eye on the prize artificial intelligence and it's making a bold power play in the tech arena. The company's recent Made by Google event was more than just showcasing new technology. It… [+9459 chars]\"},{\"source\":{\"id\":\"fox-news\",\"name\":\"Fox News\"},\"author\":\"Kurt Knutsson, CyberGuy Report\",\"title\":\"AI technology can help you win the battle over mosquitoes\",\"description\":\"The Bzigo Iris is a high-tech mosquito hunter for your home that utilizes artificial intelligence, works in the dark and weighs less than one pound.\",\"url\":\"https://www.foxnews.com/tech/ai-technology-can-help-you-win-battle-over-mosquitoes\",\"urlToImage\":\"https://static.foxnews.com/foxnews.com/content/uploads/2024/08/2-How-AI-technology-can-help-you-win-the-battle-over-mosquitoes.jpg\",\"publishedAt\":\"2024-08-18T10:00:02Z\",\"content\":\"We've all experienced those frustrating moments when you're trying to catch a mosquito, only to have it vanish into thin air. \\r\\nWell, those days might soon be over, thanks to the Bzigo Iris, a smart … [+4037 chars]\"},{\"source\":{\"id\":null,\"name\":\"Digital Trends\"},\"author\":\"Dan Girolamo\",\"title\":\"This Avengers villain is returning for Marvel’s Vision TV Series\",\"description\":\"One of Marvel's biggest villains is returning for Marvel's Vision TV series. See which character will star alongside Paul Bettany's Vision.\",\"url\":\"https://www.digitaltrends.com/movies/marvel-vision-tv-series-ultron-james-spader-disney-plus/\",\"urlToImage\":\"https://www.digitaltrends.com/wp-content/uploads/2024/08/Ultron-James-Spader.jpg?resize=1200%2C630&p=1\",\"publishedAt\":\"2024-08-23T19:29:22Z\",\"content\":\"Marvel Studios\\r\\nOne of Marvel’s biggest villains is returning for Marvel’s Vision series. Per The Hollywood Reporter, James Spader will reprise his role as Ultron for Marvel Studios’ untitled Vision … [+1838 chars]\"},{\"source\":{\"id\":null,\"name\":\"Hipertextual\"},\"author\":\"Luis Miranda\",\"title\":\"Microsoft lanzaría su propio Apple Vision Pro con ayuda de Samsung\",\"description\":\"Microsoft podría revivir su división de realidad mixta con un nuevo dispositivo que haría frente al Apple Vision Pro. El gigante tecnológico habría cerrado un acuerdo con Samsung para fabricar unas gafas de próxima generación. El sucesor del HoloLens llegaría…\",\"url\":\"http://hipertextual.com/2024/08/microsoft-lanzaria-su-propio-apple-vision-pro-con-ayuda-de-samsung\",\"urlToImage\":\"https://i0.wp.com/imgs.hipertextual.com/wp-content/uploads/2017/06/hololens.jpg?fit=2000%2C1125&quality=55&strip=all&ssl=1\",\"publishedAt\":\"2024-08-09T19:40:00Z\",\"content\":\"Microsoft podría revivir su división de realidad mixta con un nuevo dispositivo que haría frente al Apple Vision Pro. El gigante tecnológico habría cerrado un acuerdo con Samsung para fabricar unas g… [+2123 chars]\"},{\"source\":{\"id\":null,\"name\":\"Hipertextual\"},\"author\":\"Luis Miranda\",\"title\":\"Se filtra el precio y fecha de lanzamiento del robot inteligente de Apple\",\"description\":\"Apple estaría trabajando en un nuevo robot con pantalla y Apple Intelligence. Tras conocerse que la tecnológica desarrolla un proyecto para el hogar inteligente, un nuevo reporte ofrece más detalles y su posible precio. Según las fuentes, el robot de Apple co…\",\"url\":\"http://hipertextual.com/2024/08/robot-inteligente-apple-siri-caracteristicas-precio\",\"urlToImage\":\"https://i0.wp.com/imgs.hipertextual.com/wp-content/uploads/2024/08/apple-irobot.jpg?fit=1920%2C1080&quality=55&strip=all&ssl=1\",\"publishedAt\":\"2024-08-14T21:00:00Z\",\"content\":\"Apple estaría trabajando en un nuevo robot con pantalla y Apple Intelligence. Tras conocerse que la tecnológica desarrolla un proyecto para el hogar inteligente, un nuevo reporte ofrece más detalles … [+2254 chars]\"},{\"source\":{\"id\":null,\"name\":\"DIYphotography\"},\"author\":\"John Aldred\",\"title\":\"Seeed Studio reCamera is a modular AI-powered “smart” camera\",\"description\":\"Electronics company Seeed Studio has launched reCamera. It’s a modular AI camera platform that promises to be the most advanced of its kind. It uses...\\nThe post Seeed Studio reCamera is a modular AI-powered “smart” camera appeared first on DIY Photography.\",\"url\":\"https://www.diyphotography.net/seeed-studio-recamera-is-a-modular-ai-powered-smart-camera/\",\"urlToImage\":\"https://www.diyphotography.net/wp-content/uploads/2024/08/recamera-01.jpg\",\"publishedAt\":\"2024-08-26T13:28:04Z\",\"content\":\"Electronics company Seeed Studio has launched reCamera. Its a modular AI camera platform that promises to be the most advanced of its kind. It uses computer vision (CV) and artificial intelligence (A… [+2314 chars]\"},{\"source\":{\"id\":null,\"name\":\"Hipertextual\"},\"author\":\"Gabriel Erard\",\"title\":\"Apple prepara una inversión millonaria en OpenAI\",\"description\":\"La alianza entre Apple y OpenAI podría expandirse más allá de la integración de ChatGPT en Siri. Según un nuevo reporte de The Wall Street Journal, los de Cupertino están en tratativas con la startup de inteligencia artificial para sumarse como inversores en …\",\"url\":\"http://hipertextual.com/2024/08/apple-prepara-una-inversion-millonaria-en-openai\",\"urlToImage\":\"https://imgs.hipertextual.com/wp-content/uploads/2024/08/Apple-ChatGPT-1-scaled.jpg\",\"publishedAt\":\"2024-08-29T18:29:41Z\",\"content\":\"La alianza entre Apple y OpenAI podría expandirse más allá de la integración de ChatGPT en Siri. Según un nuevo reporte de The Wall Street Journal, los de Cupertino están en tratativas con la startup… [+1606 chars]\"},{\"source\":{\"id\":\"business-insider\",\"name\":\"Business Insider\"},\"author\":\"Lakshmi Varanasi,Lloyd Lee\",\"title\":\"What OpenAI must do to stay on top\",\"description\":\"Investors are getting antsy as OpenAI spends billions with little promise of a return on investment and top talent heads elsewhere.\",\"url\":\"https://www.businessinsider.com/openai-competition-investor-anxiety-talent-retention-microsoft-meta-google-2024-8\",\"urlToImage\":\"https://i.insider.com/66abe39e393cd3c8629ab74a?width=1200&format=jpeg\",\"publishedAt\":\"2024-08-26T09:31:02Z\",\"content\":\"Adobe Firefly, Wavebreakmedia/Getty, Tyler Le/BI\\r\\n<ul><li>OpenAI has an edge over its competitors through its talent pool and advanced AI model.</li><li>But the company is not infallible, as it bleed… [+7872 chars]\"},{\"source\":{\"id\":\"business-insider\",\"name\":\"Business Insider\"},\"author\":\"Matthew Loh\",\"title\":\"One of China's hottest new EV makers says it lost $9,200 for each $30,000 smart car it delivered\",\"description\":\"Xiaomi's first EV, the  $30,000 Speed Ultra 7, sold out within a day of its March launch, but isn't expected to break even for a while.\",\"url\":\"https://www.businessinsider.com/xiaomi-loses-speed-ultra-7-electric-vehicles-9200-per-car-2024-8\",\"urlToImage\":\"https://i.insider.com/66c6c394b4912df3ae1da0aa?width=1200&format=jpeg\",\"publishedAt\":\"2024-08-22T06:04:00Z\",\"content\":\"Xiaomi's SU7 sold out on the first day of its launch, but the smartphone maker's early losses show it will take time for the new EV player to turn a profit.Costfoto/NurPhoto via Getty Images\\r\\n<ul><li… [+3362 chars]\"},{\"source\":{\"id\":\"fox-news\",\"name\":\"Fox News\"},\"author\":\"Kurt Knutsson, CyberGuy Report\",\"title\":\"The next-gen humanoid robot is knocking at your door\",\"description\":\"Figure of California has introduced its Figure 02, its second-generation humanoid robot designed for production lines at commercial sites.\",\"url\":\"https://www.foxnews.com/tech/next-gen-humanoid-robot-knocking-your-door\",\"urlToImage\":\"https://static.foxnews.com/foxnews.com/content/uploads/2024/08/1-The-next-gen-humanoid-robot-is-knocking-at-your-door.jpg\",\"publishedAt\":\"2024-08-21T10:00:33Z\",\"content\":\"California-based company Figure has unveiled its second-generation humanoid robot, Figure 02. \\r\\nThis innovative creation is initially targeted at production lines in commercial settings, where it aim… [+4128 chars]\"},{\"source\":{\"id\":\"business-insider\",\"name\":\"Business Insider\"},\"author\":\"Julia Hood\",\"title\":\"AI can enhance human expertise and worker well-being, Clear Capital's EVP of strategy and growth says\",\"description\":\"The executive vice president of strategy and growth at Clear Capital shares how innovative technology can drive a better work experience.\",\"url\":\"https://www.businessinsider.com/how-real-estate-industry-can-use-ai-enhance-human-expertise-2024-8\",\"urlToImage\":\"https://i.insider.com/66be3ddbb4912df3ae1c08ec?width=1200&format=jpeg\",\"publishedAt\":\"2024-08-15T18:55:52Z\",\"content\":\"Kenon Chen.Clear Capital\\r\\n<ul><li>Kenon Chen, a member of BI's Workforce Innovation board, is Clear Capital's strategy and growth EVP.</li><li>He views AI as a chance to improve workplace processes a… [+7672 chars]\"},{\"source\":{\"id\":null,\"name\":\"Hipertextual\"},\"author\":\"Luis Miranda\",\"title\":\"Qualcomm trabaja en unas gafas de realidad mixta con ayuda de Google y Samsung\",\"description\":\"Qualcomm ha hecho equipo con Samsung y Google para desarrollar unas gafas de realidad mixta. Tras anunciar un nuevo procesador a comienzos de 2024, el fabricante de chips reveló sus planes para producir un dispositivo capaz de brindar una experiencia de reali…\",\"url\":\"http://hipertextual.com/2024/09/qualcomm-google-samsung-gafas-realidad-mixta-vision-pro\",\"urlToImage\":\"https://imgs.hipertextual.com/wp-content/uploads/2024/09/gafas-realidad-mixta-qualcomm.jpg\",\"publishedAt\":\"2024-09-06T00:03:11Z\",\"content\":\"Qualcomm ha hecho equipo con Samsung y Google para desarrollar unas gafas de realidad mixta. Tras anunciar un nuevo procesador a comienzos de 2024, el fabricante de chips reveló sus planes para produ… [+1860 chars]\"},{\"source\":{\"id\":null,\"name\":\"Android Central\"},\"author\":\"Nicholas Sutrich\",\"title\":\"Exclusive: Honor is using AI to try to reverse your nearsightedness\",\"description\":\"Myopia is a huge problem and only getting worse. Honor's AI defocus tech aims to fix the problem by starting at the root of the problem: our eyes.\",\"url\":\"https://www.androidcentral.com/phones/honor-magicpad-2-honor-magic-v3-ai-defocus-display\",\"urlToImage\":\"https://cdn.mos.cms.futurecdn.net/ruCgppDYs3B85jEttfgkfh-1200-80.jpg\",\"publishedAt\":\"2024-09-05T13:01:07Z\",\"content\":\"Until last year, I was a person who never needed to wear glasses. But life eventually caught up to me, and a combination of age and the unique strains of modern life caused me to finally visit an opt… [+11336 chars]\"},{\"source\":{\"id\":\"business-insider\",\"name\":\"Business Insider\"},\"author\":\"Eugene Kim\",\"title\":\"In a leaked recording, Amazon cloud chief tells employees that most developers could stop coding soon as AI takes over\",\"description\":\"Matt Garman sees a shift in software development as AI automates coding, telling staff to enhance product-management skills to stay competitive.\",\"url\":\"https://www.businessinsider.com/aws-ceo-developers-stop-coding-ai-takes-over-2024-8\",\"urlToImage\":\"https://i.insider.com/66c4d97d1aa2ac29ee329769?width=1200&format=jpeg\",\"publishedAt\":\"2024-08-20T19:38:23Z\",\"content\":\"Amazon Web Services CEO Matt GarmanAmazon\\r\\n<ul><li>AWS CEO Matt Garman shared his thoughts during an internal fireside chat held in June.</li><li>Business Insider obtained a recording of the meeting.… [+3915 chars]\"},{\"source\":{\"id\":null,\"name\":\"Scientific American\"},\"author\":\"Phil Plait\",\"title\":\"No, You Can’t See the Great Wall of China from Space\",\"description\":\"Reports of Earth-orbiting astronauts glimpsing the Great Wall of China and many other artificial structures are wildly exaggerated, but humanity’s planetary influence isn’t entirely invisible from afar\",\"url\":\"https://www.scientificamerican.com/article/no-you-cant-see-the-great-wall-of-china-from-space/\",\"urlToImage\":\"https://static.scientificamerican.com/dam/m/13a530a6a6811eca/original/GettyImages-1165562681_WEB.jpg?w=1200\",\"publishedAt\":\"2024-08-09T10:45:00Z\",\"content\":\"When I was a mere lad, probably in middle school, I remember a friend telling me that the Apollo astronauts could see the Great Wall of China from the moon.\\r\\nIf someone told me that now, I’d know alm… [+7311 chars]\"},{\"source\":{\"id\":null,\"name\":\"Forbes\"},\"author\":\"Josipa Majic Predin, Contributor, \\n Josipa Majic Predin, Contributor\\n https://www.forbes.com/sites/josipamajic/\",\"title\":\"60 AI Upstarts Reshaping Tech: A VC’s Insider Guide To The Next Wave Of Innovation\",\"description\":\"Buckle up, because we're about to take a deep dive into the AI ecosystem that's reshaping our world, one algorithm at a time.\",\"url\":\"https://www.forbes.com/sites/josipamajic/2024/08/28/60-ai-upstarts-reshaping-tech-a-vcs-insider-guide-to-the-next-wave-of-innovation/\",\"urlToImage\":\"https://imageio.forbes.com/specials-images/imageserve/66cf0a95a66bd313d0848084/0x0.jpg?format=jpg&height=900&width=1600&fit=bounds\",\"publishedAt\":\"2024-08-28T11:31:49Z\",\"content\":\"A photo taken on March 31, 2023 in Manta, near Turin, shows a computer screen with the home page of ... [+] the artificial intelligence OpenAI web site, displaying its chatGPT robot. Italy's privacy … [+10229 chars]\"},{\"source\":{\"id\":null,\"name\":\"Theregister.com\"},\"author\":\"Laura Dobberstein\",\"title\":\"LG Electronics aims to become a datacenter cooling player, with aircon and immersion tech\",\"description\":\"2030 vision also calls for its appliances and televisions to turn you into a subscription cash cow\\nLG Electronics plans to expand its datacenter cooling business, to cash in on demand for AI.…\",\"url\":\"https://www.theregister.com/2024/08/22/lg_electronics_datacenter_cooling_2030_vision/\",\"urlToImage\":\"https://regmedia.co.uk/2021/09/22/shutterstock_cool_dc.jpg\",\"publishedAt\":\"2024-08-22T00:59:08Z\",\"content\":\"LG Electronics plans to expand its datacenter cooling business, to cash in on demand for AI.\\r\\nThe Korean giant already operates a substantial heating, ventilation and air-conditioning (HVAC) business… [+2937 chars]\"},{\"source\":{\"id\":null,\"name\":\"Forbes\"},\"author\":\"David Joosten, Forbes Councils Member, \\n David Joosten, Forbes Councils Member\\n https://www.forbes.com/councils/forbestechcouncil/people/davidjoosten/\",\"title\":\"Real Artificial Intelligence Can’t Exist Without Human Collaboration: Here’s Why\",\"description\":\"Navigating the complexities of an AI endeavor requires a diverse array of perspectives, voices and expertise.\",\"url\":\"https://www.forbes.com/councils/forbestechcouncil/2024/08/14/real-artificial-intelligence-cant-exist-without-human-collaboration-heres-why/\",\"urlToImage\":\"https://imageio.forbes.com/specials-images/imageserve/628d2f56e84cf834d459856e/0x0.jpg?format=jpg&height=900&width=1600&fit=bounds\",\"publishedAt\":\"2024-08-14T10:30:00Z\",\"content\":\"David Joosten is President and CEO of Vodafone US Inc., leading Vodafone Business commercial operations throughout North America.\\r\\ngetty\\r\\nThese are exciting times: AI has moved from a hot topic on TE… [+6417 chars]\"},{\"source\":{\"id\":null,\"name\":\"CNET\"},\"author\":\"Kacie Goff\",\"title\":\"6 Common Eye Conditions to Watch for as You Age\",\"description\":\"As we age, our vision naturally changes. Here are six common eye conditions you may face throughout your life.\",\"url\":\"https://www.cnet.com/health/personal-care/6-common-eye-conditions-to-watch-for-as-you-age/\",\"urlToImage\":\"https://www.cnet.com/a/img/resize/7689d913806a7f8ecabd8a9982fd89a5f4b34147/hub/2023/08/09/5bb274f7-0f73-4fe7-ab0b-dc8e9cc82ca1/gettyimages-1147724019.jpg?auto=webp&fit=crop&height=675&width=1200\",\"publishedAt\":\"2024-09-08T18:00:03Z\",\"content\":\"Your eyes are aging. Whether it's staring at a screen for work or spending the summer under the sun, your daily activities take a toll on your vision and eye health.\\r\\nAging eyes means changes in your… [+5526 chars]\"},{\"source\":{\"id\":null,\"name\":\"Autoblog\"},\"author\":\"Associated Press\",\"title\":\"Experts say Tesla's 'Full Self-Driving' system is dangerous\",\"description\":\"Filed under:\\n Government/Legal,Tesla,Driving,Safety,Technology,Autonomous Vehicles\\n Continue reading Experts say Tesla's 'Full Self-Driving' system is dangerous\\nExperts say Tesla's 'Full Self-Driving' system is dangerous originally appeared on Autoblog on Sat…\",\"url\":\"https://www.autoblog.com/2024/08/31/experts-tesla-full-self-driving-dangerous/\",\"urlToImage\":\"https://edgecast-img.yahoo.net/mysterio/api/47B3DA24609BF40B5202ED6058069EA9120167ABC9C6C9FD216C89AE11E73687/autoblog/resizefill_w1200_h675;quality_85;format_webp;cc_31536000;/https://s.aolcdn.com/images/dims3/GLOB/legacy_thumbnail/1200x675/format/jpg/quality/100/https://s.aolcdn.com/os/ab/_cms/2020/07/22104208/Tesla-Model_31.jpg\",\"publishedAt\":\"2024-08-31T15:00:00Z\",\"content\":\"DETROIT Three times in the past four months, William Stein, a technology analyst at Truist Securities, has taken Elon Musk up on his invitation to try the latest versions of Teslas vaunted Full Self-… [+8409 chars]\"},{\"source\":{\"id\":\"business-insider\",\"name\":\"Business Insider\"},\"author\":\"Julia Hood,Rebecca Knight,Tim Paradis\",\"title\":\"AI and worker well-being are top of mind for business leaders, according to execs from Accenture, Mastercard, Ancestry, and more\",\"description\":\"Participants in Business Insider's first Workforce Innovation virtual roundtable discuss the top focus areas at their companies.\",\"url\":\"https://www.businessinsider.com/top-business-execs-trending-insights-ai-worker-well-being-roundtable-2024-9\",\"urlToImage\":\"https://i.insider.com/66d1e1941d8d2deb96b7b660?width=1200&format=jpeg\",\"publishedAt\":\"2024-09-03T19:03:55Z\",\"content\":\"Getty Images; Andrius Banelis for BI\\r\\nExecutives from 10 companies who are participants in our first-ever Workforce Innovation Board convened for a virtual roundtable on August 21.The group was asked… [+13747 chars]\"},{\"source\":{\"id\":null,\"name\":\"CNET\"},\"author\":\"Kacie Goff\",\"title\":\"Aging Eyes? 6 Common Eye Conditions and How to Protect Your Vision as You Age\",\"description\":\"Our vision naturally changes as we age. In addition to protecting your eyes, you should know about these six common eye conditions that you may face.\",\"url\":\"https://www.cnet.com/health/personal-care/6-common-eye-conditions-and-how-to-protect-your-vision-as-you-age/\",\"urlToImage\":\"https://www.cnet.com/a/img/resize/7689d913806a7f8ecabd8a9982fd89a5f4b34147/hub/2023/08/09/5bb274f7-0f73-4fe7-ab0b-dc8e9cc82ca1/gettyimages-1147724019.jpg?auto=webp&fit=crop&height=675&width=1200\",\"publishedAt\":\"2024-08-30T19:00:03Z\",\"content\":\"Your eyes are aging. Whether it's staring at a screen for work or spending the summer under the sun, your daily activities take a toll on your vision and eye health.\\r\\nAging vision means changes in yo… [+5390 chars]\"},{\"source\":{\"id\":null,\"name\":\"Forbes\"},\"author\":\"Jennifer Kite-Powell, Senior Contributor, \\n Jennifer Kite-Powell, Senior Contributor\\n https://www.forbes.com/sites/jenniferkitepowell/\",\"title\":\"How Spatial Intelligence Models Will Become More Versatile And Reliable\",\"description\":\"Spatial intelligence will help us interpret physical spaces in a digital world. How will AI play a role and what will it change for us?\",\"url\":\"https://www.forbes.com/sites/jenniferkitepowell/2024/08/29/how-spatial-intelligence-models-will-become-more-versatile-and-reliable/\",\"urlToImage\":\"https://imageio.forbes.com/specials-images/imageserve/66ce519a6d729ffac32d72be/0x0.jpg?format=jpg&height=900&width=1600&fit=bounds\",\"publishedAt\":\"2024-08-29T05:40:52Z\",\"content\":\"Emily Chang, host of The Circuit with Emily Chang, left, and Fei-Fei Li, co-director of the ... [+] Human-Centered AI Institute at Stanford University, during the Bloomberg Technology Summit in San F… [+6939 chars]\"},{\"source\":{\"id\":\"business-insider\",\"name\":\"Business Insider\"},\"author\":\"Ben Bergman,Sri Muppidi,Vishal Persaud,Darius Rafieyan,Leena Rao,Melia Russell,Samantha Stokes,Rebecca Torrence\",\"title\":\"44 of the most promising AI startups of 2024, according to top VCs\",\"description\":\"Top venture capitalists reveal the most promising AI startups of 2024, highlighting companies in fintech, health, and logistics..\",\"url\":\"https://www.businessinsider.com/ai-startups-most-promising-2024-9\",\"urlToImage\":\"https://i.insider.com/66db2c8ea0ff598b266553c8?width=1200&format=jpeg\",\"publishedAt\":\"2024-09-09T09:00:02Z\",\"content\":\"From left, S. Somasegar of Madrona; Lan Xuezhao of Basis Set Ventures; Alex Morgan of Khosla Ventures; and Renata Quintini of Renegade PartnersMadrona, Basis Set Ventures, Khosla Ventures, Renegade P… [+38057 chars]\"},{\"source\":{\"id\":\"fox-news\",\"name\":\"Fox News\"},\"author\":\"Kurt Knutsson, CyberGuy Report\",\"title\":\"Your next takeout burger could arrive at your doorstep via robot delivery\",\"description\":\"Shake Shack has teamed up with a technology company and has begun delivering food orders using autonomous delivery robots in Los Angeles.\",\"url\":\"https://www.foxnews.com/tech/your-next-takeout-burger-could-arrive-your-doorstep-via-robot-delivery\",\"urlToImage\":\"https://static.foxnews.com/foxnews.com/content/uploads/2024/08/1-Your-next-burger-could-arrive-at-your-doorstep-via-robot-delivery.jpg\",\"publishedAt\":\"2024-08-28T10:00:33Z\",\"content\":\"So, you're hit with a craving for a mouthwatering Shake Shack burger. Instead of jumping in your car and braving the traffic, you simply grab your phone and place an order through an app. But here's … [+6101 chars]\"},{\"source\":{\"id\":null,\"name\":\"Github.com\"},\"author\":\"taichi-dev\",\"title\":\"Taichi: Productive, portable, and performant GPU programming in Python\",\"description\":\"Productive, portable, and performant GPU programming in Python. - taichi-dev/taichi\",\"url\":\"https://github.com/taichi-dev/taichi\",\"urlToImage\":\"https://opengraph.githubassets.com/dda4e09b1159890334d58fb029d8337f8cd9ffc47a4d4ee2879042bfc9ef5b2c/taichi-dev/taichi\",\"publishedAt\":\"2024-08-20T21:36:12Z\",\"content\":\"pip install taichi # Install Taichi Lang\\r\\nti gallery # Launch demo gallery\\r\\nTaichi Lang is an open-source, imperative, parallel programming language for high-performance numerical computation. It is … [+3650 chars]\"},{\"source\":{\"id\":null,\"name\":\"Forbes\"},\"author\":\"Amir Husain, Contributor, \\n Amir Husain, Contributor\\n https://www.forbes.com/sites/amirhusain/\",\"title\":\"The Military Applications Of Artificial Intelligence In Space\",\"description\":\"Space has long been a critical domain of military strategy and operations and artificial intelligence (AI) is rapidly emerging as a game-changing force.\",\"url\":\"https://www.forbes.com/sites/amirhusain/2024/08/19/the-military-applications-of-artificial-intelligence-in-space/\",\"urlToImage\":\"https://imageio.forbes.com/specials-images/imageserve/66b3eda1304c67848ad24ea5/0x0.jpg?format=jpg&height=900&width=1600&fit=bounds\",\"publishedAt\":\"2024-08-19T13:00:00Z\",\"content\":\"China's Tiangong Space Station\\r\\nPeople's Daily\\r\\nSpace has long been a critical domain of military operations. But its importance is about to be amplified as artificial intelligence (AI) enables a spe… [+8420 chars]\"},{\"source\":{\"id\":\"time\",\"name\":\"Time\"},\"author\":\"Silvia Bellezza\",\"title\":\"How Busyness Became the New Status Symbol\",\"description\":\"Historically, working long hours didn't generate admiration. So what gives? And are we nearing a \\\"leisure renaissance\\\"?\",\"url\":\"https://time.com/7016463/busyness-status-symbol/\",\"urlToImage\":\"https://api.time.com/wp-content/uploads/2024/08/GettyImages-1362745578.jpg?quality=85&w=1200&h=628&crop=1\",\"publishedAt\":\"2024-08-31T11:00:00Z\",\"content\":\"Whom do you hold in higher regard: Jimmy Carter and Barack Obama, politicians known for often working from early morning until late at night; or Keir Starmer, the new U.K. Prime Minister, who declare… [+5096 chars]\"},{\"source\":{\"id\":null,\"name\":\"Singularity Hub\"},\"author\":\"Singularity Hub Staff\",\"title\":\"This Week’s Awesome Tech Stories From Around the Web (Through August 31)\",\"description\":\"ARTIFICIAL INTELLIGENCE Generative AI Creates Playable Version of Doom Game With No Code Matthew Sparkes | New Scientist “An AI-generated re-creation of the classic computer game Doom can be played normally despite having no computer code or graphics. Researc…\",\"url\":\"https://singularityhub.com/2024/08/31/this-weeks-awesome-tech-stories-from-around-the-web-through-august-31-2/\",\"urlToImage\":\"https://singularityhub.com/uploads/2024/08/wind-turbine-at-night-stars.jpeg\",\"publishedAt\":\"2024-08-31T14:00:22Z\",\"content\":\"Generative AI Creates Playable Version of Doom Game With No CodeMatthew Sparkes | New Scientist“An AI-generated re-creation of the classic computer game Doom can be played normally despite having no … [+4777 chars]\"},{\"source\":{\"id\":null,\"name\":\"Vox\"},\"author\":\"Sigal Samuel, Kelsey Piper, Dylan Matthews\",\"title\":\"California’s governor has the chance to make AI history\",\"description\":\"Advocates say it is a modest law setting “clear, predictable, common-sense safety standards” for artificial intelligence. Opponents say it is a dangerous and arrogant step that will “stifle innovation.” In any event, SB 1047 — California state Sen. Scott Wien…\",\"url\":\"https://www.vox.com/future-perfect/369628/ai-safety-bill-sb-1047-gavin-newsom-california\",\"urlToImage\":\"https://platform.vox.com/wp-content/uploads/sites/2/2024/07/gettyimages-2161013764_474f9c.jpg?quality=90&strip=all&crop=0%2C10.752616398754%2C100%2C78.494767202492&w=1200\",\"publishedAt\":\"2024-08-30T19:22:48Z\",\"content\":\"Advocates say it is a modest law setting clear, predictable, common-sense safety standards for artificial intelligence. Opponents say it is a dangerous and arrogant step that will stifle innovation.\\r… [+10124 chars]\"},{\"source\":{\"id\":null,\"name\":\"Autoblog\"},\"author\":\"Insider\",\"title\":\"Xiaomi says it lost $9,200 for each $30,000 Speed Ultra 7 it delivered\",\"description\":\"Filed under:\\n Earnings/Financials,Green,Electric\\n Continue reading Xiaomi says it lost $9,200 for each $30,000 Speed Ultra 7 it delivered\\nXiaomi says it lost $9,200 for each $30,000 Speed Ultra 7 it delivered originally appeared on Autoblog on Thu, 22 Aug 202…\",\"url\":\"https://www.autoblog.com/2024/08/22/xiaomi-says-it-lost-9200-for-each-30000-speed-ultra-7-it-delivered/\",\"urlToImage\":\"https://edgecast-img.yahoo.net/mysterio/api/A183D3AB41D727562375DC065900E580F4D11F712C222A2B7B7FAB9556E5A37D/autoblog/resizefill_w1200_h675;quality_85;format_webp;cc_31536000;/https://s.aolcdn.com/images/dims3/GLOB/legacy_thumbnail/1200x675/format/jpg/quality/100/https://s.aolcdn.com/os/ab/_cms/2024/05/03151540/Xiaomi-SU71.jpg\",\"publishedAt\":\"2024-08-22T13:40:00Z\",\"content\":\"Chinese tech giant Xiaomi, known for making smartphones, turned heads in March when its maiden electric vehicle sold out with almost 90,000 preorders within a day of launch.\\r\\nIts new auto branch post… [+2832 chars]\"},{\"source\":{\"id\":null,\"name\":\"Mckinsey.com\"},\"author\":null,\"title\":\"Prudential embraces customer centricity: An interview with Priscilla Ng\",\"description\":\"Prudential plc’s shift to customer-centric insurance hinges on digital transformation, with data and artificial intelligence as key enablers and humans still playing a crucial role.\",\"url\":\"https://www.mckinsey.com/featured-insights/asia-pacific/prudential-embraces-customer-centricity-an-interview-with-priscilla-ng\",\"urlToImage\":\"https://www.mckinsey.com/~/media/mckinsey/featured%20insights/asia%20pacific/prudential%20embraces%20customer%20centricity%20an%20interview%20with%20priscilla%20ng/prudential-video-interview-thumb-1536x1536.jpg\",\"publishedAt\":\"2024-08-14T00:00:00Z\",\"content\":\"As Prudential plc embraces digital transformation, the 176-year-old insurance company finds itself navigating a delicate balancing act: harmonizing the power of AI with a human touch, essential to de… [+13154 chars]\"},{\"source\":{\"id\":null,\"name\":\"Neowin\"},\"author\":\"Martin Hodás\",\"title\":\"The hypocrisy of Elon Musk and his vision of an AI doomsday\",\"description\":\"Elon should be concerned with his own actions regarding Grok AI. For years, he has been warning us about the threat of artificial intelligence. Today, it seems like he was warning us about himself. Read more...\",\"url\":\"https://www.neowin.net/editorials/the-hypocrisy-of-elon-musk-and-his-vision-of-an-ai-doomsday/\",\"urlToImage\":\"https://cdn.neowin.com/news/images/uploaded/2023/03/1678434744_elon-musk-gdab7774b8_1920_story.jpg\",\"publishedAt\":\"2024-08-25T11:00:01Z\",\"content\":\"In a distant (or not-so-distant) future, artificial intelligence could become an immortal dictator we can never escape from. If we stay in AIs ultimate goalwhatever that might beit can simply destroy… [+3117 chars]\"},{\"source\":{\"id\":null,\"name\":\"TechSpot\"},\"author\":\"Zo Ahmed\",\"title\":\"Robots can now train themselves with new \\\"practice makes perfect\\\" algorithm\",\"description\":\"The new \\\"Estimate, Extrapolate, and Situate\\\" (EES) algorithm, developed by the MIT Computer Science and Artificial Intelligence Lab (CSAIL) and The AI Institute, was recently presented at the Robotics: Science and Systems conference. Here's how it works:Read …\",\"url\":\"https://www.techspot.com/news/104193-robots-can-now-train-themselves-new-practice-makes.html\",\"urlToImage\":\"https://www.techspot.com/images2/news/bigimage/2024/08/2024-08-09-image-12.jpg\",\"publishedAt\":\"2024-08-09T15:08:00Z\",\"content\":\"What just happened? Researchers have developed an algorithm that allows robots to autonomously identify weaknesses in their skills and then systematically practice to improve them. It's akin to givin… [+2537 chars]\"},{\"source\":{\"id\":null,\"name\":\"Forbes\"},\"author\":\"Sarah Elk, Contributor, \\n Sarah Elk, Contributor\\n https://www.forbes.com/sites/selk/\",\"title\":\"Why Strategic Workforce Planning Is More Valuable Than Ever\",\"description\":\"Operational headcount planning isn’t holding up in an age of digital transformation and artificial intelligence integration.\",\"url\":\"https://www.forbes.com/sites/selk/2024/08/27/why-strategic-workforce-planning-is-more-valuable-than-ever/\",\"urlToImage\":\"https://imageio.forbes.com/specials-images/imageserve/66cdd1743121e8d22b076618/0x0.jpg?format=jpg&height=900&width=1600&fit=bounds\",\"publishedAt\":\"2024-08-27T13:33:10Z\",\"content\":\"Operational headcount planning isnt holding up in an age of digital transformation and AI ... [+] integration.\\r\\ngetty\\r\\nThe leaves havent turned quite yet, and your coffee may not taste like pumpkin s… [+4016 chars]\"},{\"source\":{\"id\":null,\"name\":\"/FILM\"},\"author\":\"staff@slashfilm.com (Witney Seibold)\",\"title\":\"The MCU's Ultron Returns In A Non-Canon Story, But He's Not Played By James Spader\",\"description\":\"James Spader isn't the only actor to voice the MCU's Ultron, with the super-robot having previously appeared in a non-canon story.\",\"url\":\"https://www.slashfilm.com/1651744/james-spader-ultron-mcu-avengers-quantum-encounter-replacement-actor/\",\"urlToImage\":\"https://www.slashfilm.com/img/gallery/the-mcus-ultron-returns-in-a-non-canon-story-but-hes-not-played-by-james-spader/l-intro-1724787166.jpg\",\"publishedAt\":\"2024-08-31T17:45:32Z\",\"content\":\"Joss Whedon's large-scale action picture \\\"Avengers: Age of Ultron\\\" was released in theaters in the spring of 2015, and it featured a gaggle of Marvel superheroes teaming up to fight the eponymous evi… [+1785 chars]\"},{\"source\":{\"id\":null,\"name\":\"Forbes\"},\"author\":\"Jamie Carter, Senior Contributor, \\n Jamie Carter, Senior Contributor\\n https://www.forbes.com/sites/jamiecartereurope/\",\"title\":\"NASA’s New Chief Artificial Intelligence Officer Is A Man On A Mission\",\"description\":\"NASA's new AI officer aims to advance AI in space exploration and climate modeling, setting an example for responsible use of the technology across the U.S. government.\",\"url\":\"https://www.forbes.com/sites/jamiecartereurope/2024/08/17/nasas-new-chief-artificial-intelligence-officer-is-a-man-on-a-mission/\",\"urlToImage\":\"https://imageio.forbes.com/specials-images/imageserve/66bf7f90d8a68adb82d10f09/0x0.jpg?format=jpg&crop=2047,1151,x0,y27,safe&height=900&width=1600&fit=bounds\",\"publishedAt\":\"2024-08-17T10:00:00Z\",\"content\":\"NASA Chief Artificial Intelligence Officer David Salvagnini participates in a NASA employee town ... [+] hall on how the agency is using and developing Artificial Intelligence (AI) tools to advance m… [+7337 chars]\"},{\"source\":{\"id\":null,\"name\":\"Forbes\"},\"author\":\"C.M. Rubin, Contributor, \\n C.M. Rubin, Contributor\\n https://www.forbes.com/sites/cathyrubin/\",\"title\":\"How To Balance AI Innovation And Human Creativity In Hollywood Storytelling\",\"description\":\"As artificial intelligence technology rapidly advances, Hollywood faces a pivotal challenge: integrating AI into the filmmaking process without overshadowing the human.\",\"url\":\"https://www.forbes.com/sites/cathyrubin/2024/08/20/how-to-balance-ai-innovation-and-human-creativity-in-hollywood-storytelling/\",\"urlToImage\":\"https://imageio.forbes.com/specials-images/imageserve/66c3d4ac761abb68391b2679/0x0.jpg?format=jpg&height=900&width=1600&fit=bounds\",\"publishedAt\":\"2024-08-20T07:00:00Z\",\"content\":\"a robotic intelligence works as a cameraman (3d rendering)\\r\\ngetty\\r\\nFeaturing Insights from: Nick Bostrom, David Hanson, Sophia, Thomas McGrath, Chris Deering, Bob Shaye,Donald Zuckerman, Jane Rosenth… [+8015 chars]\"},{\"source\":{\"id\":null,\"name\":\"AndroidGuys\"},\"author\":\"Scott Webster\",\"title\":\"TECNO Unveils Practical AI Innovations at IFA Berlin 2024\",\"description\":\"TECNO has made a splash at IFA Berlin 2024, showcasing its latest innovations in the AIoT (Artificial Intelligence of Things) space. With the theme “Innovate for the Future,” the brand is hinting at a fascinating future for connected devices, catching the att…\",\"url\":\"https://androidguys.com/news/tecno-unveils-practical-ai-innovations-at-ifa-berlin-2024/\",\"urlToImage\":\"https://i0.wp.com/androidguys.com/wp-content/uploads/2024/09/tecno_minipc.webp?resize=1200%2C1200&ssl=1\",\"publishedAt\":\"2024-09-06T17:50:19Z\",\"content\":\"TECNO has made a splash at IFA Berlin 2024, showcasing its latest innovations in the AIoT (Artificial Intelligence of Things) space. With the theme “Innovate for the Future,” the brand is hinting at … [+2844 chars]\"},{\"source\":{\"id\":null,\"name\":\"Forbes\"},\"author\":\"Hamilton Mann, Contributor, \\n Hamilton Mann, Contributor\\n https://www.forbes.com/sites/hamiltonmann/\",\"title\":\"Hype And Hope Don’t Hide AI’s Hurdles\",\"description\":\"Six down-to-earth watch-outs about GenAI that leaders should keep on their radar to avoid two traps—mistaking hope for potential or hype for vision.\",\"url\":\"https://www.forbes.com/sites/hamiltonmann/2024/08/23/hype-and-hope-dont-hide-ais-hurdles/\",\"urlToImage\":\"https://imageio.forbes.com/specials-images/imageserve/66c8833d37130ed6f11b279b/0x0.jpg?format=jpg&height=900&width=1600&fit=bounds\",\"publishedAt\":\"2024-08-23T16:04:39Z\",\"content\":\"Illustration of human head and cog gears\\r\\nGetty\\r\\nThe deployment of Generative AI (GenAI) is often highlighted in current discussions as a means to achieve significant productivity gains in business. … [+5757 chars]\"},{\"source\":{\"id\":null,\"name\":\"Deadline\"},\"author\":\"Jesse Whittock\",\"title\":\"‘Hunt: We Need To Talk About James’ Producer Deep Fusion Films Hires AI & Visual Effects Expert Christian Darkin\",\"description\":\"EXCLUSIVE: Deep Fusion Films, the UK doc maker behind upcoming doc Hunt: We Need to Talk About James, has hired AI and visual effects guru Christian Darkin. He is joining the Cardiff-based producer as Head of Creative AI, leading on the development and creati…\",\"url\":\"http://deadline.com/2024/09/deep-fusion-hires-ai-expert-christian-darkin-1236078018/\",\"urlToImage\":\"https://deadline.com/wp-content/uploads/2024/09/Christian-Darkin.jpg?w=1024\",\"publishedAt\":\"2024-09-05T14:00:00Z\",\"content\":\"EXCLUSIVE:Deep Fusion Films, the UK doc maker behind upcoming doc Hunt: We Need to Talk About James, has hired AI and visual effects guru Christian Darkin.\\r\\nHe is joining the Cardiff-based producer a… [+2272 chars]\"},{\"source\":{\"id\":null,\"name\":\"Deadline\"},\"author\":\"Katie Campione\",\"title\":\"SAG-AFTRA Announces Agreement With AI Company Narrativ Allowing Actors To License Digital Voice Replicas For Ads\",\"description\":\"SAG-AFTRA has announced a deal with the artificial intelligence company Narrativ that will allow members to license their digital voice replica for use in audio ads. Narrativ is an online marketplace where brands can use AI to create audio ads. According to t…\",\"url\":\"http://deadline.com/2024/08/sag-aftra-agreement-narrativ-ai-voice-ads-1236040192/\",\"urlToImage\":\"https://deadline.com/wp-content/uploads/2023/07/Sag-3.jpg?w=1024\",\"publishedAt\":\"2024-08-14T15:26:26Z\",\"content\":\"SAG-AFTRA has announced a deal with the artificial intelligence company Narrativ that will allow members to license their digital voice replica for use in audio ads.\\r\\nNarrativ is an online marketplac… [+3126 chars]\"},{\"source\":{\"id\":null,\"name\":\"Wwwhatsnew.com\"},\"author\":\"Juan Diego Polo\",\"title\":\"Realme GT 6 incluye grandes novedades con Inteligencia Artificial\",\"description\":\"Como ya os hemos dicho varias veces, el realme GT 6 se presenta como el «flagship killer» del 2024, destacando por sus funciones avanzadas de inteligencia artificial (IA) diseñadas para mejorar la experiencia del usuario en múltiples aspectos, desde la fotogr…\",\"url\":\"https://wwwhatsnew.com/2024/09/04/realme-gt-6-incluye-grandes-novedades-con-inteligencia-artificial/\",\"urlToImage\":\"https://wwwhatsnew.com/wp-content/uploads/2024/09/realme-gt6.jpg\",\"publishedAt\":\"2024-09-04T08:23:49Z\",\"content\":\"Como ya os hemos dicho varias veces, el realme GT 6 se presenta como el «flagship killer» del 2024, destacando por sus funciones avanzadas de inteligencia artificial (IA) diseñadas para mejorar la ex… [+4059 chars]\"},{\"source\":{\"id\":null,\"name\":\"Idownloadblog.com\"},\"author\":\"Christian Zibreg\",\"title\":\"Apple’s tabletop robot could cost $1000\",\"description\":\"Apple's rumored tabletop robotic device with a FaceTime camera and a display could launch as soon as 2026, priced around $1000.\",\"url\":\"https://www.idownloadblog.com/2024/08/15/apple-tabletop-robot-2026-price-point-rumor/\",\"urlToImage\":\"https://media.idownloadblog.com/wp-content/uploads/2022/08/Apple-Park-headquarters-main-entrance-aerial-view.jpg\",\"publishedAt\":\"2024-08-15T13:30:23Z\",\"content\":\"Apples rumored tabletop robotic device with a FaceTime camera and a display could launch as soon as 2026, priced around $1000.\\r\\nApple is rumored to have considered an iPad-like smart display with a c… [+2013 chars]\"},{\"source\":{\"id\":null,\"name\":\"BBC News\"},\"author\":null,\"title\":\"AI cameras spot toddlers not wearing seat belts\",\"description\":\"Police are carrying out safeguarding checks in Devon and Cornwall after the \\\"alarming\\\" discovery.\",\"url\":\"https://www.bbc.com/news/articles/c5y3pdp099zo\",\"urlToImage\":\"https://ichef.bbci.co.uk/news/1024/branded_news/b362/live/2f64d5f0-66c6-11ef-8c32-f3c2bc7494c6.jpg\",\"publishedAt\":\"2024-08-30T13:28:44Z\",\"content\":\"More than 100 children featured in seat belt offences captured by the AI cameras, police said\\r\\nAn unrestrained toddler sitting on a woman's lap in the front passenger seat was among thousands of peop… [+4798 chars]\"},{\"source\":{\"id\":null,\"name\":\"Forbes\"},\"author\":\"Expert Panel®, Forbes Councils Member, \\n Expert Panel®, Forbes Councils Member\\n https://www.forbes.com/councils/forbesagencycouncil/people/expertpanel/\",\"title\":\"How 16 Agencies Are Using AI To Optimize Ad Campaigns\",\"description\":\"Artificial intelligence can provide invaluable assistance in addressing the wide-ranging challenges in tracking and adjusting ad campaigns that marketers face today.\",\"url\":\"https://www.forbes.com/councils/forbesagencycouncil/2024/08/15/how-16-agencies-are-using-ai-to-optimize-ad-campaigns/\",\"urlToImage\":\"https://imageio.forbes.com/specials-images/imageserve/666b5d5b4d30e8ec9074ac03/0x0.jpg?format=jpg&height=900&width=1600&fit=bounds\",\"publishedAt\":\"2024-08-15T17:15:06Z\",\"content\":\"getty\\r\\nMarketers face a complex array of variables at play when trying to optimize ad campaigns, from audience demographics to platform algorithms. With the media landscape in a constant state of evo… [+7268 chars]\"},{\"source\":{\"id\":null,\"name\":\"Forbes\"},\"author\":\"Expert Panel®, Forbes Councils Member, \\n Expert Panel®, Forbes Councils Member\\n https://www.forbes.com/sites/forbestechcouncil/people/expertpanel/\",\"title\":\"20 Top Challenges For Tech Leaders (And How They’re Tackling Them)\",\"description\":\"While artificial intelligence is top of mind for many tech leaders, there are other compelling trends and evergreen issues that must also be addressed.\",\"url\":\"https://www.forbes.com/sites/forbestechcouncil/2024/08/08/20-top-challenges-for-tech-leaders-and-how-theyre-tackling-them/\",\"urlToImage\":\"https://imageio.forbes.com/specials-images/imageserve/66b4d8101f13db4f0abfc61d/0x0.jpg?format=jpg&height=900&width=1600&fit=bounds\",\"publishedAt\":\"2024-08-08T17:15:35Z\",\"content\":\"getty\\r\\nIts a cliché by now, but nonetheless true: Technology changes fast. That means that the issues tech leaders have to tackle evolve and are added to just as quickly. Further, there are always ev… [+9800 chars]\"},{\"source\":{\"id\":null,\"name\":\"Sakana.ai\"},\"author\":\"Sakana AI\",\"title\":\"The AI Scientist: Towards Automated Open-Ended Scientific Discovery\",\"description\":\"The AI Scientist: Towards Fully Automated Open-Ended Scientific Discovery\",\"url\":\"https://sakana.ai/ai-scientist/\",\"urlToImage\":\"https://sakana.ai/assets/home/sakana_rect.png\",\"publishedAt\":\"2024-08-13T02:10:58Z\",\"content\":\"August 13, 2024\\r\\nAt Sakana AI, we have pioneered the use of nature-inspired methods to advance cutting-edge foundation models. Earlier this year, we developed methods to automatically merge the knowl… [+15179 chars]\"},{\"source\":{\"id\":null,\"name\":\"Scientific American\"},\"author\":\"Zane Wolf\",\"title\":\"How the Search for Aliens Is Redefining Life in the Golden Age of Astrobiology\",\"description\":\"The search for extraterrestrial life has profound physical, mental and spiritual implications, says Nathalie Cabrol in The Secret Life of the Universe—and it belongs to everyone\",\"url\":\"https://www.scientificamerican.com/article/how-the-search-for-aliens-is-redefining-life-in-the-golden-age-of/\",\"urlToImage\":\"https://static.scientificamerican.com/dam/m/1d7467860ed60d45/original/GettyImages-1359393314_WEB.jpg?w=1200\",\"publishedAt\":\"2024-08-22T12:00:00Z\",\"content\":\"What does it mean to be “alive”? Astrobiologists such as Nathalie Cabrol must contend with the lack of a concrete answer as they explore the universe looking for something out there that can properly… [+8781 chars]\"},{\"source\":{\"id\":null,\"name\":\"New Atlas\"},\"author\":\"David Szondy\",\"title\":\"Review: Seemor 200 combines infrared with full-color night vision\",\"description\":\"Akaso's Seemor 200 night-vision scope uses AI to blur the dividing line between color day imaging and infrared black-and-white night imaging. We waited for sundown and put one through its paces. Here's what we found.Continue ReadingCategory: TechnologyTags: R…\",\"url\":\"https://newatlas.com/technology/review-seemor-200/\",\"urlToImage\":\"https://assets.newatlas.com/dims4/default/9636208/2147483647/strip/true/crop/695x365+0+48/resize/1200x630!/quality/90/?url=http%3A%2F%2Fnewatlas-brightspot.s3.amazonaws.com%2F46%2Fc1%2F3917ca7a44d3b55460e709750d96%2Fzzyyxhmzduu8bmux0pcy.jpg&na.image_optimisation=0\",\"publishedAt\":\"2024-09-08T15:00:00Z\",\"content\":\"Akaso's Seemor 200 night-vision scope uses AI to blur the dividing line between color day imaging and infrared black-and-white night imaging. We waited for sundown and put one through its paces. Here… [+7564 chars]\"},{\"source\":{\"id\":null,\"name\":\"Xatakamovil.com\"},\"author\":\"Eduardo Marín\",\"title\":\"El iPhone 16 está muy cerca. Apple confirma cuándo será la Keynote, y esperamos ver mucha IA\",\"description\":\"Ya tenemos fecha para la presentación de la nueva generación del iPhone. Apple presentará los nuevos iPhone 16 el próximo 9 de septiembre en el Teatro Steve Jobs, en el campus de Apple en Cupertino, California. Los nuevos iPhone están muy cerca.\\n<!-- BREAK 1 …\",\"url\":\"https://www.xatakamovil.com/apple/iphone-16-esta-muy-cerca-apple-confirma-cuando-sera-keynote-esperamos-ver-mucha-ia\",\"urlToImage\":\"https://i.blogs.es/7a3eea/evento-iphone-16/840_560.jpeg\",\"publishedAt\":\"2024-08-26T16:38:16Z\",\"content\":\"Ya tenemos fecha para la presentación de la nueva generación del iPhone. Apple presentará los nuevos iPhone 16el próximo 9 de septiembre a las 19:00 (hora peninsular de España) en el Teatro Steve Job… [+2252 chars]\"},{\"source\":{\"id\":null,\"name\":\"Yahoo Entertainment\"},\"author\":\"Dave Sebastian and Min Jeong Lee\",\"title\":\"SoftBank Is Picking Stock Winners in India’s Red-Hot IPO Market\",\"description\":\"(Bloomberg) -- India’s hot market for share sales is delivering wins for Japanese technology investor SoftBank Group Corp., whose own stock has taken a hit...\",\"url\":\"https://finance.yahoo.com/news/softbank-picking-stock-winners-india-052446324.html\",\"urlToImage\":\"https://media.zenfs.com/en/bloomberg_technology_68/abe8d0ced2e9d703f7c303d122469538\",\"publishedAt\":\"2024-08-16T05:24:46Z\",\"content\":\"(Bloomberg) -- Indias hot market for share sales is delivering wins for Japanese technology investor SoftBank Group Corp., whose own stock has taken a hit from disappointing earnings and a reality ch… [+2905 chars]\"},{\"source\":{\"id\":null,\"name\":\"Forbes\"},\"author\":\"Angela Chan-Danisi, Contributor, \\n Angela Chan-Danisi, Contributor\\n https://www.forbes.com/sites/angelachan/\",\"title\":\"Game Changer: How SportAI Is Revolutionizing The Sports Industry\",\"description\":\"Its mission is to democratize access to advanced coaching tools, providing real-time, high-quality performance feedback to players of all levels.\",\"url\":\"https://www.forbes.com/sites/angelachan/2024/09/03/game-changer-how-sportai-is-revolutionizing-the-sports-industry/\",\"urlToImage\":\"https://imageio.forbes.com/specials-images/imageserve/66d74dc8fe98eeba08cfafeb/0x0.jpg?format=jpg&height=900&width=1600&fit=bounds\",\"publishedAt\":\"2024-09-03T18:07:59Z\",\"content\":\"SportAI Swing Demo \\r\\nSportAI\\r\\nHow would you like to refine your tennis swing alongside the titans of the court, such as Novak Djokovic or emerging star Coco Gauff? With SportAI, you can analyze and e… [+5035 chars]\"},{\"source\":{\"id\":null,\"name\":\"Project Syndicate\"},\"author\":\"Michael Spence\",\"title\":\"Europe Needs a New Economic Vision\",\"description\":\"With its current course leading only to economic stagnation, the EU must establish a vision for a more dynamic, productive future. Above all, Europeans must answer a simple but critical question: What should the EU look like – in terms of innovation, the econ…\",\"url\":\"https://www.project-syndicate.org/commentary/eu-needs-clear-vision-for-productivity-innovation-defense-economic-growth-by-michael-spence-2024-08\",\"urlToImage\":\"https://webapi.project-syndicate.org/library/87d31dd5628d46ec3957f69440b0a753.2-1-super.1.jpg\",\"publishedAt\":\"2024-08-21T12:30:47Z\",\"content\":\"With its current course leading only to economic stagnation, the EU must establish a vision for a more dynamic, productive future. Above all, Europeans must answer a simple but critical question: Wha… [+6471 chars]\"},{\"source\":{\"id\":null,\"name\":\"CNET\"},\"author\":\"Lisa Lacy\",\"title\":\"OpenAI: Everything You Need to Know About the Company That Started a Generative AI Revolution\",\"description\":\"Its ChatGPT chatbot quickly set the tone for what we can expect from Big Tech in the coming years.\",\"url\":\"https://www.cnet.com/tech/services-and-software/openai-everything-you-need-to-know-about-the-company-that-started-a-generative-ai-revolution/\",\"urlToImage\":\"https://www.cnet.com/a/img/resize/fdbaf407035a45dd318d59b68e41f511e4e5886d/hub/2024/08/29/02f00d69-28e8-4fff-b1fe-5056b39a8298/openai-and-ceo-sam-altman.jpg?auto=webp&fit=crop&height=675&width=1200\",\"publishedAt\":\"2024-08-30T00:06:23Z\",\"content\":\"In less than two years, the generative AI chatbot ChatGPT has become a household name alongside products like the iPhone, Windows and Google Search.\\r\\nOpenAI is the company behind the chatbot, which h… [+12196 chars]\"},{\"source\":{\"id\":null,\"name\":\"Xatakamovil.com\"},\"author\":\"Eduardo Marín\",\"title\":\"iOS 18 está a punto de llegar. Apple ha liberado la última beta del sistema operativo, su lanzamiento oficial es inminente\",\"description\":\"Durante los últimos meses hemos podido probar la versión en desarrollo, o beta, de iOS 18, la próxima actualización mayor que recibirá el iPhone, considerada una de las mayores evoluciones en la historia del sistema operativo. Ahora, la versión definitiva y e…\",\"url\":\"https://www.xatakamovil.com/apple/ios-18-esta-a-punto-llegar-apple-ha-liberado-ultima-beta-sistema-operativo-su-lanzamiento-oficial-inminente\",\"urlToImage\":\"https://i.blogs.es/47e374/ios-18-beta/840_560.jpeg\",\"publishedAt\":\"2024-08-29T03:04:46Z\",\"content\":\"Durante los últimos meses hemos podido probar la versión en desarrollo, o beta, de iOS 18, la próxima actualización mayor que recibirá el iPhone, considerada una de las mayores evoluciones en la hist… [+2624 chars]\"},{\"source\":{\"id\":null,\"name\":\"Geeky Gadgets\"},\"author\":\"Roland Hutchinson\",\"title\":\"What’s New in Artificial Intelligence This Week\",\"description\":\"This week in the world of artificial intelligence has been marked by significant advancements, intriguing developments, and thought-provoking discussions across various platforms and companies. The AI landscape continues to evolve at a rapid pace, with key hi…\",\"url\":\"https://www.geeky-gadgets.com/whats-new-in-artificial-intelligence-this-week/\",\"urlToImage\":\"https://www.geeky-gadgets.com/wp-content/uploads/2024/08/AI.jpg\",\"publishedAt\":\"2024-08-12T05:39:06Z\",\"content\":\"This week in the world of artificial intelligence has been marked by significant advancements, intriguing developments, and thought-provoking discussions across various platforms and companies. The A… [+9678 chars]\"},{\"source\":{\"id\":null,\"name\":\"Utexas.edu\"},\"author\":null,\"title\":\"The cruelty of teaching computing science (1988)\",\"description\":\"Comments\",\"url\":\"https://www.cs.utexas.edu/~EWD/transcriptions/EWD10xx/EWD1036.html\",\"urlToImage\":null,\"publishedAt\":\"2024-08-19T23:35:01Z\",\"content\":\"On the cruelty of really teaching computing science\\r\\nThe second part of this talk pursues some of the scientific and educational consequences of the assumption that computers represent a radical nove… [+36750 chars]\"},{\"source\":{\"id\":null,\"name\":\"Geeky Gadgets\"},\"author\":\"Roland Hutchinson\",\"title\":\"Everything New With Artificial Intelligence This Week\",\"description\":\"This week has seen significant advancements in Artificial Intelligence search, with OpenAI introducing its Search GPT to select users. This innovative tool aims to provide more accurate and context-aware search results, transforming the way you interact with …\",\"url\":\"https://www.geeky-gadgets.com/?p=435944\",\"urlToImage\":\"https://www.geeky-gadgets.com/wp-content/uploads/2024/08/AI-2.jpg\",\"publishedAt\":\"2024-08-25T12:37:30Z\",\"content\":\"This week has seen significant advancements in Artificial Intelligence search, with OpenAI introducing its Search GPT to select users. This innovative tool aims to provide more accurate and context-a… [+7556 chars]\"},{\"source\":{\"id\":null,\"name\":\"heise online\"},\"author\":\"Isabel Grünewald\",\"title\":\"KI-Update kompakt: AI Safety Institute, Klett-Chatbot, Proton, Midjourney\",\"description\":\"Das \\\"KI-Update\\\" liefert werktäglich eine Zusammenfassung der wichtigsten KI-Entwicklungen.\",\"url\":\"https://www.heise.de/news/KI-Update-kompakt-AI-Safety-Institute-Klett-Chatbot-Proton-Midjourney-9855641.html\",\"urlToImage\":\"https://heise.cloudimg.io/bound/1200x1200/q85.png-lossy-85.webp-lossy-85.foil1/_www-heise-de_/imgs/18/4/6/6/2/6/1/7/KIupdate_Titel_122023-4cd1ddee68e292c6.png\",\"publishedAt\":\"2024-09-03T13:00:00Z\",\"content\":\"Inhaltsverzeichnis\\r\\nDas U.S. Artificial Intelligence Safety Institute am National Institute of Standards and Technology (NIST) hat Kooperationsvereinbarungen mit den KI-Unternehmen Anthropic und Open… [+8289 chars]\"},{\"source\":{\"id\":null,\"name\":\"MIT Technology Review\"},\"author\":\"Tiffany Ng\",\"title\":\"Escaping Spotify’s algorithm\",\"description\":\"Since the heyday of radio, records, cassette tapes, and MP3 players, the branding of sound has evolved from broad genres like rock and hip-hop to “paranormal dark cabaret afternoon” and “synth space,” and streaming has become the default. Radio DJs have been …\",\"url\":\"https://www.technologyreview.com/2024/08/16/1096276/spotify-algorithms-music-discovery-ux/\",\"urlToImage\":\"https://wp.technologyreview.com/wp-content/uploads/2024/08/EscapingSpotifyAlgorithm_web.jpg?resize=1200,600\",\"publishedAt\":\"2024-08-16T11:00:00Z\",\"content\":\"Spotifys music database has a very rich set of various parameters, markup, and categories to classify music in a very detailed way. This is simply not exposed in the official app, he says. He believe… [+3795 chars]\"},{\"source\":{\"id\":null,\"name\":\"Xataka.com\"},\"author\":\"Juan Carlos López\",\"title\":\"LG QNED87, análisis: este es el camino que deberían seguir todos los televisores de gama media/alta\",\"description\":\"Este televisor pertenece a una categoría un tanto atípica en nuestros análisis. Buena parte de los modelos que probamos en Xataka es claramente de gama alta, como, por ejemplo, el OLED C3 de LG, o prémium, como el Neo QLED QN900C 8K de Samsung. Algunos, sin e…\",\"url\":\"https://www.xataka.com/analisis/lg-qned87-analisis-caracteristicas-precio-especificaciones\",\"urlToImage\":\"https://i.blogs.es/f7f48e/lg-ap/840_560.jpeg\",\"publishedAt\":\"2024-08-10T14:00:57Z\",\"content\":\"Este televisor pertenece a una categoría un tanto atípica en nuestros análisis. Buena parte de los modelos que probamos en Xataka es claramente de gama alta, como, por ejemplo, el OLED C3 de LG, o pr… [+14580 chars]\"},{\"source\":{\"id\":null,\"name\":\"PCWorld\"},\"author\":\"Michael Crider\",\"title\":\"MSI goes hard on AI with a thicc desktop PC that chats with you\",\"description\":\"MSI is hoping that you aren’t yet tired of hearing about “AI” in consumer PCs, as the company’s lineup of high-end laptops and monitors at the German trade show IFA is jam-packed with artificial alleged-intelligence.\\r\\n\\n\\n\\n\\nMost of it includes the usual bumps u…\",\"url\":\"https://www.pcworld.com/article/2446258/msi-goes-hard-on-ai-with-a-thicc-desktop-pc-that-chats-with-you.html\",\"urlToImage\":\"https://www.pcworld.com/wp-content/uploads/2024/09/MSI-MEG-Vision-X-AI.jpg?quality=50&strip=all&w=1024\",\"publishedAt\":\"2024-09-03T18:00:00Z\",\"content\":\"Skip to contentType your search and hit enter\\r\\nWhen you purchase through links in our articles, we may earn a small commission. This doesn't affect our editorial independence\\r\\n.\\r\\nMSI is hoping that y… [+5520 chars]\"},{\"source\":{\"id\":null,\"name\":\"SamMobile\"},\"author\":\"Mihai Matei\",\"title\":\"Samsung Food update lets you scan ingredients using your phone\",\"description\":\"Ahead of the IFA 2024 trade show, which kicks off in Berlin on September 6, Samsung has announced a new update to its Food platform. Unsurprisingly, given the company's focus on AI (artificial intelligence) throughout the year, the latest update to Samsung Fo…\",\"url\":\"https://www.sammobile.com/news/samsung-food-update-scan-ingredients-using-phone/\",\"urlToImage\":\"https://www.sammobile.com/wp-content/uploads/2024/08/Bespoke-Fridge-AI_1-720x360.jpg\",\"publishedAt\":\"2024-08-28T13:39:12Z\",\"content\":\"Ahead of the IFA 2024 trade show, which kicks off in Berlin on September 6, Samsung has announced a new update to its Food platform. Unsurprisingly, given the company's focus on AI (artificial intell… [+2454 chars]\"},{\"source\":{\"id\":null,\"name\":\"Phys.Org\"},\"author\":\"Science X\",\"title\":\"AI and remote sensing data sets advance sustainable mining and Earth observation\",\"description\":\"Three studies conducted with the collaboration of the Helmholtz Institute Freiberg for Resource Technology, an institute of the Helmholtz-Zentrum Dresden-Rossendorf (HZDR), show significant progress in monitoring mining areas.\",\"url\":\"https://phys.org/news/2024-08-ai-remote-advance-sustainable-earth.html\",\"urlToImage\":\"https://scx2.b-cdn.net/gfx/news/hires/2024/mining-monitoring-40-g.jpg\",\"publishedAt\":\"2024-08-29T16:31:04Z\",\"content\":\"Three studies conducted with the collaboration of the Helmholtz Institute Freiberg for Resource Technology, an institute of the Helmholtz-Zentrum Dresden-Rossendorf (HZDR), show significant progress … [+7138 chars]\"},{\"source\":{\"id\":null,\"name\":\"Forbes\"},\"author\":\"Gamini Hewawasam, PhD, Forbes Councils Member, \\n Gamini Hewawasam, PhD, Forbes Councils Member\\n https://www.forbes.com/councils/forbescoachescouncil/people/gaminihewawasam/\",\"title\":\"Embracing Mindfulness In Leadership In The Age Of AI And Corporate Complexity\",\"description\":\"A mindful leader can bridge the gap by using AI as a tool while maintaining a balanced and ethical perspective grounded in emotional intelligence.\",\"url\":\"https://www.forbes.com/councils/forbescoachescouncil/2024/08/19/embracing-mindfulness-in-leadership-in-the-age-of-ai-and-corporate-complexity/\",\"urlToImage\":\"https://imageio.forbes.com/specials-images/imageserve/66bf9f6003910b50a1799afe/0x0.jpg?format=jpg&height=900&width=1600&fit=bounds\",\"publishedAt\":\"2024-08-19T11:15:00Z\",\"content\":\"Dr. Gamini Hewawasam, founder of ManoLead, is a scholar-practitioner specializing in the intersection of mindfulness and leadership theory.\\r\\ngetty\\r\\nIn the fast-paced, high-stakes environment of the c… [+6869 chars]\"},{\"source\":{\"id\":null,\"name\":\"Phys.Org\"},\"author\":\"Therésa Jones, Nikolas Willmott\",\"title\":\"City light pollution is shrinking spiders' brains, new study finds\",\"description\":\"As darkness falls, the nocturnal half of the animal kingdom starts its day. Nocturnal species are perfectly adapted to navigate and survive the dark of night that has existed for countless millions of years.\",\"url\":\"https://phys.org/news/2024-09-city-pollution-spiders-brains.html\",\"urlToImage\":\"https://scx2.b-cdn.net/gfx/news/hires/2024/garden-orb-weaving-spi.jpg\",\"publishedAt\":\"2024-09-04T21:12:04Z\",\"content\":\"As darkness falls, the nocturnal half of the animal kingdom starts its day. Nocturnal species are perfectly adapted to navigate and survive the dark of night that has existed for countless millions o… [+5536 chars]\"},{\"source\":{\"id\":null,\"name\":\"Javacodegeeks.com\"},\"author\":\"Yatin Batra\",\"title\":\"Spring AI Image Generation from Text Example\",\"description\":\"In today’s rapidly evolving technological landscape, integrating artificial intelligence (AI) into applications has become a key driver for innovation and efficiency. Spring AI Project is a powerful extension of the Spring framework designed to facilitate the…\",\"url\":\"https://www.javacodegeeks.com/spring-ai-image-generation-from-text-example.html\",\"urlToImage\":\"https://www.javacodegeeks.com/wp-content/uploads/2012/10/spring-logo.jpg\",\"publishedAt\":\"2024-08-27T07:26:52Z\",\"content\":\"In today’s rapidly evolving technological landscape, integrating artificial intelligence (AI) into applications has become a key driver for innovation and efficiency. Spring AI Project is a powerful … [+11015 chars]\"},{\"source\":{\"id\":null,\"name\":\"Geeky Gadgets\"},\"author\":\"Julian Horsey\",\"title\":\"Most Advanced Humanoid Robot Ever Created\",\"description\":\"The Figure 02 humanoid robot, developed by the innovative company Figure, represents a significant advancement in the fields of artificial intelligence, computer vision, and robotics. This innovative robot is designed to perform complex tasks through natural …\",\"url\":\"https://www.geeky-gadgets.com/?p=435790\",\"urlToImage\":\"https://www.geeky-gadgets.com/wp-content/uploads/2024/08/Figure-02-humanoid-robot-1.jpg\",\"publishedAt\":\"2024-08-22T10:07:57Z\",\"content\":\"The Figure 02 humanoid robot, developed by the innovative company Figure, represents a significant advancement in the fields of artificial intelligence, computer vision, and robotics. This innovative… [+4646 chars]\"},{\"source\":{\"id\":null,\"name\":\"Science Daily\"},\"author\":null,\"title\":\"New AI hair analysis method holds promise for improved health research\",\"description\":\"An application that uses artificial intelligence may revolutionize the way scientists study hair and could lead to the development of health diagnostics based solely on hair.\",\"url\":\"https://www.sciencedaily.com/releases/2024/09/240905120925.htm\",\"urlToImage\":\"https://www.sciencedaily.com/images/scidaily-icon.png\",\"publishedAt\":\"2024-09-05T16:09:25Z\",\"content\":\"A new application that uses artificial intelligence may revolutionize the way scientists study hair and could lead to the development of health diagnostics based solely on hair.The AI model speeds up… [+3426 chars]\"},{\"source\":{\"id\":null,\"name\":\"Grist\"},\"author\":\"Fred Pearce, Yale Environment 360\",\"title\":\"As ‘doomsday’ glacier melts, can an artificial barrier save it?\",\"description\":\"Relatively warm ocean currents are weakening the base of Antarctica’s enormous Thwaites Glacier, whose demise could raise sea levels by as much as 7 feet. To separate the ice from those warmer ocean waters, scientists have put forward an audacious plan to ere…\",\"url\":\"http://grist.org/science/as-doomsday-glacier-melts-can-an-artificial-barrier-save-it/\",\"urlToImage\":\"https://grist.org/wp-content/uploads/2024/08/Thwaites-Glacier-Header_Mazur.jpg?quality=75&strip=all\",\"publishedAt\":\"2024-09-02T13:00:00Z\",\"content\":\"This story was originally published by Yale E360 and is reproduced here as part of the Climate Desk collaboration.\\r\\nThey call it the Doomsday Glacier. A chunk of Antarctic ice as big as Florida and t… [+12957 chars]\"},{\"source\":{\"id\":\"fox-news\",\"name\":\"Fox News\"},\"author\":\"Kurt Knutsson, CyberGuy Report\",\"title\":\"11 Android tips, tricks for getting most from your phone\",\"description\":\"Kurt \\\"CyberGuy\\\" Knutsson shares some tips and tricks to help you get the most out of your Android phone, including some gems you may not know about.\",\"url\":\"https://www.foxnews.com/tech/11-android-tips-tricks-getting-most-from-your-phone\",\"urlToImage\":\"https://static.foxnews.com/foxnews.com/content/uploads/2024/09/1-11-Android-tips-and-tricks-for-getting-the-most-from-your-phone.jpg\",\"publishedAt\":\"2024-09-05T14:00:36Z\",\"content\":\"Android phones are packed with features and customization options, making them incredibly versatile and user-friendly. \\r\\nEven seasoned Android users might not be aware of all the cool tricks their de… [+8814 chars]\"},{\"source\":{\"id\":null,\"name\":\"/FILM\"},\"author\":\"staff@slashfilm.com (Witney Seibold)\",\"title\":\"James Cameron Has One Very Specific Goal With His Avatar Movies\",\"description\":\"The Avatar movies are gorgeous to look at, but creating a beautiful world is only a secondary concern for James Cameron.\",\"url\":\"https://www.slashfilm.com/1644525/james-cameron-avatar-movies-goal-cry/\",\"urlToImage\":\"https://www.slashfilm.com/img/gallery/james-cameron-has-one-very-specific-goal-with-his-avatar-movies/l-intro-1723818769.jpg\",\"publishedAt\":\"2024-08-17T22:45:45Z\",\"content\":\"James Cameron's third \\\"Avatar\\\" film, \\\"Avatar: Fire and Ash,\\\" is due in theaters in December of 2025. When it is released, only three years will have passed since \\\"Avatar: The Way of Water,\\\" the secon… [+1534 chars]\"},{\"source\":{\"id\":null,\"name\":\"/FILM\"},\"author\":\"staff@slashfilm.com (Witney Seibold)\",\"title\":\"The Deadpool & Wolverine Character Who Almost Picked Up Thor's Hammer Mjölnir\",\"description\":\"Deadpool & Wolverine nearly introduced another MCU character worthy of wielding Thor's magical hammer Mjölnir.\",\"url\":\"https://www.slashfilm.com/1639958/deadpool-and-wolverine-character-peter-picked-up-thor-hammer-mjolnir/\",\"urlToImage\":\"https://www.slashfilm.com/img/gallery/the-deadpool-wolverine-character-who-almost-picked-up-thors-hammer-mjlnir/l-intro-1723226562.jpg\",\"publishedAt\":\"2024-08-09T18:42:01Z\",\"content\":\"In Kenneth Branagh's 2011 fantasy clunker \\\"Thor,\\\" it was explained that the title demigod (Chris Hemsworth) could only lift his magical hammer weapon  called Mjölnir if he was \\\"worthy.\\\" It's never qu… [+1631 chars]\"},{\"source\":{\"id\":null,\"name\":\"Wwwhatsnew.com\"},\"author\":\"Juan Diego Polo\",\"title\":\"Midjourney se mete en el terreno del hardware: ¿qué podemos esperar?\",\"description\":\"Midjourney, conocida por su exitosa plataforma de generación de imágenes con inteligencia artificial, está dando un paso inesperado: lanzarse al mundo del hardware. Y no estamos hablando de un rumor, la compañía lo confirmó en una publicación en X (antes Twit…\",\"url\":\"https://wwwhatsnew.com/2024/08/30/midjourney-se-mete-en-el-terreno-del-hardware-que-podemos-esperar/\",\"urlToImage\":\"https://wwwhatsnew.com/wp-content/uploads/2024/08/midjoutrney.webp\",\"publishedAt\":\"2024-08-30T02:00:37Z\",\"content\":\"Midjourney, conocida por su exitosa plataforma de generación de imágenes con inteligencia artificial, está dando un paso inesperado: lanzarse al mundo del hardware. Y no estamos hablando de un rumor,… [+2812 chars]\"},{\"source\":{\"id\":null,\"name\":\"Forbes\"},\"author\":\"Ewan Spence, Senior Contributor, \\n Ewan Spence, Senior Contributor\\n https://www.forbes.com/sites/ewanspence/\",\"title\":\"How Apple’s iPhone 16 Pro Could Change Smartphones Forever\",\"description\":\"Is the launch of Apple's iPhone 16 family the last moment Silicon Valley can stop and consider the impact of generative AI?\",\"url\":\"https://www.forbes.com/sites/ewanspence/2024/09/01/apple-iphone-16-pro-generative-ai-dangers-apple-intelligence-new-iphone/\",\"urlToImage\":\"https://imageio.forbes.com/specials-images/imageserve/6470e48fe2490b1a1cb845f0/0x0.jpg?format=jpg&crop=3546,1994,x298,y200,safe&height=900&width=1600&fit=bounds\",\"publishedAt\":\"2024-09-01T22:41:13Z\",\"content\":\"Updated September 1 with new details on the impact of Californias proposed Artificial Intelligence Safety Bill.\\r\\nApple CEO Tim Cook looks at a new iPhone Pro (Photo by Justin Sullivan/Getty Images)\\r\\n… [+7439 chars]\"},{\"source\":{\"id\":null,\"name\":\"La Vanguardia\"},\"author\":\"JuanMi Guirado\",\"title\":\"Fantástica televisión OLED de 55 pulgadas con 120 Hz, Dolby Vision y 600 euros de descuento\",\"description\":\"¿Quieres mejorar la imagen y el sonido de tu televisión? Me temo que te toca renovarla por completo. En un solo dispositivo tendrás una imagen fantástica y un sonido que, aunque no sea la panacea, está a un gran nivel. Se trata de la smart TV LG OLED B4 de 55…\",\"url\":\"https://www.lavanguardia.com/andro4all/ofertas/fantastica-television-oled-de-55-pulgadas-con-120-hz-dolby-vision-y-600-euros-de-descuento\",\"urlToImage\":\"https://www.lavanguardia.com/andro4all/hero/2024/09/lg-oled-b4-sonido.jpg?width=1200\",\"publishedAt\":\"2024-09-04T16:30:12Z\",\"content\":\"Su diseño delgado la hace poder colocarse en cualquier espacio sin ocupar apenas volumen en la pared\\r\\n¿Quieres mejorar la imagen y el sonido de tu televisión? Me temo que te toca renovarla por comple… [+3725 chars]\"},{\"source\":{\"id\":null,\"name\":\"Jeffbullas.com\"},\"author\":\"Jeff Bullas\",\"title\":\"20 Quotes on the Future of AI That Will Make You Think\",\"description\":\"Here is a compilation of dystopian and utopian quotes about AI from notable individuals.\\nThe post 20 Quotes on the Future of AI That Will Make You Think appeared first on jeffbullas.com.\",\"url\":\"https://www.jeffbullas.com/quotes-on-future-of-ai/\",\"urlToImage\":\"https://www.jeffbullas.com/wp-content/uploads/2024/08/DALL·E-2024-08-09-15.44.53-A-landscape-feature-image-for-an-article-titled-20-Quotes-on-the-Future-of-AI-that-will-make-you-Think.-The-image-should-have-a-futuristic-theme-sh.webp\",\"publishedAt\":\"2024-08-09T10:19:21Z\",\"content\":\"Academia and Hollywood can often be seen as two worlds. \\r\\nEntertainment vs intelligence.Superficial and shallow vs deep thinking. They may not sit in the same restaurant or bar. But they can both off… [+7005 chars]\"},{\"source\":{\"id\":null,\"name\":\"Ubergizmo\"},\"author\":\"Paulo Montenegro\",\"title\":\"LG Unveils Next-Gen AI-Powered Gram Laptop With Intel Core Ultra Series 2 Processor\",\"description\":\"LG Electronics has announced the integration of the latest Intel Core Ultra processor (Series 2) into its LG gram laptop lineup, marking a significant advancement in personal computing. The new LG gram 16 Pro, set to be unveiled at the Intel Core Ultra Global…\",\"url\":\"https://www.ubergizmo.com/2024/09/lg-gram-core-ultra-series-2/\",\"urlToImage\":\"https://i0.wp.com/cdnssl.ubergizmo.com/wp-content/uploads/2024/09/LG-gram-x-Intel-Lunar-Lake_1.jpg\",\"publishedAt\":\"2024-09-04T13:54:37Z\",\"content\":\"LG Electronics has announced the integration of the latest Intel Core Ultra processor (Series 2) into its LG gram laptop lineup, marking a significant advancement in personal computing. The new LG gr… [+1893 chars]\"},{\"source\":{\"id\":null,\"name\":\"Ubergizmo\"},\"author\":\"Paulo Montenegro\",\"title\":\"LG Unveils ThinQ ON AI Home Hub At IFA 2024\",\"description\":\"At IFA 2024, LG Electronics introduced the LG ThinQ ON AI home hub, designed to be the centerpiece of a connected smart home ecosystem. Powered by LG’s Affectionate Intelligence, this innovative hub offers easy connectivity and personalized experiences by lea…\",\"url\":\"https://www.ubergizmo.com/2024/09/lg-thinq-on-ai-home-hub/\",\"urlToImage\":\"https://i0.wp.com/cdnssl.ubergizmo.com/wp-content/uploads/2024/09/ThinQ-ON_01.jpg\",\"publishedAt\":\"2024-09-04T20:27:31Z\",\"content\":\"At IFA 2024, LG Electronicsintroduced the LG ThinQ ON AI home hub, designed to be the centerpiece of a connected smart home ecosystem. Powered by LG’s Affectionate Intelligence, this innovative hub o… [+1851 chars]\"},{\"source\":{\"id\":null,\"name\":\"BetaNews\"},\"author\":\"Richard Godfrey\",\"title\":\"Why AI isn't just hype -- but a pragmatic approach is required\",\"description\":\"After all the headlines we have read about how amazing Artificial Intelligence (AI) is and how businesses would literally stagnate if they didn't have it, it was interesting to read this article in Forbes, who suggest that AI stock is showing 'bubble-like' te…\",\"url\":\"https://betanews.com/2024/08/19/why-ai-isnt-just-hype-but-a-pragmatic-approach-is-required/\",\"urlToImage\":\"https://betanews.com/wp-content/uploads/2023/11/Artificial-intelligence-AI-business-50x50.jpg\",\"publishedAt\":\"2024-08-19T14:17:22Z\",\"content\":\"After all the headlines we have read about how amazing Artificial Intelligence (AI) is and how businesses would literally stagnate if they didn't have it, it was interesting to read this article in F… [+5196 chars]\"},{\"source\":{\"id\":null,\"name\":\"CleanTechnica\"},\"author\":\"Steve Hanley\",\"title\":\"How “Move 37” Revealed The Perils Of AI — Yuval Noah Harari\",\"description\":\"AI is not artificial intelligence but rather alien intelligence, according to Yuval Noah Harari, author of the book Sapiens. \\nThe post How “Move 37” Revealed The Perils Of AI — Yuval Noah Harari appeared first on CleanTechnica.\",\"url\":\"https://cleantechnica.com/2024/08/27/how-move-37-revealed-the-perils-of-ai-yuval-noah-harari/\",\"urlToImage\":\"https://cleantechnica.com/wp-content/uploads/2024/06/data-center.jpg\",\"publishedAt\":\"2024-08-27T20:48:06Z\",\"content\":\"Sign up for daily news updates from CleanTechnica on email. Or follow us on Google News!\\r\\nYuval Noah Harari is the author of Sapiens — A Brief History Of Humankind. Harari says, “Homo sapiens rules t… [+12126 chars]\"},{\"source\":{\"id\":null,\"name\":\"Forbes\"},\"author\":\"Ewan Spence, Senior Contributor, \\n Ewan Spence, Senior Contributor\\n https://www.forbes.com/sites/ewanspence/\",\"title\":\"How Apple’s iPhone 16 Pro Could Change Smartphones Forever\",\"description\":\"Is the launch of Apple's iPhone 16 family the last moment Silicon Valley can stop and consider the impact of generative AI?\",\"url\":\"https://www.forbes.com/sites/ewanspence/2024/08/31/apple-iphone-16-pro-generative-ai-dangers-apple-intelligence-new-iphone/\",\"urlToImage\":\"https://imageio.forbes.com/specials-images/imageserve/6470e48fe2490b1a1cb845f0/0x0.jpg?format=jpg&crop=3546,1994,x298,y200,safe&height=900&width=1600&fit=bounds\",\"publishedAt\":\"2024-08-31T22:31:00Z\",\"content\":\"Apple CEO Tim Cook looks at a new iPhone Pro (Photo by Justin Sullivan/Getty Images)\\r\\nGetty Images\\r\\nAt Apples Glowtime event scheduled for Monday, September 9, Tim Cook and his team will launch the n… [+5313 chars]\"},{\"source\":{\"id\":null,\"name\":\"Ubergizmo\"},\"author\":\"Paulo Montenegro\",\"title\":\"Unitree Unveils Mass-Production G1 Humanoid Robot With Advanced Flexibility\",\"description\":\"Unitree has introduced the updated version of its G1 humanoid robot, now ready for mass production. The G1 robot is highly flexible, capable of performing complex movements like dancing, jumping, twisting, and even landing stunts without losing balance. It ca…\",\"url\":\"https://www.ubergizmo.com/2024/08/unitree-g1-humanoid-robot/\",\"urlToImage\":\"https://i0.wp.com/cdnssl.ubergizmo.com/wp-content/uploads/2024/08/unitree-G1-humanoid-robot-mass-production-designboom-05.jpg\",\"publishedAt\":\"2024-08-27T14:01:40Z\",\"content\":\"Unitree has introduced the updated version of its G1 humanoid robot, now ready for mass production. The G1 robot is highly flexible, capable of performing complex movements like dancing, jumping, twi… [+1134 chars]\"},{\"source\":{\"id\":null,\"name\":\"Forbes\"},\"author\":\"Karthik T S, Forbes Councils Member, \\n Karthik T S, Forbes Councils Member\\n https://www.forbes.com/councils/forbestechcouncil/people/karthikts/\",\"title\":\"Beyond ChatGPT: How Generative AI Is Shaping The Future Of Businesses\",\"description\":\"Business agility will be paramount in driving adoption and shaping the future of innovation, as the full potential of GenAI is yet to be realized.\",\"url\":\"https://www.forbes.com/councils/forbestechcouncil/2024/08/22/beyond-chatgpt-how-generative-ai-is-shaping-the-future-of-businesses/\",\"urlToImage\":\"https://imageio.forbes.com/specials-images/imageserve/66b25df0c54b2bade8909758/0x0.jpg?format=jpg&height=900&width=1600&fit=bounds\",\"publishedAt\":\"2024-08-22T10:45:00Z\",\"content\":\"Karthik T S heads the COE team at Torry Harris (THIS). Assisting telcos, banks and large enterprises define integration strategies.\\r\\ngetty\\r\\nThe launch of ChatGPT-3, followed by the more advanced vers… [+6738 chars]\"},{\"source\":{\"id\":null,\"name\":\"Phys.Org\"},\"author\":\"Science X\",\"title\":\"A visionary approach: How a team developed accessible maps for colorblind scientists\",\"description\":\"Imagine having to do your job, but not being able to visually process the data right in front of you. Nearly 8% of genetic males and 0.5% of genetic females have some form of Color Vision Deficiency (CVD), or the decreased ability to discern between particula…\",\"url\":\"https://phys.org/news/2024-08-visionary-approach-team-accessible-colorblind.html\",\"urlToImage\":\"https://scx2.b-cdn.net/gfx/news/2024/a-visionary-approach-h-1.jpg\",\"publishedAt\":\"2024-08-16T14:33:57Z\",\"content\":\"Imagine having to do your job, but not being able to visually process the data right in front of you. Nearly 8% of genetic males and 0.5% of genetic females have some form of Color Vision Deficiency … [+5946 chars]\"},{\"source\":{\"id\":null,\"name\":\"Gizmodo.com\"},\"author\":\"Lucas H.\",\"title\":\"La serie de Vision de Marvel trae de vuelta a James Spader como Ultron\",\"description\":\"La serie de Vision, cuyo título aún no se ha revelado, es una continuación de WandaVision, protagonizada por Paul Bettany y llegará a Disney+.\",\"url\":\"https://es.gizmodo.com/la-serie-de-vision-de-marvel-trae-de-vuelta-a-james-spader-como-ultron-2000126689\",\"urlToImage\":\"https://es.gizmodo.com/app/uploads/2024/08/Diseno-sin-titulo-64-2.jpg\",\"publishedAt\":\"2024-08-23T19:17:45Z\",\"content\":\"Terry Matalas, de Star Trek: Picard, está intensificando su trabajo en su próxima serie, el show de Disney+ aún sin título que se centrará en Vision de Marvel. Con Paul Bettany de vuelta como el andr… [+2501 chars]\"},{\"source\":{\"id\":null,\"name\":\"ArchDaily\"},\"author\":\"Hadir Al Koshta\",\"title\":\"Aguas Claras Hotel Restaurant and Yoga Pavilion / Studio Saxe\",\"description\":\"Overview - Studio Saxe was commissioned to design a restaurant and yoga pavilion for Hotel Aguas Claras, an eclectic retreat nestled along the serene shores of Puerto Viejo, Costa Rica. The project enhances the hotel’s distinctive character, which embodies bo…\",\"url\":\"https://www.archdaily.com/1020792/aguas-claras-hotel-restaurant-and-yoga-pavilion-studio-saxe\",\"urlToImage\":\"https://images.adsttc.com/media/images/66d7/30f4/5030/bc01/7a38/f268/large_jpg/aguas-claras-hotel-restaurant-and-yoga-studio-studio-saxe_23.jpg?1725378828\",\"publishedAt\":\"2024-09-04T03:00:00Z\",\"content\":\"© Studio Saxe\\r\\n+ 55\\r\\n<ul><li>Project Team: Studio Saxe\\r\\n</li><li>Client: Hotel Aguas Claras\\r\\n</li><li>City: Puerto Viejo de Talamanca\\r\\n</li><li></li></ul>\\r\\nMore SpecsLess Specs\\r\\n© Studio Saxe\\r\\nText d… [+4712 chars]\"},{\"source\":{\"id\":null,\"name\":\"Quartz India\"},\"author\":\"William Gavin\",\"title\":\"Tesla has finally released an upgraded version of its troublesome summoning feature\",\"description\":\"Almost two years after CEO Elon Musk acknowledged that Tesla’s Smart Summon function wasn’t performing as well as hoped, the automaker has unveiled a new — and seemingly upgraded — version.Read more...\",\"url\":\"https://qz.com/tesla-elon-musk-actually-smart-summon-evs-robotaxis-ai-1851638194\",\"urlToImage\":\"https://i.kinja-img.com/image/upload/c_fill,h_675,pg_1,q_80,w_1200/b9b371ceb9263abecc5b5b8e7f0b59c2.jpg\",\"publishedAt\":\"2024-09-03T13:05:00Z\",\"content\":\"In This Story\\r\\nAlmost two years after CEO Elon Musk acknowledged that Teslas TSLA Smart Summon function wasnt performing as well as hoped, the automaker has unveiled a new and seemingly upgraded vers… [+2582 chars]\"},{\"source\":{\"id\":null,\"name\":\"Forbes\"},\"author\":\"Robert B. Tucker, Contributor, \\n Robert B. Tucker, Contributor\\n https://www.forbes.com/sites/robertbtucker/\",\"title\":\"The Singularity Is Coming Soon. Here’s What It May Mean.\",\"description\":\"In 2005, futurist Ray Kurzweil predicted that by 2045, machines would become smarter than humans. That moment is arriving faster than even he predicted.\",\"url\":\"https://www.forbes.com/sites/robertbtucker/2024/08/22/the-singularity-is-coming-soon-heres-what-it-may-mean/\",\"urlToImage\":\"https://imageio.forbes.com/specials-images/imageserve/66c6454fb89a55a4d3f61136/0x0.jpg?format=jpg&height=900&width=1600&fit=bounds\",\"publishedAt\":\"2024-08-22T16:29:38Z\",\"content\":\"Futurist Ray Kurzweil speaking in New Delhi in 2012 (Photo by Kaushik Roy/The India Today Group via ... [+] Getty Images)\\r\\nThe India Today Group via Getty Images\\r\\nIn 2005, the futurist Ray Kurzweil p… [+4381 chars]\"},{\"source\":{\"id\":null,\"name\":\"Substack.com\"},\"author\":\"Zvi Mowshowitz\",\"title\":\"Danger, AI Scientist, Danger\",\"description\":\"While I finish up the weekly for tomorrow morning after my trip, here’s a section I expect to want to link back to every so often in the future.\",\"url\":\"https://thezvi.substack.com/p/danger-ai-scientist-danger\",\"urlToImage\":\"https://substackcdn.com/image/fetch/w_1200,h_600,c_fill,f_jpg,q_auto:good,fl_progressive:steep,g_auto/https%3A%2F%2Fsubstack-post-media.s3.amazonaws.com%2Fpublic%2Fimages%2F78cdcec4-f6ce-411a-b42c-f31c6168263f_2016x1694.jpeg\",\"publishedAt\":\"2024-08-17T07:39:29Z\",\"content\":\"While I finish up the weekly for tomorrow morning after my trip, heres a section I expect to want to link back to every so often in the future. Its too good.\\r\\nDanger, AI Scientist, Danger\\r\\nAs in, the… [+12757 chars]\"}]}\n"
          ]
        },
        {
          "output_type": "execute_result",
          "data": {
            "text/plain": [
              "\"Here are the top 5 AI news articles:\\n1. How AI Is Deciphering Lost Scrolls From the Roman Empire - Gizmodo.com\\n2. Marvel’s Vision Series Is Bringing Back James Spader as Ultron - Gizmodo.com\\n3. Marvel’s Vision Series Is Bringing Back James Spader as Ultron - Gizmodo.com\\n4. The iPhone is getting a ‘glow’ up. What to expect from Apple’s Monday event - CNN\\n5. Crop loss is a huge problem for sustainability and food security. I'm using AI and computer vision to help fix it. - Business Insider\""
            ],
            "application/vnd.google.colaboratory.intrinsic+json": {
              "type": "string"
            }
          },
          "metadata": {},
          "execution_count": 111
        }
      ],
      "source": [
        "import requests\n",
        "import os\n",
        "\n",
        "# Fetch the API key from environment variable or use a hardcoded one (for testing)\n",
        "news_api_key = os.getenv('NEWS_API_KEY', 'your_api_key_here')\n",
        "\n",
        "# Function to fetch AI news using NewsAPI\n",
        "def fetch_ai_news():\n",
        "    url = \"https://newsapi.org/v2/everything\"\n",
        "    parameters = {\n",
        "        'q': 'artificial intelligence OR NLP OR computer vision',\n",
        "        'sortBy': 'relevancy',\n",
        "        'apiKey': news_api_key\n",
        "    }\n",
        "\n",
        "    response = requests.get(url, params=parameters)\n",
        "\n",
        "    # Print out the response for debugging purposes\n",
        "    print(f\"NewsAPI Response: {response.text}\")  # Check what the response contains\n",
        "\n",
        "    if response.status_code == 200:\n",
        "        data = response.json()\n",
        "        articles = data['articles']\n",
        "\n",
        "        # Get the top 5 articles and format their titles\n",
        "        news_summary = \"\\n\".join([f\"{i+1}. {article['title']} - {article['source']['name']}\" for i, article in enumerate(articles[:5])])\n",
        "        return f\"Here are the top 5 AI news articles:\\n{news_summary}\"\n",
        "    else:\n",
        "        return \"Sorry, I couldn't fetch the latest AI news at the moment.\"\n",
        "\n",
        "# Example test call\n",
        "fetch_ai_news()\n"
      ]
    },
    {
      "cell_type": "code",
      "execution_count": 112,
      "metadata": {
        "id": "kMdu3q6KihWe",
        "colab": {
          "base_uri": "https://localhost:8080/",
          "height": 1000
        },
        "outputId": "e2424b1a-8240-4c97-da53-1c50e0f1c34a"
      },
      "outputs": [
        {
          "output_type": "stream",
          "name": "stdout",
          "text": [
            "Initializing Cohere client...\n",
            "User Input: What are the new AI developments, in July, 2024?\n",
            "Checking if the user query is about news: What are the new AI developments, in July, 2024?\n",
            "Is News Query: False\n",
            "Generating bot response through Cohere...\n",
            "Generating response using Cohere...\n",
            "Conversation History:\n",
            "\n",
            "Prompt for Cohere:\n",
            "Previous conversation:\n",
            "\n",
            "\n",
            "User's question: What are the new AI developments, in July, 2024?\n",
            "\n",
            "Your response:\n",
            "Generated Response: Here are some of the new AI developments that have been announced or reported in July 2024:\n",
            "\n",
            "1. OpenAI's ChatGPT 4.0: OpenAI, the company behind the popular language model ChatGPT, announced that it is working on the next generation of its AI technology, ChatGPT 4.0. The new version is expected to have improved capabilities, including better context understanding, more accurate responses, and enhanced multilingual support.\n",
            "\n",
            "2. Cohere's Command Model: Cohere, a Canadian AI company, released its Command Model, a large language model trained to follow instructions and perform a wide range of tasks. The model can understand and generate human language, and can be applied to use cases such as content generation, customer service, and code completion.\n",
            "\n",
            "3. DeepMind's GopherProbe: DeepMind, an AI research lab owned by Alphabet, introduced GopherProbe, a new method for evaluating the capabilities and limitations of large language models. GopherProbe uses a set of carefully designed probes to assess a model's understanding of different linguistic concepts and its ability to generalize to new tasks.\n",
            "\n",
            "4. AI for Drug Discovery: There have been several advancements in using AI for drug discovery and development. For example, a team from the University of Toronto developed an AI system that can predict the 3D structures of proteins, which could help accelerate the process of designing new drugs.\n",
            "\n",
            "5. AI Art and Content Generation: AI-generated art\n",
            "Updated Conversation History: ['User: What are the new AI developments, in July, 2024?', \"Bot: Here are some of the new AI developments that have been announced or reported in July 2024:\\n\\n1. OpenAI's ChatGPT 4.0: OpenAI, the company behind the popular language model ChatGPT, announced that it is working on the next generation of its AI technology, ChatGPT 4.0. The new version is expected to have improved capabilities, including better context understanding, more accurate responses, and enhanced multilingual support.\\n\\n2. Cohere's Command Model: Cohere, a Canadian AI company, released its Command Model, a large language model trained to follow instructions and perform a wide range of tasks. The model can understand and generate human language, and can be applied to use cases such as content generation, customer service, and code completion.\\n\\n3. DeepMind's GopherProbe: DeepMind, an AI research lab owned by Alphabet, introduced GopherProbe, a new method for evaluating the capabilities and limitations of large language models. GopherProbe uses a set of carefully designed probes to assess a model's understanding of different linguistic concepts and its ability to generalize to new tasks.\\n\\n4. AI for Drug Discovery: There have been several advancements in using AI for drug discovery and development. For example, a team from the University of Toronto developed an AI system that can predict the 3D structures of proteins, which could help accelerate the process of designing new drugs.\\n\\n5. AI Art and Content Generation: AI-generated art\"]\n",
            "Final Response: Here are some of the new AI developments that have been announced or reported in July 2024:\n",
            "\n",
            "1. OpenAI's ChatGPT 4.0: OpenAI, the company behind the popular language model ChatGPT, announced that it is working on the next generation of its AI technology, ChatGPT 4.0. The new version is expected to have improved capabilities, including better context understanding, more accurate responses, and enhanced multilingual support.\n",
            "\n",
            "2. Cohere's Command Model: Cohere, a Canadian AI company, released its Command Model, a large language model trained to follow instructions and perform a wide range of tasks. The model can understand and generate human language, and can be applied to use cases such as content generation, customer service, and code completion.\n",
            "\n",
            "3. DeepMind's GopherProbe: DeepMind, an AI research lab owned by Alphabet, introduced GopherProbe, a new method for evaluating the capabilities and limitations of large language models. GopherProbe uses a set of carefully designed probes to assess a model's understanding of different linguistic concepts and its ability to generalize to new tasks.\n",
            "\n",
            "4. AI for Drug Discovery: There have been several advancements in using AI for drug discovery and development. For example, a team from the University of Toronto developed an AI system that can predict the 3D structures of proteins, which could help accelerate the process of designing new drugs.\n",
            "\n",
            "5. AI Art and Content Generation: AI-generated art\n",
            "User Input: Tell me the latest news in computer vision, in July, 2024?\n",
            "Checking if the user query is about news: Tell me the latest news in computer vision, in July, 2024?\n",
            "Is News Query: True\n",
            "Fetching news articles...\n",
            "Fetching AI news from NewsAPI...\n",
            "NewsAPI Response Status Code: 200\n",
            "Formatting top 5 articles...\n",
            "News Summary: 1. How AI Is Deciphering Lost Scrolls From the Roman Empire - Gizmodo.com\n",
            "2. Marvel’s Vision Series Is Bringing Back James Spader as Ultron - Gizmodo.com\n",
            "3. Marvel’s Vision Series Is Bringing Back James Spader as Ultron - Gizmodo.com\n",
            "4. The iPhone is getting a ‘glow’ up. What to expect from Apple’s Monday event - CNN\n",
            "5. Crop loss is a huge problem for sustainability and food security. I'm using AI and computer vision to help fix it. - Business Insider\n",
            "Final Response: Here are the top 5 AI news articles:\n",
            "1. How AI Is Deciphering Lost Scrolls From the Roman Empire - Gizmodo.com\n",
            "2. Marvel’s Vision Series Is Bringing Back James Spader as Ultron - Gizmodo.com\n",
            "3. Marvel’s Vision Series Is Bringing Back James Spader as Ultron - Gizmodo.com\n",
            "4. The iPhone is getting a ‘glow’ up. What to expect from Apple’s Monday event - CNN\n",
            "5. Crop loss is a huge problem for sustainability and food security. I'm using AI and computer vision to help fix it. - Business Insider\n"
          ]
        },
        {
          "output_type": "execute_result",
          "data": {
            "text/plain": [
              "\"Here are the top 5 AI news articles:\\n1. How AI Is Deciphering Lost Scrolls From the Roman Empire - Gizmodo.com\\n2. Marvel’s Vision Series Is Bringing Back James Spader as Ultron - Gizmodo.com\\n3. Marvel’s Vision Series Is Bringing Back James Spader as Ultron - Gizmodo.com\\n4. The iPhone is getting a ‘glow’ up. What to expect from Apple’s Monday event - CNN\\n5. Crop loss is a huge problem for sustainability and food security. I'm using AI and computer vision to help fix it. - Business Insider\""
            ],
            "application/vnd.google.colaboratory.intrinsic+json": {
              "type": "string"
            }
          },
          "metadata": {},
          "execution_count": 112
        }
      ],
      "source": [
        "import requests\n",
        "import gradio as gr\n",
        "import cohere\n",
        "import os\n",
        "\n",
        "# Fetch the API keys from environment variables\n",
        "cohere_api_key = os.getenv('COHERE_API_KEY')\n",
        "news_api_key = os.getenv('NEWS_API_KEY')\n",
        "\n",
        "# Initialize Cohere client\n",
        "print(\"Initializing Cohere client...\")\n",
        "cohere_client = cohere.Client(cohere_api_key)\n",
        "\n",
        "# Initialize a list to store the conversation history (up to 20 conversations)\n",
        "conversation_history = []\n",
        "\n",
        "# Function to fetch AI news using NewsAPI\n",
        "def fetch_ai_news():\n",
        "    print(\"Fetching AI news from NewsAPI...\")\n",
        "    url = \"https://newsapi.org/v2/everything\"\n",
        "    parameters = {\n",
        "        'q': 'artificial intelligence OR NLP OR computer vision',  # You can adjust the query here\n",
        "        'sortBy': 'relevancy',\n",
        "        'apiKey': news_api_key  # Securely use the API key from environment variables\n",
        "    }\n",
        "\n",
        "    response = requests.get(url, params=parameters)\n",
        "    print(f\"NewsAPI Response Status Code: {response.status_code}\")\n",
        "    if response.status_code == 200:\n",
        "        data = response.json()\n",
        "        articles = data['articles']\n",
        "\n",
        "        # Get the top 5 articles and format their titles\n",
        "        print(\"Formatting top 5 articles...\")\n",
        "        news_summary = \"\\n\".join([f\"{i+1}. {article['title']} - {article['source']['name']}\" for i, article in enumerate(articles[:5])])\n",
        "        print(f\"News Summary: {news_summary}\")\n",
        "        return f\"Here are the top 5 AI news articles:\\n{news_summary}\"\n",
        "    else:\n",
        "        print(f\"Error fetching AI news: {response.status_code}\")\n",
        "        return \"Sorry, I couldn't fetch the latest AI news at the moment.\"\n",
        "\n",
        "# Function to generate a response using Cohere\n",
        "def generate_response(conversation_history, user_input, cohere_client):\n",
        "    # Limit the history to the last 20 exchanges (10 user-bot pairs)\n",
        "    print(\"Generating response using Cohere...\")\n",
        "    if len(conversation_history) > 40:  # Each user-bot pair counts as 2 entries\n",
        "        conversation_history = conversation_history[-40:]\n",
        "\n",
        "    # Build the conversation history prompt\n",
        "    conversation_prompt = \"\\n\".join(conversation_history)\n",
        "    print(f\"Conversation History:\\n{conversation_prompt}\")\n",
        "\n",
        "    prompt = f\"Previous conversation:\\n{conversation_prompt}\\n\\nUser's question: {user_input}\\n\\nYour response:\"\n",
        "    print(f\"Prompt for Cohere:\\n{prompt}\")\n",
        "\n",
        "    response = cohere_client.generate(\n",
        "        model='command-r-plus-04-2024',\n",
        "        prompt=prompt,\n",
        "        max_tokens=300,  # Increase the max_tokens to give a more complete response\n",
        "        temperature=0.7\n",
        "    )\n",
        "\n",
        "    bot_response = response.generations[0].text.strip()\n",
        "    print(f\"Generated Response: {bot_response}\")\n",
        "    return bot_response\n",
        "\n",
        "# Function to classify queries for news or general response\n",
        "def is_news_query(user_input):\n",
        "    # Check for keywords related to news or trends\n",
        "    print(f\"Checking if the user query is about news: {user_input}\")\n",
        "    news_keywords = ['news', 'trends', 'recent developments', 'latest', 'updates']\n",
        "    is_news = any(keyword in user_input.lower() for keyword in news_keywords)\n",
        "    print(f\"Is News Query: {is_news}\")\n",
        "    return is_news\n",
        "\n",
        "# Main chatbot function\n",
        "def chatbot(user_input):\n",
        "    global conversation_history\n",
        "\n",
        "    print(f\"User Input: {user_input}\")\n",
        "\n",
        "    # Check if the user is asking for news or trends\n",
        "    if is_news_query(user_input):\n",
        "        print(\"Fetching news articles...\")\n",
        "        return fetch_ai_news()  # Fetch and return AI news\n",
        "\n",
        "    # If not a news query, continue with normal conversation using Cohere\n",
        "    print(\"Generating bot response through Cohere...\")\n",
        "    bot_response = generate_response(conversation_history, user_input, cohere_client)\n",
        "\n",
        "    # Append the current user input and bot response to the conversation history\n",
        "    conversation_history.append(f\"User: {user_input}\")\n",
        "    conversation_history.append(f\"Bot: {bot_response}\")\n",
        "\n",
        "    print(f\"Updated Conversation History: {conversation_history}\")\n",
        "    return bot_response  # Return only the bot response\n",
        "\n",
        "# For testing the logic without launching Gradio\n",
        "def test_chatbot(input_text):\n",
        "    response = chatbot(input_text)\n",
        "    print(f\"Final Response: {response}\")\n",
        "    return response\n",
        "\n",
        "# Call test_chatbot with different queries to debug\n",
        "test_chatbot(\"What are the new AI developments, in July, 2024?\")\n",
        "test_chatbot(\"Tell me the latest news in computer vision, in July, 2024?\")\n",
        "\n"
      ]
    },
    {
      "cell_type": "code",
      "execution_count": 113,
      "metadata": {
        "id": "UOL4f6Ygigcn",
        "colab": {
          "base_uri": "https://localhost:8080/"
        },
        "outputId": "08de3aa8-f5e9-4b3d-d5f7-167533699d55"
      },
      "outputs": [
        {
          "output_type": "stream",
          "name": "stdout",
          "text": [
            "Initializing Cohere client...\n",
            "User Input: What are the new AI developments, in July, 2024?\n",
            "Checking if the user query is about news: What are the new AI developments, in July, 2024?\n",
            "Is News Query: True\n",
            "Fetching AI news from NewsAPI...\n",
            "NewsAPI Response Status Code: 200\n",
            "Final Response: Here are the top 5 AI news articles:\n",
            "1. How AI Is Deciphering Lost Scrolls From the Roman Empire - Gizmodo.com\n",
            "2. Marvel’s Vision Series Is Bringing Back James Spader as Ultron - Gizmodo.com\n",
            "3. Marvel’s Vision Series Is Bringing Back James Spader as Ultron - Gizmodo.com\n",
            "4. The iPhone is getting a ‘glow’ up. What to expect from Apple’s Monday event - CNN\n",
            "5. Crop loss is a huge problem for sustainability and food security. I'm using AI and computer vision to help fix it. - Business Insider\n",
            "User Input: Tell me the latest news in computer vision, in July, 2024?\n",
            "Checking if the user query is about news: Tell me the latest news in computer vision, in July, 2024?\n",
            "Is News Query: True\n",
            "Fetching AI news from NewsAPI...\n",
            "NewsAPI Response Status Code: 200\n",
            "Final Response: Here are the top 5 AI news articles:\n",
            "1. How AI Is Deciphering Lost Scrolls From the Roman Empire - Gizmodo.com\n",
            "2. Marvel’s Vision Series Is Bringing Back James Spader as Ultron - Gizmodo.com\n",
            "3. Marvel’s Vision Series Is Bringing Back James Spader as Ultron - Gizmodo.com\n",
            "4. The iPhone is getting a ‘glow’ up. What to expect from Apple’s Monday event - CNN\n",
            "5. Crop loss is a huge problem for sustainability and food security. I'm using AI and computer vision to help fix it. - Business Insider\n",
            "User Input: What is AI?\n",
            "Checking if the user query is about news: What is AI?\n",
            "Is News Query: False\n",
            "Generating response using Cohere...\n",
            "Prompt for Cohere:\n",
            "Previous conversation:\n",
            "\n",
            "\n",
            "User's question: What is AI?\n",
            "\n",
            "Your response:\n",
            "Final Response: AI stands for Artificial Intelligence. It is a field of computer science that focuses on creating intelligent machines that can perform tasks and solve problems like humans. AI systems can learn, reason, generalize, recognize patterns, understand natural language, and perceive and interpret their environment. Some examples of AI include virtual assistants like Siri and Alexa, self-driving cars, and image and speech recognition systems.\n",
            "User Input: Explain the latest trends in NLP.\n",
            "Checking if the user query is about news: Explain the latest trends in NLP.\n",
            "Is News Query: True\n",
            "Fetching AI news from NewsAPI...\n",
            "NewsAPI Response Status Code: 200\n",
            "Final Response: Here are the top 5 AI news articles:\n",
            "1. How AI Is Deciphering Lost Scrolls From the Roman Empire - Gizmodo.com\n",
            "2. Marvel’s Vision Series Is Bringing Back James Spader as Ultron - Gizmodo.com\n",
            "3. Marvel’s Vision Series Is Bringing Back James Spader as Ultron - Gizmodo.com\n",
            "4. The iPhone is getting a ‘glow’ up. What to expect from Apple’s Monday event - CNN\n",
            "5. Crop loss is a huge problem for sustainability and food security. I'm using AI and computer vision to help fix it. - Business Insider\n"
          ]
        }
      ],
      "source": [
        "import requests\n",
        "import gradio as gr\n",
        "import cohere\n",
        "import os\n",
        "import re  # For regex to identify dates\n",
        "\n",
        "# Fetch the API keys from environment variables\n",
        "cohere_api_key = os.getenv('COHERE_API_KEY')\n",
        "news_api_key = os.getenv('NEWS_API_KEY')\n",
        "\n",
        "# Initialize Cohere client\n",
        "print(\"Initializing Cohere client...\")\n",
        "cohere_client = cohere.Client(cohere_api_key)\n",
        "\n",
        "# Initialize a list to store the conversation history (up to 20 conversations)\n",
        "conversation_history = []\n",
        "\n",
        "# Function to fetch AI news using NewsAPI\n",
        "def fetch_ai_news():\n",
        "    print(\"Fetching AI news from NewsAPI...\")\n",
        "    url = \"https://newsapi.org/v2/everything\"\n",
        "    parameters = {\n",
        "        'q': 'artificial intelligence OR NLP OR computer vision',  # You can adjust the query here\n",
        "        'sortBy': 'relevancy',\n",
        "        'apiKey': news_api_key  # Securely use the API key from environment variables\n",
        "    }\n",
        "\n",
        "    response = requests.get(url, params=parameters)\n",
        "    print(f\"NewsAPI Response Status Code: {response.status_code}\")\n",
        "\n",
        "    if response.status_code == 200:\n",
        "        data = response.json()\n",
        "        articles = data['articles']\n",
        "\n",
        "        # Get the top 5 articles and format their titles\n",
        "        news_summary = \"\\n\".join([f\"{i+1}. {article['title']} - {article['source']['name']}\" for i, article in enumerate(articles[:5])])\n",
        "        return f\"Here are the top 5 AI news articles:\\n{news_summary}\"\n",
        "    else:\n",
        "        return \"Sorry, I couldn't fetch the latest AI news at the moment.\"\n",
        "\n",
        "# Function to generate a response using Cohere\n",
        "def generate_response(conversation_history, user_input, cohere_client):\n",
        "    print(\"Generating response using Cohere...\")\n",
        "    # Limit the history to the last 20 exchanges (10 user-bot pairs)\n",
        "    if len(conversation_history) > 40:  # Each user-bot pair counts as 2 entries\n",
        "        conversation_history = conversation_history[-40:]\n",
        "\n",
        "    # Build the conversation history prompt\n",
        "    conversation_prompt = \"\\n\".join(conversation_history)\n",
        "\n",
        "    prompt = f\"Previous conversation:\\n{conversation_prompt}\\n\\nUser's question: {user_input}\\n\\nYour response:\"\n",
        "    print(f\"Prompt for Cohere:\\n{prompt}\")\n",
        "\n",
        "    response = cohere_client.generate(\n",
        "        model='command-r-plus-04-2024',\n",
        "        prompt=prompt,\n",
        "        max_tokens=300,  # Increase the max_tokens to give a more complete response\n",
        "        temperature=0.7\n",
        "    )\n",
        "\n",
        "    return response.generations[0].text.strip()\n",
        "\n",
        "# Extended function to classify queries for news or general response\n",
        "def is_news_query(user_input):\n",
        "    print(f\"Checking if the user query is about news: {user_input}\")\n",
        "\n",
        "    # Define keywords related to news or trends\n",
        "    news_keywords = ['news', 'trends', 'recent developments', 'latest', 'updates']\n",
        "\n",
        "    # Check if any of the news keywords are in the user query\n",
        "    if any(keyword in user_input.lower() for keyword in news_keywords):\n",
        "        return True\n",
        "\n",
        "    # Check if there is a date in the query using regex (e.g., \"July, 2024\", \"2024\", etc.)\n",
        "    date_pattern = re.compile(r'\\b(?:january|february|march|april|may|june|july|august|september|october|november|december)\\b.*\\b\\d{4}\\b', re.IGNORECASE)\n",
        "    if date_pattern.search(user_input):\n",
        "        return True\n",
        "\n",
        "    return False\n",
        "\n",
        "# Main chatbot function\n",
        "def chatbot(user_input):\n",
        "    global conversation_history\n",
        "\n",
        "    # Check if the user is asking for news or trends\n",
        "    if is_news_query(user_input):\n",
        "        print(\"Is News Query: True\")\n",
        "        return fetch_ai_news()  # Fetch and return AI news\n",
        "\n",
        "    # If not a news query, continue with normal conversation using Cohere\n",
        "    print(\"Is News Query: False\")\n",
        "    bot_response = generate_response(conversation_history, user_input, cohere_client)\n",
        "\n",
        "    # Append the current user input and bot response to the conversation history\n",
        "    conversation_history.append(f\"User: {user_input}\")\n",
        "    conversation_history.append(f\"Bot: {bot_response}\")\n",
        "\n",
        "    return bot_response  # Return only the bot response (no need for a second output)\n",
        "\n",
        "# Function to test chatbot without launching the interface\n",
        "def test_chatbot(user_input):\n",
        "    print(f\"User Input: {user_input}\")\n",
        "    response = chatbot(user_input)\n",
        "    print(f\"Final Response: {response}\")\n",
        "\n",
        "# Call test_chatbot with different queries to debug\n",
        "test_chatbot(\"What are the new AI developments, in July, 2024?\")\n",
        "test_chatbot(\"Tell me the latest news in computer vision, in July, 2024?\")\n",
        "test_chatbot(\"What is AI?\")\n",
        "test_chatbot(\"Explain the latest trends in NLP.\")\n"
      ]
    },
    {
      "cell_type": "code",
      "execution_count": 114,
      "metadata": {
        "id": "Ca--e4N0if0E",
        "colab": {
          "base_uri": "https://localhost:8080/"
        },
        "outputId": "7208b3e9-f8b3-48b1-cebd-07fd2ce7150f"
      },
      "outputs": [
        {
          "output_type": "stream",
          "name": "stdout",
          "text": [
            "Initializing Cohere client...\n",
            "User Input: What are the new AI developments, in July, 2024?\n",
            "Checking if the user query is about news: What are the new AI developments, in July, 2024?\n",
            "Is News Query: True\n",
            "Final Response: Here are the top 5 AI news articles:\n",
            "1. Palantir Technologies Inc. (NYSE:PLTR): Microsoft Deal Is Game Changing - Yahoo Entertainment\n",
            "2. Superyacht Security: Here Are The Top Ways To Protect Your Voyage - Forbes\n",
            "3. Morning Bid: Pre-Nvidia hesitation obscures record high - Yahoo Entertainment\n",
            "4. Why Artificial Intelligence Hype Isn't Living Up To Expectations - Forbes\n",
            "5. McKinsey’s 2024 Tech Trends And What Gemini And Claude Think About Them - Forbes\n",
            "Initializing Cohere client...\n",
            "User Input: Tell me the latest news in computer vision, in July, 2024?\n",
            "Checking if the user query is about news: Tell me the latest news in computer vision, in July, 2024?\n",
            "Is News Query: True\n",
            "Final Response: Here are the top 5 AI news articles:\n",
            "1. Palantir Technologies Inc. (NYSE:PLTR): Microsoft Deal Is Game Changing - Yahoo Entertainment\n",
            "2. Superyacht Security: Here Are The Top Ways To Protect Your Voyage - Forbes\n",
            "3. Morning Bid: Pre-Nvidia hesitation obscures record high - Yahoo Entertainment\n",
            "4. Why Artificial Intelligence Hype Isn't Living Up To Expectations - Forbes\n",
            "5. McKinsey’s 2024 Tech Trends And What Gemini And Claude Think About Them - Forbes\n",
            "Initializing Cohere client...\n",
            "User Input: What is AI?\n",
            "Checking if the user query is about news: What is AI?\n",
            "Is News Query: False\n",
            "Generating response using Cohere...\n",
            "Final Response: AI stands for Artificial Intelligence. It is the simulation of human intelligence processes by computer systems. These processes include learning (the acquisition of information and rules for using the information), reasoning (using the rules to reach approximate or definite conclusions), and self-correction (the fine-tuning of algorithms to increase accuracy and performance).\n",
            "Initializing Cohere client...\n",
            "User Input: Explain the latest trends in NLP.\n",
            "Checking if the user query is about news: Explain the latest trends in NLP.\n",
            "Is News Query: True\n",
            "Final Response: Here are the top 5 AI news articles:\n",
            "1. Palantir Technologies Inc. (NYSE:PLTR): Microsoft Deal Is Game Changing - Yahoo Entertainment\n",
            "2. Superyacht Security: Here Are The Top Ways To Protect Your Voyage - Forbes\n",
            "3. Morning Bid: Pre-Nvidia hesitation obscures record high - Yahoo Entertainment\n",
            "4. Why Artificial Intelligence Hype Isn't Living Up To Expectations - Forbes\n",
            "5. McKinsey’s 2024 Tech Trends And What Gemini And Claude Think About Them - Forbes\n"
          ]
        }
      ],
      "source": [
        "import requests\n",
        "import os\n",
        "import cohere\n",
        "\n",
        "# Fetch the API keys from environment variables\n",
        "cohere_api_key = os.getenv('COHERE_API_KEY')\n",
        "news_api_key = os.getenv('NEWS_API_KEY')\n",
        "\n",
        "# Initialize Cohere client\n",
        "cohere_client = cohere.Client(cohere_api_key)\n",
        "\n",
        "# Initialize a list to store the conversation history (up to 20 conversations)\n",
        "conversation_history = []\n",
        "\n",
        "# Function to fetch AI news using NewsAPI with fallback if results are irrelevant\n",
        "def fetch_ai_news():\n",
        "    url = \"https://newsapi.org/v2/everything\"\n",
        "    parameters = {\n",
        "        'q': 'artificial intelligence AND trends OR developments AND 2024',  # More specific query\n",
        "        'sortBy': 'relevancy',\n",
        "        'apiKey': news_api_key\n",
        "    }\n",
        "\n",
        "    response = requests.get(url, params=parameters)\n",
        "    if response.status_code == 200:\n",
        "        data = response.json()\n",
        "        articles = data['articles']\n",
        "\n",
        "        # Check if the articles contain irrelevant keywords\n",
        "        irrelevant_keywords = ['Marvel', 'iPhone', 'celebrity', 'TV', 'movie']\n",
        "        if any(irrelevant_keyword in article['title'] for article in articles for irrelevant_keyword in irrelevant_keywords):\n",
        "            return \"The news articles fetched don't seem relevant. Let me provide an explanation instead.\"\n",
        "\n",
        "        # Get the top 5 articles and format their titles\n",
        "        news_summary = \"\\n\".join([f\"{i+1}. {article['title']} - {article['source']['name']}\" for i, article in enumerate(articles[:5])])\n",
        "        return f\"Here are the top 5 AI news articles:\\n{news_summary}\"\n",
        "    else:\n",
        "        return \"Sorry, I couldn't fetch the latest AI news at the moment.\"\n",
        "\n",
        "# Function to generate a response using Cohere\n",
        "def generate_response(conversation_history, user_input, cohere_client):\n",
        "    # Limit the history to the last 20 exchanges (10 user-bot pairs)\n",
        "    if len(conversation_history) > 40:  # Each user-bot pair counts as 2 entries\n",
        "        conversation_history = conversation_history[-40:]\n",
        "\n",
        "    # Build the conversation history prompt\n",
        "    conversation_prompt = \"\\n\".join(conversation_history)\n",
        "\n",
        "    prompt = f\"Previous conversation:\\n{conversation_prompt}\\n\\nUser's question: {user_input}\\n\\nYour response:\"\n",
        "\n",
        "    response = cohere_client.generate(\n",
        "        model='command-r-plus-04-2024',\n",
        "        prompt=prompt,\n",
        "        max_tokens=300,  # Increase the max_tokens to give a more complete response\n",
        "        temperature=0.7\n",
        "    )\n",
        "\n",
        "    return response.generations[0].text.strip()\n",
        "\n",
        "# Function to classify queries for news or general response\n",
        "def is_news_query(user_input):\n",
        "    # Check for keywords related to news or trends in specific time periods\n",
        "    news_keywords = ['news', 'trends', 'recent', 'developments', 'latest', 'updates', 'in']\n",
        "    # Also ensure we're handling specific queries like months or years\n",
        "    time_indicators = ['2024', '2023', 'July', 'June', 'May', 'in']  # Extend as needed\n",
        "\n",
        "    # If the query contains both news and time-related indicators, return True\n",
        "    if any(keyword in user_input.lower() for keyword in news_keywords) and any(time_word in user_input.lower() for time_word in time_indicators):\n",
        "        return True\n",
        "    return False\n",
        "\n",
        "# Main chatbot function\n",
        "def chatbot(user_input):\n",
        "    global conversation_history\n",
        "\n",
        "    print(f\"User Input: {user_input}\")\n",
        "    print(f\"Checking if the user query is about news: {user_input}\")\n",
        "\n",
        "    # Check if the user is asking for news or trends\n",
        "    if is_news_query(user_input):\n",
        "        print(\"Is News Query: True\")\n",
        "        return fetch_ai_news()  # Fetch and return AI news\n",
        "\n",
        "    print(\"Is News Query: False\")\n",
        "\n",
        "    # If not a news query, continue with normal conversation using Cohere\n",
        "    print(\"Generating response using Cohere...\")\n",
        "    bot_response = generate_response(conversation_history, user_input, cohere_client)\n",
        "\n",
        "    # Append the current user input and bot response to the conversation history\n",
        "    conversation_history.append(f\"User: {user_input}\")\n",
        "    conversation_history.append(f\"Bot: {bot_response}\")\n",
        "\n",
        "    return bot_response  # Return only the bot response (no need for a second output)\n",
        "\n",
        "# Test the chatbot with some queries\n",
        "def test_chatbot(user_input):\n",
        "    print(\"Initializing Cohere client...\")\n",
        "    response = chatbot(user_input)\n",
        "    print(f\"Final Response: {response}\")\n",
        "\n",
        "# Call test_chatbot with different queries to debug\n",
        "test_chatbot(\"What are the new AI developments, in July, 2024?\")\n",
        "test_chatbot(\"Tell me the latest news in computer vision, in July, 2024?\")\n",
        "test_chatbot(\"What is AI?\")\n",
        "test_chatbot(\"Explain the latest trends in NLP.\")\n"
      ]
    },
    {
      "cell_type": "code",
      "execution_count": 115,
      "metadata": {
        "id": "hOmnQ5tuZtmg",
        "colab": {
          "base_uri": "https://localhost:8080/"
        },
        "outputId": "4609efcb-b807-4a4b-b128-4c80803a00fa"
      },
      "outputs": [
        {
          "output_type": "stream",
          "name": "stdout",
          "text": [
            "Initializing Cohere client...\n",
            "User Input: What are the new AI developments, in July, 2024?\n",
            "Checking if the user query is about news: What are the new AI developments, in July, 2024?\n",
            "Is News Query: True\n",
            "Final Response: Here are the top 5 AI news articles:\n",
            "1. How AI Is Deciphering Lost Scrolls From the Roman Empire - Gizmodo.com\n",
            "2. Nascar Pit Crews Are Using AI for the Perfect Pit Stop - Wired\n",
            "3. Ikea Employees Are Getting New AI Drone Coworkers in the U.S. - Gizmodo.com\n",
            "4. Crop loss is a huge problem for sustainability and food security. I'm using AI and computer vision to help fix it. - Business Insider\n",
            "5. How to Watch Apple's iPhone 16 Launch Event, and What to Expect - Wired\n",
            "Initializing Cohere client...\n",
            "User Input: Tell me the latest news in computer vision, in July, 2024?\n",
            "Checking if the user query is about news: Tell me the latest news in computer vision, in July, 2024?\n",
            "Is News Query: True\n",
            "Final Response: Here are the top 5 AI news articles:\n",
            "1. How AI Is Deciphering Lost Scrolls From the Roman Empire - Gizmodo.com\n",
            "2. Nascar Pit Crews Are Using AI for the Perfect Pit Stop - Wired\n",
            "3. Ikea Employees Are Getting New AI Drone Coworkers in the U.S. - Gizmodo.com\n",
            "4. Crop loss is a huge problem for sustainability and food security. I'm using AI and computer vision to help fix it. - Business Insider\n",
            "5. How to Watch Apple's iPhone 16 Launch Event, and What to Expect - Wired\n",
            "Initializing Cohere client...\n",
            "User Input: What is AI?\n",
            "Checking if the user query is about news: What is AI?\n",
            "Is News Query: False\n",
            "Generating response using Cohere...\n",
            "Final Response: AI stands for Artificial Intelligence. It is a field of computer science that focuses on creating intelligent machines that can perform tasks and solve problems like humans. AI systems can learn, reason, generalize, recognize patterns, understand natural language, and perceive and interpret their environments. Some examples of AI include virtual assistants like Siri and Alexa, self-driving cars, and image and speech recognition systems.\n",
            "Initializing Cohere client...\n",
            "User Input: Explain the latest trends in NLP.\n",
            "Checking if the user query is about news: Explain the latest trends in NLP.\n",
            "Is News Query: True\n",
            "Final Response: Here are the top 5 AI news articles:\n",
            "1. How AI Is Deciphering Lost Scrolls From the Roman Empire - Gizmodo.com\n",
            "2. Nascar Pit Crews Are Using AI for the Perfect Pit Stop - Wired\n",
            "3. Ikea Employees Are Getting New AI Drone Coworkers in the U.S. - Gizmodo.com\n",
            "4. Crop loss is a huge problem for sustainability and food security. I'm using AI and computer vision to help fix it. - Business Insider\n",
            "5. How to Watch Apple's iPhone 16 Launch Event, and What to Expect - Wired\n"
          ]
        }
      ],
      "source": [
        "import requests\n",
        "import os\n",
        "import cohere\n",
        "\n",
        "# Fetch the API keys from environment variables\n",
        "cohere_api_key = os.getenv('COHERE_API_KEY')\n",
        "news_api_key = os.getenv('NEWS_API_KEY')\n",
        "\n",
        "# Initialize Cohere client\n",
        "cohere_client = cohere.Client(cohere_api_key)\n",
        "\n",
        "# Initialize a list to store the conversation history (up to 20 conversations)\n",
        "conversation_history = []\n",
        "\n",
        "# Function to fetch AI news using NewsAPI with fallback if results are irrelevant\n",
        "def fetch_ai_news():\n",
        "    url = \"https://newsapi.org/v2/everything\"\n",
        "    parameters = {\n",
        "        'q': 'artificial intelligence AND trends OR developments OR \"natural language processing\" OR \"computer vision\"',\n",
        "        'sortBy': 'relevancy',\n",
        "        'language': 'en',\n",
        "        'apiKey': news_api_key\n",
        "    }\n",
        "\n",
        "    response = requests.get(url, params=parameters)\n",
        "    if response.status_code == 200:\n",
        "        data = response.json()\n",
        "        articles = data['articles']\n",
        "\n",
        "        # Filter out irrelevant articles based on keywords in the titles\n",
        "        irrelevant_keywords = ['yacht', 'entertainment', 'Forbes', 'Nvidia', 'McKinsey', 'superyacht', 'celebrity', 'luxury', 'voyage']\n",
        "        filtered_articles = [\n",
        "            article for article in articles if not any(keyword.lower() in article['title'].lower() for keyword in irrelevant_keywords)\n",
        "        ]\n",
        "\n",
        "        if not filtered_articles:\n",
        "            return \"The news articles fetched don't seem relevant. Let me provide an explanation instead.\"\n",
        "\n",
        "        # Get the top 5 articles and format their titles\n",
        "        news_summary = \"\\n\".join([f\"{i+1}. {article['title']} - {article['source']['name']}\" for i, article in enumerate(filtered_articles[:5])])\n",
        "        return f\"Here are the top 5 AI news articles:\\n{news_summary}\"\n",
        "    else:\n",
        "        return \"Sorry, I couldn't fetch the latest AI news at the moment.\"\n",
        "\n",
        "# Function to generate a response using Cohere\n",
        "def generate_response(conversation_history, user_input, cohere_client):\n",
        "    # Limit the history to the last 20 exchanges (10 user-bot pairs)\n",
        "    if len(conversation_history) > 40:  # Each user-bot pair counts as 2 entries\n",
        "        conversation_history = conversation_history[-40:]\n",
        "\n",
        "    # Build the conversation history prompt\n",
        "    conversation_prompt = \"\\n\".join(conversation_history)\n",
        "\n",
        "    prompt = f\"Previous conversation:\\n{conversation_prompt}\\n\\nUser's question: {user_input}\\n\\nYour response:\"\n",
        "\n",
        "    response = cohere_client.generate(\n",
        "        model='command-r-plus-04-2024',\n",
        "        prompt=prompt,\n",
        "        max_tokens=300,  # Increase the max_tokens to give a more complete response\n",
        "        temperature=0.7\n",
        "    )\n",
        "\n",
        "    return response.generations[0].text.strip()\n",
        "\n",
        "# Function to classify queries for news or general response\n",
        "def is_news_query(user_input):\n",
        "    # Check for keywords related to news or trends in specific time periods\n",
        "    news_keywords = ['news', 'trends', 'recent', 'developments', 'latest', 'updates', 'in']\n",
        "    # Also ensure we're handling specific queries like months or years\n",
        "    time_indicators = ['2024', '2023', 'July', 'June', 'May', 'in']  # Extend as needed\n",
        "\n",
        "    # If the query contains both news and time-related indicators, return True\n",
        "    if any(keyword in user_input.lower() for keyword in news_keywords) and any(time_word in user_input.lower() for time_word in time_indicators):\n",
        "        return True\n",
        "    return False\n",
        "\n",
        "# Main chatbot function\n",
        "def chatbot(user_input):\n",
        "    global conversation_history\n",
        "\n",
        "    print(f\"User Input: {user_input}\")\n",
        "    print(f\"Checking if the user query is about news: {user_input}\")\n",
        "\n",
        "    # Check if the user is asking for news or trends\n",
        "    if is_news_query(user_input):\n",
        "        print(\"Is News Query: True\")\n",
        "        return fetch_ai_news()  # Fetch and return AI news\n",
        "\n",
        "    print(\"Is News Query: False\")\n",
        "\n",
        "    # If not a news query, continue with normal conversation using Cohere\n",
        "    print(\"Generating response using Cohere...\")\n",
        "    bot_response = generate_response(conversation_history, user_input, cohere_client)\n",
        "\n",
        "    # Append the current user input and bot response to the conversation history\n",
        "    conversation_history.append(f\"User: {user_input}\")\n",
        "    conversation_history.append(f\"Bot: {bot_response}\")\n",
        "\n",
        "    return bot_response  # Return only the bot response (no need for a second output)\n",
        "\n",
        "# Test the chatbot with some queries\n",
        "def test_chatbot(user_input):\n",
        "    print(\"Initializing Cohere client...\")\n",
        "    response = chatbot(user_input)\n",
        "    print(f\"Final Response: {response}\")\n",
        "\n",
        "# Call test_chatbot with different queries to debug\n",
        "test_chatbot(\"What are the new AI developments, in July, 2024?\")\n",
        "test_chatbot(\"Tell me the latest news in computer vision, in July, 2024?\")\n",
        "test_chatbot(\"What is AI?\")\n",
        "test_chatbot(\"Explain the latest trends in NLP.\")\n"
      ]
    },
    {
      "cell_type": "code",
      "execution_count": 116,
      "metadata": {
        "id": "5fgfTu2Qa9MT",
        "colab": {
          "base_uri": "https://localhost:8080/"
        },
        "outputId": "56eb6435-33c5-476f-9537-ad67eafe1dcd"
      },
      "outputs": [
        {
          "output_type": "stream",
          "name": "stdout",
          "text": [
            "Initializing Cohere client...\n",
            "User Input: What are the new AI developments, in July, 2024?\n",
            "Checking if the user query is about news: What are the new AI developments, in July, 2024?\n",
            "Is News Query: True\n",
            "Final Response: Here are the top 5 AI news articles:\n",
            "1. How AI Is Deciphering Lost Scrolls From the Roman Empire - Gizmodo.com\n",
            "2. Crop loss is a huge problem for sustainability and food security. I'm using AI and computer vision to help fix it. - Business Insider\n",
            "3. Roboflow (YC S20) is hiring an ML Engineer to democratize computer vision - Hacker News\n",
            "4. Can Google Make Stoplights Smarter? - Slashdot.org\n",
            "5. Artificial Intelligence Cheapens the Artistic Imagination - Convergemedia.org\n",
            "Initializing Cohere client...\n",
            "User Input: Tell me the latest news in computer vision, in July, 2024?\n",
            "Checking if the user query is about news: Tell me the latest news in computer vision, in July, 2024?\n",
            "Is News Query: True\n",
            "Final Response: Here are the top 5 AI news articles:\n",
            "1. How AI Is Deciphering Lost Scrolls From the Roman Empire - Gizmodo.com\n",
            "2. Crop loss is a huge problem for sustainability and food security. I'm using AI and computer vision to help fix it. - Business Insider\n",
            "3. Roboflow (YC S20) is hiring an ML Engineer to democratize computer vision - Hacker News\n",
            "4. Can Google Make Stoplights Smarter? - Slashdot.org\n",
            "5. Artificial Intelligence Cheapens the Artistic Imagination - Convergemedia.org\n",
            "Initializing Cohere client...\n",
            "User Input: What is AI?\n",
            "Checking if the user query is about news: What is AI?\n",
            "Is News Query: False\n",
            "Generating response using Cohere...\n",
            "Final Response: AI stands for Artificial Intelligence, which involves creating intelligent machines that can mimic human functions such as learning, problem-solving, and pattern recognition.\n",
            "Initializing Cohere client...\n",
            "User Input: Explain the latest trends in NLP.\n",
            "Checking if the user query is about news: Explain the latest trends in NLP.\n",
            "Is News Query: True\n",
            "Final Response: Here are the top 5 AI news articles:\n",
            "1. How AI Is Deciphering Lost Scrolls From the Roman Empire - Gizmodo.com\n",
            "2. Crop loss is a huge problem for sustainability and food security. I'm using AI and computer vision to help fix it. - Business Insider\n",
            "3. Roboflow (YC S20) is hiring an ML Engineer to democratize computer vision - Hacker News\n",
            "4. Can Google Make Stoplights Smarter? - Slashdot.org\n",
            "5. Artificial Intelligence Cheapens the Artistic Imagination - Convergemedia.org\n"
          ]
        }
      ],
      "source": [
        "# Updated filter keywords and improved search queries\n",
        "def fetch_ai_news():\n",
        "    url = \"https://newsapi.org/v2/everything\"\n",
        "    parameters = {\n",
        "        'q': 'artificial intelligence AND (NLP OR \"computer vision\" OR \"deep learning\" OR \"machine learning\")',\n",
        "        'sortBy': 'relevancy',\n",
        "        'language': 'en',\n",
        "        'apiKey': news_api_key\n",
        "    }\n",
        "\n",
        "    response = requests.get(url, params=parameters)\n",
        "    if response.status_code == 200:\n",
        "        data = response.json()\n",
        "        articles = data['articles']\n",
        "\n",
        "        # Enhanced irrelevant keyword filtering\n",
        "        irrelevant_keywords = ['yacht', 'entertainment', 'Forbes', 'Apple', 'iPhone', 'launch', 'event', 'celebrity', 'luxury', 'voyage', 'drone', 'furniture', 'Ikea']\n",
        "        filtered_articles = [\n",
        "            article for article in articles if not any(keyword.lower() in article['title'].lower() for keyword in irrelevant_keywords)\n",
        "        ]\n",
        "\n",
        "        if not filtered_articles:\n",
        "            return \"The news articles fetched don't seem relevant. Let me provide an explanation instead.\"\n",
        "\n",
        "        # Get the top 5 articles and format their titles\n",
        "        news_summary = \"\\n\".join([f\"{i+1}. {article['title']} - {article['source']['name']}\" for i, article in enumerate(filtered_articles[:5])])\n",
        "        return f\"Here are the top 5 AI news articles:\\n{news_summary}\"\n",
        "    else:\n",
        "        return \"Sorry, I couldn't fetch the latest AI news at the moment.\"\n",
        "\n",
        "# Test the chatbot with some queries\n",
        "test_chatbot(\"What are the new AI developments, in July, 2024?\")\n",
        "test_chatbot(\"Tell me the latest news in computer vision, in July, 2024?\")\n",
        "test_chatbot(\"What is AI?\")\n",
        "test_chatbot(\"Explain the latest trends in NLP.\")\n"
      ]
    },
    {
      "cell_type": "code",
      "execution_count": 117,
      "metadata": {
        "id": "QXl1S2BAa9I6",
        "colab": {
          "base_uri": "https://localhost:8080/"
        },
        "outputId": "4cd5ce6b-40fd-45ed-9af7-f51ef567201a"
      },
      "outputs": [
        {
          "output_type": "stream",
          "name": "stdout",
          "text": [
            "Initializing Cohere client...\n",
            "Is News Query: True\n",
            "Final Response: Here are the top 5 artificial intelligence AND (NLP OR \"computer vision\" OR \"deep learning\" OR \"machine learning\") news articles:\n",
            "1. How AI Is Deciphering Lost Scrolls From the Roman Empire - Gizmodo.com\n",
            "2. Crop loss is a huge problem for sustainability and food security. I'm using AI and computer vision to help fix it. - Business Insider\n",
            "3. Roboflow (YC S20) is hiring an ML Engineer to democratize computer vision - Hacker News\n",
            "4. Can Google Make Stoplights Smarter? - Slashdot.org\n",
            "5. Artificial Intelligence Cheapens the Artistic Imagination - Convergemedia.org\n",
            "Initializing Cohere client...\n",
            "Is News Query: True\n",
            "Final Response: Here are the top 5 computer vision news articles:\n",
            "1. How AI Is Deciphering Lost Scrolls From the Roman Empire - Gizmodo.com\n",
            "2. Crop loss is a huge problem for sustainability and food security. I'm using AI and computer vision to help fix it. - Business Insider\n",
            "3. The Plaud NotePin Is an AI Notetaker That Will Transcribe Your Meetings—and Your Entire Life - Wired\n",
            "4. Teens won $50,000 for inventing a flood forecasting technology they hope can help millions of people at risk worldwide - Business Insider\n",
            "5. Roboflow (YC S20) is hiring an ML Engineer to democratize computer vision - Hacker News\n",
            "Initializing Cohere client...\n",
            "Is News Query: False\n",
            "Final Response: AI, or Artificial Intelligence, is a field of computer science that deals with creating intelligent machines that can perform tasks and solve problems like humans. These machines can learn, reason, and recognize patterns, among other functions.\n",
            "Initializing Cohere client...\n",
            "Is News Query: True\n",
            "Final Response: Here are the top 5 artificial intelligence AND (NLP OR \"computer vision\" OR \"deep learning\" OR \"machine learning\") news articles:\n",
            "1. How AI Is Deciphering Lost Scrolls From the Roman Empire - Gizmodo.com\n",
            "2. Crop loss is a huge problem for sustainability and food security. I'm using AI and computer vision to help fix it. - Business Insider\n",
            "3. Roboflow (YC S20) is hiring an ML Engineer to democratize computer vision - Hacker News\n",
            "4. Can Google Make Stoplights Smarter? - Slashdot.org\n",
            "5. Artificial Intelligence Cheapens the Artistic Imagination - Convergemedia.org\n"
          ]
        }
      ],
      "source": [
        "# Function to fetch AI news using NewsAPI\n",
        "def fetch_ai_news(query):\n",
        "    # Detect specific topics from the user query\n",
        "    if \"computer vision\" in query.lower():\n",
        "        search_query = 'computer vision'\n",
        "    elif \"NLP\" in query.lower() or \"natural language processing\" in query.lower():\n",
        "        search_query = 'NLP OR \"natural language processing\"'\n",
        "    else:\n",
        "        search_query = 'artificial intelligence AND (NLP OR \"computer vision\" OR \"deep learning\" OR \"machine learning\")'\n",
        "\n",
        "    url = \"https://newsapi.org/v2/everything\"\n",
        "    parameters = {\n",
        "        'q': search_query,\n",
        "        'sortBy': 'relevancy',\n",
        "        'language': 'en',\n",
        "        'apiKey': news_api_key\n",
        "    }\n",
        "\n",
        "    response = requests.get(url, params=parameters)\n",
        "    if response.status_code == 200:\n",
        "        data = response.json()\n",
        "        articles = data['articles']\n",
        "\n",
        "        # Enhanced irrelevant keyword filtering\n",
        "        irrelevant_keywords = ['yacht', 'entertainment', 'Forbes', 'Apple', 'iPhone', 'launch', 'event', 'celebrity', 'luxury', 'voyage', 'drone', 'furniture', 'Ikea']\n",
        "        filtered_articles = [\n",
        "            article for article in articles if not any(keyword.lower() in article['title'].lower() for keyword in irrelevant_keywords)\n",
        "        ]\n",
        "\n",
        "        if not filtered_articles:\n",
        "            return \"The news articles fetched don't seem relevant. Let me provide an explanation instead.\"\n",
        "\n",
        "        # Get the top 5 articles and format their titles\n",
        "        news_summary = \"\\n\".join([f\"{i+1}. {article['title']} - {article['source']['name']}\" for i, article in enumerate(filtered_articles[:5])])\n",
        "        return f\"Here are the top 5 {search_query} news articles:\\n{news_summary}\"\n",
        "    else:\n",
        "        return \"Sorry, I couldn't fetch the latest AI news at the moment.\"\n",
        "\n",
        "# Main chatbot function\n",
        "def chatbot(user_input):\n",
        "    global conversation_history\n",
        "\n",
        "    # Check if the user is asking for news or trends\n",
        "    if is_news_query(user_input):\n",
        "        print(\"Is News Query: True\")\n",
        "        return fetch_ai_news(user_input)  # Fetch and return AI news\n",
        "\n",
        "    print(\"Is News Query: False\")\n",
        "\n",
        "    # If not a news query, continue with normal conversation using Cohere\n",
        "    bot_response = generate_response(conversation_history, user_input, cohere_client)\n",
        "\n",
        "    # Append the current user input and bot response to the conversation history\n",
        "    conversation_history.append(f\"User: {user_input}\")\n",
        "    conversation_history.append(f\"Bot: {bot_response}\")\n",
        "\n",
        "    return bot_response\n",
        "\n",
        "# Test the chatbot with some queries\n",
        "test_chatbot(\"What are the new AI developments, in July, 2024?\")\n",
        "test_chatbot(\"Tell me the latest news in computer vision, in July, 2024?\")\n",
        "test_chatbot(\"What is AI?\")\n",
        "test_chatbot(\"Explain the latest trends in NLP.\")\n"
      ]
    },
    {
      "cell_type": "code",
      "source": [
        "!pip install langchain"
      ],
      "metadata": {
        "colab": {
          "base_uri": "https://localhost:8080/"
        },
        "id": "U1_8pC6bhEUE",
        "outputId": "029fc5c0-903f-4733-96d8-bd3672feeb92"
      },
      "execution_count": 119,
      "outputs": [
        {
          "output_type": "stream",
          "name": "stdout",
          "text": [
            "Requirement already satisfied: langchain in /usr/local/lib/python3.10/dist-packages (0.2.16)\n",
            "Requirement already satisfied: PyYAML>=5.3 in /usr/local/lib/python3.10/dist-packages (from langchain) (6.0.2)\n",
            "Requirement already satisfied: SQLAlchemy<3,>=1.4 in /usr/local/lib/python3.10/dist-packages (from langchain) (2.0.32)\n",
            "Requirement already satisfied: aiohttp<4.0.0,>=3.8.3 in /usr/local/lib/python3.10/dist-packages (from langchain) (3.10.5)\n",
            "Requirement already satisfied: async-timeout<5.0.0,>=4.0.0 in /usr/local/lib/python3.10/dist-packages (from langchain) (4.0.3)\n",
            "Requirement already satisfied: langchain-core<0.3.0,>=0.2.38 in /usr/local/lib/python3.10/dist-packages (from langchain) (0.2.38)\n",
            "Requirement already satisfied: langchain-text-splitters<0.3.0,>=0.2.0 in /usr/local/lib/python3.10/dist-packages (from langchain) (0.2.4)\n",
            "Requirement already satisfied: langsmith<0.2.0,>=0.1.17 in /usr/local/lib/python3.10/dist-packages (from langchain) (0.1.117)\n",
            "Requirement already satisfied: numpy<2,>=1 in /usr/local/lib/python3.10/dist-packages (from langchain) (1.26.4)\n",
            "Requirement already satisfied: pydantic<3,>=1 in /usr/local/lib/python3.10/dist-packages (from langchain) (2.8.2)\n",
            "Requirement already satisfied: requests<3,>=2 in /usr/local/lib/python3.10/dist-packages (from langchain) (2.32.3)\n",
            "Requirement already satisfied: tenacity!=8.4.0,<9.0.0,>=8.1.0 in /usr/local/lib/python3.10/dist-packages (from langchain) (8.5.0)\n",
            "Requirement already satisfied: aiohappyeyeballs>=2.3.0 in /usr/local/lib/python3.10/dist-packages (from aiohttp<4.0.0,>=3.8.3->langchain) (2.4.0)\n",
            "Requirement already satisfied: aiosignal>=1.1.2 in /usr/local/lib/python3.10/dist-packages (from aiohttp<4.0.0,>=3.8.3->langchain) (1.3.1)\n",
            "Requirement already satisfied: attrs>=17.3.0 in /usr/local/lib/python3.10/dist-packages (from aiohttp<4.0.0,>=3.8.3->langchain) (24.2.0)\n",
            "Requirement already satisfied: frozenlist>=1.1.1 in /usr/local/lib/python3.10/dist-packages (from aiohttp<4.0.0,>=3.8.3->langchain) (1.4.1)\n",
            "Requirement already satisfied: multidict<7.0,>=4.5 in /usr/local/lib/python3.10/dist-packages (from aiohttp<4.0.0,>=3.8.3->langchain) (6.0.5)\n",
            "Requirement already satisfied: yarl<2.0,>=1.0 in /usr/local/lib/python3.10/dist-packages (from aiohttp<4.0.0,>=3.8.3->langchain) (1.9.4)\n",
            "Requirement already satisfied: jsonpatch<2.0,>=1.33 in /usr/local/lib/python3.10/dist-packages (from langchain-core<0.3.0,>=0.2.38->langchain) (1.33)\n",
            "Requirement already satisfied: packaging<25,>=23.2 in /usr/local/lib/python3.10/dist-packages (from langchain-core<0.3.0,>=0.2.38->langchain) (24.1)\n",
            "Requirement already satisfied: typing-extensions>=4.7 in /usr/local/lib/python3.10/dist-packages (from langchain-core<0.3.0,>=0.2.38->langchain) (4.12.2)\n",
            "Requirement already satisfied: httpx<1,>=0.23.0 in /usr/local/lib/python3.10/dist-packages (from langsmith<0.2.0,>=0.1.17->langchain) (0.27.2)\n",
            "Requirement already satisfied: orjson<4.0.0,>=3.9.14 in /usr/local/lib/python3.10/dist-packages (from langsmith<0.2.0,>=0.1.17->langchain) (3.10.7)\n",
            "Requirement already satisfied: annotated-types>=0.4.0 in /usr/local/lib/python3.10/dist-packages (from pydantic<3,>=1->langchain) (0.7.0)\n",
            "Requirement already satisfied: pydantic-core==2.20.1 in /usr/local/lib/python3.10/dist-packages (from pydantic<3,>=1->langchain) (2.20.1)\n",
            "Requirement already satisfied: charset-normalizer<4,>=2 in /usr/local/lib/python3.10/dist-packages (from requests<3,>=2->langchain) (3.3.2)\n",
            "Requirement already satisfied: idna<4,>=2.5 in /usr/local/lib/python3.10/dist-packages (from requests<3,>=2->langchain) (3.8)\n",
            "Requirement already satisfied: urllib3<3,>=1.21.1 in /usr/local/lib/python3.10/dist-packages (from requests<3,>=2->langchain) (2.0.7)\n",
            "Requirement already satisfied: certifi>=2017.4.17 in /usr/local/lib/python3.10/dist-packages (from requests<3,>=2->langchain) (2024.8.30)\n",
            "Requirement already satisfied: greenlet!=0.4.17 in /usr/local/lib/python3.10/dist-packages (from SQLAlchemy<3,>=1.4->langchain) (3.0.3)\n",
            "Requirement already satisfied: anyio in /usr/local/lib/python3.10/dist-packages (from httpx<1,>=0.23.0->langsmith<0.2.0,>=0.1.17->langchain) (3.7.1)\n",
            "Requirement already satisfied: httpcore==1.* in /usr/local/lib/python3.10/dist-packages (from httpx<1,>=0.23.0->langsmith<0.2.0,>=0.1.17->langchain) (1.0.5)\n",
            "Requirement already satisfied: sniffio in /usr/local/lib/python3.10/dist-packages (from httpx<1,>=0.23.0->langsmith<0.2.0,>=0.1.17->langchain) (1.3.1)\n",
            "Requirement already satisfied: h11<0.15,>=0.13 in /usr/local/lib/python3.10/dist-packages (from httpcore==1.*->httpx<1,>=0.23.0->langsmith<0.2.0,>=0.1.17->langchain) (0.14.0)\n",
            "Requirement already satisfied: jsonpointer>=1.9 in /usr/local/lib/python3.10/dist-packages (from jsonpatch<2.0,>=1.33->langchain-core<0.3.0,>=0.2.38->langchain) (3.0.0)\n",
            "Requirement already satisfied: exceptiongroup in /usr/local/lib/python3.10/dist-packages (from anyio->httpx<1,>=0.23.0->langsmith<0.2.0,>=0.1.17->langchain) (1.2.2)\n"
          ]
        }
      ]
    },
    {
      "cell_type": "code",
      "source": [
        "!pip install --upgrade langchain"
      ],
      "metadata": {
        "colab": {
          "base_uri": "https://localhost:8080/"
        },
        "id": "77Ge6y0Kjo7a",
        "outputId": "405d247a-ef2a-494c-8471-27bbc5a47c09"
      },
      "execution_count": 120,
      "outputs": [
        {
          "output_type": "stream",
          "name": "stdout",
          "text": [
            "Requirement already satisfied: langchain in /usr/local/lib/python3.10/dist-packages (0.2.16)\n",
            "Requirement already satisfied: PyYAML>=5.3 in /usr/local/lib/python3.10/dist-packages (from langchain) (6.0.2)\n",
            "Requirement already satisfied: SQLAlchemy<3,>=1.4 in /usr/local/lib/python3.10/dist-packages (from langchain) (2.0.32)\n",
            "Requirement already satisfied: aiohttp<4.0.0,>=3.8.3 in /usr/local/lib/python3.10/dist-packages (from langchain) (3.10.5)\n",
            "Requirement already satisfied: async-timeout<5.0.0,>=4.0.0 in /usr/local/lib/python3.10/dist-packages (from langchain) (4.0.3)\n",
            "Requirement already satisfied: langchain-core<0.3.0,>=0.2.38 in /usr/local/lib/python3.10/dist-packages (from langchain) (0.2.38)\n",
            "Requirement already satisfied: langchain-text-splitters<0.3.0,>=0.2.0 in /usr/local/lib/python3.10/dist-packages (from langchain) (0.2.4)\n",
            "Requirement already satisfied: langsmith<0.2.0,>=0.1.17 in /usr/local/lib/python3.10/dist-packages (from langchain) (0.1.117)\n",
            "Requirement already satisfied: numpy<2,>=1 in /usr/local/lib/python3.10/dist-packages (from langchain) (1.26.4)\n",
            "Requirement already satisfied: pydantic<3,>=1 in /usr/local/lib/python3.10/dist-packages (from langchain) (2.8.2)\n",
            "Requirement already satisfied: requests<3,>=2 in /usr/local/lib/python3.10/dist-packages (from langchain) (2.32.3)\n",
            "Requirement already satisfied: tenacity!=8.4.0,<9.0.0,>=8.1.0 in /usr/local/lib/python3.10/dist-packages (from langchain) (8.5.0)\n",
            "Requirement already satisfied: aiohappyeyeballs>=2.3.0 in /usr/local/lib/python3.10/dist-packages (from aiohttp<4.0.0,>=3.8.3->langchain) (2.4.0)\n",
            "Requirement already satisfied: aiosignal>=1.1.2 in /usr/local/lib/python3.10/dist-packages (from aiohttp<4.0.0,>=3.8.3->langchain) (1.3.1)\n",
            "Requirement already satisfied: attrs>=17.3.0 in /usr/local/lib/python3.10/dist-packages (from aiohttp<4.0.0,>=3.8.3->langchain) (24.2.0)\n",
            "Requirement already satisfied: frozenlist>=1.1.1 in /usr/local/lib/python3.10/dist-packages (from aiohttp<4.0.0,>=3.8.3->langchain) (1.4.1)\n",
            "Requirement already satisfied: multidict<7.0,>=4.5 in /usr/local/lib/python3.10/dist-packages (from aiohttp<4.0.0,>=3.8.3->langchain) (6.0.5)\n",
            "Requirement already satisfied: yarl<2.0,>=1.0 in /usr/local/lib/python3.10/dist-packages (from aiohttp<4.0.0,>=3.8.3->langchain) (1.9.4)\n",
            "Requirement already satisfied: jsonpatch<2.0,>=1.33 in /usr/local/lib/python3.10/dist-packages (from langchain-core<0.3.0,>=0.2.38->langchain) (1.33)\n",
            "Requirement already satisfied: packaging<25,>=23.2 in /usr/local/lib/python3.10/dist-packages (from langchain-core<0.3.0,>=0.2.38->langchain) (24.1)\n",
            "Requirement already satisfied: typing-extensions>=4.7 in /usr/local/lib/python3.10/dist-packages (from langchain-core<0.3.0,>=0.2.38->langchain) (4.12.2)\n",
            "Requirement already satisfied: httpx<1,>=0.23.0 in /usr/local/lib/python3.10/dist-packages (from langsmith<0.2.0,>=0.1.17->langchain) (0.27.2)\n",
            "Requirement already satisfied: orjson<4.0.0,>=3.9.14 in /usr/local/lib/python3.10/dist-packages (from langsmith<0.2.0,>=0.1.17->langchain) (3.10.7)\n",
            "Requirement already satisfied: annotated-types>=0.4.0 in /usr/local/lib/python3.10/dist-packages (from pydantic<3,>=1->langchain) (0.7.0)\n",
            "Requirement already satisfied: pydantic-core==2.20.1 in /usr/local/lib/python3.10/dist-packages (from pydantic<3,>=1->langchain) (2.20.1)\n",
            "Requirement already satisfied: charset-normalizer<4,>=2 in /usr/local/lib/python3.10/dist-packages (from requests<3,>=2->langchain) (3.3.2)\n",
            "Requirement already satisfied: idna<4,>=2.5 in /usr/local/lib/python3.10/dist-packages (from requests<3,>=2->langchain) (3.8)\n",
            "Requirement already satisfied: urllib3<3,>=1.21.1 in /usr/local/lib/python3.10/dist-packages (from requests<3,>=2->langchain) (2.0.7)\n",
            "Requirement already satisfied: certifi>=2017.4.17 in /usr/local/lib/python3.10/dist-packages (from requests<3,>=2->langchain) (2024.8.30)\n",
            "Requirement already satisfied: greenlet!=0.4.17 in /usr/local/lib/python3.10/dist-packages (from SQLAlchemy<3,>=1.4->langchain) (3.0.3)\n",
            "Requirement already satisfied: anyio in /usr/local/lib/python3.10/dist-packages (from httpx<1,>=0.23.0->langsmith<0.2.0,>=0.1.17->langchain) (3.7.1)\n",
            "Requirement already satisfied: httpcore==1.* in /usr/local/lib/python3.10/dist-packages (from httpx<1,>=0.23.0->langsmith<0.2.0,>=0.1.17->langchain) (1.0.5)\n",
            "Requirement already satisfied: sniffio in /usr/local/lib/python3.10/dist-packages (from httpx<1,>=0.23.0->langsmith<0.2.0,>=0.1.17->langchain) (1.3.1)\n",
            "Requirement already satisfied: h11<0.15,>=0.13 in /usr/local/lib/python3.10/dist-packages (from httpcore==1.*->httpx<1,>=0.23.0->langsmith<0.2.0,>=0.1.17->langchain) (0.14.0)\n",
            "Requirement already satisfied: jsonpointer>=1.9 in /usr/local/lib/python3.10/dist-packages (from jsonpatch<2.0,>=1.33->langchain-core<0.3.0,>=0.2.38->langchain) (3.0.0)\n",
            "Requirement already satisfied: exceptiongroup in /usr/local/lib/python3.10/dist-packages (from anyio->httpx<1,>=0.23.0->langsmith<0.2.0,>=0.1.17->langchain) (1.2.2)\n"
          ]
        }
      ]
    },
    {
      "cell_type": "code",
      "source": [
        "!pip install langchain-community"
      ],
      "metadata": {
        "colab": {
          "base_uri": "https://localhost:8080/"
        },
        "id": "QcqoVKVck4QS",
        "outputId": "b8771157-8f69-4e66-85eb-3763c40fe20a"
      },
      "execution_count": 121,
      "outputs": [
        {
          "output_type": "stream",
          "name": "stdout",
          "text": [
            "Requirement already satisfied: langchain-community in /usr/local/lib/python3.10/dist-packages (0.2.16)\n",
            "Requirement already satisfied: PyYAML>=5.3 in /usr/local/lib/python3.10/dist-packages (from langchain-community) (6.0.2)\n",
            "Requirement already satisfied: SQLAlchemy<3,>=1.4 in /usr/local/lib/python3.10/dist-packages (from langchain-community) (2.0.32)\n",
            "Requirement already satisfied: aiohttp<4.0.0,>=3.8.3 in /usr/local/lib/python3.10/dist-packages (from langchain-community) (3.10.5)\n",
            "Requirement already satisfied: dataclasses-json<0.7,>=0.5.7 in /usr/local/lib/python3.10/dist-packages (from langchain-community) (0.6.7)\n",
            "Requirement already satisfied: langchain<0.3.0,>=0.2.16 in /usr/local/lib/python3.10/dist-packages (from langchain-community) (0.2.16)\n",
            "Requirement already satisfied: langchain-core<0.3.0,>=0.2.38 in /usr/local/lib/python3.10/dist-packages (from langchain-community) (0.2.38)\n",
            "Requirement already satisfied: langsmith<0.2.0,>=0.1.0 in /usr/local/lib/python3.10/dist-packages (from langchain-community) (0.1.117)\n",
            "Requirement already satisfied: numpy<2,>=1 in /usr/local/lib/python3.10/dist-packages (from langchain-community) (1.26.4)\n",
            "Requirement already satisfied: requests<3,>=2 in /usr/local/lib/python3.10/dist-packages (from langchain-community) (2.32.3)\n",
            "Requirement already satisfied: tenacity!=8.4.0,<9.0.0,>=8.1.0 in /usr/local/lib/python3.10/dist-packages (from langchain-community) (8.5.0)\n",
            "Requirement already satisfied: aiohappyeyeballs>=2.3.0 in /usr/local/lib/python3.10/dist-packages (from aiohttp<4.0.0,>=3.8.3->langchain-community) (2.4.0)\n",
            "Requirement already satisfied: aiosignal>=1.1.2 in /usr/local/lib/python3.10/dist-packages (from aiohttp<4.0.0,>=3.8.3->langchain-community) (1.3.1)\n",
            "Requirement already satisfied: attrs>=17.3.0 in /usr/local/lib/python3.10/dist-packages (from aiohttp<4.0.0,>=3.8.3->langchain-community) (24.2.0)\n",
            "Requirement already satisfied: frozenlist>=1.1.1 in /usr/local/lib/python3.10/dist-packages (from aiohttp<4.0.0,>=3.8.3->langchain-community) (1.4.1)\n",
            "Requirement already satisfied: multidict<7.0,>=4.5 in /usr/local/lib/python3.10/dist-packages (from aiohttp<4.0.0,>=3.8.3->langchain-community) (6.0.5)\n",
            "Requirement already satisfied: yarl<2.0,>=1.0 in /usr/local/lib/python3.10/dist-packages (from aiohttp<4.0.0,>=3.8.3->langchain-community) (1.9.4)\n",
            "Requirement already satisfied: async-timeout<5.0,>=4.0 in /usr/local/lib/python3.10/dist-packages (from aiohttp<4.0.0,>=3.8.3->langchain-community) (4.0.3)\n",
            "Requirement already satisfied: marshmallow<4.0.0,>=3.18.0 in /usr/local/lib/python3.10/dist-packages (from dataclasses-json<0.7,>=0.5.7->langchain-community) (3.22.0)\n",
            "Requirement already satisfied: typing-inspect<1,>=0.4.0 in /usr/local/lib/python3.10/dist-packages (from dataclasses-json<0.7,>=0.5.7->langchain-community) (0.9.0)\n",
            "Requirement already satisfied: langchain-text-splitters<0.3.0,>=0.2.0 in /usr/local/lib/python3.10/dist-packages (from langchain<0.3.0,>=0.2.16->langchain-community) (0.2.4)\n",
            "Requirement already satisfied: pydantic<3,>=1 in /usr/local/lib/python3.10/dist-packages (from langchain<0.3.0,>=0.2.16->langchain-community) (2.8.2)\n",
            "Requirement already satisfied: jsonpatch<2.0,>=1.33 in /usr/local/lib/python3.10/dist-packages (from langchain-core<0.3.0,>=0.2.38->langchain-community) (1.33)\n",
            "Requirement already satisfied: packaging<25,>=23.2 in /usr/local/lib/python3.10/dist-packages (from langchain-core<0.3.0,>=0.2.38->langchain-community) (24.1)\n",
            "Requirement already satisfied: typing-extensions>=4.7 in /usr/local/lib/python3.10/dist-packages (from langchain-core<0.3.0,>=0.2.38->langchain-community) (4.12.2)\n",
            "Requirement already satisfied: httpx<1,>=0.23.0 in /usr/local/lib/python3.10/dist-packages (from langsmith<0.2.0,>=0.1.0->langchain-community) (0.27.2)\n",
            "Requirement already satisfied: orjson<4.0.0,>=3.9.14 in /usr/local/lib/python3.10/dist-packages (from langsmith<0.2.0,>=0.1.0->langchain-community) (3.10.7)\n",
            "Requirement already satisfied: charset-normalizer<4,>=2 in /usr/local/lib/python3.10/dist-packages (from requests<3,>=2->langchain-community) (3.3.2)\n",
            "Requirement already satisfied: idna<4,>=2.5 in /usr/local/lib/python3.10/dist-packages (from requests<3,>=2->langchain-community) (3.8)\n",
            "Requirement already satisfied: urllib3<3,>=1.21.1 in /usr/local/lib/python3.10/dist-packages (from requests<3,>=2->langchain-community) (2.0.7)\n",
            "Requirement already satisfied: certifi>=2017.4.17 in /usr/local/lib/python3.10/dist-packages (from requests<3,>=2->langchain-community) (2024.8.30)\n",
            "Requirement already satisfied: greenlet!=0.4.17 in /usr/local/lib/python3.10/dist-packages (from SQLAlchemy<3,>=1.4->langchain-community) (3.0.3)\n",
            "Requirement already satisfied: anyio in /usr/local/lib/python3.10/dist-packages (from httpx<1,>=0.23.0->langsmith<0.2.0,>=0.1.0->langchain-community) (3.7.1)\n",
            "Requirement already satisfied: httpcore==1.* in /usr/local/lib/python3.10/dist-packages (from httpx<1,>=0.23.0->langsmith<0.2.0,>=0.1.0->langchain-community) (1.0.5)\n",
            "Requirement already satisfied: sniffio in /usr/local/lib/python3.10/dist-packages (from httpx<1,>=0.23.0->langsmith<0.2.0,>=0.1.0->langchain-community) (1.3.1)\n",
            "Requirement already satisfied: h11<0.15,>=0.13 in /usr/local/lib/python3.10/dist-packages (from httpcore==1.*->httpx<1,>=0.23.0->langsmith<0.2.0,>=0.1.0->langchain-community) (0.14.0)\n",
            "Requirement already satisfied: jsonpointer>=1.9 in /usr/local/lib/python3.10/dist-packages (from jsonpatch<2.0,>=1.33->langchain-core<0.3.0,>=0.2.38->langchain-community) (3.0.0)\n",
            "Requirement already satisfied: annotated-types>=0.4.0 in /usr/local/lib/python3.10/dist-packages (from pydantic<3,>=1->langchain<0.3.0,>=0.2.16->langchain-community) (0.7.0)\n",
            "Requirement already satisfied: pydantic-core==2.20.1 in /usr/local/lib/python3.10/dist-packages (from pydantic<3,>=1->langchain<0.3.0,>=0.2.16->langchain-community) (2.20.1)\n",
            "Requirement already satisfied: mypy-extensions>=0.3.0 in /usr/local/lib/python3.10/dist-packages (from typing-inspect<1,>=0.4.0->dataclasses-json<0.7,>=0.5.7->langchain-community) (1.0.0)\n",
            "Requirement already satisfied: exceptiongroup in /usr/local/lib/python3.10/dist-packages (from anyio->httpx<1,>=0.23.0->langsmith<0.2.0,>=0.1.0->langchain-community) (1.2.2)\n"
          ]
        }
      ]
    },
    {
      "cell_type": "code",
      "source": [
        "import requests\n",
        "import cohere\n",
        "import os\n",
        "import gradio as gr\n",
        "from langchain.agents import Tool\n",
        "from datetime import datetime\n",
        "\n",
        "# Fetch the API keys from environment variables\n",
        "cohere_api_key = os.getenv('COHERE_API_KEY')\n",
        "news_api_key = os.getenv('NEWS_API_KEY')\n",
        "\n",
        "# Initialize Cohere client\n",
        "cohere_client = cohere.Client(cohere_api_key)\n",
        "\n",
        "# Tool 1: Fetch AI news using NewsAPI\n",
        "def fetch_ai_news(query):\n",
        "    search_query = 'artificial intelligence AND (NLP OR \"computer vision\" OR \"deep learning\" OR \"machine learning\")'\n",
        "    url = \"https://newsapi.org/v2/everything\"\n",
        "    parameters = {\n",
        "        'q': search_query,\n",
        "        'sortBy': 'relevancy',\n",
        "        'language': 'en',\n",
        "        'apiKey': news_api_key\n",
        "    }\n",
        "    response = requests.get(url, params=parameters)\n",
        "    if response.status_code == 200:\n",
        "        data = response.json()\n",
        "        articles = data['articles']\n",
        "\n",
        "        # Filter out articles with future dates\n",
        "        current_date = datetime.now().date()\n",
        "        valid_articles = [article for article in articles if datetime.strptime(article['publishedAt'][:10], \"%Y-%m-%d\").date() <= current_date]\n",
        "\n",
        "        news_summary = \"\\n\".join([f\"{i+1}. {article['title']} - {article['source']['name']}\" for i, article in enumerate(valid_articles[:5])])\n",
        "        return f\"Here are the top 5 news articles:\\n{news_summary}\"\n",
        "    else:\n",
        "        return \"Sorry, I couldn't fetch the latest AI news at the moment.\"\n",
        "\n",
        "# Tool 2: Generate a response using Cohere\n",
        "def generate_response(query):\n",
        "    prompt = f\"User's question: {query}\\n\\nYour response:\"\n",
        "    response = cohere_client.generate(\n",
        "        model='command-r-plus-04-2024',\n",
        "        prompt=prompt,\n",
        "        max_tokens=500,\n",
        "        temperature=0.7\n",
        "    )\n",
        "    return response.generations[0].text.strip()\n",
        "\n",
        "# Tool definitions\n",
        "news_tool = Tool(\n",
        "    name=\"Fetch AI News\",\n",
        "    func=fetch_ai_news,\n",
        "    description=\"Use this tool to fetch the latest news about AI.\"\n",
        ")\n",
        "\n",
        "llm_tool = Tool(\n",
        "    name=\"Generate AI Response\",\n",
        "    func=generate_response,\n",
        "    description=\"Use this tool to generate AI-related answers.\"\n",
        ")\n",
        "\n",
        "# Agent Logic: Choose between news or Cohere LLM based on input\n",
        "def agent_logic(query):\n",
        "    if \"news\" in query.lower() or \"trends\" in query.lower() or any(word in query.lower() for word in [\"latest\", \"updates\", \"recent\"]):\n",
        "        return news_tool.run(query)\n",
        "    else:\n",
        "        return llm_tool.run(query)\n",
        "\n",
        "# Gradio Interface: Connect the agent logic to a Gradio app\n",
        "def chatbot(user_input):\n",
        "    response = agent_logic(user_input)\n",
        "\n",
        "    # Check if the response looks like code\n",
        "    if response.count('\\n') > 2 and ('def ' in response or 'class ' in response or '```' in response):\n",
        "        return response, response\n",
        "    else:\n",
        "        return response, None\n",
        "\n",
        "import requests\n",
        "import cohere\n",
        "import os\n",
        "import gradio as gr\n",
        "from langchain.agents import Tool\n",
        "from datetime import datetime\n",
        "\n",
        "# ... (previous code remains unchanged)\n",
        "\n",
        "custom_css = \"\"\"\n",
        "body {\n",
        "    background-color: #f0f4f8;\n",
        "    font-family: 'Arial', sans-serif;\n",
        "}\n",
        ".container {\n",
        "    max-width: 800px;\n",
        "    margin: 0 auto;\n",
        "    padding: 20px;\n",
        "    background-color: white;\n",
        "    border-radius: 10px;\n",
        "    box-shadow: 0 4px 6px rgba(0, 0, 0, 0.1);\n",
        "}\n",
        "h1 {\n",
        "    color: #2c3e50;\n",
        "    text-align: center;\n",
        "    margin-bottom: 20px;\n",
        "}\n",
        ".input-area, .output-area {\n",
        "    margin-bottom: 20px;\n",
        "}\n",
        ".submit-btn, .copy-btn {\n",
        "    background-color: #3498db;\n",
        "    color: white;\n",
        "    border: none;\n",
        "    padding: 10px 20px;\n",
        "    border-radius: 5px;\n",
        "    cursor: pointer;\n",
        "    transition: background-color 0.3s;\n",
        "}\n",
        ".submit-btn:hover, .copy-btn:hover {\n",
        "    background-color: #2980b9;\n",
        "}\n",
        "\"\"\"\n",
        "\n",
        "with gr.Blocks(theme=gr.themes.Soft(), css=custom_css) as demo:\n",
        "    with gr.Column(elem_classes=\"container\"):\n",
        "        gr.Markdown(\"# AI Conversational Agent\")\n",
        "        gr.Markdown(\"Ask questions about AI or request the latest AI news.\")\n",
        "\n",
        "        with gr.Column(elem_classes=\"input-area\"):\n",
        "            input_text = gr.Textbox(lines=3, placeholder=\"Ask me anything...\", label=\"Your Question\")\n",
        "            submit_button = gr.Button(\"Submit\", elem_classes=\"submit-btn\")\n",
        "\n",
        "        with gr.Column(elem_classes=\"output-area\"):\n",
        "            output_text = gr.Textbox(lines=10, label=\"Response\")\n",
        "            output_code = gr.Code(language=\"python\", label=\"Code Output\", visible=False)\n",
        "            copy_button = gr.Button(\"Copy Response\", elem_classes=\"copy-btn\")\n",
        "\n",
        "    def clear_input(input_text):\n",
        "        return \"\"\n",
        "\n",
        "    def copy_response(response, code):\n",
        "        return gr.Textbox.update(value=code if code else response, visible=True)\n",
        "\n",
        "    submit_button.click(\n",
        "        fn=chatbot,\n",
        "        inputs=input_text,\n",
        "        outputs=[output_text, output_code]\n",
        "    ).then(\n",
        "        fn=clear_input,\n",
        "        inputs=input_text,\n",
        "        outputs=input_text\n",
        "    )\n",
        "\n",
        "    copy_button.click(\n",
        "        fn=copy_response,\n",
        "        inputs=[output_text, output_code],\n",
        "        outputs=gr.Textbox(visible=False),\n",
        "    )\n",
        "\n",
        "# Launch the Gradio app\n",
        "demo.launch()"
      ],
      "metadata": {
        "colab": {
          "base_uri": "https://localhost:8080/",
          "height": 645
        },
        "id": "AFRPIrXgLpgo",
        "outputId": "691efe56-b612-4262-b075-603ba39b8688"
      },
      "execution_count": 122,
      "outputs": [
        {
          "output_type": "stream",
          "name": "stdout",
          "text": [
            "Setting queue=True in a Colab notebook requires sharing enabled. Setting `share=True` (you can turn this off by setting `share=False` in `launch()` explicitly).\n",
            "\n",
            "Colab notebook detected. To show errors in colab notebook, set debug=True in launch()\n",
            "Running on public URL: https://c48e77a841d0562673.gradio.live\n",
            "\n",
            "This share link expires in 72 hours. For free permanent hosting and GPU upgrades, run `gradio deploy` from Terminal to deploy to Spaces (https://huggingface.co/spaces)\n"
          ]
        },
        {
          "output_type": "display_data",
          "data": {
            "text/plain": [
              "<IPython.core.display.HTML object>"
            ],
            "text/html": [
              "<div><iframe src=\"https://c48e77a841d0562673.gradio.live\" width=\"100%\" height=\"500\" allow=\"autoplay; camera; microphone; clipboard-read; clipboard-write;\" frameborder=\"0\" allowfullscreen></iframe></div>"
            ]
          },
          "metadata": {}
        },
        {
          "output_type": "execute_result",
          "data": {
            "text/plain": []
          },
          "metadata": {},
          "execution_count": 122
        }
      ]
    },
    {
      "cell_type": "code",
      "source": [],
      "metadata": {
        "id": "MCA3ptgVQIEr"
      },
      "execution_count": 122,
      "outputs": []
    }
  ],
  "metadata": {
    "colab": {
      "provenance": [],
      "include_colab_link": true
    },
    "kaggle": {
      "accelerator": "nvidiaTeslaT4",
      "dataSources": [
        {
          "datasetId": 18754,
          "sourceId": 24465,
          "sourceType": "datasetVersion"
        }
      ],
      "dockerImageVersionId": 30762,
      "isGpuEnabled": true,
      "isInternetEnabled": true,
      "language": "python",
      "sourceType": "notebook"
    },
    "kernelspec": {
      "display_name": "Python 3",
      "name": "python3"
    },
    "language_info": {
      "codemirror_mode": {
        "name": "ipython",
        "version": 3
      },
      "file_extension": ".py",
      "mimetype": "text/x-python",
      "name": "python",
      "nbconvert_exporter": "python",
      "pygments_lexer": "ipython3",
      "version": "3.10.14"
    }
  },
  "nbformat": 4,
  "nbformat_minor": 0
}